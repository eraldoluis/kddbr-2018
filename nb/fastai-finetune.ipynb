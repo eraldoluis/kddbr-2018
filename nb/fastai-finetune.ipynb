{
 "cells": [
  {
   "cell_type": "markdown",
   "metadata": {
    "_uuid": "4646fdea09654229ea606aa4faffad9cb819398b"
   },
   "source": [
    "# DL Modeling - Fine Tuning\n",
    "Load a pre-trained model and fine tune it."
   ]
  },
  {
   "cell_type": "code",
   "execution_count": 134,
   "metadata": {},
   "outputs": [
    {
     "name": "stdout",
     "output_type": "stream",
     "text": [
      "env: CUDA_VISIBLE_DEVICES=1\n"
     ]
    }
   ],
   "source": [
    "%matplotlib inline\n",
    "%reload_ext autoreload\n",
    "%autoreload 2\n",
    "\n",
    "%env CUDA_VISIBLE_DEVICES=1"
   ]
  },
  {
   "cell_type": "code",
   "execution_count": 135,
   "metadata": {
    "_uuid": "35b9298747ec076ac8a9afb81192039880e46f2c"
   },
   "outputs": [],
   "source": [
    "import pandas as pd\n",
    "import numpy as np\n",
    "import os \n",
    "\n",
    "from datetime import datetime\n",
    "import matplotlib.pyplot as plt\n",
    "import seaborn as sns\n",
    "\n",
    "from kdd_utils import addFieldDataFtrs, addSoilFtrs, cvPerYear, load_model_ignoring, save_model_ignoring\n",
    "\n",
    "sns.set(style=\"whitegrid\")"
   ]
  },
  {
   "cell_type": "code",
   "execution_count": 136,
   "metadata": {},
   "outputs": [],
   "source": [
    "from fastai.structured import *\n",
    "from fastai.column_data import *"
   ]
  },
  {
   "cell_type": "markdown",
   "metadata": {
    "_uuid": "5e5a56ed28ca3f0433752b640126d39410d590e7"
   },
   "source": [
    "## Train and test datasets\n",
    "\n",
    "Basic data containing palm tree information"
   ]
  },
  {
   "cell_type": "code",
   "execution_count": 137,
   "metadata": {
    "_uuid": "d26413ead269ebe206f0ac43cda68634d9611199",
    "scrolled": true
   },
   "outputs": [
    {
     "name": "stdout",
     "output_type": "stream",
     "text": [
      "Shapes\n",
      "---\n",
      "Train: (5243, 7)\n",
      " Test: (4110, 6)\n",
      "  All: (9353, 7)\n"
     ]
    }
   ],
   "source": [
    "path = '../input/'\n",
    "\n",
    "# Train data.\n",
    "df_train = pd.read_csv(os.path.join(path, 'train.csv'))\n",
    "\n",
    "# Ignoring date before 2006 for training.\n",
    "# df_train = df_train[df_train.harvest_year >= 2006]\n",
    "\n",
    "# Using only examples with type=5 for training.\n",
    "# df_train = df_train[df_train.type == 5]\n",
    "\n",
    "# Test data.\n",
    "df_test  = pd.read_csv(os.path.join(path, 'test.csv'))\n",
    "\n",
    "# Merge train and test data for ease of pre-processing.\n",
    "df_all = pd.concat([df_train, df_test], sort=False).reindex()\n",
    "\n",
    "# Configure number of jobs.\n",
    "N_JOBS=7\n",
    "\n",
    "print('Shapes\\n---\\nTrain: {}\\n Test: {}\\n  All: {}'.format(df_train.shape, df_test.shape, df_all.shape))"
   ]
  },
  {
   "cell_type": "markdown",
   "metadata": {
    "_uuid": "8163b4159ec67907aa1518f341edf613f4bc7266"
   },
   "source": [
    "## Field and Soil Features\n",
    "\n",
    "These files hold atmospheric data from January 2002 to December 2017, and can be used to estimate the weather conditions during the development of the plant. Notice that weather does influence the production. Using only a single month prior to harvest is probably too little data. Participants should decide how far back in the past they want to look when training models.\n",
    "\n"
   ]
  },
  {
   "cell_type": "code",
   "execution_count": 138,
   "metadata": {
    "_uuid": "c9596d68c59820e59de0b7861c9234712185fdab",
    "scrolled": true
   },
   "outputs": [
    {
     "name": "stdout",
     "output_type": "stream",
     "text": [
      "['index', 'Id', 'field', 'age', 'type', 'harvest_year', 'harvest_month', 'production', 'temperature', 'dewpoint', 'windspeed', 'Soilwater_L1', 'Soilwater_L2', 'Soilwater_L3', 'Soilwater_L4', 'Precipitation', 'temperature_1', 'temperature_2', 'temperature_3', 'temperature_4', 'temperature_5', 'temperature_6', 'temperature_7', 'temperature_8', 'temperature_9', 'temperature_10', 'temperature_11', 'dewpoint_1', 'dewpoint_2', 'dewpoint_3', 'dewpoint_4', 'dewpoint_5', 'dewpoint_6', 'dewpoint_7', 'dewpoint_8', 'dewpoint_9', 'dewpoint_10', 'dewpoint_11', 'windspeed_1', 'windspeed_2', 'windspeed_3', 'windspeed_4', 'windspeed_5', 'windspeed_6', 'windspeed_7', 'windspeed_8', 'windspeed_9', 'windspeed_10', 'windspeed_11', 'Precipitation_1', 'Precipitation_2', 'Precipitation_3', 'Precipitation_4', 'Precipitation_5', 'Precipitation_6', 'Precipitation_7', 'Precipitation_8', 'Precipitation_9', 'Precipitation_10', 'Precipitation_11', 'Soilwater_L1_1', 'Soilwater_L1_2', 'Soilwater_L1_3', 'Soilwater_L1_4', 'Soilwater_L1_5', 'Soilwater_L1_6', 'Soilwater_L1_7', 'Soilwater_L1_8', 'Soilwater_L1_9', 'Soilwater_L1_10', 'Soilwater_L1_11', 'Soilwater_L2_1', 'Soilwater_L2_2', 'Soilwater_L2_3', 'Soilwater_L2_4', 'Soilwater_L2_5', 'Soilwater_L2_6', 'Soilwater_L2_7', 'Soilwater_L2_8', 'Soilwater_L2_9', 'Soilwater_L2_10', 'Soilwater_L2_11', 'Soilwater_L3_1', 'Soilwater_L3_2', 'Soilwater_L3_3', 'Soilwater_L3_4', 'Soilwater_L3_5', 'Soilwater_L3_6', 'Soilwater_L3_7', 'Soilwater_L3_8', 'Soilwater_L3_9', 'Soilwater_L3_10', 'Soilwater_L3_11', 'Soilwater_L4_1', 'Soilwater_L4_2', 'Soilwater_L4_3', 'Soilwater_L4_4', 'Soilwater_L4_5', 'Soilwater_L4_6', 'Soilwater_L4_7', 'Soilwater_L4_8', 'Soilwater_L4_9', 'Soilwater_L4_10', 'Soilwater_L4_11']\n"
     ]
    }
   ],
   "source": [
    "df_all_ftrs = addFieldDataFtrs(df_all, shiftPeriod=12, shiftFtrs=['temperature', 'dewpoint', 'windspeed', \n",
    "                                                                 'Precipitation', 'Soilwater_L1', \n",
    "                                                                 'Soilwater_L2', 'Soilwater_L3', \n",
    "                                                                 'Soilwater_L4'])\n",
    "#df_all_ftrs = addSoilFtrs(df_all_ftrs)\n",
    "print(list(df_all_ftrs.columns))"
   ]
  },
  {
   "cell_type": "code",
   "execution_count": 139,
   "metadata": {
    "scrolled": true
   },
   "outputs": [
    {
     "data": {
      "text/html": [
       "<div>\n",
       "<style scoped>\n",
       "    .dataframe tbody tr th:only-of-type {\n",
       "        vertical-align: middle;\n",
       "    }\n",
       "\n",
       "    .dataframe tbody tr th {\n",
       "        vertical-align: top;\n",
       "    }\n",
       "\n",
       "    .dataframe thead th {\n",
       "        text-align: right;\n",
       "    }\n",
       "</style>\n",
       "<table border=\"1\" class=\"dataframe\">\n",
       "  <thead>\n",
       "    <tr style=\"text-align: right;\">\n",
       "      <th></th>\n",
       "      <th>index</th>\n",
       "      <th>Id</th>\n",
       "      <th>field</th>\n",
       "      <th>age</th>\n",
       "      <th>type</th>\n",
       "      <th>harvest_year</th>\n",
       "      <th>harvest_month</th>\n",
       "      <th>production</th>\n",
       "      <th>temperature</th>\n",
       "      <th>dewpoint</th>\n",
       "      <th>...</th>\n",
       "      <th>Soilwater_L4_2</th>\n",
       "      <th>Soilwater_L4_3</th>\n",
       "      <th>Soilwater_L4_4</th>\n",
       "      <th>Soilwater_L4_5</th>\n",
       "      <th>Soilwater_L4_6</th>\n",
       "      <th>Soilwater_L4_7</th>\n",
       "      <th>Soilwater_L4_8</th>\n",
       "      <th>Soilwater_L4_9</th>\n",
       "      <th>Soilwater_L4_10</th>\n",
       "      <th>Soilwater_L4_11</th>\n",
       "    </tr>\n",
       "  </thead>\n",
       "  <tbody>\n",
       "    <tr>\n",
       "      <th>0</th>\n",
       "      <td>0</td>\n",
       "      <td>0</td>\n",
       "      <td>0</td>\n",
       "      <td>19</td>\n",
       "      <td>5</td>\n",
       "      <td>2004</td>\n",
       "      <td>1</td>\n",
       "      <td>0.064071</td>\n",
       "      <td>26.132</td>\n",
       "      <td>24.661</td>\n",
       "      <td>...</td>\n",
       "      <td>0.314165</td>\n",
       "      <td>0.314165</td>\n",
       "      <td>0.314165</td>\n",
       "      <td>0.314165</td>\n",
       "      <td>0.314165</td>\n",
       "      <td>0.314165</td>\n",
       "      <td>0.314165</td>\n",
       "      <td>0.314165</td>\n",
       "      <td>0.314165</td>\n",
       "      <td>0.314165</td>\n",
       "    </tr>\n",
       "    <tr>\n",
       "      <th>1</th>\n",
       "      <td>1</td>\n",
       "      <td>1532</td>\n",
       "      <td>0</td>\n",
       "      <td>13</td>\n",
       "      <td>2</td>\n",
       "      <td>2004</td>\n",
       "      <td>1</td>\n",
       "      <td>0.283228</td>\n",
       "      <td>26.132</td>\n",
       "      <td>24.661</td>\n",
       "      <td>...</td>\n",
       "      <td>0.314165</td>\n",
       "      <td>0.314165</td>\n",
       "      <td>0.314165</td>\n",
       "      <td>0.314165</td>\n",
       "      <td>0.314165</td>\n",
       "      <td>0.314165</td>\n",
       "      <td>0.314165</td>\n",
       "      <td>0.314165</td>\n",
       "      <td>0.314165</td>\n",
       "      <td>0.314165</td>\n",
       "    </tr>\n",
       "    <tr>\n",
       "      <th>2</th>\n",
       "      <td>2</td>\n",
       "      <td>4204</td>\n",
       "      <td>0</td>\n",
       "      <td>4</td>\n",
       "      <td>5</td>\n",
       "      <td>2004</td>\n",
       "      <td>1</td>\n",
       "      <td>0.106263</td>\n",
       "      <td>26.132</td>\n",
       "      <td>24.661</td>\n",
       "      <td>...</td>\n",
       "      <td>0.314165</td>\n",
       "      <td>0.314165</td>\n",
       "      <td>0.314165</td>\n",
       "      <td>0.314165</td>\n",
       "      <td>0.314165</td>\n",
       "      <td>0.314165</td>\n",
       "      <td>0.314165</td>\n",
       "      <td>0.314165</td>\n",
       "      <td>0.314165</td>\n",
       "      <td>0.314165</td>\n",
       "    </tr>\n",
       "    <tr>\n",
       "      <th>3</th>\n",
       "      <td>3</td>\n",
       "      <td>1</td>\n",
       "      <td>0</td>\n",
       "      <td>19</td>\n",
       "      <td>5</td>\n",
       "      <td>2004</td>\n",
       "      <td>2</td>\n",
       "      <td>0.047658</td>\n",
       "      <td>25.295</td>\n",
       "      <td>24.401</td>\n",
       "      <td>...</td>\n",
       "      <td>0.314165</td>\n",
       "      <td>0.314165</td>\n",
       "      <td>0.314165</td>\n",
       "      <td>0.314165</td>\n",
       "      <td>0.314165</td>\n",
       "      <td>0.314165</td>\n",
       "      <td>0.314165</td>\n",
       "      <td>0.314165</td>\n",
       "      <td>0.314165</td>\n",
       "      <td>0.314165</td>\n",
       "    </tr>\n",
       "    <tr>\n",
       "      <th>4</th>\n",
       "      <td>4</td>\n",
       "      <td>1533</td>\n",
       "      <td>0</td>\n",
       "      <td>13</td>\n",
       "      <td>2</td>\n",
       "      <td>2004</td>\n",
       "      <td>2</td>\n",
       "      <td>0.182068</td>\n",
       "      <td>25.295</td>\n",
       "      <td>24.401</td>\n",
       "      <td>...</td>\n",
       "      <td>0.314165</td>\n",
       "      <td>0.314165</td>\n",
       "      <td>0.314165</td>\n",
       "      <td>0.314165</td>\n",
       "      <td>0.314165</td>\n",
       "      <td>0.314165</td>\n",
       "      <td>0.314165</td>\n",
       "      <td>0.314165</td>\n",
       "      <td>0.314165</td>\n",
       "      <td>0.314165</td>\n",
       "    </tr>\n",
       "  </tbody>\n",
       "</table>\n",
       "<p>5 rows × 104 columns</p>\n",
       "</div>"
      ],
      "text/plain": [
       "   index    Id  field  age  type  harvest_year  harvest_month  production  \\\n",
       "0      0     0      0   19     5          2004              1    0.064071   \n",
       "1      1  1532      0   13     2          2004              1    0.283228   \n",
       "2      2  4204      0    4     5          2004              1    0.106263   \n",
       "3      3     1      0   19     5          2004              2    0.047658   \n",
       "4      4  1533      0   13     2          2004              2    0.182068   \n",
       "\n",
       "   temperature  dewpoint       ...         Soilwater_L4_2  Soilwater_L4_3  \\\n",
       "0       26.132    24.661       ...               0.314165        0.314165   \n",
       "1       26.132    24.661       ...               0.314165        0.314165   \n",
       "2       26.132    24.661       ...               0.314165        0.314165   \n",
       "3       25.295    24.401       ...               0.314165        0.314165   \n",
       "4       25.295    24.401       ...               0.314165        0.314165   \n",
       "\n",
       "   Soilwater_L4_4  Soilwater_L4_5  Soilwater_L4_6  Soilwater_L4_7  \\\n",
       "0        0.314165        0.314165        0.314165        0.314165   \n",
       "1        0.314165        0.314165        0.314165        0.314165   \n",
       "2        0.314165        0.314165        0.314165        0.314165   \n",
       "3        0.314165        0.314165        0.314165        0.314165   \n",
       "4        0.314165        0.314165        0.314165        0.314165   \n",
       "\n",
       "   Soilwater_L4_8  Soilwater_L4_9  Soilwater_L4_10  Soilwater_L4_11  \n",
       "0        0.314165        0.314165         0.314165         0.314165  \n",
       "1        0.314165        0.314165         0.314165         0.314165  \n",
       "2        0.314165        0.314165         0.314165         0.314165  \n",
       "3        0.314165        0.314165         0.314165         0.314165  \n",
       "4        0.314165        0.314165         0.314165         0.314165  \n",
       "\n",
       "[5 rows x 104 columns]"
      ]
     },
     "execution_count": 139,
     "metadata": {},
     "output_type": "execute_result"
    }
   ],
   "source": [
    "df_all_ftrs.head()"
   ]
  },
  {
   "cell_type": "code",
   "execution_count": 140,
   "metadata": {},
   "outputs": [
    {
     "name": "stdout",
     "output_type": "stream",
     "text": [
      "['harvest_year', 'temperature', 'dewpoint', 'windspeed', 'Soilwater_L1', 'Soilwater_L2', 'Soilwater_L3', 'Soilwater_L4', 'Precipitation', 'temperature_1', 'temperature_2', 'temperature_3', 'temperature_4', 'temperature_5', 'temperature_6', 'temperature_7', 'temperature_8', 'temperature_9', 'temperature_10', 'temperature_11', 'dewpoint_1', 'dewpoint_2', 'dewpoint_3', 'dewpoint_4', 'dewpoint_5', 'dewpoint_6', 'dewpoint_7', 'dewpoint_8', 'dewpoint_9', 'dewpoint_10', 'dewpoint_11', 'windspeed_1', 'windspeed_2', 'windspeed_3', 'windspeed_4', 'windspeed_5', 'windspeed_6', 'windspeed_7', 'windspeed_8', 'windspeed_9', 'windspeed_10', 'windspeed_11', 'Precipitation_1', 'Precipitation_2', 'Precipitation_3', 'Precipitation_4', 'Precipitation_5', 'Precipitation_6', 'Precipitation_7', 'Precipitation_8', 'Precipitation_9', 'Precipitation_10', 'Precipitation_11', 'Soilwater_L1_1', 'Soilwater_L1_2', 'Soilwater_L1_3', 'Soilwater_L1_4', 'Soilwater_L1_5', 'Soilwater_L1_6', 'Soilwater_L1_7', 'Soilwater_L1_8', 'Soilwater_L1_9', 'Soilwater_L1_10', 'Soilwater_L1_11', 'Soilwater_L2_1', 'Soilwater_L2_2', 'Soilwater_L2_3', 'Soilwater_L2_4', 'Soilwater_L2_5', 'Soilwater_L2_6', 'Soilwater_L2_7', 'Soilwater_L2_8', 'Soilwater_L2_9', 'Soilwater_L2_10', 'Soilwater_L2_11', 'Soilwater_L3_1', 'Soilwater_L3_2', 'Soilwater_L3_3', 'Soilwater_L3_4', 'Soilwater_L3_5', 'Soilwater_L3_6', 'Soilwater_L3_7', 'Soilwater_L3_8', 'Soilwater_L3_9', 'Soilwater_L3_10', 'Soilwater_L3_11', 'Soilwater_L4_1', 'Soilwater_L4_2', 'Soilwater_L4_3', 'Soilwater_L4_4', 'Soilwater_L4_5', 'Soilwater_L4_6', 'Soilwater_L4_7', 'Soilwater_L4_8', 'Soilwater_L4_9', 'Soilwater_L4_10', 'Soilwater_L4_11']\n"
     ]
    }
   ],
   "source": [
    "# Categorical features.\n",
    "cat_ftrs = ['field', 'age', 'type', 'harvest_month']\n",
    "# Continuous features.\n",
    "contin_ftrs = [f for f in df_all_ftrs.columns if f not in (['production', 'Id', 'index'] + cat_ftrs)]\n",
    "print(contin_ftrs)"
   ]
  },
  {
   "cell_type": "code",
   "execution_count": 141,
   "metadata": {},
   "outputs": [
    {
     "data": {
      "text/html": [
       "<div>\n",
       "<style scoped>\n",
       "    .dataframe tbody tr th:only-of-type {\n",
       "        vertical-align: middle;\n",
       "    }\n",
       "\n",
       "    .dataframe tbody tr th {\n",
       "        vertical-align: top;\n",
       "    }\n",
       "\n",
       "    .dataframe thead th {\n",
       "        text-align: right;\n",
       "    }\n",
       "</style>\n",
       "<table border=\"1\" class=\"dataframe\">\n",
       "  <thead>\n",
       "    <tr style=\"text-align: right;\">\n",
       "      <th></th>\n",
       "      <th>field</th>\n",
       "      <th>age</th>\n",
       "      <th>type</th>\n",
       "      <th>harvest_month</th>\n",
       "      <th>harvest_year</th>\n",
       "      <th>temperature</th>\n",
       "      <th>dewpoint</th>\n",
       "      <th>windspeed</th>\n",
       "      <th>Soilwater_L1</th>\n",
       "      <th>Soilwater_L2</th>\n",
       "      <th>...</th>\n",
       "      <th>Soilwater_L4_3</th>\n",
       "      <th>Soilwater_L4_4</th>\n",
       "      <th>Soilwater_L4_5</th>\n",
       "      <th>Soilwater_L4_6</th>\n",
       "      <th>Soilwater_L4_7</th>\n",
       "      <th>Soilwater_L4_8</th>\n",
       "      <th>Soilwater_L4_9</th>\n",
       "      <th>Soilwater_L4_10</th>\n",
       "      <th>Soilwater_L4_11</th>\n",
       "      <th>production</th>\n",
       "    </tr>\n",
       "  </thead>\n",
       "  <tbody>\n",
       "    <tr>\n",
       "      <th>0</th>\n",
       "      <td>0</td>\n",
       "      <td>19</td>\n",
       "      <td>5</td>\n",
       "      <td>1</td>\n",
       "      <td>2004</td>\n",
       "      <td>26.132</td>\n",
       "      <td>24.661</td>\n",
       "      <td>1.8766</td>\n",
       "      <td>0.35274</td>\n",
       "      <td>0.35192</td>\n",
       "      <td>...</td>\n",
       "      <td>0.314165</td>\n",
       "      <td>0.314165</td>\n",
       "      <td>0.314165</td>\n",
       "      <td>0.314165</td>\n",
       "      <td>0.314165</td>\n",
       "      <td>0.314165</td>\n",
       "      <td>0.314165</td>\n",
       "      <td>0.314165</td>\n",
       "      <td>0.314165</td>\n",
       "      <td>0.064071</td>\n",
       "    </tr>\n",
       "    <tr>\n",
       "      <th>1</th>\n",
       "      <td>0</td>\n",
       "      <td>13</td>\n",
       "      <td>2</td>\n",
       "      <td>1</td>\n",
       "      <td>2004</td>\n",
       "      <td>26.132</td>\n",
       "      <td>24.661</td>\n",
       "      <td>1.8766</td>\n",
       "      <td>0.35274</td>\n",
       "      <td>0.35192</td>\n",
       "      <td>...</td>\n",
       "      <td>0.314165</td>\n",
       "      <td>0.314165</td>\n",
       "      <td>0.314165</td>\n",
       "      <td>0.314165</td>\n",
       "      <td>0.314165</td>\n",
       "      <td>0.314165</td>\n",
       "      <td>0.314165</td>\n",
       "      <td>0.314165</td>\n",
       "      <td>0.314165</td>\n",
       "      <td>0.283228</td>\n",
       "    </tr>\n",
       "  </tbody>\n",
       "</table>\n",
       "<p>2 rows × 102 columns</p>\n",
       "</div>"
      ],
      "text/plain": [
       "   field  age  type  harvest_month  harvest_year  temperature  dewpoint  \\\n",
       "0      0   19     5              1          2004       26.132    24.661   \n",
       "1      0   13     2              1          2004       26.132    24.661   \n",
       "\n",
       "   windspeed  Soilwater_L1  Soilwater_L2     ...      Soilwater_L4_3  \\\n",
       "0     1.8766       0.35274       0.35192     ...            0.314165   \n",
       "1     1.8766       0.35274       0.35192     ...            0.314165   \n",
       "\n",
       "   Soilwater_L4_4  Soilwater_L4_5  Soilwater_L4_6  Soilwater_L4_7  \\\n",
       "0        0.314165        0.314165        0.314165        0.314165   \n",
       "1        0.314165        0.314165        0.314165        0.314165   \n",
       "\n",
       "   Soilwater_L4_8  Soilwater_L4_9  Soilwater_L4_10  Soilwater_L4_11  \\\n",
       "0        0.314165        0.314165         0.314165         0.314165   \n",
       "1        0.314165        0.314165         0.314165         0.314165   \n",
       "\n",
       "   production  \n",
       "0    0.064071  \n",
       "1    0.283228  \n",
       "\n",
       "[2 rows x 102 columns]"
      ]
     },
     "execution_count": 141,
     "metadata": {},
     "output_type": "execute_result"
    }
   ],
   "source": [
    "# Remove unused features.\n",
    "df_all_ftrs = df_all_ftrs[cat_ftrs + contin_ftrs + ['production']]\n",
    "df_all_ftrs.head(2)"
   ]
  },
  {
   "cell_type": "code",
   "execution_count": 142,
   "metadata": {},
   "outputs": [
    {
     "data": {
      "text/html": [
       "<div>\n",
       "<style scoped>\n",
       "    .dataframe tbody tr th:only-of-type {\n",
       "        vertical-align: middle;\n",
       "    }\n",
       "\n",
       "    .dataframe tbody tr th {\n",
       "        vertical-align: top;\n",
       "    }\n",
       "\n",
       "    .dataframe thead th {\n",
       "        text-align: right;\n",
       "    }\n",
       "</style>\n",
       "<table border=\"1\" class=\"dataframe\">\n",
       "  <thead>\n",
       "    <tr style=\"text-align: right;\">\n",
       "      <th></th>\n",
       "      <th>field</th>\n",
       "      <th>age</th>\n",
       "      <th>type</th>\n",
       "      <th>harvest_month</th>\n",
       "      <th>harvest_year</th>\n",
       "      <th>temperature</th>\n",
       "      <th>dewpoint</th>\n",
       "      <th>windspeed</th>\n",
       "      <th>Soilwater_L1</th>\n",
       "      <th>Soilwater_L2</th>\n",
       "      <th>...</th>\n",
       "      <th>Soilwater_L4_3</th>\n",
       "      <th>Soilwater_L4_4</th>\n",
       "      <th>Soilwater_L4_5</th>\n",
       "      <th>Soilwater_L4_6</th>\n",
       "      <th>Soilwater_L4_7</th>\n",
       "      <th>Soilwater_L4_8</th>\n",
       "      <th>Soilwater_L4_9</th>\n",
       "      <th>Soilwater_L4_10</th>\n",
       "      <th>Soilwater_L4_11</th>\n",
       "      <th>production</th>\n",
       "    </tr>\n",
       "  </thead>\n",
       "  <tbody>\n",
       "    <tr>\n",
       "      <th>0</th>\n",
       "      <td>0</td>\n",
       "      <td>19</td>\n",
       "      <td>5</td>\n",
       "      <td>1</td>\n",
       "      <td>2004.0</td>\n",
       "      <td>26.132</td>\n",
       "      <td>24.660999</td>\n",
       "      <td>1.8766</td>\n",
       "      <td>0.35274</td>\n",
       "      <td>0.35192</td>\n",
       "      <td>...</td>\n",
       "      <td>0.314165</td>\n",
       "      <td>0.314165</td>\n",
       "      <td>0.314165</td>\n",
       "      <td>0.314165</td>\n",
       "      <td>0.314165</td>\n",
       "      <td>0.314165</td>\n",
       "      <td>0.314165</td>\n",
       "      <td>0.314165</td>\n",
       "      <td>0.314165</td>\n",
       "      <td>0.064071</td>\n",
       "    </tr>\n",
       "    <tr>\n",
       "      <th>1</th>\n",
       "      <td>0</td>\n",
       "      <td>13</td>\n",
       "      <td>2</td>\n",
       "      <td>1</td>\n",
       "      <td>2004.0</td>\n",
       "      <td>26.132</td>\n",
       "      <td>24.660999</td>\n",
       "      <td>1.8766</td>\n",
       "      <td>0.35274</td>\n",
       "      <td>0.35192</td>\n",
       "      <td>...</td>\n",
       "      <td>0.314165</td>\n",
       "      <td>0.314165</td>\n",
       "      <td>0.314165</td>\n",
       "      <td>0.314165</td>\n",
       "      <td>0.314165</td>\n",
       "      <td>0.314165</td>\n",
       "      <td>0.314165</td>\n",
       "      <td>0.314165</td>\n",
       "      <td>0.314165</td>\n",
       "      <td>0.283228</td>\n",
       "    </tr>\n",
       "  </tbody>\n",
       "</table>\n",
       "<p>2 rows × 102 columns</p>\n",
       "</div>"
      ],
      "text/plain": [
       "  field age type harvest_month  harvest_year  temperature   dewpoint  \\\n",
       "0     0  19    5             1        2004.0       26.132  24.660999   \n",
       "1     0  13    2             1        2004.0       26.132  24.660999   \n",
       "\n",
       "   windspeed  Soilwater_L1  Soilwater_L2     ...      Soilwater_L4_3  \\\n",
       "0     1.8766       0.35274       0.35192     ...            0.314165   \n",
       "1     1.8766       0.35274       0.35192     ...            0.314165   \n",
       "\n",
       "   Soilwater_L4_4  Soilwater_L4_5  Soilwater_L4_6  Soilwater_L4_7  \\\n",
       "0        0.314165        0.314165        0.314165        0.314165   \n",
       "1        0.314165        0.314165        0.314165        0.314165   \n",
       "\n",
       "   Soilwater_L4_8  Soilwater_L4_9  Soilwater_L4_10  Soilwater_L4_11  \\\n",
       "0        0.314165        0.314165         0.314165         0.314165   \n",
       "1        0.314165        0.314165         0.314165         0.314165   \n",
       "\n",
       "   production  \n",
       "0    0.064071  \n",
       "1    0.283228  \n",
       "\n",
       "[2 rows x 102 columns]"
      ]
     },
     "execution_count": 142,
     "metadata": {},
     "output_type": "execute_result"
    }
   ],
   "source": [
    "# Inform pandas which features are categorical ...\n",
    "for v in cat_ftrs:\n",
    "    df_all_ftrs[v] = df_all_ftrs[v].astype('category').cat.as_ordered()\n",
    "# ... and which are continuous.\n",
    "for v in contin_ftrs:\n",
    "    df_all_ftrs[v] = df_all_ftrs[v].astype('float32')\n",
    "\n",
    "df_all_ftrs.head(2)"
   ]
  },
  {
   "cell_type": "code",
   "execution_count": 143,
   "metadata": {},
   "outputs": [],
   "source": [
    "# Split test and train data.\n",
    "df_test = df_all_ftrs[df_all_ftrs.production.isna()]\n",
    "df_all_ftrs = df_all_ftrs[~df_all_ftrs.production.isna()]"
   ]
  },
  {
   "cell_type": "code",
   "execution_count": 144,
   "metadata": {
    "scrolled": false
   },
   "outputs": [
    {
     "name": "stdout",
     "output_type": "stream",
     "text": [
      "1387\n",
      "4076\n"
     ]
    }
   ],
   "source": [
    "val_year = 2010\n",
    "\n",
    "# Ignore training examples with type != 5\n",
    "# df_all_ftrs = df_all_ftrs[(df_all_ftrs.type == 5) | (df_all_ftrs.harvest_year >= val_year)]\n",
    "\n",
    "# Ignore training examples before 2006\n",
    "df_all_ftrs = df_all_ftrs[df_all_ftrs.harvest_year >= 2006]\n",
    "\n",
    "val_idx = np.flatnonzero(df_all_ftrs.harvest_year >= val_year)\n",
    "print(len(val_idx))\n",
    "print(len(df_all_ftrs))"
   ]
  },
  {
   "cell_type": "code",
   "execution_count": 145,
   "metadata": {},
   "outputs": [
    {
     "data": {
      "text/html": [
       "<div>\n",
       "<style scoped>\n",
       "    .dataframe tbody tr th:only-of-type {\n",
       "        vertical-align: middle;\n",
       "    }\n",
       "\n",
       "    .dataframe tbody tr th {\n",
       "        vertical-align: top;\n",
       "    }\n",
       "\n",
       "    .dataframe thead th {\n",
       "        text-align: right;\n",
       "    }\n",
       "</style>\n",
       "<table border=\"1\" class=\"dataframe\">\n",
       "  <thead>\n",
       "    <tr style=\"text-align: right;\">\n",
       "      <th></th>\n",
       "      <th>field</th>\n",
       "      <th>age</th>\n",
       "      <th>type</th>\n",
       "      <th>harvest_month</th>\n",
       "      <th>harvest_year</th>\n",
       "      <th>temperature</th>\n",
       "      <th>dewpoint</th>\n",
       "      <th>windspeed</th>\n",
       "      <th>Soilwater_L1</th>\n",
       "      <th>Soilwater_L2</th>\n",
       "      <th>...</th>\n",
       "      <th>Soilwater_L4_2</th>\n",
       "      <th>Soilwater_L4_3</th>\n",
       "      <th>Soilwater_L4_4</th>\n",
       "      <th>Soilwater_L4_5</th>\n",
       "      <th>Soilwater_L4_6</th>\n",
       "      <th>Soilwater_L4_7</th>\n",
       "      <th>Soilwater_L4_8</th>\n",
       "      <th>Soilwater_L4_9</th>\n",
       "      <th>Soilwater_L4_10</th>\n",
       "      <th>Soilwater_L4_11</th>\n",
       "    </tr>\n",
       "  </thead>\n",
       "  <tbody>\n",
       "    <tr>\n",
       "      <th>101</th>\n",
       "      <td>1</td>\n",
       "      <td>19</td>\n",
       "      <td>7</td>\n",
       "      <td>1</td>\n",
       "      <td>-1.463481</td>\n",
       "      <td>-0.662748</td>\n",
       "      <td>0.997851</td>\n",
       "      <td>-0.239431</td>\n",
       "      <td>0.732232</td>\n",
       "      <td>0.724777</td>\n",
       "      <td>...</td>\n",
       "      <td>-1.33679</td>\n",
       "      <td>-1.144145</td>\n",
       "      <td>-0.738781</td>\n",
       "      <td>-0.207243</td>\n",
       "      <td>0.481002</td>\n",
       "      <td>0.918794</td>\n",
       "      <td>0.886013</td>\n",
       "      <td>0.81792</td>\n",
       "      <td>0.458536</td>\n",
       "      <td>-0.431602</td>\n",
       "    </tr>\n",
       "    <tr>\n",
       "      <th>102</th>\n",
       "      <td>1</td>\n",
       "      <td>13</td>\n",
       "      <td>4</td>\n",
       "      <td>1</td>\n",
       "      <td>-1.463481</td>\n",
       "      <td>-0.662748</td>\n",
       "      <td>0.997851</td>\n",
       "      <td>-0.239431</td>\n",
       "      <td>0.732232</td>\n",
       "      <td>0.724777</td>\n",
       "      <td>...</td>\n",
       "      <td>-1.33679</td>\n",
       "      <td>-1.144145</td>\n",
       "      <td>-0.738781</td>\n",
       "      <td>-0.207243</td>\n",
       "      <td>0.481002</td>\n",
       "      <td>0.918794</td>\n",
       "      <td>0.886013</td>\n",
       "      <td>0.81792</td>\n",
       "      <td>0.458536</td>\n",
       "      <td>-0.431602</td>\n",
       "    </tr>\n",
       "  </tbody>\n",
       "</table>\n",
       "<p>2 rows × 101 columns</p>\n",
       "</div>"
      ],
      "text/plain": [
       "     field  age  type  harvest_month  harvest_year  temperature  dewpoint  \\\n",
       "101      1   19     7              1     -1.463481    -0.662748  0.997851   \n",
       "102      1   13     4              1     -1.463481    -0.662748  0.997851   \n",
       "\n",
       "     windspeed  Soilwater_L1  Soilwater_L2       ...         Soilwater_L4_2  \\\n",
       "101  -0.239431      0.732232      0.724777       ...               -1.33679   \n",
       "102  -0.239431      0.732232      0.724777       ...               -1.33679   \n",
       "\n",
       "     Soilwater_L4_3  Soilwater_L4_4  Soilwater_L4_5  Soilwater_L4_6  \\\n",
       "101       -1.144145       -0.738781       -0.207243        0.481002   \n",
       "102       -1.144145       -0.738781       -0.207243        0.481002   \n",
       "\n",
       "     Soilwater_L4_7  Soilwater_L4_8  Soilwater_L4_9  Soilwater_L4_10  \\\n",
       "101        0.918794        0.886013         0.81792         0.458536   \n",
       "102        0.918794        0.886013         0.81792         0.458536   \n",
       "\n",
       "     Soilwater_L4_11  \n",
       "101        -0.431602  \n",
       "102        -0.431602  \n",
       "\n",
       "[2 rows x 101 columns]"
      ]
     },
     "execution_count": 145,
     "metadata": {},
     "output_type": "execute_result"
    }
   ],
   "source": [
    "df, y, nas, mapper = proc_df(df_all_ftrs, y_fld='production', do_scale=True)\n",
    "df.head(2)"
   ]
  },
  {
   "cell_type": "code",
   "execution_count": 146,
   "metadata": {},
   "outputs": [],
   "source": [
    "df_test, _, nas, mapper = proc_df(df_test, y_fld='production', do_scale=True, mapper=mapper, na_dict=nas)"
   ]
  },
  {
   "cell_type": "code",
   "execution_count": 147,
   "metadata": {
    "scrolled": false
   },
   "outputs": [
    {
     "name": "stdout",
     "output_type": "stream",
     "text": [
      "[('field', 29), ('age', 29), ('type', 10), ('harvest_month', 13)]\n",
      "[(29, 15), (29, 15), (10, 5), (13, 7)]\n"
     ]
    }
   ],
   "source": [
    "cat_sz = [(c, len(df_all_ftrs[c].cat.categories)+1) for c in cat_ftrs]\n",
    "print(cat_sz)\n",
    "emb_szs = [(c, min(50, (c+1)//2)) for _,c in cat_sz]\n",
    "print(emb_szs)"
   ]
  },
  {
   "cell_type": "code",
   "execution_count": 148,
   "metadata": {},
   "outputs": [],
   "source": [
    "md = ColumnarModelData.from_data_frame(path, # path for data saving\n",
    "                                       val_idx, # indexes of validation examples\n",
    "                                       df, # training data\n",
    "                                       y.astype(np.float32), # output variable\n",
    "                                       cat_flds=cat_ftrs, # categorical features\n",
    "                                       bs=16, # batch size\n",
    "                                       test_df=df_test) # test dataframe"
   ]
  },
  {
   "cell_type": "code",
   "execution_count": 51,
   "metadata": {},
   "outputs": [],
   "source": [
    "# dropout rate\n",
    "dr = 0.3\n",
    "\n",
    "learner_params = {\n",
    "    \"emb_szs\": emb_szs, # embedding sizes\n",
    "    \"n_cont\": len(df.columns) - len(cat_ftrs), # num continuous inputs\n",
    "    \"emb_drop\": dr, # embeddings dropout probability\n",
    "    \"out_sz\": 1, # output size\n",
    "    \"szs\": [300, 100], # sizes of fully-connected layers\n",
    "    \"drops\": [dr, dr], # dropout probabilities after each FC layer\n",
    "    \"use_bn\": False # batch normalization\n",
    "}"
   ]
  },
  {
   "cell_type": "code",
   "execution_count": 65,
   "metadata": {},
   "outputs": [],
   "source": [
    "m = md.get_learner(**learner_params)"
   ]
  },
  {
   "cell_type": "code",
   "execution_count": 51,
   "metadata": {},
   "outputs": [],
   "source": [
    "load_model_ignoring(m, 'test-trn040-tst044')"
   ]
  },
  {
   "cell_type": "code",
   "execution_count": 52,
   "metadata": {},
   "outputs": [],
   "source": [
    "m.freeze_to(-1)"
   ]
  },
  {
   "cell_type": "code",
   "execution_count": 23,
   "metadata": {},
   "outputs": [
    {
     "data": {
      "application/vnd.jupyter.widget-view+json": {
       "model_id": "",
       "version_major": 2,
       "version_minor": 0
      },
      "text/plain": [
       "HBox(children=(IntProgress(value=0, description='Epoch', max=1), HTML(value='')))"
      ]
     },
     "metadata": {},
     "output_type": "display_data"
    },
    {
     "name": "stdout",
     "output_type": "stream",
     "text": [
      " 68%|██████▊   | 163/241 [00:01<00:00, 151.11it/s, loss=12.6]\n",
      "                                                             \r"
     ]
    },
    {
     "data": {
      "image/png": "[encoded data removed]",
      "text/plain": [
       "<Figure size 432x288 with 1 Axes>"
      ]
     },
     "metadata": {},
     "output_type": "display_data"
    }
   ],
   "source": [
    "m.lr_find()\n",
    "m.sched.plot()"
   ]
  },
  {
   "cell_type": "code",
   "execution_count": 53,
   "metadata": {},
   "outputs": [
    {
     "data": {
      "application/vnd.jupyter.widget-view+json": {
       "model_id": "",
       "version_major": 2,
       "version_minor": 0
      },
      "text/plain": [
       "HBox(children=(IntProgress(value=0, description='Epoch', max=30), HTML(value='')))"
      ]
     },
     "metadata": {},
     "output_type": "display_data"
    },
    {
     "name": "stdout",
     "output_type": "stream",
     "text": [
      "epoch      trn_loss   val_loss   mean_absolute_error         \n",
      "    0      3.139528   1.808603   1.064869  \n",
      "    1      1.414394   1.12275    0.850832                    \n",
      "    2      1.220433   1.036165   0.819119                    \n",
      "    3      0.707036   0.491492   0.565952                     \n",
      "    4      0.513051   0.327791   0.460752                     \n",
      "    5      0.447095   0.304018   0.443588                     \n",
      "    6      0.269977   0.150227   0.311984                     \n",
      "    7      0.169735   0.102103   0.251863                     \n",
      "    8      0.158449   0.095695   0.242224                     \n",
      "    9      0.098798   0.049386   0.172304                     \n",
      "    10     0.066464   0.035672   0.141287                      \n",
      "    11     0.056851   0.033913   0.137357                      \n",
      "    12     0.036649   0.025607   0.116309                      \n",
      "    13     0.023851   0.022731   0.106729                      \n",
      "    14     0.02334    0.02101    0.101275                      \n",
      "    15     0.016626   0.019886   0.099732                      \n",
      "    16     0.017148   0.018589   0.095487                      \n",
      "    17     0.014731   0.018249   0.093016                      \n",
      "    18     0.012607   0.020417   0.096847                      \n",
      "    19     0.016132   0.017365   0.090556                      \n",
      "    20     0.016042   0.017068   0.089097                      \n",
      "    21     0.013267   0.018087   0.09053                       \n",
      "    22     0.013139   0.017884   0.091739                      \n",
      "    23     0.012308   0.01665    0.087849                      \n",
      "    24     0.015106   0.017967   0.093434                      \n",
      "    25     0.013418   0.016615   0.090899                      \n",
      "    26     0.013686   0.016595   0.087172                      \n",
      "    27     0.015553   0.017777   0.100119                      \n",
      "    28     0.012684   0.016293   0.089449                      \n",
      "    29     0.013576   0.017009   0.089923                      \n",
      "\n"
     ]
    },
    {
     "data": {
      "text/plain": [
       "[array([0.01701]), 0.08992334522398239]"
      ]
     },
     "execution_count": 53,
     "metadata": {},
     "output_type": "execute_result"
    }
   ],
   "source": [
    "lr = 1e-3\n",
    "m.fit(lr, 10, cycle_len=3, metrics=[metrics.mean_absolute_error])"
   ]
  },
  {
   "cell_type": "code",
   "execution_count": 54,
   "metadata": {},
   "outputs": [],
   "source": [
    "m.save('finetuned-val0899')"
   ]
  },
  {
   "cell_type": "code",
   "execution_count": 55,
   "metadata": {},
   "outputs": [
    {
     "data": {
      "application/vnd.jupyter.widget-view+json": {
       "model_id": "9280f7275fc94936b1e59c16e8c90444",
       "version_major": 2,
       "version_minor": 0
      },
      "text/plain": [
       "HBox(children=(IntProgress(value=0, description='Epoch', max=30), HTML(value='')))"
      ]
     },
     "metadata": {},
     "output_type": "display_data"
    },
    {
     "name": "stdout",
     "output_type": "stream",
     "text": [
      "epoch      trn_loss   val_loss   mean_absolute_error           \n",
      "    0      0.013959   0.019916   0.108209  \n",
      "    1      0.010269   0.016035   0.088772                       \n",
      "    2      0.008616   0.016005   0.087401                       \n",
      "    3      0.010519   0.017954   0.092133                       \n",
      "    4      0.007023   0.016521   0.08876                        \n",
      "    5      0.006744   0.016866   0.089743                       \n",
      "    6      0.008237   0.017949   0.093908                       \n",
      "    7      0.00594    0.017546   0.091921                       \n",
      "    8      0.005967   0.01696    0.092146                       \n",
      "    9      0.006751   0.017775   0.092572                       \n",
      "    10     0.005167   0.017404   0.09234                        \n",
      "    11     0.004148   0.017263   0.092417                       \n",
      "    12     0.006162   0.017977   0.092689                       \n",
      "    13     0.005285   0.018374   0.094984                       \n",
      "    14     0.004178   0.018261   0.095252                       \n",
      "    15     0.005926   0.019162   0.095392                       \n",
      "    16     0.005199   0.017745   0.092277                       \n",
      "    17     0.003455   0.018063   0.093153                       \n",
      "    18     0.005569   0.019671   0.099266                       \n",
      "    19     0.003875   0.01811    0.091908                       \n",
      "    20     0.003377   0.018014   0.092417                       \n",
      "    21     0.004176   0.018879   0.094705                       \n",
      "    22     0.003864   0.018407   0.093243                       \n",
      "    23     0.002924   0.018421   0.093567                       \n",
      "    24     0.00557    0.019482   0.095132                       \n",
      "    25     0.003934   0.018888   0.094439                       \n",
      "    26     0.002876   0.018674   0.093965                       \n",
      "    27     0.004806   0.020828   0.097173                       \n",
      "    28     0.003811   0.019306   0.094552                       \n",
      "    29     0.003367   0.018241   0.092175                       \n",
      "\n"
     ]
    },
    {
     "data": {
      "text/plain": [
       "[array([0.01824]), 0.09217470541607156]"
      ]
     },
     "execution_count": 55,
     "metadata": {},
     "output_type": "execute_result"
    }
   ],
   "source": [
    "m.unfreeze()\n",
    "m.fit(lr, 10, cycle_len=3, metrics=[metrics.mean_absolute_error])"
   ]
  },
  {
   "cell_type": "code",
   "execution_count": 59,
   "metadata": {},
   "outputs": [
    {
     "data": {
      "application/vnd.jupyter.widget-view+json": {
       "model_id": "",
       "version_major": 2,
       "version_minor": 0
      },
      "text/plain": [
       "HBox(children=(IntProgress(value=0, description='Epoch', max=30), HTML(value='')))"
      ]
     },
     "metadata": {},
     "output_type": "display_data"
    },
    {
     "name": "stdout",
     "output_type": "stream",
     "text": [
      "epoch      trn_loss   val_loss   mean_absolute_error           \n",
      "    0      0.017604   0.017584   0.087891  \n",
      "    1      0.013262   0.01739    0.088337                      \n",
      "    2      0.012464   0.016457   0.087129                      \n",
      "    3      0.014732   0.018986   0.094899                      \n",
      "    4      0.012059   0.016684   0.089985                      \n",
      "    5      0.012548   0.016091   0.087878                      \n",
      "    6      0.01352    0.017692   0.092891                      \n",
      "    7      0.013243   0.017251   0.088776                      \n",
      "    8      0.011898   0.016373   0.088819                      \n",
      "    9      0.011733   0.018623   0.096897                      \n",
      "    10     0.010808   0.016354   0.090464                       \n",
      "    11     0.010813   0.015884   0.08541                       \n",
      "    12     0.013181   0.018663   0.100792                      \n",
      "    13     0.009243   0.016388   0.08619                       \n",
      "    14     0.00988    0.015911   0.085672                       \n",
      "    15     0.011092   0.015762   0.086857                      \n",
      "    16     0.009713   0.016652   0.0873                         \n",
      "    17     0.009046   0.016501   0.088775                       \n",
      "    18     0.011951   0.017901   0.089554                      \n",
      "    19     0.009461   0.015963   0.08528                        \n",
      "    20     0.009005   0.015654   0.084742                       \n",
      "    21     0.010385   0.016741   0.089158                      \n",
      "    22     0.011107   0.015629   0.082594                       \n",
      "    23     0.009894   0.015515   0.084085                       \n",
      "    24     0.011759   0.017283   0.092023                      \n",
      "    25     0.009571   0.015763   0.085767                       \n",
      "    26     0.008567   0.015931   0.085511                       \n",
      "    27     0.011242   0.017158   0.094528                       \n",
      "    28     0.008089   0.016409   0.087869                       \n",
      "    29     0.009349   0.015486   0.084647                       \n",
      "\n"
     ]
    },
    {
     "data": {
      "text/plain": [
       "[array([0.01549]), 0.08464733585070687]"
      ]
     },
     "execution_count": 59,
     "metadata": {},
     "output_type": "execute_result"
    }
   ],
   "source": [
    "m.load('finetuned-val0899')\n",
    "m.unfreeze()\n",
    "lrs=[lr/100, lr/10, lr]\n",
    "m.fit(lrs, 10, cycle_len=3, metrics=[metrics.mean_absolute_error])"
   ]
  },
  {
   "cell_type": "code",
   "execution_count": 53,
   "metadata": {},
   "outputs": [
    {
     "data": {
      "application/vnd.jupyter.widget-view+json": {
       "model_id": "f56ea47c973e4d27ad23fdd1cbceb3eb",
       "version_major": 2,
       "version_minor": 0
      },
      "text/plain": [
       "HBox(children=(IntProgress(value=0, description='Epoch', max=30), HTML(value='')))"
      ]
     },
     "metadata": {},
     "output_type": "display_data"
    },
    {
     "name": "stdout",
     "output_type": "stream",
     "text": [
      "epoch      trn_loss   val_loss   mean_absolute_error           \n",
      "    0      0.017162   0.018397   0.089783  \n",
      "    1      0.016754   0.018083   0.089486                      \n",
      "    2      0.015803   0.017665   0.087915                      \n",
      "    3      0.017168   0.019299   0.092302                      \n",
      "    4      0.015071   0.016353   0.084302                      \n",
      "    5      0.01468    0.017361   0.086092                      \n",
      "    6      0.019636   0.017832   0.094935                      \n",
      "    7      0.015133   0.016775   0.089185                      \n",
      "    8      0.013739   0.01646    0.085509                      \n",
      "    9      0.017475   0.016337   0.087888                      \n",
      "    10     0.014837   0.016945   0.084923                      \n",
      "    11     0.015548   0.017051   0.085183                      \n",
      "    12     0.015896   0.016694   0.085545                      \n",
      "    13     0.014323   0.016988   0.084879                      \n",
      "    14     0.012691   0.016324   0.08426                       \n",
      "    15     0.016565   0.016406   0.089796                      \n",
      "    16     0.016207   0.016199   0.086843                      \n",
      "    17     0.011233   0.016008   0.083177                      \n",
      "    18     0.017429   0.01711    0.087842                      \n",
      "    19     0.012782   0.015751   0.082229                      \n",
      "    20     0.01301    0.015396   0.082795                      \n",
      "    21     0.015091   0.016341   0.083535                      \n",
      "    22     0.011304   0.015634   0.08302                       \n",
      "    23     0.009719   0.016096   0.083379                       \n",
      "    24     0.013954   0.01754    0.087002                      \n",
      "    25     0.011474   0.016058   0.084838                      \n",
      "    26     0.012928   0.015597   0.082409                      \n",
      "    27     0.012915   0.017431   0.087805                      \n",
      "    28     0.0132     0.016367   0.085082                      \n",
      "    29     0.013581   0.015623   0.082732                      \n",
      "\n"
     ]
    },
    {
     "data": {
      "text/plain": [
       "[array([0.01562]), 0.08273166418075562]"
      ]
     },
     "execution_count": 53,
     "metadata": {},
     "output_type": "execute_result"
    }
   ],
   "source": [
    "# dropout rate\n",
    "dr = 0.3\n",
    "\n",
    "learner_params = {\n",
    "    \"emb_szs\": emb_szs, # embedding sizes\n",
    "    \"n_cont\": len(df.columns) - len(cat_ftrs), # num continuous inputs\n",
    "    \"emb_drop\": dr, # embeddings dropout probability\n",
    "    \"out_sz\": 1, # output size\n",
    "    \"szs\": [300, 100], # sizes of fully-connected layers\n",
    "    \"drops\": [dr, dr], # dropout probabilities after each FC layer\n",
    "    \"use_bn\": False # batch normalization\n",
    "}\n",
    "\n",
    "m = md.get_learner(**learner_params)\n",
    "\n",
    "m.load('finetuned-val0899')\n",
    "m.unfreeze()\n",
    "lrs=[lr/100, lr/10, lr]\n",
    "m.fit(lrs, 10, cycle_len=3, metrics=[metrics.mean_absolute_error])"
   ]
  },
  {
   "cell_type": "code",
   "execution_count": 54,
   "metadata": {},
   "outputs": [],
   "source": [
    "m.save('finetuned-all-082')"
   ]
  },
  {
   "cell_type": "code",
   "execution_count": 68,
   "metadata": {
    "scrolled": false
   },
   "outputs": [
    {
     "data": {
      "application/vnd.jupyter.widget-view+json": {
       "model_id": "99e2c25c4cfb415c83ff00a002e0ccbc",
       "version_major": 2,
       "version_minor": 0
      },
      "text/plain": [
       "HBox(children=(IntProgress(value=0, description='Epoch', max=45), HTML(value='')))"
      ]
     },
     "metadata": {},
     "output_type": "display_data"
    },
    {
     "name": "stdout",
     "output_type": "stream",
     "text": [
      "epoch      trn_loss   val_loss   mean_absolute_error           \n",
      "    0      0.019516   0.01991    0.097592  \n",
      "    1      0.017287   0.018474   0.090109                      \n",
      "    2      0.014695   0.017869   0.088202                      \n",
      "    3      0.019001   0.018679   0.091402                      \n",
      "    4      0.01538    0.016668   0.090396                      \n",
      "    5      0.012635   0.017052   0.08741                       \n",
      "    6      0.017275   0.020211   0.093742                      \n",
      "    7      0.01471    0.02076    0.091942                      \n",
      "    8      0.014929   0.016945   0.085857                      \n",
      "    9      0.017354   0.017458   0.089115                      \n",
      "    10     0.014012   0.016556   0.0841                        \n",
      "    11     0.012987   0.016435   0.084086                      \n",
      "    12     0.015374   0.018056   0.088932                      \n",
      "    13     0.012957   0.017223   0.08571                       \n",
      "    14     0.012345   0.01588    0.083404                      \n",
      "    15     0.015339   0.017801   0.088285                      \n",
      "    16     0.012662   0.016431   0.084004                      \n",
      "    17     0.013064   0.015977   0.082856                      \n",
      "    18     0.013878   0.01586    0.087527                      \n",
      "    19     0.012786   0.016676   0.085179                      \n",
      "    20     0.012504   0.015838   0.083419                      \n",
      "    21     0.01457    0.016852   0.093561                      \n",
      "    22     0.013553   0.016253   0.084705                      \n",
      "    23     0.011333   0.016092   0.083544                      \n",
      "    24     0.014537   0.017938   0.088189                      \n",
      "    25     0.0127     0.018466   0.088437                      \n",
      "    26     0.010995   0.01556    0.082573                      \n",
      "    27     0.014162   0.016818   0.088523                      \n",
      "    28     0.011885   0.016262   0.084196                      \n",
      "    29     0.013803   0.015888   0.082148                      \n",
      "    30     0.011969   0.017223   0.08556                       \n",
      "    31     0.012657   0.015391   0.082429                      \n",
      "    32     0.011054   0.015961   0.082803                      \n",
      "    33     0.015459   0.015353   0.084494                      \n",
      "    34     0.010726   0.016217   0.083456                      \n",
      "    35     0.010612   0.015597   0.082724                      \n",
      "    36     0.013095   0.017679   0.08856                       \n",
      "    37     0.012463   0.016487   0.083681                      \n",
      "    38     0.009925   0.016198   0.082633                      \n",
      "    39     0.012773   0.019172   0.092936                      \n",
      "    40     0.011484   0.01563    0.083251                       \n",
      "    41     0.010285   0.016029   0.083752                      \n",
      "    42     0.011953   0.018687   0.090003                      \n",
      "    43     0.011286   0.017127   0.085384                      \n",
      "    44     0.00995    0.016364   0.083908                      \n",
      "\n"
     ]
    },
    {
     "data": {
      "text/plain": [
       "[array([0.01636]), 0.08390791717951643]"
      ]
     },
     "execution_count": 68,
     "metadata": {},
     "output_type": "execute_result"
    }
   ],
   "source": [
    "m.load('finetuned-val0899')\n",
    "m.unfreeze()\n",
    "lrs=[lr/100, lr/10, lr]\n",
    "m.fit(lrs, 15, cycle_len=3, metrics=[metrics.mean_absolute_error])"
   ]
  },
  {
   "cell_type": "code",
   "execution_count": 69,
   "metadata": {},
   "outputs": [
    {
     "data": {
      "application/vnd.jupyter.widget-view+json": {
       "model_id": "",
       "version_major": 2,
       "version_minor": 0
      },
      "text/plain": [
       "HBox(children=(IntProgress(value=0, description='Epoch', max=45), HTML(value='')))"
      ]
     },
     "metadata": {},
     "output_type": "display_data"
    },
    {
     "name": "stdout",
     "output_type": "stream",
     "text": [
      "epoch      trn_loss   val_loss   mean_absolute_error           \n",
      "    0      0.023228   0.025626   0.108521  \n",
      "    1      0.017223   0.018313   0.093491                      \n",
      "    2      0.014395   0.018941   0.092365                      \n",
      "    3      0.020299   0.019514   0.104148                      \n",
      "    4      0.017949   0.018612   0.092847                      \n",
      "    5      0.0153     0.018354   0.090629                      \n",
      "    6      0.017865   0.018586   0.089749                      \n",
      "    7      0.015649   0.017794   0.089102                      \n",
      "    8      0.014086   0.017882   0.088186                      \n",
      "    9      0.016344   0.017233   0.09275                       \n",
      "    10     0.015141   0.017792   0.086503                      \n",
      "    11     0.014536   0.017247   0.086534                      \n",
      "    12     0.0174     0.017079   0.088744                      \n",
      "    13     0.01456    0.016447   0.086261                      \n",
      "    14     0.014575   0.016515   0.085305                      \n",
      "    15     0.016245   0.017849   0.087577                      \n",
      "    16     0.014506   0.01638    0.085796                      \n",
      "    17     0.013674   0.016387   0.08518                       \n",
      "    18     0.012542   0.016923   0.083051                      \n",
      "    19     0.014294   0.016048   0.084444                      \n",
      "    20     0.013137   0.015841   0.083644                      \n",
      "    21     0.014456   0.017419   0.086963                      \n",
      "    22     0.014612   0.016425   0.088902                      \n",
      "    23     0.012558   0.015986   0.084042                      \n",
      "    24     0.013816   0.016088   0.086424                      \n",
      "    25     0.012821   0.016763   0.086647                      \n",
      "    26     0.011701   0.015775   0.08464                       \n",
      "    27     0.014002   0.017047   0.085684                      \n",
      "    28     0.013211   0.016046   0.082635                      \n",
      "    29     0.012599   0.015919   0.083453                      \n",
      "    30     0.013468   0.01763    0.086523                      \n",
      "    31     0.013468   0.016004   0.085582                      \n",
      "    32     0.010869   0.015788   0.083733                      \n",
      "    33     0.01398    0.016942   0.090281                      \n",
      "    34     0.011728   0.016555   0.085417                      \n",
      "    35     0.010892   0.016354   0.084664                       \n",
      "    36     0.0122     0.019038   0.089613                      \n",
      "    37     0.014182   0.015982   0.082893                      \n",
      "    38     0.011451   0.015846   0.083729                      \n",
      "    39     0.011596   0.017065   0.087756                      \n",
      "    40     0.013055   0.015887   0.083689                      \n",
      "    41     0.011076   0.016243   0.084661                      \n",
      "    42     0.011919   0.018279   0.087496                      \n",
      "    43     0.012183   0.016735   0.084315                      \n",
      "    44     0.012381   0.016403   0.084145                      \n",
      "\n"
     ]
    },
    {
     "data": {
      "text/plain": [
       "[array([0.0164]), 0.08414461473896079]"
      ]
     },
     "execution_count": 69,
     "metadata": {},
     "output_type": "execute_result"
    }
   ],
   "source": [
    "# dropout rate\n",
    "dr = 0.5\n",
    "\n",
    "learner_params = {\n",
    "    \"emb_szs\": emb_szs, # embedding sizes\n",
    "    \"n_cont\": len(df.columns) - len(cat_ftrs), # num continuous inputs\n",
    "    \"emb_drop\": dr/10, # embeddings dropout probability\n",
    "    \"out_sz\": 1, # output size\n",
    "    \"szs\": [300, 100], # sizes of fully-connected layers\n",
    "    \"drops\": [dr, dr], # dropout probabilities after each FC layer\n",
    "    \"use_bn\": False # batch normalization\n",
    "}\n",
    "\n",
    "m = md.get_learner(**learner_params)\n",
    "\n",
    "m.load('finetuned-val0899')\n",
    "m.unfreeze()\n",
    "lrs=[lr/100, lr/10, lr]\n",
    "m.fit(lrs, 15, cycle_len=3, metrics=[metrics.mean_absolute_error])"
   ]
  },
  {
   "cell_type": "code",
   "execution_count": 17,
   "metadata": {},
   "outputs": [
    {
     "data": {
      "application/vnd.jupyter.widget-view+json": {
       "model_id": "",
       "version_major": 2,
       "version_minor": 0
      },
      "text/plain": [
       "HBox(children=(IntProgress(value=0, description='Epoch', max=45), HTML(value='')))"
      ]
     },
     "metadata": {},
     "output_type": "display_data"
    },
    {
     "name": "stdout",
     "output_type": "stream",
     "text": [
      "epoch      trn_loss   val_loss   mean_absolute_error           \n",
      "    0      0.019285   0.016906   0.094422  \n",
      "    1      0.014819   0.018602   0.089411                      \n",
      "    2      0.015131   0.0173     0.086752                      \n",
      "    3      0.01634    0.019332   0.096033                      \n",
      "    4      0.013444   0.017127   0.086319                      \n",
      "    5      0.012157   0.016579   0.084931                      \n",
      "    6      0.014503   0.024118   0.109103                      \n",
      "    7      0.014206   0.016448   0.090114                      \n",
      "    8      0.012028   0.016107   0.086484                      \n",
      "    9      0.014471   0.016432   0.086273                      \n",
      "    10     0.011143   0.016793   0.085017                      \n",
      "    11     0.010875   0.01606    0.085054                      \n",
      "    12     0.014118   0.018402   0.0884                        \n",
      "    13     0.013014   0.016409   0.087678                      \n",
      "    14     0.010881   0.016161   0.085988                      \n",
      "    15     0.013516   0.016448   0.086742                      \n",
      "    16     0.012689   0.015728   0.083413                      \n",
      "    17     0.011441   0.015582   0.084428                      \n",
      "    18     0.012893   0.015845   0.085955                      \n",
      "    19     0.012191   0.015875   0.086935                      \n",
      "    20     0.011217   0.015813   0.086013                       \n",
      "    21     0.013162   0.015902   0.085958                      \n",
      "    22     0.012486   0.015666   0.087813                       \n",
      "    23     0.012676   0.015454   0.082205                       \n",
      "    24     0.013283   0.015268   0.085572                      \n",
      "    25     0.010488   0.015593   0.081407                      \n",
      "    26     0.011212   0.015258   0.083886                       \n",
      "    27     0.012955   0.014721   0.083783                      \n",
      "    28     0.011194   0.015277   0.084782                      \n",
      "    29     0.010321   0.015257   0.082669                       \n",
      "    30     0.013063   0.015441   0.084133                      \n",
      "    31     0.009751   0.015992   0.083839                      \n",
      "    32     0.011142   0.015166   0.082464                       \n",
      "    33     0.011205   0.015784   0.082925                      \n",
      "    34     0.01061    0.015411   0.084665                      \n",
      "    35     0.00913    0.015426   0.084381                       \n",
      "    36     0.010415   0.015943   0.08439                        \n",
      "    37     0.01069    0.015695   0.084446                       \n",
      "    38     0.008177   0.015353   0.082871                       \n",
      "    39     0.010561   0.016658   0.085832                       \n",
      "    40     0.009256   0.015572   0.083811                       \n",
      "    41     0.010966   0.015975   0.084353                       \n",
      "    42     0.008643   0.017244   0.087427                       \n",
      "    43     0.009295   0.015444   0.083207                       \n",
      "    44     0.008141   0.015287   0.082622                       \n",
      "\n"
     ]
    },
    {
     "data": {
      "text/plain": [
       "[array([0.01529]), 0.08262233577921138]"
      ]
     },
     "execution_count": 17,
     "metadata": {},
     "output_type": "execute_result"
    }
   ],
   "source": [
    "# dropout rate\n",
    "dr = 0.3\n",
    "\n",
    "learner_params = {\n",
    "    \"emb_szs\": emb_szs, # embedding sizes\n",
    "    \"n_cont\": len(df.columns) - len(cat_ftrs), # num continuous inputs\n",
    "    \"emb_drop\": dr/10, # embeddings dropout probability\n",
    "    \"out_sz\": 1, # output size\n",
    "    \"szs\": [300, 100], # sizes of fully-connected layers\n",
    "    \"drops\": [dr, dr], # dropout probabilities after each FC layer\n",
    "    \"use_bn\": False # batch normalization\n",
    "}\n",
    "\n",
    "m = md.get_learner(**learner_params)\n",
    "\n",
    "m.load('finetuned-val0899')\n",
    "m.unfreeze()\n",
    "lr=1e-3\n",
    "lrs=[lr/100, lr/10, lr]\n",
    "m.fit(lrs, 15, cycle_len=3, metrics=[metrics.mean_absolute_error])"
   ]
  },
  {
   "cell_type": "code",
   "execution_count": 20,
   "metadata": {},
   "outputs": [
    {
     "data": {
      "application/vnd.jupyter.widget-view+json": {
       "model_id": "f04a3921c0c24aa58e4390feaa59a554",
       "version_major": 2,
       "version_minor": 0
      },
      "text/plain": [
       "HBox(children=(IntProgress(value=0, description='Epoch', max=1), HTML(value='')))"
      ]
     },
     "metadata": {},
     "output_type": "display_data"
    },
    {
     "name": "stdout",
     "output_type": "stream",
     "text": [
      " 63%|██████▎   | 151/241 [00:00<00:00, 494.08it/s, loss=4.1]\n",
      "                                                            \r"
     ]
    },
    {
     "data": {
      "image/png": "[encoded data removed]",
      "text/plain": [
       "<Figure size 432x288 with 1 Axes>"
      ]
     },
     "metadata": {},
     "output_type": "display_data"
    }
   ],
   "source": [
    "# dropout rate\n",
    "dr = 0.3\n",
    "\n",
    "learner_params = {\n",
    "    \"emb_szs\": emb_szs, # embedding sizes\n",
    "    \"n_cont\": len(df.columns) - len(cat_ftrs), # num continuous inputs\n",
    "    \"emb_drop\": dr, # embeddings dropout probability\n",
    "    \"out_sz\": 1, # output size\n",
    "    \"szs\": [1000, 500], # sizes of fully-connected layers\n",
    "    \"drops\": [dr, dr], # dropout probabilities after each FC layer\n",
    "    \"use_bn\": False # batch normalization\n",
    "}\n",
    "\n",
    "m = md.get_learner(**learner_params)\n",
    "\n",
    "load_model_ignoring(m, 'test-trn018-tst043')\n",
    "\n",
    "m.freeze_to(-1)\n",
    "\n",
    "m.lr_find()\n",
    "m.sched.plot()"
   ]
  },
  {
   "cell_type": "code",
   "execution_count": 28,
   "metadata": {},
   "outputs": [
    {
     "data": {
      "application/vnd.jupyter.widget-view+json": {
       "model_id": "2024c6f4c8a4499c86e5927111eeff4b",
       "version_major": 2,
       "version_minor": 0
      },
      "text/plain": [
       "HBox(children=(IntProgress(value=0, description='Epoch', max=30), HTML(value='')))"
      ]
     },
     "metadata": {},
     "output_type": "display_data"
    },
    {
     "name": "stdout",
     "output_type": "stream",
     "text": [
      "epoch      trn_loss   val_loss   mean_absolute_error         \n",
      "    0      26.185067  1.42178    0.929329  \n",
      "    1      12.927978  0.79234    0.708859                    \n",
      "    2      11.554868  0.693208   0.667234                    \n",
      "    3      4.62365    0.236607   0.391902                    \n",
      "    4      2.003862   0.153406   0.315739                    \n",
      "    5      1.644321   0.14039    0.302507                    \n",
      "    6      0.69242    0.072362   0.214769                     \n",
      "    7      0.29484    0.05479    0.180336                     \n",
      "    8      0.247451   0.052575   0.175543                     \n",
      "    9      0.12732    0.045084   0.153637                     \n",
      "    10     0.065656   0.040525   0.142425                      \n",
      "    11     0.049277   0.041321   0.14441                       \n",
      "    12     0.041035   0.036827   0.132443                      \n",
      "    13     0.027443   0.033966   0.126524                      \n",
      "    14     0.024446   0.034674   0.128231                      \n",
      "    15     0.025678   0.032721   0.125841                      \n",
      "    16     0.02011    0.033781   0.12447                       \n",
      "    17     0.020185   0.030846   0.118095                      \n",
      "    18     0.031056   0.028296   0.112105                      \n",
      "    19     0.021278   0.027641   0.110543                      \n",
      "    20     0.019563   0.02771    0.110902                      \n",
      "    21     0.057061   0.025349   0.110285                      \n",
      "    22     0.024713   0.028189   0.112654                      \n",
      "    23     0.019796   0.025838   0.1054                        \n",
      "    24     0.156481   0.038825   0.150959                      \n",
      "    25     0.051688   0.02688    0.111396                      \n",
      "    26     0.0227     0.025665   0.107134                      \n",
      "    27     0.283454   0.061292   0.180391                     \n",
      "    28     0.053328   0.027582   0.109845                      \n",
      "    29     0.025722   0.023659   0.09971                       \n",
      "\n"
     ]
    },
    {
     "data": {
      "text/plain": [
       "[array([0.02366]), 0.09970993432602439]"
      ]
     },
     "execution_count": 28,
     "metadata": {},
     "output_type": "execute_result"
    }
   ],
   "source": [
    "# dropout rate\n",
    "dr = 0.7\n",
    "\n",
    "learner_params = {\n",
    "    \"emb_szs\": emb_szs, # embedding sizes\n",
    "    \"n_cont\": len(df.columns) - len(cat_ftrs), # num continuous inputs\n",
    "    \"emb_drop\": dr, # embeddings dropout probability\n",
    "    \"out_sz\": 1, # output size\n",
    "    \"szs\": [1000, 500], # sizes of fully-connected layers\n",
    "    \"drops\": [dr, dr], # dropout probabilities after each FC layer\n",
    "    \"use_bn\": False # batch normalization\n",
    "}\n",
    "\n",
    "m = md.get_learner(**learner_params)\n",
    "\n",
    "load_model_ignoring(m, 'test-trn018-tst043')\n",
    "\n",
    "m.freeze_to(-1)\n",
    "\n",
    "lr = 1e-3\n",
    "m.fit(lr, 10, cycle_len=3, metrics=[metrics.mean_absolute_error])"
   ]
  },
  {
   "cell_type": "code",
   "execution_count": 29,
   "metadata": {},
   "outputs": [],
   "source": [
    "m.save('finetuned-lins_1000_500-val0997')"
   ]
  },
  {
   "cell_type": "code",
   "execution_count": 31,
   "metadata": {},
   "outputs": [
    {
     "data": {
      "application/vnd.jupyter.widget-view+json": {
       "model_id": "",
       "version_major": 2,
       "version_minor": 0
      },
      "text/plain": [
       "HBox(children=(IntProgress(value=0, description='Epoch', max=45), HTML(value='')))"
      ]
     },
     "metadata": {},
     "output_type": "display_data"
    },
    {
     "name": "stdout",
     "output_type": "stream",
     "text": [
      "epoch      trn_loss   val_loss   mean_absolute_error           \n",
      "    0      0.024466   0.026287   0.12682   \n",
      "    1      0.015457   0.02039    0.098458                      \n",
      "    2      0.012943   0.021001   0.099276                      \n",
      "    3      0.020769   0.046494   0.155777                      \n",
      "    4      0.015076   0.023679   0.113963                      \n",
      "    5      0.011744   0.02411    0.111679                      \n",
      "    6      0.019216   0.035611   0.14431                       \n",
      "    7      0.012848   0.019739   0.098999                      \n",
      "    8      0.011987   0.021626   0.104384                      \n",
      "    9      0.017226   0.023645   0.11221                       \n",
      "    10     0.012411   0.020029   0.098606                      \n",
      "    11     0.009931   0.020066   0.09912                        \n",
      "    12     0.013774   0.023837   0.110677                      \n",
      "    13     0.011486   0.023346   0.11232                       \n",
      "    14     0.00844    0.023657   0.110654                       \n",
      "    15     0.014353   0.018727   0.096781                      \n",
      "    16     0.010726   0.017951   0.092838                       \n",
      "    17     0.009949   0.019217   0.095419                       \n",
      "    18     0.01238    0.021158   0.101466                      \n",
      "    19     0.01101    0.02048    0.098941                      \n",
      "    20     0.008378   0.019344   0.096466                       \n",
      "    21     0.011271   0.023707   0.108579                      \n",
      "    22     0.00934    0.017856   0.096177                       \n",
      "    23     0.008341   0.018833   0.098164                       \n",
      "    24     0.011531   0.023962   0.113424                       \n",
      "    25     0.009547   0.01969    0.098272                       \n",
      "    26     0.007596   0.019229   0.098438                       \n",
      "    27     0.010607   0.024225   0.113667                       \n",
      "    28     0.009128   0.022642   0.107291                       \n",
      "    29     0.008697   0.020613   0.102189                       \n",
      "    30     0.01088    0.019649   0.099781                       \n",
      "    31     0.009185   0.018623   0.09633                        \n",
      "    32     0.00796    0.018531   0.09643                        \n",
      "    33     0.009708   0.023731   0.110161                       \n",
      "    34     0.009076   0.020725   0.103126                       \n",
      "    35     0.007422   0.020921   0.103051                       \n",
      "    36     0.008474   0.022748   0.106849                       \n",
      "    37     0.008594   0.021045   0.103246                       \n",
      "    38     0.008341   0.020891   0.102695                       \n",
      "    39     0.009748   0.022004   0.106794                       \n",
      "    40     0.008399   0.01937    0.098497                       \n",
      "    41     0.008246   0.020043   0.100403                       \n",
      "    42     0.00917    0.018852   0.096379                       \n",
      "    43     0.006757   0.019515   0.098912                       \n",
      "    44     0.006658   0.01938    0.098553                       \n",
      "\n"
     ]
    },
    {
     "data": {
      "text/plain": [
       "[array([0.01938]), 0.09855333243502759]"
      ]
     },
     "execution_count": 31,
     "metadata": {},
     "output_type": "execute_result"
    }
   ],
   "source": [
    "# dropout rate\n",
    "dr = 0.3\n",
    "\n",
    "learner_params = {\n",
    "    \"emb_szs\": emb_szs, # embedding sizes\n",
    "    \"n_cont\": len(df.columns) - len(cat_ftrs), # num continuous inputs\n",
    "    \"emb_drop\": dr/10, # embeddings dropout probability\n",
    "    \"out_sz\": 1, # output size\n",
    "    \"szs\": [1000, 500], # sizes of fully-connected layers\n",
    "    \"drops\": [dr, dr], # dropout probabilities after each FC layer\n",
    "    \"use_bn\": False # batch normalization\n",
    "}\n",
    "\n",
    "m = md.get_learner(**learner_params)\n",
    "\n",
    "m.load('finetuned-lins_1000_500-val0997')\n",
    "m.unfreeze()\n",
    "lr=1e-3\n",
    "lrs=[lr/100, lr/10, lr]\n",
    "m.fit(lrs, 15, cycle_len=3, metrics=[metrics.mean_absolute_error])"
   ]
  },
  {
   "cell_type": "code",
   "execution_count": 32,
   "metadata": {},
   "outputs": [
    {
     "data": {
      "application/vnd.jupyter.widget-view+json": {
       "model_id": "",
       "version_major": 2,
       "version_minor": 0
      },
      "text/plain": [
       "HBox(children=(IntProgress(value=0, description='Epoch', max=45), HTML(value='')))"
      ]
     },
     "metadata": {},
     "output_type": "display_data"
    },
    {
     "name": "stdout",
     "output_type": "stream",
     "text": [
      "epoch      trn_loss   val_loss   mean_absolute_error           \n",
      "    0      0.033614   0.024377   0.117336  \n",
      "    1      0.019893   0.023146   0.110633                      \n",
      "    2      0.01357    0.023248   0.107598                      \n",
      "    3      0.035019   0.02761    0.125071                      \n",
      "    4      0.017055   0.021789   0.100483                      \n",
      "    5      0.01417    0.02106    0.098486                      \n",
      "    6      0.027576   0.027076   0.114308                      \n",
      "    7      0.016157   0.024197   0.109725                      \n",
      "    8      0.013203   0.022267   0.102616                      \n",
      "    9      0.021961   0.028525   0.121652                      \n",
      "    10     0.016249   0.025987   0.112957                      \n",
      "    11     0.011976   0.023768   0.107888                      \n",
      "    12     0.021197   0.024235   0.113792                      \n",
      "    13     0.014445   0.021182   0.101512                      \n",
      "    14     0.01355    0.019731   0.097872                      \n",
      "    15     0.02084    0.025127   0.11107                       \n",
      "    16     0.014516   0.026548   0.118814                      \n",
      "    17     0.012382   0.024531   0.111315                      \n",
      "    18     0.021246   0.032627   0.133385                      \n",
      "    19     0.013379   0.021132   0.100617                      \n",
      "    20     0.011671   0.021375   0.100501                      \n",
      "    21     0.016549   0.021005   0.101031                      \n",
      "    22     0.013223   0.020852   0.100034                      \n",
      "    23     0.012773   0.021839   0.102221                      \n",
      "    24     0.015411   0.03112    0.125646                      \n",
      "    25     0.012165   0.021066   0.097874                      \n",
      "    26     0.01175    0.020576   0.098154                      \n",
      "    27     0.017406   0.024137   0.105853                      \n",
      "    28     0.01178    0.023483   0.102324                      \n",
      "    29     0.010467   0.021598   0.097193                      \n",
      "    30     0.014633   0.028581   0.11812                       \n",
      "    31     0.012753   0.022678   0.102438                      \n",
      "    32     0.010596   0.02211    0.101796                      \n",
      "    33     0.015457   0.025499   0.11201                       \n",
      "    34     0.011746   0.024549   0.105618                      \n",
      "    35     0.011957   0.022164   0.099637                      \n",
      "    36     0.012498   0.021309   0.096937                      \n",
      "    37     0.010795   0.023133   0.102073                      \n",
      "    38     0.009467   0.021703   0.098722                       \n",
      "    39     0.014815   0.022015   0.099564                      \n",
      "    40     0.012535   0.021036   0.09652                       \n",
      "    41     0.010343   0.020871   0.095882                      \n",
      "    42     0.012352   0.024653   0.105093                      \n",
      "    43     0.011863   0.021194   0.09733                       \n",
      "    44     0.011015   0.021016   0.096653                       \n",
      "\n"
     ]
    },
    {
     "data": {
      "text/plain": [
       "[array([0.02102]), 0.09665307911850174]"
      ]
     },
     "execution_count": 32,
     "metadata": {},
     "output_type": "execute_result"
    }
   ],
   "source": [
    "# dropout rate\n",
    "dr = 0.5\n",
    "\n",
    "learner_params = {\n",
    "    \"emb_szs\": emb_szs, # embedding sizes\n",
    "    \"n_cont\": len(df.columns) - len(cat_ftrs), # num continuous inputs\n",
    "    \"emb_drop\": dr/10, # embeddings dropout probability\n",
    "    \"out_sz\": 1, # output size\n",
    "    \"szs\": [1000, 500], # sizes of fully-connected layers\n",
    "    \"drops\": [dr, dr], # dropout probabilities after each FC layer\n",
    "    \"use_bn\": False # batch normalization\n",
    "}\n",
    "\n",
    "m = md.get_learner(**learner_params)\n",
    "\n",
    "m.load('finetuned-lins_1000_500-val0997')\n",
    "m.unfreeze()\n",
    "lr=1e-3\n",
    "lrs=[lr/100, lr/10, lr]\n",
    "m.fit(lrs, 15, cycle_len=3, metrics=[metrics.mean_absolute_error])"
   ]
  },
  {
   "cell_type": "code",
   "execution_count": 33,
   "metadata": {},
   "outputs": [
    {
     "data": {
      "application/vnd.jupyter.widget-view+json": {
       "model_id": "",
       "version_major": 2,
       "version_minor": 0
      },
      "text/plain": [
       "HBox(children=(IntProgress(value=0, description='Epoch', max=45), HTML(value='')))"
      ]
     },
     "metadata": {},
     "output_type": "display_data"
    },
    {
     "name": "stdout",
     "output_type": "stream",
     "text": [
      "epoch      trn_loss   val_loss   mean_absolute_error           \n",
      "    0      0.032958   0.033529   0.130991  \n",
      "    1      0.018812   0.022466   0.105196                      \n",
      "    2      0.016119   0.021669   0.101337                      \n",
      "    3      0.033177   0.026173   0.115906                      \n",
      "    4      0.017774   0.020677   0.101816                      \n",
      "    5      0.01612    0.020052   0.097713                      \n",
      "    6      0.030906   0.027743   0.117718                      \n",
      "    7      0.018036   0.020995   0.102689                      \n",
      "    8      0.013584   0.021195   0.101587                      \n",
      "    9      0.024104   0.021383   0.10303                       \n",
      "    10     0.016082   0.021152   0.101879                      \n",
      "    11     0.013376   0.020868   0.09922                       \n",
      "    12     0.022009   0.025428   0.110891                      \n",
      "    13     0.015192   0.018616   0.091793                      \n",
      "    14     0.012748   0.017278   0.087249                      \n",
      "    15     0.018693   0.023289   0.104797                      \n",
      "    16     0.017794   0.02084    0.098936                      \n",
      "    17     0.011984   0.020561   0.098775                      \n",
      "    18     0.018197   0.026906   0.122271                      \n",
      "    19     0.014812   0.020535   0.104678                      \n",
      "    20     0.012965   0.0199     0.099785                      \n",
      "    21     0.019181   0.02363    0.111351                      \n",
      "    22     0.014978   0.019464   0.097428                      \n",
      "    23     0.011317   0.020374   0.098735                      \n",
      "    24     0.017349   0.025712   0.114586                      \n",
      "    25     0.014359   0.02226    0.101273                      \n",
      "    26     0.010658   0.020162   0.094193                      \n",
      "    27     0.015991   0.018439   0.094287                      \n",
      "    28     0.01252    0.019451   0.092729                      \n",
      "    29     0.0117     0.018092   0.089431                      \n",
      "    30     0.013941   0.022253   0.101426                      \n",
      "    31     0.011712   0.019848   0.094973                      \n",
      "    32     0.011222   0.019569   0.094351                      \n",
      "    33     0.013964   0.023511   0.104583                      \n",
      "    34     0.014076   0.021661   0.098176                      \n",
      "    35     0.010052   0.021066   0.096407                      \n",
      "    36     0.015483   0.02049    0.097823                      \n",
      "    37     0.010243   0.021816   0.100747                      \n",
      "    38     0.011349   0.020799   0.09815                        \n",
      "    39     0.013664   0.019215   0.094524                      \n",
      "    40     0.011764   0.019709   0.0954                        \n",
      "    41     0.010238   0.019885   0.095115                      \n",
      "    42     0.012193   0.020123   0.093511                      \n",
      "    43     0.010748   0.018911   0.093662                      \n",
      "    44     0.010236   0.019877   0.094861                       \n",
      "\n"
     ]
    },
    {
     "data": {
      "text/plain": [
       "[array([0.01988]), 0.09486070770042443]"
      ]
     },
     "execution_count": 33,
     "metadata": {},
     "output_type": "execute_result"
    }
   ],
   "source": [
    "# dropout rate\n",
    "dr = 0.5\n",
    "\n",
    "learner_params = {\n",
    "    \"emb_szs\": emb_szs, # embedding sizes\n",
    "    \"n_cont\": len(df.columns) - len(cat_ftrs), # num continuous inputs\n",
    "    \"emb_drop\": dr/10, # embeddings dropout probability\n",
    "    \"out_sz\": 1, # output size\n",
    "    \"szs\": [1000, 500], # sizes of fully-connected layers\n",
    "    \"drops\": [dr, dr], # dropout probabilities after each FC layer\n",
    "    \"use_bn\": False # batch normalization\n",
    "}\n",
    "\n",
    "m = md.get_learner(**learner_params)\n",
    "\n",
    "m.load('finetuned-lins_1000_500-val0997')\n",
    "m.freeze_to(1)\n",
    "lr=1e-3\n",
    "lrs=[lr/100, lr/10, lr]\n",
    "m.fit(lrs, 15, cycle_len=3, metrics=[metrics.mean_absolute_error])"
   ]
  },
  {
   "cell_type": "code",
   "execution_count": 34,
   "metadata": {},
   "outputs": [
    {
     "data": {
      "application/vnd.jupyter.widget-view+json": {
       "model_id": "31c1e59fef7540cc8cbc8c8a4e4c192d",
       "version_major": 2,
       "version_minor": 0
      },
      "text/plain": [
       "HBox(children=(IntProgress(value=0, description='Epoch', max=45), HTML(value='')))"
      ]
     },
     "metadata": {},
     "output_type": "display_data"
    },
    {
     "name": "stdout",
     "output_type": "stream",
     "text": [
      "epoch      trn_loss   val_loss   mean_absolute_error           \n",
      "    0      0.02867    0.024406   0.111021  \n",
      "    1      0.016114   0.020839   0.101778                      \n",
      "    2      0.012061   0.023613   0.105959                      \n",
      "    3      0.020549   0.029224   0.127821                      \n",
      "    4      0.014493   0.027517   0.116803                      \n",
      "    5      0.011046   0.025022   0.111885                      \n",
      "    6      0.019      0.036922   0.144282                      \n",
      "    7      0.014902   0.020163   0.099693                      \n",
      "    8      0.010541   0.019205   0.096789                      \n",
      "    9      0.019159   0.028204   0.127503                      \n",
      "    10     0.011321   0.022274   0.10622                       \n",
      "    11     0.010648   0.022294   0.108085                       \n",
      "    12     0.015964   0.022443   0.110836                      \n",
      "    13     0.012426   0.018811   0.093661                      \n",
      "    14     0.008943   0.019221   0.094052                       \n",
      "    15     0.014516   0.023822   0.109492                      \n",
      "    16     0.009846   0.0209     0.103278                      \n",
      "    17     0.009096   0.021017   0.103661                       \n",
      "    18     0.012316   0.028891   0.129723                      \n",
      "    19     0.011136   0.022758   0.108655                       \n",
      "    20     0.009071   0.022106   0.108579                       \n",
      "    21     0.012303   0.02729    0.120638                      \n",
      "    22     0.009371   0.023785   0.112636                       \n",
      "    23     0.007764   0.021857   0.107906                       \n",
      "    24     0.010815   0.02529    0.1144                        \n",
      "    25     0.010128   0.020458   0.100317                       \n",
      "    26     0.00797    0.021475   0.102048                       \n",
      "    27     0.010601   0.023891   0.112194                       \n",
      "    28     0.009464   0.020437   0.102837                       \n",
      "    29     0.007695   0.020548   0.102135                       \n",
      "    30     0.009937   0.026171   0.118021                       \n",
      "    31     0.008532   0.02473    0.11445                        \n",
      "    32     0.0089     0.024654   0.113101                       \n",
      "    33     0.01017    0.020845   0.102916                       \n",
      "    34     0.008472   0.022647   0.108859                       \n",
      "    35     0.00796    0.022625   0.10832                        \n",
      "    36     0.010563   0.021698   0.105119                       \n",
      "    37     0.007545   0.02013    0.097551                       \n",
      "    38     0.007188   0.019351   0.096234                       \n",
      "    39     0.008294   0.021595   0.10421                        \n",
      "    40     0.007312   0.020916   0.103324                       \n",
      "    41     0.006642   0.019897   0.098692                       \n",
      "    42     0.009721   0.019891   0.098736                       \n",
      "    43     0.007738   0.018018   0.095323                       \n",
      "    44     0.007671   0.018809   0.096777                       \n",
      "\n"
     ]
    },
    {
     "data": {
      "text/plain": [
       "[array([0.01881]), 0.09677712354478685]"
      ]
     },
     "execution_count": 34,
     "metadata": {},
     "output_type": "execute_result"
    }
   ],
   "source": [
    "# dropout rate\n",
    "dr = 0.3\n",
    "\n",
    "learner_params = {\n",
    "    \"emb_szs\": emb_szs, # embedding sizes\n",
    "    \"n_cont\": len(df.columns) - len(cat_ftrs), # num continuous inputs\n",
    "    \"emb_drop\": dr/10, # embeddings dropout probability\n",
    "    \"out_sz\": 1, # output size\n",
    "    \"szs\": [1000, 500], # sizes of fully-connected layers\n",
    "    \"drops\": [dr, dr], # dropout probabilities after each FC layer\n",
    "    \"use_bn\": False # batch normalization\n",
    "}\n",
    "\n",
    "m = md.get_learner(**learner_params)\n",
    "\n",
    "m.load('finetuned-lins_1000_500-val0997')\n",
    "m.freeze_to(1)\n",
    "lr=1e-3\n",
    "lrs=[lr/100, lr/10, lr]\n",
    "m.fit(lrs, 15, cycle_len=3, metrics=[metrics.mean_absolute_error])"
   ]
  },
  {
   "cell_type": "code",
   "execution_count": 35,
   "metadata": {
    "scrolled": false
   },
   "outputs": [
    {
     "data": {
      "application/vnd.jupyter.widget-view+json": {
       "model_id": "463c0df438c845db9525c6fe76338caf",
       "version_major": 2,
       "version_minor": 0
      },
      "text/plain": [
       "HBox(children=(IntProgress(value=0, description='Epoch', max=45), HTML(value='')))"
      ]
     },
     "metadata": {},
     "output_type": "display_data"
    },
    {
     "name": "stdout",
     "output_type": "stream",
     "text": [
      "epoch      trn_loss   val_loss   mean_absolute_error            \n",
      "    0      0.008564   0.020098   0.100404  \n",
      "    1      0.007157   0.019982   0.099726                       \n",
      "    2      0.006635   0.019504   0.098065                       \n",
      "    3      0.008911   0.020026   0.101369                       \n",
      "    4      0.008677   0.019492   0.097606                       \n",
      "    5      0.007693   0.019616   0.097643                       \n",
      "    6      0.007901   0.024992   0.113276                       \n",
      "    7      0.007413   0.023595   0.108221                       \n",
      "    8      0.00709    0.022298   0.105144                       \n",
      "    9      0.008326   0.022349   0.105955                       \n",
      "    10     0.007184   0.020229   0.099998                       \n",
      "    11     0.006297   0.019991   0.099361                       \n",
      "    12     0.007112   0.020279   0.097539                       \n",
      "    13     0.007298   0.020999   0.100172                       \n",
      "    14     0.006559   0.020871   0.099599                       \n",
      "    15     0.007048   0.023391   0.10651                        \n",
      "    16     0.007111   0.020858   0.101769                       \n",
      "    17     0.005588   0.020793   0.102159                       \n",
      "    18     0.008608   0.022872   0.104474                       \n",
      "    19     0.006617   0.021029   0.100983                       \n",
      "    20     0.005996   0.02203    0.10362                        \n",
      "    21     0.006812   0.024601   0.110093                       \n",
      "    22     0.006223   0.019284   0.09881                        \n",
      "    23     0.00626    0.019762   0.09834                        \n",
      "    24     0.007124   0.020678   0.101092                       \n",
      "    25     0.006158   0.021036   0.10237                        \n",
      "    26     0.005369   0.02079    0.101955                       \n",
      "    27     0.007249   0.02119    0.103363                       \n",
      "    28     0.006657   0.020817   0.100653                       \n",
      "    29     0.005712   0.021097   0.101199                       \n",
      "    30     0.005962   0.024752   0.11165                        \n",
      "    31     0.00589    0.020556   0.09956                        \n",
      "    32     0.006151   0.020377   0.098564                       \n",
      "    33     0.006788   0.025787   0.114558                       \n",
      "    34     0.00541    0.020485   0.10023                        \n",
      "    35     0.006198   0.019661   0.09765                        \n",
      "    36     0.007307   0.018847   0.097844                       \n",
      "    37     0.005717   0.020559   0.101942                       \n",
      "    38     0.005972   0.020327   0.101281                       \n",
      "    39     0.006934   0.02217    0.106165                       \n",
      "    40     0.005795   0.019902   0.098025                       \n",
      "    41     0.006103   0.020766   0.100138                       \n",
      "    42     0.005998   0.020623   0.09601                        \n",
      "    43     0.00584    0.021719   0.100528                       \n",
      "    44     0.005118   0.021044   0.099337                       \n",
      "\n"
     ]
    },
    {
     "data": {
      "text/plain": [
       "[array([0.02104]), 0.09933671390432287]"
      ]
     },
     "execution_count": 35,
     "metadata": {},
     "output_type": "execute_result"
    }
   ],
   "source": [
    "m.unfreeze()\n",
    "lr=1e-3\n",
    "lrs=[lr/100, lr/10, lr]\n",
    "m.fit(lrs, 15, cycle_len=3, metrics=[metrics.mean_absolute_error])"
   ]
  },
  {
   "cell_type": "markdown",
   "metadata": {},
   "source": [
    "## Submission file"
   ]
  },
  {
   "cell_type": "code",
   "execution_count": 73,
   "metadata": {},
   "outputs": [],
   "source": [
    "# dropout rate\n",
    "dr = 0.3\n",
    "\n",
    "learner_params = {\n",
    "    \"emb_szs\": emb_szs, # embedding sizes\n",
    "    \"n_cont\": len(df.columns) - len(cat_ftrs), # num continuous inputs\n",
    "    \"emb_drop\": dr, # embeddings dropout probability\n",
    "    \"out_sz\": 1, # output size\n",
    "    \"szs\": [300, 100], # sizes of fully-connected layers\n",
    "    \"drops\": [dr, dr], # dropout probabilities after each FC layer\n",
    "    \"use_bn\": False # batch normalization\n",
    "}\n",
    "\n",
    "m = md.get_learner(**learner_params)\n",
    "\n",
    "m.load('finetuned-all-082')"
   ]
  },
  {
   "cell_type": "code",
   "execution_count": 84,
   "metadata": {
    "scrolled": false
   },
   "outputs": [
    {
     "name": "stderr",
     "output_type": "stream",
     "text": [
      "[autoreload of urllib3.packages.six failed: Traceback (most recent call last):\n",
      "  File \"/home/eraldo/miniconda2/envs/fastai/lib/python3.6/site-packages/IPython/extensions/autoreload.py\", line 245, in check\n",
      "    superreload(m, reload, self.old_objects)\n",
      "  File \"/home/eraldo/miniconda2/envs/fastai/lib/python3.6/site-packages/IPython/extensions/autoreload.py\", line 384, in superreload\n",
      "    update_generic(old_obj, new_obj)\n",
      "  File \"/home/eraldo/miniconda2/envs/fastai/lib/python3.6/site-packages/IPython/extensions/autoreload.py\", line 323, in update_generic\n",
      "    update(a, b)\n",
      "  File \"/home/eraldo/miniconda2/envs/fastai/lib/python3.6/site-packages/IPython/extensions/autoreload.py\", line 275, in update_class\n",
      "    old_obj = getattr(old, key)\n",
      "  File \"/home/eraldo/miniconda2/envs/fastai/lib/python3.6/site-packages/urllib3/packages/six.py\", line 93, in __get__\n",
      "    setattr(obj, self.name, result)  # Invokes __set__.\n",
      "AttributeError: 'NoneType' object has no attribute 'cStringIO'\n",
      "]\n",
      "[autoreload of urllib3.contrib.pyopenssl failed: Traceback (most recent call last):\n",
      "  File \"/home/eraldo/miniconda2/envs/fastai/lib/python3.6/site-packages/IPython/extensions/autoreload.py\", line 245, in check\n",
      "    superreload(m, reload, self.old_objects)\n",
      "  File \"/home/eraldo/miniconda2/envs/fastai/lib/python3.6/site-packages/IPython/extensions/autoreload.py\", line 368, in superreload\n",
      "    module = reload(module)\n",
      "  File \"/home/eraldo/miniconda2/envs/fastai/lib/python3.6/imp.py\", line 315, in reload\n",
      "    return importlib.reload(module)\n",
      "  File \"/home/eraldo/miniconda2/envs/fastai/lib/python3.6/importlib/__init__.py\", line 166, in reload\n",
      "    _bootstrap._exec(spec, module)\n",
      "  File \"<frozen importlib._bootstrap>\", line 618, in _exec\n",
      "  File \"<frozen importlib._bootstrap_external>\", line 678, in exec_module\n",
      "  File \"<frozen importlib._bootstrap>\", line 219, in _call_with_frames_removed\n",
      "  File \"/home/eraldo/miniconda2/envs/fastai/lib/python3.6/site-packages/urllib3/contrib/pyopenssl.py\", line 103, in <module>\n",
      "    orig_util_SSLContext = util.ssl_.SSLContext\n",
      "AttributeError: module 'urllib3.util' has no attribute 'ssl_'\n",
      "]\n",
      "[autoreload of urllib3.packages.six failed: Traceback (most recent call last):\n",
      "  File \"/home/eraldo/miniconda2/envs/fastai/lib/python3.6/site-packages/IPython/extensions/autoreload.py\", line 245, in check\n",
      "    superreload(m, reload, self.old_objects)\n",
      "  File \"/home/eraldo/miniconda2/envs/fastai/lib/python3.6/site-packages/IPython/extensions/autoreload.py\", line 384, in superreload\n",
      "    update_generic(old_obj, new_obj)\n",
      "  File \"/home/eraldo/miniconda2/envs/fastai/lib/python3.6/site-packages/IPython/extensions/autoreload.py\", line 323, in update_generic\n",
      "    update(a, b)\n",
      "  File \"/home/eraldo/miniconda2/envs/fastai/lib/python3.6/site-packages/IPython/extensions/autoreload.py\", line 275, in update_class\n",
      "    old_obj = getattr(old, key)\n",
      "  File \"/home/eraldo/miniconda2/envs/fastai/lib/python3.6/site-packages/urllib3/packages/six.py\", line 93, in __get__\n",
      "    setattr(obj, self.name, result)  # Invokes __set__.\n",
      "AttributeError: 'NoneType' object has no attribute 'cStringIO'\n",
      "]\n",
      "[autoreload of urllib3.contrib.pyopenssl failed: Traceback (most recent call last):\n",
      "  File \"/home/eraldo/miniconda2/envs/fastai/lib/python3.6/site-packages/IPython/extensions/autoreload.py\", line 245, in check\n",
      "    superreload(m, reload, self.old_objects)\n",
      "  File \"/home/eraldo/miniconda2/envs/fastai/lib/python3.6/site-packages/IPython/extensions/autoreload.py\", line 368, in superreload\n",
      "    module = reload(module)\n",
      "  File \"/home/eraldo/miniconda2/envs/fastai/lib/python3.6/imp.py\", line 315, in reload\n",
      "    return importlib.reload(module)\n",
      "  File \"/home/eraldo/miniconda2/envs/fastai/lib/python3.6/importlib/__init__.py\", line 166, in reload\n",
      "    _bootstrap._exec(spec, module)\n",
      "  File \"<frozen importlib._bootstrap>\", line 618, in _exec\n",
      "  File \"<frozen importlib._bootstrap_external>\", line 678, in exec_module\n",
      "  File \"<frozen importlib._bootstrap>\", line 219, in _call_with_frames_removed\n",
      "  File \"/home/eraldo/miniconda2/envs/fastai/lib/python3.6/site-packages/urllib3/contrib/pyopenssl.py\", line 103, in <module>\n",
      "    orig_util_SSLContext = util.ssl_.SSLContext\n",
      "AttributeError: module 'urllib3.util' has no attribute 'ssl_'\n",
      "]\n",
      "[autoreload of urllib3.packages.six failed: Traceback (most recent call last):\n",
      "  File \"/home/eraldo/miniconda2/envs/fastai/lib/python3.6/site-packages/IPython/extensions/autoreload.py\", line 245, in check\n",
      "    superreload(m, reload, self.old_objects)\n",
      "  File \"/home/eraldo/miniconda2/envs/fastai/lib/python3.6/site-packages/IPython/extensions/autoreload.py\", line 384, in superreload\n",
      "    update_generic(old_obj, new_obj)\n",
      "  File \"/home/eraldo/miniconda2/envs/fastai/lib/python3.6/site-packages/IPython/extensions/autoreload.py\", line 323, in update_generic\n",
      "    update(a, b)\n",
      "  File \"/home/eraldo/miniconda2/envs/fastai/lib/python3.6/site-packages/IPython/extensions/autoreload.py\", line 275, in update_class\n",
      "    old_obj = getattr(old, key)\n",
      "  File \"/home/eraldo/miniconda2/envs/fastai/lib/python3.6/site-packages/urllib3/packages/six.py\", line 93, in __get__\n",
      "    setattr(obj, self.name, result)  # Invokes __set__.\n",
      "AttributeError: 'NoneType' object has no attribute 'cStringIO'\n",
      "]\n",
      "[autoreload of urllib3.contrib.pyopenssl failed: Traceback (most recent call last):\n",
      "  File \"/home/eraldo/miniconda2/envs/fastai/lib/python3.6/site-packages/IPython/extensions/autoreload.py\", line 245, in check\n",
      "    superreload(m, reload, self.old_objects)\n",
      "  File \"/home/eraldo/miniconda2/envs/fastai/lib/python3.6/site-packages/IPython/extensions/autoreload.py\", line 368, in superreload\n",
      "    module = reload(module)\n",
      "  File \"/home/eraldo/miniconda2/envs/fastai/lib/python3.6/imp.py\", line 315, in reload\n",
      "    return importlib.reload(module)\n",
      "  File \"/home/eraldo/miniconda2/envs/fastai/lib/python3.6/importlib/__init__.py\", line 166, in reload\n",
      "    _bootstrap._exec(spec, module)\n",
      "  File \"<frozen importlib._bootstrap>\", line 618, in _exec\n",
      "  File \"<frozen importlib._bootstrap_external>\", line 678, in exec_module\n",
      "  File \"<frozen importlib._bootstrap>\", line 219, in _call_with_frames_removed\n",
      "  File \"/home/eraldo/miniconda2/envs/fastai/lib/python3.6/site-packages/urllib3/contrib/pyopenssl.py\", line 103, in <module>\n",
      "    orig_util_SSLContext = util.ssl_.SSLContext\n",
      "AttributeError: module 'urllib3.util' has no attribute 'ssl_'\n",
      "]\n"
     ]
    },
    {
     "ename": "AttributeError",
     "evalue": "'DataFrame' object has no attribute 'Id'",
     "output_type": "error",
     "traceback": [
      "\u001b[0;31m---------------------------------------------------------------------------\u001b[0m",
      "\u001b[0;31mAttributeError\u001b[0m                            Traceback (most recent call last)",
      "\u001b[0;32m<ipython-input-84-b57821cecc7b>\u001b[0m in \u001b[0;36m<module>\u001b[0;34m()\u001b[0m\n\u001b[1;32m     14\u001b[0m \u001b[0;32mwith\u001b[0m \u001b[0mopen\u001b[0m\u001b[0;34m(\u001b[0m\u001b[0msubmission_file\u001b[0m\u001b[0;34m,\u001b[0m \u001b[0;34m'w'\u001b[0m\u001b[0;34m)\u001b[0m \u001b[0;32mas\u001b[0m \u001b[0mf\u001b[0m\u001b[0;34m:\u001b[0m\u001b[0;34m\u001b[0m\u001b[0m\n\u001b[1;32m     15\u001b[0m     \u001b[0mf\u001b[0m\u001b[0;34m.\u001b[0m\u001b[0mwrite\u001b[0m\u001b[0;34m(\u001b[0m\u001b[0;34m\"Id,production\\n\"\u001b[0m\u001b[0;34m)\u001b[0m\u001b[0;34m\u001b[0m\u001b[0m\n\u001b[0;32m---> 16\u001b[0;31m     \u001b[0;32mfor\u001b[0m \u001b[0m_id\u001b[0m\u001b[0;34m,\u001b[0m \u001b[0m_pred\u001b[0m \u001b[0;32min\u001b[0m \u001b[0mzip\u001b[0m\u001b[0;34m(\u001b[0m\u001b[0mdf_test_id\u001b[0m\u001b[0;34m.\u001b[0m\u001b[0mId\u001b[0m\u001b[0;34m.\u001b[0m\u001b[0mvalues\u001b[0m\u001b[0;34m,\u001b[0m \u001b[0mpred\u001b[0m\u001b[0;34m)\u001b[0m\u001b[0;34m:\u001b[0m\u001b[0;34m\u001b[0m\u001b[0m\n\u001b[0m\u001b[1;32m     17\u001b[0m         \u001b[0mf\u001b[0m\u001b[0;34m.\u001b[0m\u001b[0mwrite\u001b[0m\u001b[0;34m(\u001b[0m\u001b[0;34m\"{},{}\\n\"\u001b[0m\u001b[0;34m.\u001b[0m\u001b[0mformat\u001b[0m\u001b[0;34m(\u001b[0m\u001b[0m_id\u001b[0m\u001b[0;34m,\u001b[0m \u001b[0m_pred\u001b[0m\u001b[0;34m)\u001b[0m\u001b[0;34m)\u001b[0m\u001b[0;34m\u001b[0m\u001b[0m\n\u001b[1;32m     18\u001b[0m \u001b[0;34m\u001b[0m\u001b[0m\n",
      "\u001b[0;32m~/miniconda2/envs/fastai/lib/python3.6/site-packages/pandas/core/generic.py\u001b[0m in \u001b[0;36m__getattr__\u001b[0;34m(self, name)\u001b[0m\n\u001b[1;32m   4374\u001b[0m             \u001b[0;32mif\u001b[0m \u001b[0mself\u001b[0m\u001b[0;34m.\u001b[0m\u001b[0m_info_axis\u001b[0m\u001b[0;34m.\u001b[0m\u001b[0m_can_hold_identifiers_and_holds_name\u001b[0m\u001b[0;34m(\u001b[0m\u001b[0mname\u001b[0m\u001b[0;34m)\u001b[0m\u001b[0;34m:\u001b[0m\u001b[0;34m\u001b[0m\u001b[0m\n\u001b[1;32m   4375\u001b[0m                 \u001b[0;32mreturn\u001b[0m \u001b[0mself\u001b[0m\u001b[0;34m[\u001b[0m\u001b[0mname\u001b[0m\u001b[0;34m]\u001b[0m\u001b[0;34m\u001b[0m\u001b[0m\n\u001b[0;32m-> 4376\u001b[0;31m             \u001b[0;32mreturn\u001b[0m \u001b[0mobject\u001b[0m\u001b[0;34m.\u001b[0m\u001b[0m__getattribute__\u001b[0m\u001b[0;34m(\u001b[0m\u001b[0mself\u001b[0m\u001b[0;34m,\u001b[0m \u001b[0mname\u001b[0m\u001b[0;34m)\u001b[0m\u001b[0;34m\u001b[0m\u001b[0m\n\u001b[0m\u001b[1;32m   4377\u001b[0m \u001b[0;34m\u001b[0m\u001b[0m\n\u001b[1;32m   4378\u001b[0m     \u001b[0;32mdef\u001b[0m \u001b[0m__setattr__\u001b[0m\u001b[0;34m(\u001b[0m\u001b[0mself\u001b[0m\u001b[0;34m,\u001b[0m \u001b[0mname\u001b[0m\u001b[0;34m,\u001b[0m \u001b[0mvalue\u001b[0m\u001b[0;34m)\u001b[0m\u001b[0;34m:\u001b[0m\u001b[0;34m\u001b[0m\u001b[0m\n",
      "\u001b[0;31mAttributeError\u001b[0m: 'DataFrame' object has no attribute 'Id'"
     ]
    }
   ],
   "source": [
    "from datetime import datetime\n",
    "\n",
    "# Make prediction.\n",
    "pred = m.predict(is_test=True).squeeze()\n",
    "\n",
    "now = datetime.now().strftime('%Y-%m-%d-%H-%M-%S-%f')\n",
    "\n",
    "df_test_id = df_test # pd.read_csv(os.path.join(path, 'test.csv'))\n",
    "\n",
    "submission_file  = '../submissions/{}.submission.csv'.format(now)\n",
    "model_file       = '../submissions/{}.model'.format(now)\n",
    "\n",
    "# Create a submission file.\n",
    "with open(submission_file, 'w') as f:\n",
    "    f.write(\"Id,production\\n\")\n",
    "    for _id, _pred in zip(df_test_id.Id.values, pred):\n",
    "        f.write(\"{},{}\\n\".format(_id, min(1.0, max(0.0, _pred))))\n",
    "\n",
    "# Save model.\n",
    "save_model(m.model, model_file)"
   ]
  },
  {
   "cell_type": "code",
   "execution_count": 82,
   "metadata": {},
   "outputs": [
    {
     "data": {
      "text/plain": [
       "array([0.08109, 0.24406, 0.08957, ..., 0.06683, 0.24095, 0.26506], dtype=float32)"
      ]
     },
     "execution_count": 82,
     "metadata": {},
     "output_type": "execute_result"
    }
   ],
   "source": [
    "pred = m.predict(is_test=True)\n",
    "pred.squeeze()"
   ]
  }
 ],
 "metadata": {
  "kernelspec": {
   "display_name": "Python 3",
   "language": "python",
   "name": "python3"
  },
  "language_info": {
   "codemirror_mode": {
    "name": "ipython",
    "version": 3
   },
   "file_extension": ".py",
   "mimetype": "text/x-python",
   "name": "python",
   "nbconvert_exporter": "python",
   "pygments_lexer": "ipython3",
   "version": "3.6.6"
  }
 },
 "nbformat": 4,
 "nbformat_minor": 1
}
