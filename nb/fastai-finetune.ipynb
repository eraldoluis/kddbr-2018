{
 "cells": [
  {
   "cell_type": "markdown",
   "metadata": {
    "_uuid": "4646fdea09654229ea606aa4faffad9cb819398b"
   },
   "source": [
    "# DL Modeling\n",
    "- Ignoring data before 2006.\n",
    "- Using only type=5 examples.\n",
    "- No feature selection.\n",
    "- Param tuning.\n",
    "- Added back removed features ['Soilwater_L2', 'Soilwater_L3', 'Soilwater_L4'].\n",
    "- Removed soil_data features.\n",
    "- Shift features for 6 months before.\n",
    "- Use fastai cathegorical feature functionalities."
   ]
  },
  {
   "cell_type": "code",
   "execution_count": null,
   "metadata": {},
   "outputs": [],
   "source": [
    "%matplotlib inline\n",
    "%reload_ext autoreload\n",
    "%autoreload 2"
   ]
  },
  {
   "cell_type": "code",
   "execution_count": null,
   "metadata": {
    "_uuid": "35b9298747ec076ac8a9afb81192039880e46f2c"
   },
   "outputs": [],
   "source": [
    "import pandas as pd\n",
    "import numpy as np\n",
    "import os \n",
    "\n",
    "from datetime import datetime\n",
    "import matplotlib.pyplot as plt\n",
    "import seaborn as sns\n",
    "\n",
    "from kdd_utils import addFieldDataFtrs, addSoilFtrs, cvPerYear\n",
    "\n",
    "sns.set(style=\"whitegrid\")"
   ]
  },
  {
   "cell_type": "code",
   "execution_count": null,
   "metadata": {},
   "outputs": [],
   "source": [
    "from fastai.structured import *\n",
    "from fastai.column_data import *"
   ]
  },
  {
   "cell_type": "markdown",
   "metadata": {
    "_uuid": "5e5a56ed28ca3f0433752b640126d39410d590e7"
   },
   "source": [
    "## Train and test datasets\n",
    "\n",
    "Basic data containing palm tree information"
   ]
  },
  {
   "cell_type": "code",
   "execution_count": null,
   "metadata": {
    "_uuid": "d26413ead269ebe206f0ac43cda68634d9611199",
    "scrolled": true
   },
   "outputs": [],
   "source": [
    "path = '../input/'\n",
    "\n",
    "# Train data.\n",
    "df_train = pd.read_csv(os.path.join(path, 'train.csv'))\n",
    "\n",
    "# Ignoring date before 2006 for training.\n",
    "# df_train = df_train[df_train.harvest_year >= 2006]\n",
    "\n",
    "# Using only examples with type=5 for training.\n",
    "# df_train = df_train[df_train.type == 5]\n",
    "\n",
    "# Test data.\n",
    "df_test  = pd.read_csv(os.path.join(path, 'test.csv'))\n",
    "\n",
    "# Merge train and test data for ease of pre-processing.\n",
    "df_all = pd.concat([df_train, df_test], sort=False).reindex()\n",
    "\n",
    "# Configure number of jobs.\n",
    "N_JOBS=7\n",
    "\n",
    "print('Shapes\\n---\\nTrain: {}\\n Test: {}\\n  All: {}'.format(df_train.shape, df_test.shape, df_all.shape))"
   ]
  },
  {
   "cell_type": "markdown",
   "metadata": {
    "_uuid": "8163b4159ec67907aa1518f341edf613f4bc7266"
   },
   "source": [
    "## Field and Soil Features\n",
    "\n",
    "These files hold atmospheric data from January 2002 to December 2017, and can be used to estimate the weather conditions during the development of the plant. Notice that weather does influence the production. Using only a single month prior to harvest is probably too little data. Participants should decide how far back in the past they want to look when training models.\n",
    "\n"
   ]
  },
  {
   "cell_type": "code",
   "execution_count": null,
   "metadata": {
    "_uuid": "c9596d68c59820e59de0b7861c9234712185fdab",
    "scrolled": true
   },
   "outputs": [],
   "source": [
    "df_all_ftrs = addFieldDataFtrs(df_all, shiftPeriod=12, shiftFtrs=['temperature', 'dewpoint', 'windspeed', \n",
    "                                                                 'Precipitation', 'Soilwater_L1', \n",
    "                                                                 'Soilwater_L2', 'Soilwater_L3', \n",
    "                                                                 'Soilwater_L4'])\n",
    "#df_all_ftrs = addSoilFtrs(df_all_ftrs)\n",
    "print(list(df_all_ftrs.columns))"
   ]
  },
  {
   "cell_type": "code",
   "execution_count": null,
   "metadata": {
    "scrolled": true
   },
   "outputs": [],
   "source": [
    "df_all_ftrs.head()"
   ]
  },
  {
   "cell_type": "code",
   "execution_count": null,
   "metadata": {},
   "outputs": [],
   "source": [
    "# Categorical features.\n",
    "cat_ftrs = ['field', 'age', 'type', 'harvest_month']\n",
    "# Continuous features.\n",
    "contin_ftrs = [f for f in df_all_ftrs.columns if f not in (['production', 'Id', 'index'] + cat_ftrs)]\n",
    "print(contin_ftrs)"
   ]
  },
  {
   "cell_type": "code",
   "execution_count": null,
   "metadata": {},
   "outputs": [],
   "source": [
    "# Remove unused features.\n",
    "df_all_ftrs = df_all_ftrs[cat_ftrs + contin_ftrs + ['production']]\n",
    "df_all_ftrs.head(2)"
   ]
  },
  {
   "cell_type": "code",
   "execution_count": null,
   "metadata": {},
   "outputs": [],
   "source": [
    "# Inform pandas which features are categorical ...\n",
    "for v in cat_ftrs:\n",
    "    df_all_ftrs[v] = df_all_ftrs[v].astype('category').cat.as_ordered()\n",
    "# ... and which are continuous.\n",
    "for v in contin_ftrs:\n",
    "    df_all_ftrs[v] = df_all_ftrs[v].astype('float32')\n",
    "\n",
    "df_all_ftrs.head(2)"
   ]
  },
  {
   "cell_type": "code",
   "execution_count": null,
   "metadata": {},
   "outputs": [],
   "source": [
    "# Get train data only.\n",
    "df_all_ftrs = df_all_ftrs[~df_all_ftrs.production.isna()]"
   ]
  },
  {
   "cell_type": "code",
   "execution_count": null,
   "metadata": {
    "scrolled": false
   },
   "outputs": [],
   "source": [
    "val_year = 2010\n",
    "\n",
    "# Ignore training examples with type != 5\n",
    "# df_all_ftrs = df_all_ftrs[(df_all_ftrs.type == 5) | (df_all_ftrs.harvest_year >= val_year)]\n",
    "\n",
    "val_idx = np.flatnonzero(df_all_ftrs.harvest_year >= val_year)\n",
    "print(len(val_idx))\n",
    "print(len(df_all_ftrs))"
   ]
  },
  {
   "cell_type": "code",
   "execution_count": null,
   "metadata": {},
   "outputs": [],
   "source": [
    "df, y, nas, mapper = proc_df(df_all_ftrs, y_fld='production', do_scale=True)\n",
    "df.head(2)"
   ]
  },
  {
   "cell_type": "code",
   "execution_count": null,
   "metadata": {
    "scrolled": false
   },
   "outputs": [],
   "source": [
    "cat_sz = [(c, len(df_all_ftrs[c].cat.categories)+1) for c in cat_ftrs]\n",
    "print(cat_sz)\n",
    "emb_szs = [(c, min(50, (c+1)//2)) for _,c in cat_sz]\n",
    "print(emb_szs)"
   ]
  },
  {
   "cell_type": "code",
   "execution_count": null,
   "metadata": {},
   "outputs": [],
   "source": [
    "md = ColumnarModelData.from_data_frame(path, # path for data saving\n",
    "                                       val_idx, # indexes of validation examples\n",
    "                                       df, # training data\n",
    "                                       y.astype(np.float32), # output variable\n",
    "                                       cat_flds=cat_ftrs, # categorical features\n",
    "                                       bs=16) # batch size"
   ]
  },
  {
   "cell_type": "code",
   "execution_count": null,
   "metadata": {},
   "outputs": [],
   "source": [
    "# dropout rate\n",
    "dr = 0.3\n",
    "\n",
    "learner_params = {\n",
    "    \"emb_szs\": emb_szs, # embedding sizes\n",
    "    \"n_cont\": len(df.columns) - len(cat_ftrs), # num continuous inputs\n",
    "    \"emb_drop\": 0.00, # embeddings dropout probability\n",
    "    \"out_sz\": 1, # output size\n",
    "    \"szs\": [100, 100], # sizes of fully-connected layers\n",
    "    \"drops\": [dr, dr], # dropout probabilities after each FC layer\n",
    "    \"use_bn\": False # batch normalization\n",
    "}"
   ]
  },
  {
   "cell_type": "code",
   "execution_count": 1,
   "metadata": {},
   "outputs": [
    {
     "ename": "NameError",
     "evalue": "name 'md' is not defined",
     "output_type": "error",
     "traceback": [
      "\u001b[0;31m---------------------------------------------------------------------------\u001b[0m",
      "\u001b[0;31mNameError\u001b[0m                                 Traceback (most recent call last)",
      "\u001b[0;32m<ipython-input-1-9080e54349af>\u001b[0m in \u001b[0;36m<module>\u001b[0;34m()\u001b[0m\n\u001b[0;32m----> 1\u001b[0;31m \u001b[0mm\u001b[0m \u001b[0;34m=\u001b[0m \u001b[0mmd\u001b[0m\u001b[0;34m.\u001b[0m\u001b[0mget_learner\u001b[0m\u001b[0;34m(\u001b[0m\u001b[0;34m**\u001b[0m\u001b[0mlearner_params\u001b[0m\u001b[0;34m)\u001b[0m\u001b[0;34m\u001b[0m\u001b[0m\n\u001b[0m",
      "\u001b[0;31mNameError\u001b[0m: name 'md' is not defined"
     ]
    }
   ],
   "source": [
    "m = md.get_learner(**learner_params)"
   ]
  },
  {
   "cell_type": "code",
   "execution_count": 21,
   "metadata": {},
   "outputs": [],
   "source": [
    "def load_model_not_strict(m, p):\n",
    "    sd = torch.load(p, map_location=lambda storage, loc: storage)\n",
    "    names = set(m.state_dict().keys())\n",
    "    for n in list(sd.keys()): # list \"detatches\" the iterator\n",
    "        if n not in names and n+'_raw' in names:\n",
    "            if n+'_raw' not in sd: sd[n+'_raw'] = sd[n]\n",
    "            del sd[n]\n",
    "    m.load_state_dict(sd, strict=False)\n",
    "\n",
    "load_model_not_strict(m.model, m.get_model_path('test'))"
   ]
  },
  {
   "cell_type": "code",
   "execution_count": 18,
   "metadata": {},
   "outputs": [],
   "source": [
    "m.freeze_to(-1)"
   ]
  },
  {
   "cell_type": "code",
   "execution_count": 19,
   "metadata": {},
   "outputs": [
    {
     "data": {
      "application/vnd.jupyter.widget-view+json": {
       "model_id": "ad5b8ef3c40641e09240831cf02a6eaf",
       "version_major": 2,
       "version_minor": 0
      },
      "text/plain": [
       "HBox(children=(IntProgress(value=0, description='Epoch', max=1), HTML(value='')))"
      ]
     },
     "metadata": {},
     "output_type": "display_data"
    },
    {
     "name": "stdout",
     "output_type": "stream",
     "text": [
      " 73%|███████▎  | 175/241 [00:01<00:00, 166.23it/s, loss=3.09]\n",
      "                                                             \r"
     ]
    },
    {
     "data": {
      "image/png": "[encoded data removed]",
      "text/plain": [
       "<Figure size 432x288 with 1 Axes>"
      ]
     },
     "metadata": {},
     "output_type": "display_data"
    }
   ],
   "source": [
    "m.lr_find()\n",
    "m.sched.plot()"
   ]
  },
  {
   "cell_type": "code",
   "execution_count": 22,
   "metadata": {},
   "outputs": [
    {
     "data": {
      "application/vnd.jupyter.widget-view+json": {
       "model_id": "218ab549921340939dc15d8efdaa0393",
       "version_major": 2,
       "version_minor": 0
      },
      "text/plain": [
       "HBox(children=(IntProgress(value=0, description='Epoch', max=30), HTML(value='')))"
      ]
     },
     "metadata": {},
     "output_type": "display_data"
    },
    {
     "name": "stdout",
     "output_type": "stream",
     "text": [
      "epoch      trn_loss   val_loss   mean_absolute_error         \n",
      "    0      1.93272    0.319933   0.449537  \n",
      "    1      1.285497   0.268722   0.411398                    \n",
      "    2      0.521284   0.175805   0.335578                     \n",
      "    3      0.356822   0.142494   0.303298                     \n",
      "    4      0.211865   0.092935   0.241882                     \n",
      "    5      0.181829   0.085164   0.231218                     \n",
      "    6      0.107697   0.060041   0.192973                     \n",
      "    7      0.084847   0.055395   0.184673                      \n",
      "    8      0.058181   0.041755   0.157078                      \n",
      "    9      0.047102   0.039632   0.152107                      \n",
      "    10     0.035696   0.033489   0.137069                      \n",
      "    11     0.035374   0.032067   0.133875                      \n",
      "    12     0.026399   0.028661   0.122225                      \n",
      "    13     0.023655   0.028153   0.12062                       \n",
      "    14     0.020934   0.025714   0.112589                      \n",
      "    15     0.018513   0.025054   0.11102                       \n",
      "    16     0.017932   0.023487   0.105977                      \n",
      "    17     0.018136   0.022989   0.104601                      \n",
      "    18     0.015514   0.022993   0.103466                      \n",
      "    19     0.015939   0.021281   0.099407                      \n",
      "    20     0.012958   0.021536   0.100337                      \n",
      "    21     0.015077   0.021192   0.099279                      \n",
      "    22     0.014661   0.019568   0.095408                      \n",
      "    23     0.012723   0.019469   0.094018                      \n",
      "    24     0.014848   0.020392   0.094279                      \n",
      "    25     0.01356    0.019417   0.093142                      \n",
      "    26     0.014892   0.020038   0.09616                       \n",
      "    27     0.013493   0.019414   0.09333                       \n",
      "    28     0.012823   0.019797   0.095357                      \n",
      "    29     0.013238   0.019141   0.092744                      \n",
      "\n"
     ]
    },
    {
     "data": {
      "text/plain": [
       "[array([0.01914]), 0.09274386283662908]"
      ]
     },
     "execution_count": 22,
     "metadata": {},
     "output_type": "execute_result"
    }
   ],
   "source": [
    "lr = 1e-3\n",
    "m.fit(lr, 15, cycle_len=2, metrics=[metrics.mean_absolute_error])"
   ]
  },
  {
   "cell_type": "code",
   "execution_count": 23,
   "metadata": {},
   "outputs": [
    {
     "data": {
      "application/vnd.jupyter.widget-view+json": {
       "model_id": "9a14f655d8254908bd987a759e918427",
       "version_major": 2,
       "version_minor": 0
      },
      "text/plain": [
       "HBox(children=(IntProgress(value=0, description='Epoch', max=30), HTML(value='')))"
      ]
     },
     "metadata": {},
     "output_type": "display_data"
    },
    {
     "name": "stdout",
     "output_type": "stream",
     "text": [
      "epoch      trn_loss   val_loss   mean_absolute_error           \n",
      "    0      0.012627   0.018727   0.090602  \n",
      "    1      0.01077    0.019088   0.091255                      \n",
      "    2      0.011164   0.018364   0.090774                      \n",
      "    3      0.012123   0.018252   0.089563                       \n",
      "    4      0.010472   0.019622   0.092835                      \n",
      "    5      0.010666   0.018232   0.090196                       \n",
      "    6      0.010959   0.019455   0.092441                       \n",
      "    7      0.010249   0.01829    0.089734                       \n",
      "    8      0.008763   0.018743   0.089778                       \n",
      "    9      0.008302   0.018507   0.089776                       \n",
      "    10     0.010419   0.018922   0.089904                       \n",
      "    11     0.00912    0.019567   0.092727                       \n",
      "    12     0.008328   0.0216     0.096883                       \n",
      "    13     0.008607   0.019532   0.093227                       \n",
      "    14     0.00929    0.019912   0.094266                       \n",
      "    15     0.008216   0.019636   0.093681                       \n",
      "    16     0.008387   0.01967    0.092615                       \n",
      "    17     0.007156   0.019629   0.092516                       \n",
      "    18     0.009046   0.019693   0.093457                       \n",
      "    19     0.007858   0.01999    0.093658                       \n",
      "    20     0.007474   0.019602   0.093248                       \n",
      "    21     0.007948   0.019768   0.09341                        \n",
      "    22     0.008168   0.021578   0.096501                       \n",
      "    23     0.006722   0.019981   0.093738                       \n",
      "    24     0.007593   0.021191   0.097153                       \n",
      "    25     0.008307   0.020192   0.094724                       \n",
      "    26     0.00798    0.020772   0.096031                       \n",
      "    27     0.006832   0.020762   0.0965                         \n",
      "    28     0.007886   0.021462   0.098863                       \n",
      "    29     0.006757   0.021206   0.097907                       \n",
      "\n"
     ]
    },
    {
     "data": {
      "text/plain": [
       "[array([0.02121]), 0.09790715271178646]"
      ]
     },
     "execution_count": 23,
     "metadata": {},
     "output_type": "execute_result"
    }
   ],
   "source": [
    "lr = 1e-3\n",
    "m.fit(lr, 15, cycle_len=2, metrics=[metrics.mean_absolute_error])"
   ]
  },
  {
   "cell_type": "code",
   "execution_count": 24,
   "metadata": {},
   "outputs": [
    {
     "data": {
      "application/vnd.jupyter.widget-view+json": {
       "model_id": "113d29313b87436381cbdbeb92a100e4",
       "version_major": 2,
       "version_minor": 0
      },
      "text/plain": [
       "HBox(children=(IntProgress(value=0, description='Epoch', max=30), HTML(value='')))"
      ]
     },
     "metadata": {},
     "output_type": "display_data"
    },
    {
     "name": "stdout",
     "output_type": "stream",
     "text": [
      "epoch      trn_loss   val_loss   mean_absolute_error            \n",
      "    0      0.006605   0.020258   0.094932  \n",
      "    1      0.006542   0.020444   0.095186                       \n",
      "    2      0.00743    0.020788   0.097337                       \n",
      "    3      0.006407   0.021257   0.097852                       \n",
      "    4      0.007936   0.021415   0.097857                       \n",
      "    5      0.006866   0.021884   0.098371                       \n",
      "    6      0.006866   0.021494   0.098585                       \n",
      "    7      0.006071   0.021486   0.098603                       \n",
      "    8      0.007069   0.02239    0.1                            \n",
      "    9      0.005963   0.021289   0.098065                       \n",
      "    10     0.006303   0.020949   0.096398                       \n",
      "    11     0.006265   0.021396   0.097433                       \n",
      "    12     0.007246   0.021724   0.098375                       \n",
      "    13     0.004999   0.021551   0.098099                       \n",
      "    14     0.005961   0.022007   0.098691                       \n",
      "    15     0.005698   0.021917   0.099054                       \n",
      "    16     0.006958   0.021618   0.098367                       \n",
      "    17     0.005885   0.021788   0.099378                       \n",
      "    18     0.006201   0.022607   0.100083                       \n",
      "    19     0.006133   0.022484   0.099943                       \n",
      "    20     0.005776   0.022417   0.099633                       \n",
      "    21     0.005275   0.022309   0.099552                       \n",
      "    22     0.006168   0.021883   0.098915                       \n",
      "    23     0.006725   0.021409   0.098555                       \n",
      "    24     0.006048   0.022623   0.09947                        \n",
      "    25     0.00531    0.021778   0.09847                        \n",
      "    26     0.005982   0.021889   0.099077                       \n",
      "    27     0.005615   0.022296   0.099607                       \n",
      "    28     0.007353   0.022299   0.098944                       \n",
      "    29     0.005792   0.022428   0.099863                       \n",
      "\n"
     ]
    },
    {
     "data": {
      "text/plain": [
       "[array([0.02243]), 0.09986286789780481]"
      ]
     },
     "execution_count": 24,
     "metadata": {},
     "output_type": "execute_result"
    }
   ],
   "source": [
    "lr = 1e-3\n",
    "m.unfreeze()\n",
    "m.fit(lr, 15, cycle_len=2, metrics=[metrics.mean_absolute_error])"
   ]
  }
 ],
 "metadata": {
  "kernelspec": {
   "display_name": "Python 3",
   "language": "python",
   "name": "python3"
  },
  "language_info": {
   "codemirror_mode": {
    "name": "ipython",
    "version": 3
   },
   "file_extension": ".py",
   "mimetype": "text/x-python",
   "name": "python",
   "nbconvert_exporter": "python",
   "pygments_lexer": "ipython3",
   "version": "3.6.6"
  }
 },
 "nbformat": 4,
 "nbformat_minor": 1
}
