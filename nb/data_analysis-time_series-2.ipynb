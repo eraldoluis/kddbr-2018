{
 "cells": [
  {
   "cell_type": "markdown",
   "metadata": {
    "_uuid": "4646fdea09654229ea606aa4faffad9cb819398b"
   },
   "source": [
    "# Data Analisys\n",
    "\n",
    "We will visualize the variables and datasets present in the competition to understand some existing patterns."
   ]
  },
  {
   "cell_type": "code",
   "execution_count": 172,
   "metadata": {
    "_uuid": "35b9298747ec076ac8a9afb81192039880e46f2c"
   },
   "outputs": [],
   "source": [
    "import pandas as pd\n",
    "import numpy as np\n",
    "import os \n",
    "\n",
    "#import plotly.plotly as py\n",
    "#import plotly.graph_objs as go\n",
    "\n",
    "from datetime import datetime\n",
    "import matplotlib.pyplot as plt\n",
    "import seaborn as sns\n",
    "sns.set(style=\"whitegrid\")\n",
    "\n",
    "import warnings\n",
    "warnings.filterwarnings('ignore')"
   ]
  },
  {
   "cell_type": "code",
   "execution_count": 173,
   "metadata": {
    "_uuid": "6c1d4bedcddcc641c20b380c911edb294ec4d8e5"
   },
   "outputs": [
    {
     "name": "stdout",
     "output_type": "stream",
     "text": [
      "['field-8.csv', 'field-2.csv', 'field-18.csv', 'field-24.csv', 'models', 'field-11.csv', 'field-25.csv', 'field-13.csv', 'field-22.csv', 'field-0.csv', 'field-20.csv', 'field-10.csv', 'field-27.csv', 'train.csv', 'all_clean.csv', 'field-14.csv', 'field-1.csv', 'field-12.csv', 'tmp', 'field-7.csv', 'field-17.csv', 'sample-submission.csv', 'field-23.csv', 'field-4.csv', 'field-19.csv', 'field-21.csv', 'field-3.csv', 'field-15.csv', 'soil_data.csv', 'field-16.csv', 'test.csv', 'field-9.csv', 'field-5.csv', 'field-26.csv', 'field-6.csv']\n"
     ]
    }
   ],
   "source": [
    "# Private DataSet path: ../input/kddbr2018dataset/kddbr-2018-dataset/dataset. This dataset is the same of competitions\n",
    "#\n",
    "path = '../input/'\n",
    "print(os.listdir(path))"
   ]
  },
  {
   "cell_type": "markdown",
   "metadata": {
    "_uuid": "5e5a56ed28ca3f0433752b640126d39410d590e7"
   },
   "source": [
    "## Train and test datasets\n",
    "\n",
    "Basic data containing palm tree information"
   ]
  },
  {
   "cell_type": "code",
   "execution_count": 174,
   "metadata": {
    "_uuid": "d26413ead269ebe206f0ac43cda68634d9611199"
   },
   "outputs": [
    {
     "name": "stdout",
     "output_type": "stream",
     "text": [
      "(5243, 7) (4110, 6) (9353, 7)\n"
     ]
    }
   ],
   "source": [
    "df_train = pd.read_csv(os.path.join(path, 'train.csv'))\n",
    "\n",
    "# Remove data before 2006.\n",
    "# df_train = df_train[df_train.harvest_year >= 2006]\n",
    "\n",
    "df_test  = pd.read_csv(os.path.join(path, 'test.csv'))\n",
    "df_all = pd.concat([df_train, df_test], ignore_index=True)\n",
    "\n",
    "print(df_train.shape, df_test.shape, df_all.shape)"
   ]
  },
  {
   "cell_type": "code",
   "execution_count": 175,
   "metadata": {},
   "outputs": [
    {
     "data": {
      "text/html": [
       "<div>\n",
       "<style scoped>\n",
       "    .dataframe tbody tr th:only-of-type {\n",
       "        vertical-align: middle;\n",
       "    }\n",
       "\n",
       "    .dataframe tbody tr th {\n",
       "        vertical-align: top;\n",
       "    }\n",
       "\n",
       "    .dataframe thead th {\n",
       "        text-align: right;\n",
       "    }\n",
       "</style>\n",
       "<table border=\"1\" class=\"dataframe\">\n",
       "  <thead>\n",
       "    <tr style=\"text-align: right;\">\n",
       "      <th></th>\n",
       "      <th>Id</th>\n",
       "      <th>field</th>\n",
       "      <th>age</th>\n",
       "      <th>type</th>\n",
       "      <th>harvest_year</th>\n",
       "      <th>harvest_month</th>\n",
       "      <th>production</th>\n",
       "    </tr>\n",
       "  </thead>\n",
       "  <tbody>\n",
       "    <tr>\n",
       "      <th>count</th>\n",
       "      <td>5243.000000</td>\n",
       "      <td>5243.000000</td>\n",
       "      <td>5243.000000</td>\n",
       "      <td>5243.000000</td>\n",
       "      <td>5243.000000</td>\n",
       "      <td>5243.000000</td>\n",
       "      <td>5243.000000</td>\n",
       "    </tr>\n",
       "    <tr>\n",
       "      <th>mean</th>\n",
       "      <td>2621.000000</td>\n",
       "      <td>10.453748</td>\n",
       "      <td>11.910929</td>\n",
       "      <td>4.620446</td>\n",
       "      <td>2007.644478</td>\n",
       "      <td>6.546634</td>\n",
       "      <td>0.161459</td>\n",
       "    </tr>\n",
       "    <tr>\n",
       "      <th>std</th>\n",
       "      <td>1513.668061</td>\n",
       "      <td>7.725394</td>\n",
       "      <td>6.464020</td>\n",
       "      <td>0.991060</td>\n",
       "      <td>2.240641</td>\n",
       "      <td>3.463368</td>\n",
       "      <td>0.140394</td>\n",
       "    </tr>\n",
       "    <tr>\n",
       "      <th>min</th>\n",
       "      <td>0.000000</td>\n",
       "      <td>0.000000</td>\n",
       "      <td>3.000000</td>\n",
       "      <td>0.000000</td>\n",
       "      <td>2004.000000</td>\n",
       "      <td>1.000000</td>\n",
       "      <td>0.000000</td>\n",
       "    </tr>\n",
       "    <tr>\n",
       "      <th>25%</th>\n",
       "      <td>1310.500000</td>\n",
       "      <td>4.000000</td>\n",
       "      <td>7.000000</td>\n",
       "      <td>5.000000</td>\n",
       "      <td>2006.000000</td>\n",
       "      <td>4.000000</td>\n",
       "      <td>0.064168</td>\n",
       "    </tr>\n",
       "    <tr>\n",
       "      <th>50%</th>\n",
       "      <td>2621.000000</td>\n",
       "      <td>10.000000</td>\n",
       "      <td>10.000000</td>\n",
       "      <td>5.000000</td>\n",
       "      <td>2008.000000</td>\n",
       "      <td>7.000000</td>\n",
       "      <td>0.122880</td>\n",
       "    </tr>\n",
       "    <tr>\n",
       "      <th>75%</th>\n",
       "      <td>3931.500000</td>\n",
       "      <td>16.000000</td>\n",
       "      <td>18.000000</td>\n",
       "      <td>5.000000</td>\n",
       "      <td>2010.000000</td>\n",
       "      <td>10.000000</td>\n",
       "      <td>0.217869</td>\n",
       "    </tr>\n",
       "    <tr>\n",
       "      <th>max</th>\n",
       "      <td>5242.000000</td>\n",
       "      <td>27.000000</td>\n",
       "      <td>26.000000</td>\n",
       "      <td>6.000000</td>\n",
       "      <td>2011.000000</td>\n",
       "      <td>12.000000</td>\n",
       "      <td>1.000000</td>\n",
       "    </tr>\n",
       "  </tbody>\n",
       "</table>\n",
       "</div>"
      ],
      "text/plain": [
       "                Id        field          age         type  harvest_year  \\\n",
       "count  5243.000000  5243.000000  5243.000000  5243.000000   5243.000000   \n",
       "mean   2621.000000    10.453748    11.910929     4.620446   2007.644478   \n",
       "std    1513.668061     7.725394     6.464020     0.991060      2.240641   \n",
       "min       0.000000     0.000000     3.000000     0.000000   2004.000000   \n",
       "25%    1310.500000     4.000000     7.000000     5.000000   2006.000000   \n",
       "50%    2621.000000    10.000000    10.000000     5.000000   2008.000000   \n",
       "75%    3931.500000    16.000000    18.000000     5.000000   2010.000000   \n",
       "max    5242.000000    27.000000    26.000000     6.000000   2011.000000   \n",
       "\n",
       "       harvest_month   production  \n",
       "count    5243.000000  5243.000000  \n",
       "mean        6.546634     0.161459  \n",
       "std         3.463368     0.140394  \n",
       "min         1.000000     0.000000  \n",
       "25%         4.000000     0.064168  \n",
       "50%         7.000000     0.122880  \n",
       "75%        10.000000     0.217869  \n",
       "max        12.000000     1.000000  "
      ]
     },
     "execution_count": 175,
     "metadata": {},
     "output_type": "execute_result"
    }
   ],
   "source": [
    "df_train.describe()"
   ]
  },
  {
   "cell_type": "code",
   "execution_count": 176,
   "metadata": {},
   "outputs": [
    {
     "data": {
      "text/html": [
       "<div>\n",
       "<style scoped>\n",
       "    .dataframe tbody tr th:only-of-type {\n",
       "        vertical-align: middle;\n",
       "    }\n",
       "\n",
       "    .dataframe tbody tr th {\n",
       "        vertical-align: top;\n",
       "    }\n",
       "\n",
       "    .dataframe thead th {\n",
       "        text-align: right;\n",
       "    }\n",
       "</style>\n",
       "<table border=\"1\" class=\"dataframe\">\n",
       "  <thead>\n",
       "    <tr style=\"text-align: right;\">\n",
       "      <th></th>\n",
       "      <th>Id</th>\n",
       "      <th>field</th>\n",
       "      <th>age</th>\n",
       "      <th>type</th>\n",
       "      <th>harvest_year</th>\n",
       "      <th>harvest_month</th>\n",
       "    </tr>\n",
       "  </thead>\n",
       "  <tbody>\n",
       "    <tr>\n",
       "      <th>count</th>\n",
       "      <td>4110.000000</td>\n",
       "      <td>4110.000000</td>\n",
       "      <td>4110.000000</td>\n",
       "      <td>4110.000000</td>\n",
       "      <td>4110.000000</td>\n",
       "      <td>4110.00000</td>\n",
       "    </tr>\n",
       "    <tr>\n",
       "      <th>mean</th>\n",
       "      <td>7297.500000</td>\n",
       "      <td>9.284428</td>\n",
       "      <td>16.205109</td>\n",
       "      <td>4.354501</td>\n",
       "      <td>2014.361071</td>\n",
       "      <td>6.43455</td>\n",
       "    </tr>\n",
       "    <tr>\n",
       "      <th>std</th>\n",
       "      <td>1186.599132</td>\n",
       "      <td>7.558750</td>\n",
       "      <td>7.473749</td>\n",
       "      <td>1.523124</td>\n",
       "      <td>1.629624</td>\n",
       "      <td>3.39713</td>\n",
       "    </tr>\n",
       "    <tr>\n",
       "      <th>min</th>\n",
       "      <td>5243.000000</td>\n",
       "      <td>0.000000</td>\n",
       "      <td>3.000000</td>\n",
       "      <td>-1.000000</td>\n",
       "      <td>2012.000000</td>\n",
       "      <td>1.00000</td>\n",
       "    </tr>\n",
       "    <tr>\n",
       "      <th>25%</th>\n",
       "      <td>6270.250000</td>\n",
       "      <td>2.000000</td>\n",
       "      <td>12.000000</td>\n",
       "      <td>5.000000</td>\n",
       "      <td>2013.000000</td>\n",
       "      <td>3.00000</td>\n",
       "    </tr>\n",
       "    <tr>\n",
       "      <th>50%</th>\n",
       "      <td>7297.500000</td>\n",
       "      <td>8.000000</td>\n",
       "      <td>14.000000</td>\n",
       "      <td>5.000000</td>\n",
       "      <td>2014.000000</td>\n",
       "      <td>6.00000</td>\n",
       "    </tr>\n",
       "    <tr>\n",
       "      <th>75%</th>\n",
       "      <td>8324.750000</td>\n",
       "      <td>15.000000</td>\n",
       "      <td>24.000000</td>\n",
       "      <td>5.000000</td>\n",
       "      <td>2016.000000</td>\n",
       "      <td>9.00000</td>\n",
       "    </tr>\n",
       "    <tr>\n",
       "      <th>max</th>\n",
       "      <td>9352.000000</td>\n",
       "      <td>27.000000</td>\n",
       "      <td>30.000000</td>\n",
       "      <td>7.000000</td>\n",
       "      <td>2017.000000</td>\n",
       "      <td>12.00000</td>\n",
       "    </tr>\n",
       "  </tbody>\n",
       "</table>\n",
       "</div>"
      ],
      "text/plain": [
       "                Id        field          age         type  harvest_year  \\\n",
       "count  4110.000000  4110.000000  4110.000000  4110.000000   4110.000000   \n",
       "mean   7297.500000     9.284428    16.205109     4.354501   2014.361071   \n",
       "std    1186.599132     7.558750     7.473749     1.523124      1.629624   \n",
       "min    5243.000000     0.000000     3.000000    -1.000000   2012.000000   \n",
       "25%    6270.250000     2.000000    12.000000     5.000000   2013.000000   \n",
       "50%    7297.500000     8.000000    14.000000     5.000000   2014.000000   \n",
       "75%    8324.750000    15.000000    24.000000     5.000000   2016.000000   \n",
       "max    9352.000000    27.000000    30.000000     7.000000   2017.000000   \n",
       "\n",
       "       harvest_month  \n",
       "count     4110.00000  \n",
       "mean         6.43455  \n",
       "std          3.39713  \n",
       "min          1.00000  \n",
       "25%          3.00000  \n",
       "50%          6.00000  \n",
       "75%          9.00000  \n",
       "max         12.00000  "
      ]
     },
     "execution_count": 176,
     "metadata": {},
     "output_type": "execute_result"
    }
   ],
   "source": [
    "df_test.describe()"
   ]
  },
  {
   "cell_type": "code",
   "execution_count": 177,
   "metadata": {
    "scrolled": false
   },
   "outputs": [],
   "source": [
    "from datetime import date\n",
    "df_ = df_all.copy()\n",
    "\n",
    "\n",
    "##### TRAIN #####\n",
    "\n",
    "# type == 5\n",
    "df_.loc[(df_.Id >= 4846) & (df_.Id <= 4857) & (df_.field ==  6), 'age'] = 10\n",
    "df_.loc[(df_.Id >= 5030) & (df_.Id <= 5041) & (df_.field ==  7), 'age'] = 10\n",
    "df_.loc[(df_.Id >= 5123) & (df_.Id <= 5134) & (df_.field ==  8), 'age'] = 10\n",
    "df_.loc[(df_.Id >= 5215) & (df_.Id <= 5226) & (df_.field ==  9), 'age'] = 10\n",
    "df_.loc[(df_.Id >= 2758) & (df_.Id <= 2769) & (df_.field == 10), 'age'] = 10\n",
    "df_.loc[(df_.Id >= 1937) & (df_.Id <= 1948) & (df_.field == 10), 'age'] = 10\n",
    "df_.loc[(df_.Id >= 2844) & (df_.Id <= 2855) & (df_.field == 11), 'age'] = 10\n",
    "df_.loc[(df_.Id >= 2930) & (df_.Id <= 2941) & (df_.field == 12), 'age'] = 10\n",
    "df_.loc[(df_.Id >= 2033) & (df_.Id <= 2044) & (df_.field == 12), 'age'] = 10\n",
    "df_.loc[(df_.Id >= 3016) & (df_.Id <= 3027) & (df_.field == 13), 'age'] = 10\n",
    "df_.loc[(df_.Id >= 3102) & (df_.Id <= 3113) & (df_.field == 14), 'age'] = 10\n",
    "df_.loc[(df_.Id >= 3189) & (df_.Id <= 3200) & (df_.field == 15), 'age'] = 10\n",
    "df_.loc[(df_.Id >= 3276) & (df_.Id <= 3287) & (df_.field == 16), 'age'] = 10\n",
    "df_.loc[(df_.Id >= 3363) & (df_.Id <= 3374) & (df_.field == 17), 'age'] = 10\n",
    "df_.loc[(df_.Id >= 3439) & (df_.Id <= 3450) & (df_.field == 18), 'age'] = 10\n",
    "df_.loc[(df_.Id >= 3515) & (df_.Id <= 3526) & (df_.field == 19), 'age'] = 10\n",
    "df_.loc[(df_.Id >= 3593) & (df_.Id <= 3604) & (df_.field == 20), 'age'] = 10\n",
    "df_.loc[(df_.Id >= 3673) & (df_.Id <= 3684) & (df_.field == 21), 'age'] = 10\n",
    "df_.loc[(df_.Id >= 3760) & (df_.Id <= 3771) & (df_.field == 22), 'age'] = 10\n",
    "df_.loc[(df_.Id >= 3848) & (df_.Id <= 3859) & (df_.field == 23), 'age'] = 10\n",
    "df_.loc[(df_.Id >= 3936) & (df_.Id <= 3947) & (df_.field == 24), 'age'] = 10\n",
    "df_.loc[(df_.Id >= 4022) & (df_.Id <= 4033) & (df_.field == 25), 'age'] = 10\n",
    "df_.loc[(df_.Id >= 4107) & (df_.Id <= 4118) & (df_.field == 26), 'age'] = 10\n",
    "df_.loc[(df_.Id >= 4192) & (df_.Id <= 4203) & (df_.field == 27), 'age'] = 10\n",
    "\n",
    "# type != 5\n",
    "df_.loc[(df_.Id >= 2411) & (df_.Id <= 2422) & (df_.field ==  0), 'age'] = 10\n",
    "df_.loc[(df_.Id >= 2582) & (df_.Id <= 2593) & (df_.field ==  1), 'age'] = 10\n",
    "df_.loc[(df_.Id >= 2672) & (df_.Id <= 2683) & (df_.field ==  2), 'age'] = 10\n",
    "df_.loc[(df_.Id >= 1865) & (df_.Id <= 1876) & (df_.field ==  8), 'age'] = 10\n",
    "df_.loc[(df_.Id >= 2261) & (df_.Id <= 2272) & (df_.field == 26), 'age'] = 10\n",
    "\n",
    "##### TEST #####\n",
    "\n",
    "df_.loc[(df_.Id >= 6544) & (df_.Id <= 6548) & (df_.field == 8), 'age'] = 17\n",
    "\n",
    "################\n",
    "\n",
    "\n",
    "df_.to_csv(os.path.join(path, 'all_clean.csv'))"
   ]
  },
  {
   "cell_type": "code",
   "execution_count": 178,
   "metadata": {},
   "outputs": [],
   "source": [
    "df_clean = df_\n",
    "\n",
    "val_year = 2011\n",
    "test_year = 2012\n",
    "\n",
    "train_mask = (df_clean.harvest_year < val_year)\n",
    "val_mask = ((df_clean.harvest_year >= val_year) & (df_clean.harvest_year < test_year))\n",
    "test_mask = (df_clean.harvest_year >= test_year)\n",
    "\n",
    "df_train = df_clean[train_mask]\n",
    "df_val = df_clean[val_mask]\n",
    "df_test = df_clean[test_mask]"
   ]
  },
  {
   "cell_type": "code",
   "execution_count": 179,
   "metadata": {},
   "outputs": [
    {
     "data": {
      "text/html": [
       "<div>\n",
       "<style scoped>\n",
       "    .dataframe tbody tr th:only-of-type {\n",
       "        vertical-align: middle;\n",
       "    }\n",
       "\n",
       "    .dataframe tbody tr th {\n",
       "        vertical-align: top;\n",
       "    }\n",
       "\n",
       "    .dataframe thead th {\n",
       "        text-align: right;\n",
       "    }\n",
       "</style>\n",
       "<table border=\"1\" class=\"dataframe\">\n",
       "  <thead>\n",
       "    <tr style=\"text-align: right;\">\n",
       "      <th></th>\n",
       "      <th>Id</th>\n",
       "      <th>age</th>\n",
       "      <th>field</th>\n",
       "      <th>harvest_month</th>\n",
       "      <th>harvest_year</th>\n",
       "      <th>production</th>\n",
       "      <th>type</th>\n",
       "    </tr>\n",
       "  </thead>\n",
       "  <tbody>\n",
       "    <tr>\n",
       "      <th>80</th>\n",
       "      <td>80</td>\n",
       "      <td>25</td>\n",
       "      <td>0</td>\n",
       "      <td>11</td>\n",
       "      <td>2010</td>\n",
       "      <td>0.591373</td>\n",
       "      <td>5</td>\n",
       "    </tr>\n",
       "    <tr>\n",
       "      <th>81</th>\n",
       "      <td>81</td>\n",
       "      <td>25</td>\n",
       "      <td>0</td>\n",
       "      <td>12</td>\n",
       "      <td>2010</td>\n",
       "      <td>0.384491</td>\n",
       "      <td>5</td>\n",
       "    </tr>\n",
       "    <tr>\n",
       "      <th>94</th>\n",
       "      <td>94</td>\n",
       "      <td>19</td>\n",
       "      <td>1</td>\n",
       "      <td>1</td>\n",
       "      <td>2004</td>\n",
       "      <td>0.062391</td>\n",
       "      <td>5</td>\n",
       "    </tr>\n",
       "    <tr>\n",
       "      <th>95</th>\n",
       "      <td>95</td>\n",
       "      <td>19</td>\n",
       "      <td>1</td>\n",
       "      <td>2</td>\n",
       "      <td>2004</td>\n",
       "      <td>0.052770</td>\n",
       "      <td>5</td>\n",
       "    </tr>\n",
       "  </tbody>\n",
       "</table>\n",
       "</div>"
      ],
      "text/plain": [
       "    Id  age  field  harvest_month  harvest_year  production  type\n",
       "80  80   25      0             11          2010    0.591373     5\n",
       "81  81   25      0             12          2010    0.384491     5\n",
       "94  94   19      1              1          2004    0.062391     5\n",
       "95  95   19      1              2          2004    0.052770     5"
      ]
     },
     "execution_count": 179,
     "metadata": {},
     "output_type": "execute_result"
    }
   ],
   "source": [
    "df_train.iloc[80:84]"
   ]
  },
  {
   "cell_type": "code",
   "execution_count": 180,
   "metadata": {},
   "outputs": [
    {
     "name": "stdout",
     "output_type": "stream",
     "text": [
      "4541\n",
      "702\n",
      "4110\n"
     ]
    }
   ],
   "source": [
    "print(len(df_train))\n",
    "print(len(df_val))\n",
    "print(len(df_test))"
   ]
  },
  {
   "cell_type": "code",
   "execution_count": 181,
   "metadata": {},
   "outputs": [
    {
     "name": "stdout",
     "output_type": "stream",
     "text": [
      "59\n"
     ]
    }
   ],
   "source": [
    "def getSeqs(df):\n",
    "    df = df.reset_index(drop=True)\n",
    "    df['year_plant'] = df.harvest_year - df.age\n",
    "    seqs_lim = [0]\n",
    "    row = df.iloc[0]\n",
    "    vals = (row.field, row.type, row.year_plant)\n",
    "    for i, row in df.iterrows():\n",
    "        if (row.field, row.type, row.year_plant) != vals:\n",
    "            seqs_lim.append(i)\n",
    "            vals = (row.field, row.type, row.year_plant)\n",
    "    return seqs_lim\n",
    "\n",
    "seqs_lim_train = getSeqs(df_train)\n",
    "\n",
    "print(len(seqs_lim_train))"
   ]
  },
  {
   "cell_type": "code",
   "execution_count": 110,
   "metadata": {},
   "outputs": [
    {
     "name": "stdout",
     "output_type": "stream",
     "text": [
      "['harvest_year']\n"
     ]
    },
    {
     "data": {
      "text/html": [
       "<div>\n",
       "<style scoped>\n",
       "    .dataframe tbody tr th:only-of-type {\n",
       "        vertical-align: middle;\n",
       "    }\n",
       "\n",
       "    .dataframe tbody tr th {\n",
       "        vertical-align: top;\n",
       "    }\n",
       "\n",
       "    .dataframe thead th {\n",
       "        text-align: right;\n",
       "    }\n",
       "</style>\n",
       "<table border=\"1\" class=\"dataframe\">\n",
       "  <thead>\n",
       "    <tr style=\"text-align: right;\">\n",
       "      <th></th>\n",
       "      <th>Id</th>\n",
       "      <th>age</th>\n",
       "      <th>field</th>\n",
       "      <th>harvest_month</th>\n",
       "      <th>harvest_year</th>\n",
       "      <th>production</th>\n",
       "      <th>type</th>\n",
       "    </tr>\n",
       "  </thead>\n",
       "  <tbody>\n",
       "    <tr>\n",
       "      <th>0</th>\n",
       "      <td>0</td>\n",
       "      <td>19</td>\n",
       "      <td>0</td>\n",
       "      <td>1</td>\n",
       "      <td>2004.0</td>\n",
       "      <td>0.064071</td>\n",
       "      <td>5</td>\n",
       "    </tr>\n",
       "    <tr>\n",
       "      <th>1</th>\n",
       "      <td>1</td>\n",
       "      <td>19</td>\n",
       "      <td>0</td>\n",
       "      <td>2</td>\n",
       "      <td>2004.0</td>\n",
       "      <td>0.047658</td>\n",
       "      <td>5</td>\n",
       "    </tr>\n",
       "  </tbody>\n",
       "</table>\n",
       "</div>"
      ],
      "text/plain": [
       "   Id age field harvest_month  harvest_year  production type\n",
       "0   0  19     0             1        2004.0    0.064071    5\n",
       "1   1  19     0             2        2004.0    0.047658    5"
      ]
     },
     "execution_count": 110,
     "metadata": {},
     "output_type": "execute_result"
    }
   ],
   "source": [
    "# Categorical features.\n",
    "cat_ftrs = ['field', 'age', 'type', 'harvest_month']\n",
    "# Continuous features.\n",
    "contin_ftrs = [f for f in df_.columns if f not in (['production', 'Id', 'index'] + cat_ftrs)]\n",
    "print(contin_ftrs)\n",
    "\n",
    "# Inform pandas which features are categorical ...\n",
    "for v in cat_ftrs:\n",
    "    df_[v] = df_[v].astype('category').cat.as_ordered()\n",
    "# ... and which are continuous.\n",
    "for v in contin_ftrs:\n",
    "    df_[v] = df_[v].astype('float32')\n",
    "\n",
    "df_.head(2)"
   ]
  },
  {
   "cell_type": "code",
   "execution_count": 88,
   "metadata": {},
   "outputs": [
    {
     "data": {
      "text/html": [
       "<div>\n",
       "<style scoped>\n",
       "    .dataframe tbody tr th:only-of-type {\n",
       "        vertical-align: middle;\n",
       "    }\n",
       "\n",
       "    .dataframe tbody tr th {\n",
       "        vertical-align: top;\n",
       "    }\n",
       "\n",
       "    .dataframe thead th {\n",
       "        text-align: right;\n",
       "    }\n",
       "</style>\n",
       "<table border=\"1\" class=\"dataframe\">\n",
       "  <thead>\n",
       "    <tr style=\"text-align: right;\">\n",
       "      <th></th>\n",
       "      <th>Id</th>\n",
       "      <th>age</th>\n",
       "      <th>field</th>\n",
       "      <th>harvest_month</th>\n",
       "      <th>harvest_year</th>\n",
       "      <th>production</th>\n",
       "      <th>type</th>\n",
       "    </tr>\n",
       "  </thead>\n",
       "  <tbody>\n",
       "    <tr>\n",
       "      <th>0</th>\n",
       "      <td>0</td>\n",
       "      <td>19</td>\n",
       "      <td>0</td>\n",
       "      <td>1</td>\n",
       "      <td>2004</td>\n",
       "      <td>0.064071</td>\n",
       "      <td>5</td>\n",
       "    </tr>\n",
       "    <tr>\n",
       "      <th>1</th>\n",
       "      <td>1</td>\n",
       "      <td>19</td>\n",
       "      <td>0</td>\n",
       "      <td>2</td>\n",
       "      <td>2004</td>\n",
       "      <td>0.047658</td>\n",
       "      <td>5</td>\n",
       "    </tr>\n",
       "  </tbody>\n",
       "</table>\n",
       "</div>"
      ],
      "text/plain": [
       "   Id  age  field  harvest_month  harvest_year  production  type\n",
       "0   0   19      0              1          2004    0.064071     5\n",
       "1   1   19      0              2          2004    0.047658     5"
      ]
     },
     "execution_count": 88,
     "metadata": {},
     "output_type": "execute_result"
    }
   ],
   "source": [
    "df_train.head(2)"
   ]
  },
  {
   "cell_type": "code",
   "execution_count": 101,
   "metadata": {},
   "outputs": [],
   "source": [
    "from fastai.structured import *\n",
    "df_train, _, nas, mapper = proc_df(df_train, ignore_flds=['production'], do_scale=True, skip_flds=['Id'])\n",
    "df_val, _, nas, mapper = proc_df(df_val, ignore_flds=['production'], do_scale=True, mapper=mapper, na_dict=nas, skip_flds=['Id'])\n",
    "df_test, _, nas, mapper = proc_df(df_test, ignore_flds=['production'], do_scale=True, mapper=mapper, na_dict=nas, skip_flds=['Id'])"
   ]
  },
  {
   "cell_type": "code",
   "execution_count": 90,
   "metadata": {},
   "outputs": [
    {
     "data": {
      "text/html": [
       "<div>\n",
       "<style scoped>\n",
       "    .dataframe tbody tr th:only-of-type {\n",
       "        vertical-align: middle;\n",
       "    }\n",
       "\n",
       "    .dataframe tbody tr th {\n",
       "        vertical-align: top;\n",
       "    }\n",
       "\n",
       "    .dataframe thead th {\n",
       "        text-align: right;\n",
       "    }\n",
       "</style>\n",
       "<table border=\"1\" class=\"dataframe\">\n",
       "  <thead>\n",
       "    <tr style=\"text-align: right;\">\n",
       "      <th></th>\n",
       "      <th>production</th>\n",
       "      <th>age</th>\n",
       "      <th>field</th>\n",
       "      <th>harvest_month</th>\n",
       "      <th>harvest_year</th>\n",
       "      <th>type</th>\n",
       "    </tr>\n",
       "  </thead>\n",
       "  <tbody>\n",
       "    <tr>\n",
       "      <th>0</th>\n",
       "      <td>0.064071</td>\n",
       "      <td>1.190436</td>\n",
       "      <td>-1.350779</td>\n",
       "      <td>-1.60209</td>\n",
       "      <td>-1.606482</td>\n",
       "      <td>0.382245</td>\n",
       "    </tr>\n",
       "    <tr>\n",
       "      <th>1</th>\n",
       "      <td>0.047658</td>\n",
       "      <td>1.190436</td>\n",
       "      <td>-1.350779</td>\n",
       "      <td>-1.31343</td>\n",
       "      <td>-1.606482</td>\n",
       "      <td>0.382245</td>\n",
       "    </tr>\n",
       "  </tbody>\n",
       "</table>\n",
       "</div>"
      ],
      "text/plain": [
       "   production       age     field  harvest_month  harvest_year      type\n",
       "0    0.064071  1.190436 -1.350779       -1.60209     -1.606482  0.382245\n",
       "1    0.047658  1.190436 -1.350779       -1.31343     -1.606482  0.382245"
      ]
     },
     "execution_count": 90,
     "metadata": {},
     "output_type": "execute_result"
    }
   ],
   "source": [
    "df_train.head(2)"
   ]
  },
  {
   "cell_type": "code",
   "execution_count": 77,
   "metadata": {},
   "outputs": [
    {
     "name": "stdout",
     "output_type": "stream",
     "text": [
      "4541\n",
      "702\n",
      "4110\n"
     ]
    }
   ],
   "source": [
    "print(len(df_train))\n",
    "print(len(df_val))\n",
    "print(len(df_test))"
   ]
  },
  {
   "cell_type": "code",
   "execution_count": 102,
   "metadata": {},
   "outputs": [],
   "source": [
    "def groupBySeqs(*dfs):\n",
    "    grps = []\n",
    "    for df in dfs:\n",
    "        df[\"year_plant\"] = df[\"harvest_year\"] - df[\"age\"]\n",
    "        gs = df.groupby(['field', 'type', 'year_plant'], sort=False)\n",
    "        df.drop(columns=['year_plant'], inplace=True)\n",
    "        grps.append([g for _, g in gs])\n",
    "    return grps\n",
    "\n",
    "dfs_train, dfs_val, dfs_test = groupBySeqs(df_train, df_val, df_test)"
   ]
  },
  {
   "cell_type": "code",
   "execution_count": 103,
   "metadata": {},
   "outputs": [
    {
     "name": "stdout",
     "output_type": "stream",
     "text": [
      "396\n",
      "59\n",
      "356\n"
     ]
    }
   ],
   "source": [
    "print(len(dfs_train))\n",
    "print(len(dfs_val))\n",
    "print(len(dfs_test))"
   ]
  }
 ],
 "metadata": {
  "kernelspec": {
   "display_name": "Python 3",
   "language": "python",
   "name": "python3"
  },
  "language_info": {
   "codemirror_mode": {
    "name": "ipython",
    "version": 3
   },
   "file_extension": ".py",
   "mimetype": "text/x-python",
   "name": "python",
   "nbconvert_exporter": "python",
   "pygments_lexer": "ipython3",
   "version": "3.6.6"
  }
 },
 "nbformat": 4,
 "nbformat_minor": 1
}
