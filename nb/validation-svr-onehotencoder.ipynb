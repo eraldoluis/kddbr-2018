{
 "cells": [
  {
   "cell_type": "markdown",
   "metadata": {
    "_uuid": "4646fdea09654229ea606aa4faffad9cb819398b"
   },
   "source": [
    "# SVM Modeling\n",
    "- Ignoring data before 2006.\n",
    "- Using only type=5 examples.\n",
    "- No feature selection.\n",
    "- Param tuning.\n",
    "- Added back removed features ['Soilwater_L2', 'Soilwater_L3', 'Soilwater_L4'].\n",
    "- Removed soil_data features.\n",
    "- Shift features for 6 months before.\n",
    "- One hot encoding for some features."
   ]
  },
  {
   "cell_type": "code",
   "execution_count": 25,
   "metadata": {},
   "outputs": [],
   "source": [
    "%matplotlib inline\n",
    "%reload_ext autoreload\n",
    "%autoreload 2"
   ]
  },
  {
   "cell_type": "code",
   "execution_count": 26,
   "metadata": {
    "_uuid": "35b9298747ec076ac8a9afb81192039880e46f2c"
   },
   "outputs": [],
   "source": [
    "import pandas as pd\n",
    "import numpy as np\n",
    "import os \n",
    "\n",
    "from datetime import datetime\n",
    "import matplotlib.pyplot as plt\n",
    "import seaborn as sns\n",
    "\n",
    "from kdd_utils import addFieldDataFtrs, addSoilFtrs, cvPerYear\n",
    "\n",
    "sns.set(style=\"whitegrid\")"
   ]
  },
  {
   "cell_type": "code",
   "execution_count": 27,
   "metadata": {},
   "outputs": [],
   "source": [
    "from fastai.structured import *\n",
    "from fastai.column_data import *"
   ]
  },
  {
   "cell_type": "markdown",
   "metadata": {
    "_uuid": "5e5a56ed28ca3f0433752b640126d39410d590e7"
   },
   "source": [
    "## Train and test datasets\n",
    "\n",
    "Basic data containing palm tree information"
   ]
  },
  {
   "cell_type": "code",
   "execution_count": 28,
   "metadata": {
    "_uuid": "d26413ead269ebe206f0ac43cda68634d9611199",
    "scrolled": true
   },
   "outputs": [
    {
     "name": "stdout",
     "output_type": "stream",
     "text": [
      "Shapes\n",
      "---\n",
      "Train: (5243, 7)\n",
      " Test: (4110, 6)\n",
      "  All: (9353, 7)\n"
     ]
    }
   ],
   "source": [
    "path = '../input/'\n",
    "\n",
    "# Train data.\n",
    "df_train = pd.read_csv(os.path.join(path, 'train.csv'))\n",
    "\n",
    "# Ignoring date before 2006 for training.\n",
    "# df_train = df_train[df_train.harvest_year >= 2006]\n",
    "\n",
    "# Using only examples with type=5 for training.\n",
    "# df_train = df_train[df_train.type == 5]\n",
    "\n",
    "# Test data.\n",
    "df_test  = pd.read_csv(os.path.join(path, 'test.csv'))\n",
    "\n",
    "# Merge train and test data for ease of pre-processing.\n",
    "df_all = pd.concat([df_train, df_test], sort=False).reindex()\n",
    "\n",
    "# Configure number of jobs.\n",
    "N_JOBS=7\n",
    "\n",
    "print('Shapes\\n---\\nTrain: {}\\n Test: {}\\n  All: {}'.format(df_train.shape, df_test.shape, df_all.shape))"
   ]
  },
  {
   "cell_type": "markdown",
   "metadata": {
    "_uuid": "8163b4159ec67907aa1518f341edf613f4bc7266"
   },
   "source": [
    "## Field and Soil Features\n",
    "\n",
    "These files hold atmospheric data from January 2002 to December 2017, and can be used to estimate the weather conditions during the development of the plant. Notice that weather does influence the production. Using only a single month prior to harvest is probably too little data. Participants should decide how far back in the past they want to look when training models.\n",
    "\n"
   ]
  },
  {
   "cell_type": "code",
   "execution_count": 29,
   "metadata": {
    "_uuid": "c9596d68c59820e59de0b7861c9234712185fdab",
    "scrolled": true
   },
   "outputs": [
    {
     "name": "stdout",
     "output_type": "stream",
     "text": [
      "['index', 'Id', 'field', 'age', 'type', 'harvest_year', 'harvest_month', 'production', 'temperature', 'dewpoint', 'windspeed', 'Soilwater_L1', 'Soilwater_L2', 'Soilwater_L3', 'Soilwater_L4', 'Precipitation', 'temperature_1', 'temperature_2', 'temperature_3', 'temperature_4', 'temperature_5', 'dewpoint_1', 'dewpoint_2', 'dewpoint_3', 'dewpoint_4', 'dewpoint_5', 'windspeed_1', 'windspeed_2', 'windspeed_3', 'windspeed_4', 'windspeed_5', 'Precipitation_1', 'Precipitation_2', 'Precipitation_3', 'Precipitation_4', 'Precipitation_5', 'Soilwater_L1_1', 'Soilwater_L1_2', 'Soilwater_L1_3', 'Soilwater_L1_4', 'Soilwater_L1_5', 'Soilwater_L2_1', 'Soilwater_L2_2', 'Soilwater_L2_3', 'Soilwater_L2_4', 'Soilwater_L2_5', 'Soilwater_L3_1', 'Soilwater_L3_2', 'Soilwater_L3_3', 'Soilwater_L3_4', 'Soilwater_L3_5', 'Soilwater_L4_1', 'Soilwater_L4_2', 'Soilwater_L4_3', 'Soilwater_L4_4', 'Soilwater_L4_5']\n"
     ]
    }
   ],
   "source": [
    "df_all_ftrs = addFieldDataFtrs(df_all, shiftPeriod=6, shiftFtrs=['temperature', 'dewpoint', 'windspeed', \n",
    "                                                                 'Precipitation', 'Soilwater_L1', \n",
    "                                                                 'Soilwater_L2', 'Soilwater_L3', \n",
    "                                                                 'Soilwater_L4'])\n",
    "#df_all_ftrs = addSoilFtrs(df_all_ftrs)\n",
    "print(list(df_all_ftrs.columns))"
   ]
  },
  {
   "cell_type": "code",
   "execution_count": 30,
   "metadata": {},
   "outputs": [
    {
     "data": {
      "text/html": [
       "<div>\n",
       "<style scoped>\n",
       "    .dataframe tbody tr th:only-of-type {\n",
       "        vertical-align: middle;\n",
       "    }\n",
       "\n",
       "    .dataframe tbody tr th {\n",
       "        vertical-align: top;\n",
       "    }\n",
       "\n",
       "    .dataframe thead th {\n",
       "        text-align: right;\n",
       "    }\n",
       "</style>\n",
       "<table border=\"1\" class=\"dataframe\">\n",
       "  <thead>\n",
       "    <tr style=\"text-align: right;\">\n",
       "      <th></th>\n",
       "      <th>index</th>\n",
       "      <th>Id</th>\n",
       "      <th>field</th>\n",
       "      <th>age</th>\n",
       "      <th>type</th>\n",
       "      <th>harvest_year</th>\n",
       "      <th>harvest_month</th>\n",
       "      <th>production</th>\n",
       "      <th>temperature</th>\n",
       "      <th>dewpoint</th>\n",
       "      <th>...</th>\n",
       "      <th>Soilwater_L3_1</th>\n",
       "      <th>Soilwater_L3_2</th>\n",
       "      <th>Soilwater_L3_3</th>\n",
       "      <th>Soilwater_L3_4</th>\n",
       "      <th>Soilwater_L3_5</th>\n",
       "      <th>Soilwater_L4_1</th>\n",
       "      <th>Soilwater_L4_2</th>\n",
       "      <th>Soilwater_L4_3</th>\n",
       "      <th>Soilwater_L4_4</th>\n",
       "      <th>Soilwater_L4_5</th>\n",
       "    </tr>\n",
       "  </thead>\n",
       "  <tbody>\n",
       "    <tr>\n",
       "      <th>0</th>\n",
       "      <td>0</td>\n",
       "      <td>0</td>\n",
       "      <td>0</td>\n",
       "      <td>19</td>\n",
       "      <td>5</td>\n",
       "      <td>2004</td>\n",
       "      <td>1</td>\n",
       "      <td>0.064071</td>\n",
       "      <td>26.132</td>\n",
       "      <td>24.661</td>\n",
       "      <td>...</td>\n",
       "      <td>0.310656</td>\n",
       "      <td>0.310656</td>\n",
       "      <td>0.310656</td>\n",
       "      <td>0.310656</td>\n",
       "      <td>0.310656</td>\n",
       "      <td>0.314165</td>\n",
       "      <td>0.314165</td>\n",
       "      <td>0.314165</td>\n",
       "      <td>0.314165</td>\n",
       "      <td>0.314165</td>\n",
       "    </tr>\n",
       "    <tr>\n",
       "      <th>1</th>\n",
       "      <td>1</td>\n",
       "      <td>1532</td>\n",
       "      <td>0</td>\n",
       "      <td>13</td>\n",
       "      <td>2</td>\n",
       "      <td>2004</td>\n",
       "      <td>1</td>\n",
       "      <td>0.283228</td>\n",
       "      <td>26.132</td>\n",
       "      <td>24.661</td>\n",
       "      <td>...</td>\n",
       "      <td>0.310656</td>\n",
       "      <td>0.310656</td>\n",
       "      <td>0.310656</td>\n",
       "      <td>0.310656</td>\n",
       "      <td>0.310656</td>\n",
       "      <td>0.314165</td>\n",
       "      <td>0.314165</td>\n",
       "      <td>0.314165</td>\n",
       "      <td>0.314165</td>\n",
       "      <td>0.314165</td>\n",
       "    </tr>\n",
       "    <tr>\n",
       "      <th>2</th>\n",
       "      <td>2</td>\n",
       "      <td>4204</td>\n",
       "      <td>0</td>\n",
       "      <td>4</td>\n",
       "      <td>5</td>\n",
       "      <td>2004</td>\n",
       "      <td>1</td>\n",
       "      <td>0.106263</td>\n",
       "      <td>26.132</td>\n",
       "      <td>24.661</td>\n",
       "      <td>...</td>\n",
       "      <td>0.310656</td>\n",
       "      <td>0.310656</td>\n",
       "      <td>0.310656</td>\n",
       "      <td>0.310656</td>\n",
       "      <td>0.310656</td>\n",
       "      <td>0.314165</td>\n",
       "      <td>0.314165</td>\n",
       "      <td>0.314165</td>\n",
       "      <td>0.314165</td>\n",
       "      <td>0.314165</td>\n",
       "    </tr>\n",
       "    <tr>\n",
       "      <th>3</th>\n",
       "      <td>3</td>\n",
       "      <td>1</td>\n",
       "      <td>0</td>\n",
       "      <td>19</td>\n",
       "      <td>5</td>\n",
       "      <td>2004</td>\n",
       "      <td>2</td>\n",
       "      <td>0.047658</td>\n",
       "      <td>25.295</td>\n",
       "      <td>24.401</td>\n",
       "      <td>...</td>\n",
       "      <td>0.348440</td>\n",
       "      <td>0.310656</td>\n",
       "      <td>0.310656</td>\n",
       "      <td>0.310656</td>\n",
       "      <td>0.310656</td>\n",
       "      <td>0.333850</td>\n",
       "      <td>0.314165</td>\n",
       "      <td>0.314165</td>\n",
       "      <td>0.314165</td>\n",
       "      <td>0.314165</td>\n",
       "    </tr>\n",
       "    <tr>\n",
       "      <th>4</th>\n",
       "      <td>4</td>\n",
       "      <td>1533</td>\n",
       "      <td>0</td>\n",
       "      <td>13</td>\n",
       "      <td>2</td>\n",
       "      <td>2004</td>\n",
       "      <td>2</td>\n",
       "      <td>0.182068</td>\n",
       "      <td>25.295</td>\n",
       "      <td>24.401</td>\n",
       "      <td>...</td>\n",
       "      <td>0.348440</td>\n",
       "      <td>0.310656</td>\n",
       "      <td>0.310656</td>\n",
       "      <td>0.310656</td>\n",
       "      <td>0.310656</td>\n",
       "      <td>0.333850</td>\n",
       "      <td>0.314165</td>\n",
       "      <td>0.314165</td>\n",
       "      <td>0.314165</td>\n",
       "      <td>0.314165</td>\n",
       "    </tr>\n",
       "  </tbody>\n",
       "</table>\n",
       "<p>5 rows × 56 columns</p>\n",
       "</div>"
      ],
      "text/plain": [
       "   index    Id  field  age  type  harvest_year  harvest_month  production  \\\n",
       "0      0     0      0   19     5          2004              1    0.064071   \n",
       "1      1  1532      0   13     2          2004              1    0.283228   \n",
       "2      2  4204      0    4     5          2004              1    0.106263   \n",
       "3      3     1      0   19     5          2004              2    0.047658   \n",
       "4      4  1533      0   13     2          2004              2    0.182068   \n",
       "\n",
       "   temperature  dewpoint       ...        Soilwater_L3_1  Soilwater_L3_2  \\\n",
       "0       26.132    24.661       ...              0.310656        0.310656   \n",
       "1       26.132    24.661       ...              0.310656        0.310656   \n",
       "2       26.132    24.661       ...              0.310656        0.310656   \n",
       "3       25.295    24.401       ...              0.348440        0.310656   \n",
       "4       25.295    24.401       ...              0.348440        0.310656   \n",
       "\n",
       "   Soilwater_L3_3  Soilwater_L3_4  Soilwater_L3_5  Soilwater_L4_1  \\\n",
       "0        0.310656        0.310656        0.310656        0.314165   \n",
       "1        0.310656        0.310656        0.310656        0.314165   \n",
       "2        0.310656        0.310656        0.310656        0.314165   \n",
       "3        0.310656        0.310656        0.310656        0.333850   \n",
       "4        0.310656        0.310656        0.310656        0.333850   \n",
       "\n",
       "   Soilwater_L4_2  Soilwater_L4_3  Soilwater_L4_4  Soilwater_L4_5  \n",
       "0        0.314165        0.314165        0.314165        0.314165  \n",
       "1        0.314165        0.314165        0.314165        0.314165  \n",
       "2        0.314165        0.314165        0.314165        0.314165  \n",
       "3        0.314165        0.314165        0.314165        0.314165  \n",
       "4        0.314165        0.314165        0.314165        0.314165  \n",
       "\n",
       "[5 rows x 56 columns]"
      ]
     },
     "execution_count": 30,
     "metadata": {},
     "output_type": "execute_result"
    }
   ],
   "source": [
    "df_all_ftrs.head()"
   ]
  },
  {
   "cell_type": "markdown",
   "metadata": {},
   "source": [
    "## Map Age to Intervals"
   ]
  },
  {
   "cell_type": "code",
   "execution_count": 31,
   "metadata": {},
   "outputs": [],
   "source": [
    "intervals = (\n",
    "    ( 5, '0_4'),\n",
    "    (10, '5_9'),\n",
    "    (15, '10_14'),\n",
    "    (20, '15_19'),\n",
    "    (99, '20_'),\n",
    ")\n",
    "map_age = {}\n",
    "age = 0\n",
    "for i in intervals:\n",
    "    for a in range(age, i[0]):\n",
    "        map_age[a] = i[1]\n",
    "    age = i[0]\n",
    "\n",
    "df_all_ftrs.loc[:, 'age_interval'] = df_all_ftrs.loc[:, 'age'].map(map_age)\n",
    "\n",
    "#df_all_ftrs.head(10).loc[:,('age', 'age_interval')]"
   ]
  },
  {
   "cell_type": "markdown",
   "metadata": {},
   "source": [
    "## One-Hot Encoding of some Features"
   ]
  },
  {
   "cell_type": "code",
   "execution_count": 32,
   "metadata": {
    "scrolled": false
   },
   "outputs": [
    {
     "data": {
      "text/plain": [
       "Index(['index', 'Id', 'field', 'age', 'type', 'harvest_year', 'production',\n",
       "       'temperature', 'dewpoint', 'windspeed', 'Soilwater_L1', 'Soilwater_L2',\n",
       "       'Soilwater_L3', 'Soilwater_L4', 'Precipitation', 'temperature_1',\n",
       "       'temperature_2', 'temperature_3', 'temperature_4', 'temperature_5',\n",
       "       'dewpoint_1', 'dewpoint_2', 'dewpoint_3', 'dewpoint_4', 'dewpoint_5',\n",
       "       'windspeed_1', 'windspeed_2', 'windspeed_3', 'windspeed_4',\n",
       "       'windspeed_5', 'Precipitation_1', 'Precipitation_2', 'Precipitation_3',\n",
       "       'Precipitation_4', 'Precipitation_5', 'Soilwater_L1_1',\n",
       "       'Soilwater_L1_2', 'Soilwater_L1_3', 'Soilwater_L1_4', 'Soilwater_L1_5',\n",
       "       'Soilwater_L2_1', 'Soilwater_L2_2', 'Soilwater_L2_3', 'Soilwater_L2_4',\n",
       "       'Soilwater_L2_5', 'Soilwater_L3_1', 'Soilwater_L3_2', 'Soilwater_L3_3',\n",
       "       'Soilwater_L3_4', 'Soilwater_L3_5', 'Soilwater_L4_1', 'Soilwater_L4_2',\n",
       "       'Soilwater_L4_3', 'Soilwater_L4_4', 'Soilwater_L4_5', 'harvest_month_1',\n",
       "       'harvest_month_2', 'harvest_month_3', 'harvest_month_4',\n",
       "       'harvest_month_5', 'harvest_month_6', 'harvest_month_7',\n",
       "       'harvest_month_8', 'harvest_month_9', 'harvest_month_10',\n",
       "       'harvest_month_11', 'harvest_month_12', 'harvest_month',\n",
       "       'age_interval_0_4', 'age_interval_10_14', 'age_interval_15_19',\n",
       "       'age_interval_20_', 'age_interval_5_9'],\n",
       "      dtype='object')"
      ]
     },
     "execution_count": 32,
     "metadata": {},
     "output_type": "execute_result"
    }
   ],
   "source": [
    "#df_all_ftrs = pd.get_dummies(df_all_ftrs, columns=['harvest_month', 'field'])\n",
    "df_dum = pd.get_dummies(df_all_ftrs, columns=['harvest_month'])\n",
    "df_dum['harvest_month'] = pd.Series(df_all_ftrs.harvest_month, index=df_dum.index)\n",
    "df_dum = pd.get_dummies(df_dum, columns=['age_interval'])\n",
    "#df_all_ftrs = pd.get_dummies(df_all_ftrs, columns=['age'])\n",
    "df_all_ftrs = df_dum\n",
    "df_all_ftrs.columns"
   ]
  },
  {
   "cell_type": "markdown",
   "metadata": {},
   "source": [
    "## Parameter Search"
   ]
  },
  {
   "cell_type": "code",
   "execution_count": 33,
   "metadata": {
    "scrolled": false
   },
   "outputs": [],
   "source": [
    "from sklearn.svm import SVR\n",
    "from sklearn.preprocessing import StandardScaler\n",
    "from sklearn.model_selection import cross_validate, RandomizedSearchCV, GridSearchCV\n",
    "from sklearn.metrics import mean_absolute_error, make_scorer\n",
    "\n",
    "# Exclude test data.\n",
    "df_train = df_all_ftrs[~df_all_ftrs.production.isna()]\n",
    "\n",
    "# All features.\n",
    "features = list(set(df_train.columns) - set(['production', 'Id', 'index']))\n",
    "\n",
    "# Input and output data.\n",
    "X = df_train[features]\n",
    "y = df_train.production.values\n",
    "\n",
    "# Scaling all data.\n",
    "scaler = StandardScaler()\n",
    "Xt = scaler.fit_transform(X)\n",
    "\n",
    "# Validate\n",
    "base_model = SVR()\n",
    "\n",
    "param_distros = {\n",
    "    'kernel': ['rbf'],\n",
    "    'C': np.logspace(-12, 0, 13, base=2),\n",
    "    'gamma': np.logspace(-12, 0, 13, base=2),\n",
    "}\n",
    "\n",
    "cv = cvPerYear(X, y, 2010, 2012, evalOnlyLast=False)\n",
    "\n",
    "param_search = RandomizedSearchCV(base_model, param_distros, n_iter=100,\n",
    "                                  scoring='neg_mean_absolute_error', \n",
    "                                  n_jobs=N_JOBS, iid=True, refit=False, \n",
    "                                  cv=cv, return_train_score=True,\n",
    "                                  random_state=1)\n",
    "\n",
    "param_search.fit(Xt, y)\n",
    "\n",
    "param_res = pd.DataFrame(param_search.cv_results_)"
   ]
  },
  {
   "cell_type": "code",
   "execution_count": 34,
   "metadata": {
    "scrolled": true
   },
   "outputs": [
    {
     "data": {
      "text/html": [
       "<div>\n",
       "<style scoped>\n",
       "    .dataframe tbody tr th:only-of-type {\n",
       "        vertical-align: middle;\n",
       "    }\n",
       "\n",
       "    .dataframe tbody tr th {\n",
       "        vertical-align: top;\n",
       "    }\n",
       "\n",
       "    .dataframe thead th {\n",
       "        text-align: right;\n",
       "    }\n",
       "</style>\n",
       "<table border=\"1\" class=\"dataframe\">\n",
       "  <thead>\n",
       "    <tr style=\"text-align: right;\">\n",
       "      <th></th>\n",
       "      <th>param_kernel</th>\n",
       "      <th>param_gamma</th>\n",
       "      <th>param_C</th>\n",
       "      <th>split0_test_score</th>\n",
       "      <th>split1_test_score</th>\n",
       "      <th>mean_test_score</th>\n",
       "      <th>std_test_score</th>\n",
       "      <th>rank_test_score</th>\n",
       "    </tr>\n",
       "  </thead>\n",
       "  <tbody>\n",
       "    <tr>\n",
       "      <th>16</th>\n",
       "      <td>rbf</td>\n",
       "      <td>0.0078125</td>\n",
       "      <td>0.125</td>\n",
       "      <td>-0.088348</td>\n",
       "      <td>-0.100718</td>\n",
       "      <td>-0.092505</td>\n",
       "      <td>0.005843</td>\n",
       "      <td>1</td>\n",
       "    </tr>\n",
       "    <tr>\n",
       "      <th>89</th>\n",
       "      <td>rbf</td>\n",
       "      <td>0.00195312</td>\n",
       "      <td>1</td>\n",
       "      <td>-0.088493</td>\n",
       "      <td>-0.101385</td>\n",
       "      <td>-0.092825</td>\n",
       "      <td>0.006090</td>\n",
       "      <td>2</td>\n",
       "    </tr>\n",
       "    <tr>\n",
       "      <th>69</th>\n",
       "      <td>rbf</td>\n",
       "      <td>0.0078125</td>\n",
       "      <td>0.25</td>\n",
       "      <td>-0.088038</td>\n",
       "      <td>-0.102378</td>\n",
       "      <td>-0.092857</td>\n",
       "      <td>0.006773</td>\n",
       "      <td>3</td>\n",
       "    </tr>\n",
       "    <tr>\n",
       "      <th>90</th>\n",
       "      <td>rbf</td>\n",
       "      <td>0.015625</td>\n",
       "      <td>0.0625</td>\n",
       "      <td>-0.089438</td>\n",
       "      <td>-0.100917</td>\n",
       "      <td>-0.093296</td>\n",
       "      <td>0.005422</td>\n",
       "      <td>4</td>\n",
       "    </tr>\n",
       "    <tr>\n",
       "      <th>99</th>\n",
       "      <td>rbf</td>\n",
       "      <td>0.0078125</td>\n",
       "      <td>0.015625</td>\n",
       "      <td>-0.090570</td>\n",
       "      <td>-0.099067</td>\n",
       "      <td>-0.093425</td>\n",
       "      <td>0.004013</td>\n",
       "      <td>5</td>\n",
       "    </tr>\n",
       "    <tr>\n",
       "      <th>37</th>\n",
       "      <td>rbf</td>\n",
       "      <td>0.00390625</td>\n",
       "      <td>0.0625</td>\n",
       "      <td>-0.090145</td>\n",
       "      <td>-0.099974</td>\n",
       "      <td>-0.093448</td>\n",
       "      <td>0.004643</td>\n",
       "      <td>6</td>\n",
       "    </tr>\n",
       "    <tr>\n",
       "      <th>8</th>\n",
       "      <td>rbf</td>\n",
       "      <td>0.015625</td>\n",
       "      <td>0.03125</td>\n",
       "      <td>-0.090267</td>\n",
       "      <td>-0.099845</td>\n",
       "      <td>-0.093486</td>\n",
       "      <td>0.004524</td>\n",
       "      <td>7</td>\n",
       "    </tr>\n",
       "    <tr>\n",
       "      <th>62</th>\n",
       "      <td>rbf</td>\n",
       "      <td>0.015625</td>\n",
       "      <td>0.015625</td>\n",
       "      <td>-0.090778</td>\n",
       "      <td>-0.099298</td>\n",
       "      <td>-0.093641</td>\n",
       "      <td>0.004025</td>\n",
       "      <td>8</td>\n",
       "    </tr>\n",
       "    <tr>\n",
       "      <th>41</th>\n",
       "      <td>rbf</td>\n",
       "      <td>0.00390625</td>\n",
       "      <td>0.03125</td>\n",
       "      <td>-0.091070</td>\n",
       "      <td>-0.099754</td>\n",
       "      <td>-0.093988</td>\n",
       "      <td>0.004102</td>\n",
       "      <td>9</td>\n",
       "    </tr>\n",
       "    <tr>\n",
       "      <th>93</th>\n",
       "      <td>rbf</td>\n",
       "      <td>0.015625</td>\n",
       "      <td>0.125</td>\n",
       "      <td>-0.089726</td>\n",
       "      <td>-0.103344</td>\n",
       "      <td>-0.094302</td>\n",
       "      <td>0.006433</td>\n",
       "      <td>10</td>\n",
       "    </tr>\n",
       "  </tbody>\n",
       "</table>\n",
       "</div>"
      ],
      "text/plain": [
       "   param_kernel param_gamma   param_C  split0_test_score  split1_test_score  \\\n",
       "16          rbf   0.0078125     0.125          -0.088348          -0.100718   \n",
       "89          rbf  0.00195312         1          -0.088493          -0.101385   \n",
       "69          rbf   0.0078125      0.25          -0.088038          -0.102378   \n",
       "90          rbf    0.015625    0.0625          -0.089438          -0.100917   \n",
       "99          rbf   0.0078125  0.015625          -0.090570          -0.099067   \n",
       "37          rbf  0.00390625    0.0625          -0.090145          -0.099974   \n",
       "8           rbf    0.015625   0.03125          -0.090267          -0.099845   \n",
       "62          rbf    0.015625  0.015625          -0.090778          -0.099298   \n",
       "41          rbf  0.00390625   0.03125          -0.091070          -0.099754   \n",
       "93          rbf    0.015625     0.125          -0.089726          -0.103344   \n",
       "\n",
       "    mean_test_score  std_test_score  rank_test_score  \n",
       "16        -0.092505        0.005843                1  \n",
       "89        -0.092825        0.006090                2  \n",
       "69        -0.092857        0.006773                3  \n",
       "90        -0.093296        0.005422                4  \n",
       "99        -0.093425        0.004013                5  \n",
       "37        -0.093448        0.004643                6  \n",
       "8         -0.093486        0.004524                7  \n",
       "62        -0.093641        0.004025                8  \n",
       "41        -0.093988        0.004102                9  \n",
       "93        -0.094302        0.006433               10  "
      ]
     },
     "execution_count": 34,
     "metadata": {},
     "output_type": "execute_result"
    }
   ],
   "source": [
    "cols = [c for c in param_res.columns if ('train' in c or 'time' in c)]\n",
    "cols.append('params')\n",
    "param_res.drop(cols, axis=1).sort_values('mean_test_score', ascending=False).head(10)"
   ]
  },
  {
   "cell_type": "markdown",
   "metadata": {},
   "source": [
    "### Validation Curve (C)"
   ]
  },
  {
   "cell_type": "code",
   "execution_count": 11,
   "metadata": {},
   "outputs": [
    {
     "name": "stdout",
     "output_type": "stream",
     "text": [
      "SVR(C=0.015625, cache_size=200, coef0=0.0, degree=3, epsilon=0.1,\n",
      "  gamma=0.0078125, kernel='rbf', max_iter=-1, shrinking=True, tol=0.001,\n",
      "  verbose=False)\n"
     ]
    }
   ],
   "source": [
    "from sklearn.model_selection import validation_curve\n",
    "\n",
    "# Param gamma range.\n",
    "C_range = np.logspace(-12, 0, 13, base=2)\n",
    "\n",
    "# Cross-validation generator.\n",
    "cv = cvPerYear(X, y, 2010, 2012, evalOnlyLast=False)\n",
    "\n",
    "# Model.\n",
    "model = SVR(**param_search.best_params_)\n",
    "print(model)\n",
    "\n",
    "train_scores, test_scores = validation_curve(\n",
    "    model, Xt, y, param_name='C', \n",
    "    param_range=C_range, cv=cv,\n",
    "    scoring='neg_mean_absolute_error', n_jobs=N_JOBS)\n",
    "\n",
    "train_scores_mean = -np.mean(train_scores, axis=1)\n",
    "train_scores_std = np.std(train_scores, axis=1)\n",
    "test_scores_mean = -np.mean(test_scores, axis=1)\n",
    "test_scores_std = np.std(test_scores, axis=1)"
   ]
  },
  {
   "cell_type": "code",
   "execution_count": 12,
   "metadata": {
    "scrolled": true
   },
   "outputs": [
    {
     "data": {
      "image/png": "[encoded data removed]",
      "text/plain": [
       "<Figure size 432x288 with 1 Axes>"
      ]
     },
     "metadata": {},
     "output_type": "display_data"
    }
   ],
   "source": [
    "plt.title(\"Validation Curve with SVM\")\n",
    "plt.xlabel(\"$C$\")\n",
    "plt.ylabel(\"MAE\")\n",
    "plt.ylim(0.06, 0.12)\n",
    "lw = 2\n",
    "plt.semilogx(C_range, train_scores_mean, label=\"Training score\",\n",
    "             color=\"darkorange\", lw=lw, basex=2)\n",
    "plt.fill_between(C_range, train_scores_mean - train_scores_std,\n",
    "                 train_scores_mean + train_scores_std, alpha=0.2,\n",
    "                 color=\"darkorange\", lw=lw)\n",
    "plt.semilogx(C_range, test_scores_mean, label=\"Cross-validation score\",\n",
    "             color=\"navy\", lw=lw, basex=2)\n",
    "plt.fill_between(C_range, test_scores_mean - test_scores_std,\n",
    "                 test_scores_mean + test_scores_std, alpha=0.2,\n",
    "                 color=\"navy\", lw=lw)\n",
    "plt.legend(loc=\"best\")\n",
    "plt.show()"
   ]
  },
  {
   "cell_type": "markdown",
   "metadata": {},
   "source": [
    "### Validation Curve (gamma)"
   ]
  },
  {
   "cell_type": "code",
   "execution_count": 13,
   "metadata": {},
   "outputs": [
    {
     "name": "stdout",
     "output_type": "stream",
     "text": [
      "SVR(C=0.015625, cache_size=200, coef0=0.0, degree=3, epsilon=0.1,\n",
      "  gamma=0.0078125, kernel='rbf', max_iter=-1, shrinking=True, tol=0.001,\n",
      "  verbose=False)\n"
     ]
    }
   ],
   "source": [
    "from sklearn.model_selection import validation_curve\n",
    "\n",
    "# Param gamma range.\n",
    "gamma_range = np.logspace(-12, 0, 13, base=2)\n",
    "\n",
    "# Cross-validation generator.\n",
    "cv = cvPerYear(X, y, 2010, 2012, evalOnlyLast=False)\n",
    "\n",
    "# Model.\n",
    "model = SVR(**param_search.best_params_)\n",
    "print(model)\n",
    "\n",
    "train_scores, test_scores = validation_curve(\n",
    "    model, Xt, y, param_name='gamma', \n",
    "    param_range=gamma_range, cv=cv,\n",
    "    scoring='neg_mean_absolute_error', n_jobs=N_JOBS)\n",
    "\n",
    "train_scores_mean = -np.mean(train_scores, axis=1)\n",
    "train_scores_std = np.std(train_scores, axis=1)\n",
    "test_scores_mean = -np.mean(test_scores, axis=1)\n",
    "test_scores_std = np.std(test_scores, axis=1)"
   ]
  },
  {
   "cell_type": "code",
   "execution_count": 14,
   "metadata": {},
   "outputs": [
    {
     "data": {
      "image/png": "[encoded data removed]",
      "text/plain": [
       "<Figure size 432x288 with 1 Axes>"
      ]
     },
     "metadata": {},
     "output_type": "display_data"
    }
   ],
   "source": [
    "plt.title(\"Validation Curve with SVM\")\n",
    "plt.xlabel(\"$\\gamma$\")\n",
    "plt.ylabel(\"MAE\")\n",
    "plt.ylim(0.06, 0.12)\n",
    "lw = 2\n",
    "plt.semilogx(gamma_range, train_scores_mean, label=\"Training score\",\n",
    "             color=\"darkorange\", lw=lw, basex=2)\n",
    "plt.fill_between(gamma_range, train_scores_mean - train_scores_std,\n",
    "                 train_scores_mean + train_scores_std, alpha=0.2,\n",
    "                 color=\"darkorange\", lw=lw)\n",
    "plt.semilogx(gamma_range, test_scores_mean, label=\"Cross-validation score\",\n",
    "             color=\"navy\", lw=lw, basex=2)\n",
    "plt.fill_between(gamma_range, test_scores_mean - test_scores_std,\n",
    "                 test_scores_mean + test_scores_std, alpha=0.2,\n",
    "                 color=\"navy\", lw=lw)\n",
    "plt.legend(loc=\"best\")\n",
    "plt.show()"
   ]
  },
  {
   "cell_type": "markdown",
   "metadata": {},
   "source": [
    "### Train on all data"
   ]
  },
  {
   "cell_type": "code",
   "execution_count": 86,
   "metadata": {
    "_uuid": "2d75e68144377f9f03c0dbb932831ca011c5c92f"
   },
   "outputs": [
    {
     "data": {
      "text/plain": [
       "SVR(C=0.125, cache_size=200, coef0=0.0, degree=3, epsilon=0.1,\n",
       "  gamma=0.0078125, kernel='rbf', max_iter=-1, shrinking=True, tol=0.001,\n",
       "  verbose=False)"
      ]
     },
     "execution_count": 86,
     "metadata": {},
     "output_type": "execute_result"
    }
   ],
   "source": [
    "# Exclude test data.\n",
    "df_train = df_all_ftrs[~df_all_ftrs.production.isna()]\n",
    "\n",
    "# All features.\n",
    "features = list(set(df_train.columns) - set(['production', 'date', 'Id', 'index']))\n",
    "\n",
    "# Input and output data.\n",
    "X = df_train[features]\n",
    "y = df_train.production.values\n",
    "\n",
    "# Scaling all data.\n",
    "scaler = StandardScaler()\n",
    "Xt = scaler.fit_transform(X)\n",
    "\n",
    "# Train.\n",
    "model = SVR(**param_search.best_params_)\n",
    "model.fit(Xt, y)"
   ]
  },
  {
   "cell_type": "markdown",
   "metadata": {
    "_uuid": "c8e58b8fb79a0c4d281c343b918f5602c06b9a4e"
   },
   "source": [
    "### Submission and Description Files\n",
    "\n",
    "It makes the predict of the basic model and creates the sample to substrate in kaggle, finishing the complete pipeline"
   ]
  },
  {
   "cell_type": "code",
   "execution_count": 87,
   "metadata": {
    "_uuid": "245969d01f2ee99ef753c7d644833899c7ea6782"
   },
   "outputs": [],
   "source": [
    "from datetime import datetime\n",
    "\n",
    "# Get test examples.\n",
    "df_test = df_all_ftrs[df_all_ftrs.production.isna()]\n",
    "\n",
    "# Important features.\n",
    "X = df_test[features]\n",
    "\n",
    "# Normalize input features.\n",
    "Xt = scaler.transform(X)\n",
    "\n",
    "# Make prediction.\n",
    "pred = model.predict(Xt)\n",
    "\n",
    "now = datetime.now().strftime('%Y-%m-%d-%H-%M-%S-%f')\n",
    "\n",
    "submission_file  = '../submissions/{}.submission.csv'.format(now)\n",
    "model_file       = '../submissions/{}.model.pkl'.format(now)\n",
    "description_file = '../submissions/{}.params.json'.format(now)\n",
    "\n",
    "# Create a submission file.\n",
    "with open(submission_file, 'w') as f:\n",
    "    f.write(\"Id,production\\n\")\n",
    "    for _id, _pred in zip(df_test.Id.values, pred):\n",
    "        f.write(\"{},{}\\n\".format(_id, _pred))\n",
    "\n",
    "# Save model.\n",
    "import pickle\n",
    "with open(model_file, 'wb') as f:\n",
    "    pickle.dump(model, f)\n",
    "\n",
    "# Save model description.\n",
    "import json\n",
    "params = {\n",
    "    'model': str(model),\n",
    "    'best_params': param_search.best_params_,\n",
    "    'model_val': json.loads(param_res[param_res.rank_test_score == 1].squeeze().to_json())\n",
    "}\n",
    "with open(description_file, 'w') as f:\n",
    "    json.dump(params, f, indent=2)"
   ]
  }
 ],
 "metadata": {
  "kernelspec": {
   "display_name": "Python 3",
   "language": "python",
   "name": "python3"
  },
  "language_info": {
   "codemirror_mode": {
    "name": "ipython",
    "version": 3
   },
   "file_extension": ".py",
   "mimetype": "text/x-python",
   "name": "python",
   "nbconvert_exporter": "python",
   "pygments_lexer": "ipython3",
   "version": "3.6.6"
  }
 },
 "nbformat": 4,
 "nbformat_minor": 1
}
