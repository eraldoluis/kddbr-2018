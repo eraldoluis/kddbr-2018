{
 "cells": [
  {
   "cell_type": "markdown",
   "metadata": {
    "_uuid": "4646fdea09654229ea606aa4faffad9cb819398b"
   },
   "source": [
    "# DL Modeling - Fine Tuning from Noiser Pre-Trained Model\n",
    "Load a pre-trained model and fine tune it."
   ]
  },
  {
   "cell_type": "code",
   "execution_count": 1,
   "metadata": {},
   "outputs": [
    {
     "name": "stdout",
     "output_type": "stream",
     "text": [
      "env: CUDA_VISIBLE_DEVICES=1\n"
     ]
    }
   ],
   "source": [
    "%matplotlib inline\n",
    "%reload_ext autoreload\n",
    "%autoreload 2\n",
    "\n",
    "%env CUDA_VISIBLE_DEVICES=1"
   ]
  },
  {
   "cell_type": "code",
   "execution_count": 2,
   "metadata": {
    "_uuid": "35b9298747ec076ac8a9afb81192039880e46f2c"
   },
   "outputs": [
    {
     "name": "stderr",
     "output_type": "stream",
     "text": [
      "/home/eraldo/miniconda2/envs/fastai/lib/python3.6/importlib/_bootstrap.py:219: RuntimeWarning: numpy.dtype size changed, may indicate binary incompatibility. Expected 96, got 88\n",
      "  return f(*args, **kwds)\n"
     ]
    }
   ],
   "source": [
    "import pandas as pd\n",
    "import numpy as np\n",
    "import os \n",
    "\n",
    "from datetime import datetime\n",
    "import matplotlib.pyplot as plt\n",
    "import seaborn as sns\n",
    "\n",
    "from kdd_utils import addFieldDataFtrs, addSoilFtrs, cvPerYear, load_model_ignoring, save_model_ignoring\n",
    "\n",
    "sns.set(style=\"whitegrid\")"
   ]
  },
  {
   "cell_type": "code",
   "execution_count": 3,
   "metadata": {},
   "outputs": [
    {
     "name": "stderr",
     "output_type": "stream",
     "text": [
      "/home/eraldo/miniconda2/envs/fastai/lib/python3.6/importlib/_bootstrap.py:219: RuntimeWarning: numpy.dtype size changed, may indicate binary incompatibility. Expected 96, got 88\n",
      "  return f(*args, **kwds)\n",
      "/home/eraldo/miniconda2/envs/fastai/lib/python3.6/site-packages/sklearn/ensemble/weight_boosting.py:29: DeprecationWarning: numpy.core.umath_tests is an internal NumPy module and should not be imported. It will be removed in a future NumPy release.\n",
      "  from numpy.core.umath_tests import inner1d\n"
     ]
    }
   ],
   "source": [
    "from fastai.structured import *\n",
    "from fastai.column_data import *"
   ]
  },
  {
   "cell_type": "markdown",
   "metadata": {
    "_uuid": "5e5a56ed28ca3f0433752b640126d39410d590e7"
   },
   "source": [
    "## Train and test datasets\n",
    "\n",
    "Basic data containing palm tree information"
   ]
  },
  {
   "cell_type": "code",
   "execution_count": 4,
   "metadata": {
    "_uuid": "d26413ead269ebe206f0ac43cda68634d9611199",
    "scrolled": true
   },
   "outputs": [
    {
     "name": "stdout",
     "output_type": "stream",
     "text": [
      "Shapes\n",
      "---\n",
      "Train: (5243, 7)\n",
      " Test: (4110, 6)\n",
      "  All: (9353, 7)\n"
     ]
    }
   ],
   "source": [
    "path = '../input/'\n",
    "\n",
    "# Train data.\n",
    "df_train = pd.read_csv(os.path.join(path, 'train.csv'))\n",
    "\n",
    "# Ignoring date before 2006 for training.\n",
    "# df_train = df_train[df_train.harvest_year >= 2006]\n",
    "\n",
    "# Using only examples with type=5 for training.\n",
    "# df_train = df_train[df_train.type == 5]\n",
    "\n",
    "# Test data.\n",
    "df_test  = pd.read_csv(os.path.join(path, 'test.csv'))\n",
    "\n",
    "# Merge train and test data for ease of pre-processing.\n",
    "df_all = pd.concat([df_train, df_test], sort=False).reindex()\n",
    "\n",
    "# Configure number of jobs.\n",
    "N_JOBS=7\n",
    "\n",
    "print('Shapes\\n---\\nTrain: {}\\n Test: {}\\n  All: {}'.format(df_train.shape, df_test.shape, df_all.shape))"
   ]
  },
  {
   "cell_type": "markdown",
   "metadata": {
    "_uuid": "8163b4159ec67907aa1518f341edf613f4bc7266"
   },
   "source": [
    "## Field and Soil Features\n",
    "\n",
    "These files hold atmospheric data from January 2002 to December 2017, and can be used to estimate the weather conditions during the development of the plant. Notice that weather does influence the production. Using only a single month prior to harvest is probably too little data. Participants should decide how far back in the past they want to look when training models.\n",
    "\n"
   ]
  },
  {
   "cell_type": "code",
   "execution_count": 5,
   "metadata": {
    "_uuid": "c9596d68c59820e59de0b7861c9234712185fdab",
    "scrolled": true
   },
   "outputs": [
    {
     "name": "stdout",
     "output_type": "stream",
     "text": [
      "['index', 'Id', 'field', 'age', 'type', 'harvest_year', 'harvest_month', 'production', 'temperature', 'dewpoint', 'windspeed', 'Soilwater_L1', 'Soilwater_L2', 'Soilwater_L3', 'Soilwater_L4', 'Precipitation', 'temperature_1', 'temperature_2', 'temperature_3', 'temperature_4', 'temperature_5', 'temperature_6', 'temperature_7', 'temperature_8', 'temperature_9', 'temperature_10', 'temperature_11', 'dewpoint_1', 'dewpoint_2', 'dewpoint_3', 'dewpoint_4', 'dewpoint_5', 'dewpoint_6', 'dewpoint_7', 'dewpoint_8', 'dewpoint_9', 'dewpoint_10', 'dewpoint_11', 'windspeed_1', 'windspeed_2', 'windspeed_3', 'windspeed_4', 'windspeed_5', 'windspeed_6', 'windspeed_7', 'windspeed_8', 'windspeed_9', 'windspeed_10', 'windspeed_11', 'Precipitation_1', 'Precipitation_2', 'Precipitation_3', 'Precipitation_4', 'Precipitation_5', 'Precipitation_6', 'Precipitation_7', 'Precipitation_8', 'Precipitation_9', 'Precipitation_10', 'Precipitation_11', 'Soilwater_L1_1', 'Soilwater_L1_2', 'Soilwater_L1_3', 'Soilwater_L1_4', 'Soilwater_L1_5', 'Soilwater_L1_6', 'Soilwater_L1_7', 'Soilwater_L1_8', 'Soilwater_L1_9', 'Soilwater_L1_10', 'Soilwater_L1_11', 'Soilwater_L2_1', 'Soilwater_L2_2', 'Soilwater_L2_3', 'Soilwater_L2_4', 'Soilwater_L2_5', 'Soilwater_L2_6', 'Soilwater_L2_7', 'Soilwater_L2_8', 'Soilwater_L2_9', 'Soilwater_L2_10', 'Soilwater_L2_11', 'Soilwater_L3_1', 'Soilwater_L3_2', 'Soilwater_L3_3', 'Soilwater_L3_4', 'Soilwater_L3_5', 'Soilwater_L3_6', 'Soilwater_L3_7', 'Soilwater_L3_8', 'Soilwater_L3_9', 'Soilwater_L3_10', 'Soilwater_L3_11', 'Soilwater_L4_1', 'Soilwater_L4_2', 'Soilwater_L4_3', 'Soilwater_L4_4', 'Soilwater_L4_5', 'Soilwater_L4_6', 'Soilwater_L4_7', 'Soilwater_L4_8', 'Soilwater_L4_9', 'Soilwater_L4_10', 'Soilwater_L4_11']\n"
     ]
    }
   ],
   "source": [
    "df_all_ftrs = addFieldDataFtrs(df_all, shiftPeriod=12, shiftFtrs=['temperature', 'dewpoint', 'windspeed', \n",
    "                                                                 'Precipitation', 'Soilwater_L1', \n",
    "                                                                 'Soilwater_L2', 'Soilwater_L3', \n",
    "                                                                 'Soilwater_L4'])\n",
    "#df_all_ftrs = addSoilFtrs(df_all_ftrs)\n",
    "print(list(df_all_ftrs.columns))"
   ]
  },
  {
   "cell_type": "code",
   "execution_count": 6,
   "metadata": {
    "scrolled": true
   },
   "outputs": [
    {
     "data": {
      "text/html": [
       "<div>\n",
       "<style scoped>\n",
       "    .dataframe tbody tr th:only-of-type {\n",
       "        vertical-align: middle;\n",
       "    }\n",
       "\n",
       "    .dataframe tbody tr th {\n",
       "        vertical-align: top;\n",
       "    }\n",
       "\n",
       "    .dataframe thead th {\n",
       "        text-align: right;\n",
       "    }\n",
       "</style>\n",
       "<table border=\"1\" class=\"dataframe\">\n",
       "  <thead>\n",
       "    <tr style=\"text-align: right;\">\n",
       "      <th></th>\n",
       "      <th>index</th>\n",
       "      <th>Id</th>\n",
       "      <th>field</th>\n",
       "      <th>age</th>\n",
       "      <th>type</th>\n",
       "      <th>harvest_year</th>\n",
       "      <th>harvest_month</th>\n",
       "      <th>production</th>\n",
       "      <th>temperature</th>\n",
       "      <th>dewpoint</th>\n",
       "      <th>...</th>\n",
       "      <th>Soilwater_L4_2</th>\n",
       "      <th>Soilwater_L4_3</th>\n",
       "      <th>Soilwater_L4_4</th>\n",
       "      <th>Soilwater_L4_5</th>\n",
       "      <th>Soilwater_L4_6</th>\n",
       "      <th>Soilwater_L4_7</th>\n",
       "      <th>Soilwater_L4_8</th>\n",
       "      <th>Soilwater_L4_9</th>\n",
       "      <th>Soilwater_L4_10</th>\n",
       "      <th>Soilwater_L4_11</th>\n",
       "    </tr>\n",
       "  </thead>\n",
       "  <tbody>\n",
       "    <tr>\n",
       "      <th>0</th>\n",
       "      <td>0</td>\n",
       "      <td>0</td>\n",
       "      <td>0</td>\n",
       "      <td>19</td>\n",
       "      <td>5</td>\n",
       "      <td>2004</td>\n",
       "      <td>1</td>\n",
       "      <td>0.064071</td>\n",
       "      <td>26.132</td>\n",
       "      <td>24.661</td>\n",
       "      <td>...</td>\n",
       "      <td>0.314165</td>\n",
       "      <td>0.314165</td>\n",
       "      <td>0.314165</td>\n",
       "      <td>0.314165</td>\n",
       "      <td>0.314165</td>\n",
       "      <td>0.314165</td>\n",
       "      <td>0.314165</td>\n",
       "      <td>0.314165</td>\n",
       "      <td>0.314165</td>\n",
       "      <td>0.314165</td>\n",
       "    </tr>\n",
       "    <tr>\n",
       "      <th>1</th>\n",
       "      <td>1</td>\n",
       "      <td>1532</td>\n",
       "      <td>0</td>\n",
       "      <td>13</td>\n",
       "      <td>2</td>\n",
       "      <td>2004</td>\n",
       "      <td>1</td>\n",
       "      <td>0.283228</td>\n",
       "      <td>26.132</td>\n",
       "      <td>24.661</td>\n",
       "      <td>...</td>\n",
       "      <td>0.314165</td>\n",
       "      <td>0.314165</td>\n",
       "      <td>0.314165</td>\n",
       "      <td>0.314165</td>\n",
       "      <td>0.314165</td>\n",
       "      <td>0.314165</td>\n",
       "      <td>0.314165</td>\n",
       "      <td>0.314165</td>\n",
       "      <td>0.314165</td>\n",
       "      <td>0.314165</td>\n",
       "    </tr>\n",
       "    <tr>\n",
       "      <th>2</th>\n",
       "      <td>2</td>\n",
       "      <td>4204</td>\n",
       "      <td>0</td>\n",
       "      <td>4</td>\n",
       "      <td>5</td>\n",
       "      <td>2004</td>\n",
       "      <td>1</td>\n",
       "      <td>0.106263</td>\n",
       "      <td>26.132</td>\n",
       "      <td>24.661</td>\n",
       "      <td>...</td>\n",
       "      <td>0.314165</td>\n",
       "      <td>0.314165</td>\n",
       "      <td>0.314165</td>\n",
       "      <td>0.314165</td>\n",
       "      <td>0.314165</td>\n",
       "      <td>0.314165</td>\n",
       "      <td>0.314165</td>\n",
       "      <td>0.314165</td>\n",
       "      <td>0.314165</td>\n",
       "      <td>0.314165</td>\n",
       "    </tr>\n",
       "    <tr>\n",
       "      <th>3</th>\n",
       "      <td>3</td>\n",
       "      <td>1</td>\n",
       "      <td>0</td>\n",
       "      <td>19</td>\n",
       "      <td>5</td>\n",
       "      <td>2004</td>\n",
       "      <td>2</td>\n",
       "      <td>0.047658</td>\n",
       "      <td>25.295</td>\n",
       "      <td>24.401</td>\n",
       "      <td>...</td>\n",
       "      <td>0.314165</td>\n",
       "      <td>0.314165</td>\n",
       "      <td>0.314165</td>\n",
       "      <td>0.314165</td>\n",
       "      <td>0.314165</td>\n",
       "      <td>0.314165</td>\n",
       "      <td>0.314165</td>\n",
       "      <td>0.314165</td>\n",
       "      <td>0.314165</td>\n",
       "      <td>0.314165</td>\n",
       "    </tr>\n",
       "    <tr>\n",
       "      <th>4</th>\n",
       "      <td>4</td>\n",
       "      <td>1533</td>\n",
       "      <td>0</td>\n",
       "      <td>13</td>\n",
       "      <td>2</td>\n",
       "      <td>2004</td>\n",
       "      <td>2</td>\n",
       "      <td>0.182068</td>\n",
       "      <td>25.295</td>\n",
       "      <td>24.401</td>\n",
       "      <td>...</td>\n",
       "      <td>0.314165</td>\n",
       "      <td>0.314165</td>\n",
       "      <td>0.314165</td>\n",
       "      <td>0.314165</td>\n",
       "      <td>0.314165</td>\n",
       "      <td>0.314165</td>\n",
       "      <td>0.314165</td>\n",
       "      <td>0.314165</td>\n",
       "      <td>0.314165</td>\n",
       "      <td>0.314165</td>\n",
       "    </tr>\n",
       "  </tbody>\n",
       "</table>\n",
       "<p>5 rows × 104 columns</p>\n",
       "</div>"
      ],
      "text/plain": [
       "   index    Id  field  age  type  harvest_year  harvest_month  production  \\\n",
       "0      0     0      0   19     5          2004              1    0.064071   \n",
       "1      1  1532      0   13     2          2004              1    0.283228   \n",
       "2      2  4204      0    4     5          2004              1    0.106263   \n",
       "3      3     1      0   19     5          2004              2    0.047658   \n",
       "4      4  1533      0   13     2          2004              2    0.182068   \n",
       "\n",
       "   temperature  dewpoint       ...         Soilwater_L4_2  Soilwater_L4_3  \\\n",
       "0       26.132    24.661       ...               0.314165        0.314165   \n",
       "1       26.132    24.661       ...               0.314165        0.314165   \n",
       "2       26.132    24.661       ...               0.314165        0.314165   \n",
       "3       25.295    24.401       ...               0.314165        0.314165   \n",
       "4       25.295    24.401       ...               0.314165        0.314165   \n",
       "\n",
       "   Soilwater_L4_4  Soilwater_L4_5  Soilwater_L4_6  Soilwater_L4_7  \\\n",
       "0        0.314165        0.314165        0.314165        0.314165   \n",
       "1        0.314165        0.314165        0.314165        0.314165   \n",
       "2        0.314165        0.314165        0.314165        0.314165   \n",
       "3        0.314165        0.314165        0.314165        0.314165   \n",
       "4        0.314165        0.314165        0.314165        0.314165   \n",
       "\n",
       "   Soilwater_L4_8  Soilwater_L4_9  Soilwater_L4_10  Soilwater_L4_11  \n",
       "0        0.314165        0.314165         0.314165         0.314165  \n",
       "1        0.314165        0.314165         0.314165         0.314165  \n",
       "2        0.314165        0.314165         0.314165         0.314165  \n",
       "3        0.314165        0.314165         0.314165         0.314165  \n",
       "4        0.314165        0.314165         0.314165         0.314165  \n",
       "\n",
       "[5 rows x 104 columns]"
      ]
     },
     "execution_count": 6,
     "metadata": {},
     "output_type": "execute_result"
    }
   ],
   "source": [
    "df_all_ftrs.head()"
   ]
  },
  {
   "cell_type": "code",
   "execution_count": 7,
   "metadata": {},
   "outputs": [
    {
     "name": "stdout",
     "output_type": "stream",
     "text": [
      "['harvest_year', 'temperature', 'dewpoint', 'windspeed', 'Soilwater_L1', 'Soilwater_L2', 'Soilwater_L3', 'Soilwater_L4', 'Precipitation', 'temperature_1', 'temperature_2', 'temperature_3', 'temperature_4', 'temperature_5', 'temperature_6', 'temperature_7', 'temperature_8', 'temperature_9', 'temperature_10', 'temperature_11', 'dewpoint_1', 'dewpoint_2', 'dewpoint_3', 'dewpoint_4', 'dewpoint_5', 'dewpoint_6', 'dewpoint_7', 'dewpoint_8', 'dewpoint_9', 'dewpoint_10', 'dewpoint_11', 'windspeed_1', 'windspeed_2', 'windspeed_3', 'windspeed_4', 'windspeed_5', 'windspeed_6', 'windspeed_7', 'windspeed_8', 'windspeed_9', 'windspeed_10', 'windspeed_11', 'Precipitation_1', 'Precipitation_2', 'Precipitation_3', 'Precipitation_4', 'Precipitation_5', 'Precipitation_6', 'Precipitation_7', 'Precipitation_8', 'Precipitation_9', 'Precipitation_10', 'Precipitation_11', 'Soilwater_L1_1', 'Soilwater_L1_2', 'Soilwater_L1_3', 'Soilwater_L1_4', 'Soilwater_L1_5', 'Soilwater_L1_6', 'Soilwater_L1_7', 'Soilwater_L1_8', 'Soilwater_L1_9', 'Soilwater_L1_10', 'Soilwater_L1_11', 'Soilwater_L2_1', 'Soilwater_L2_2', 'Soilwater_L2_3', 'Soilwater_L2_4', 'Soilwater_L2_5', 'Soilwater_L2_6', 'Soilwater_L2_7', 'Soilwater_L2_8', 'Soilwater_L2_9', 'Soilwater_L2_10', 'Soilwater_L2_11', 'Soilwater_L3_1', 'Soilwater_L3_2', 'Soilwater_L3_3', 'Soilwater_L3_4', 'Soilwater_L3_5', 'Soilwater_L3_6', 'Soilwater_L3_7', 'Soilwater_L3_8', 'Soilwater_L3_9', 'Soilwater_L3_10', 'Soilwater_L3_11', 'Soilwater_L4_1', 'Soilwater_L4_2', 'Soilwater_L4_3', 'Soilwater_L4_4', 'Soilwater_L4_5', 'Soilwater_L4_6', 'Soilwater_L4_7', 'Soilwater_L4_8', 'Soilwater_L4_9', 'Soilwater_L4_10', 'Soilwater_L4_11']\n"
     ]
    }
   ],
   "source": [
    "# Categorical features.\n",
    "cat_ftrs = ['field', 'age', 'type', 'harvest_month']\n",
    "# Continuous features.\n",
    "contin_ftrs = [f for f in df_all_ftrs.columns if f not in (['production', 'Id', 'index'] + cat_ftrs)]\n",
    "print(contin_ftrs)"
   ]
  },
  {
   "cell_type": "code",
   "execution_count": 8,
   "metadata": {},
   "outputs": [
    {
     "data": {
      "text/html": [
       "<div>\n",
       "<style scoped>\n",
       "    .dataframe tbody tr th:only-of-type {\n",
       "        vertical-align: middle;\n",
       "    }\n",
       "\n",
       "    .dataframe tbody tr th {\n",
       "        vertical-align: top;\n",
       "    }\n",
       "\n",
       "    .dataframe thead th {\n",
       "        text-align: right;\n",
       "    }\n",
       "</style>\n",
       "<table border=\"1\" class=\"dataframe\">\n",
       "  <thead>\n",
       "    <tr style=\"text-align: right;\">\n",
       "      <th></th>\n",
       "      <th>field</th>\n",
       "      <th>age</th>\n",
       "      <th>type</th>\n",
       "      <th>harvest_month</th>\n",
       "      <th>harvest_year</th>\n",
       "      <th>temperature</th>\n",
       "      <th>dewpoint</th>\n",
       "      <th>windspeed</th>\n",
       "      <th>Soilwater_L1</th>\n",
       "      <th>Soilwater_L2</th>\n",
       "      <th>...</th>\n",
       "      <th>Soilwater_L4_3</th>\n",
       "      <th>Soilwater_L4_4</th>\n",
       "      <th>Soilwater_L4_5</th>\n",
       "      <th>Soilwater_L4_6</th>\n",
       "      <th>Soilwater_L4_7</th>\n",
       "      <th>Soilwater_L4_8</th>\n",
       "      <th>Soilwater_L4_9</th>\n",
       "      <th>Soilwater_L4_10</th>\n",
       "      <th>Soilwater_L4_11</th>\n",
       "      <th>production</th>\n",
       "    </tr>\n",
       "  </thead>\n",
       "  <tbody>\n",
       "    <tr>\n",
       "      <th>0</th>\n",
       "      <td>0</td>\n",
       "      <td>19</td>\n",
       "      <td>5</td>\n",
       "      <td>1</td>\n",
       "      <td>2004</td>\n",
       "      <td>26.132</td>\n",
       "      <td>24.661</td>\n",
       "      <td>1.8766</td>\n",
       "      <td>0.35274</td>\n",
       "      <td>0.35192</td>\n",
       "      <td>...</td>\n",
       "      <td>0.314165</td>\n",
       "      <td>0.314165</td>\n",
       "      <td>0.314165</td>\n",
       "      <td>0.314165</td>\n",
       "      <td>0.314165</td>\n",
       "      <td>0.314165</td>\n",
       "      <td>0.314165</td>\n",
       "      <td>0.314165</td>\n",
       "      <td>0.314165</td>\n",
       "      <td>0.064071</td>\n",
       "    </tr>\n",
       "    <tr>\n",
       "      <th>1</th>\n",
       "      <td>0</td>\n",
       "      <td>13</td>\n",
       "      <td>2</td>\n",
       "      <td>1</td>\n",
       "      <td>2004</td>\n",
       "      <td>26.132</td>\n",
       "      <td>24.661</td>\n",
       "      <td>1.8766</td>\n",
       "      <td>0.35274</td>\n",
       "      <td>0.35192</td>\n",
       "      <td>...</td>\n",
       "      <td>0.314165</td>\n",
       "      <td>0.314165</td>\n",
       "      <td>0.314165</td>\n",
       "      <td>0.314165</td>\n",
       "      <td>0.314165</td>\n",
       "      <td>0.314165</td>\n",
       "      <td>0.314165</td>\n",
       "      <td>0.314165</td>\n",
       "      <td>0.314165</td>\n",
       "      <td>0.283228</td>\n",
       "    </tr>\n",
       "  </tbody>\n",
       "</table>\n",
       "<p>2 rows × 102 columns</p>\n",
       "</div>"
      ],
      "text/plain": [
       "   field  age  type  harvest_month  harvest_year  temperature  dewpoint  \\\n",
       "0      0   19     5              1          2004       26.132    24.661   \n",
       "1      0   13     2              1          2004       26.132    24.661   \n",
       "\n",
       "   windspeed  Soilwater_L1  Soilwater_L2     ...      Soilwater_L4_3  \\\n",
       "0     1.8766       0.35274       0.35192     ...            0.314165   \n",
       "1     1.8766       0.35274       0.35192     ...            0.314165   \n",
       "\n",
       "   Soilwater_L4_4  Soilwater_L4_5  Soilwater_L4_6  Soilwater_L4_7  \\\n",
       "0        0.314165        0.314165        0.314165        0.314165   \n",
       "1        0.314165        0.314165        0.314165        0.314165   \n",
       "\n",
       "   Soilwater_L4_8  Soilwater_L4_9  Soilwater_L4_10  Soilwater_L4_11  \\\n",
       "0        0.314165        0.314165         0.314165         0.314165   \n",
       "1        0.314165        0.314165         0.314165         0.314165   \n",
       "\n",
       "   production  \n",
       "0    0.064071  \n",
       "1    0.283228  \n",
       "\n",
       "[2 rows x 102 columns]"
      ]
     },
     "execution_count": 8,
     "metadata": {},
     "output_type": "execute_result"
    }
   ],
   "source": [
    "# Remove unused features.\n",
    "df_all_ftrs = df_all_ftrs[cat_ftrs + contin_ftrs + ['production']]\n",
    "df_all_ftrs.head(2)"
   ]
  },
  {
   "cell_type": "code",
   "execution_count": 9,
   "metadata": {},
   "outputs": [
    {
     "data": {
      "text/html": [
       "<div>\n",
       "<style scoped>\n",
       "    .dataframe tbody tr th:only-of-type {\n",
       "        vertical-align: middle;\n",
       "    }\n",
       "\n",
       "    .dataframe tbody tr th {\n",
       "        vertical-align: top;\n",
       "    }\n",
       "\n",
       "    .dataframe thead th {\n",
       "        text-align: right;\n",
       "    }\n",
       "</style>\n",
       "<table border=\"1\" class=\"dataframe\">\n",
       "  <thead>\n",
       "    <tr style=\"text-align: right;\">\n",
       "      <th></th>\n",
       "      <th>field</th>\n",
       "      <th>age</th>\n",
       "      <th>type</th>\n",
       "      <th>harvest_month</th>\n",
       "      <th>harvest_year</th>\n",
       "      <th>temperature</th>\n",
       "      <th>dewpoint</th>\n",
       "      <th>windspeed</th>\n",
       "      <th>Soilwater_L1</th>\n",
       "      <th>Soilwater_L2</th>\n",
       "      <th>...</th>\n",
       "      <th>Soilwater_L4_3</th>\n",
       "      <th>Soilwater_L4_4</th>\n",
       "      <th>Soilwater_L4_5</th>\n",
       "      <th>Soilwater_L4_6</th>\n",
       "      <th>Soilwater_L4_7</th>\n",
       "      <th>Soilwater_L4_8</th>\n",
       "      <th>Soilwater_L4_9</th>\n",
       "      <th>Soilwater_L4_10</th>\n",
       "      <th>Soilwater_L4_11</th>\n",
       "      <th>production</th>\n",
       "    </tr>\n",
       "  </thead>\n",
       "  <tbody>\n",
       "    <tr>\n",
       "      <th>0</th>\n",
       "      <td>0</td>\n",
       "      <td>19</td>\n",
       "      <td>5</td>\n",
       "      <td>1</td>\n",
       "      <td>2004.0</td>\n",
       "      <td>26.132</td>\n",
       "      <td>24.660999</td>\n",
       "      <td>1.8766</td>\n",
       "      <td>0.35274</td>\n",
       "      <td>0.35192</td>\n",
       "      <td>...</td>\n",
       "      <td>0.314165</td>\n",
       "      <td>0.314165</td>\n",
       "      <td>0.314165</td>\n",
       "      <td>0.314165</td>\n",
       "      <td>0.314165</td>\n",
       "      <td>0.314165</td>\n",
       "      <td>0.314165</td>\n",
       "      <td>0.314165</td>\n",
       "      <td>0.314165</td>\n",
       "      <td>0.064071</td>\n",
       "    </tr>\n",
       "    <tr>\n",
       "      <th>1</th>\n",
       "      <td>0</td>\n",
       "      <td>13</td>\n",
       "      <td>2</td>\n",
       "      <td>1</td>\n",
       "      <td>2004.0</td>\n",
       "      <td>26.132</td>\n",
       "      <td>24.660999</td>\n",
       "      <td>1.8766</td>\n",
       "      <td>0.35274</td>\n",
       "      <td>0.35192</td>\n",
       "      <td>...</td>\n",
       "      <td>0.314165</td>\n",
       "      <td>0.314165</td>\n",
       "      <td>0.314165</td>\n",
       "      <td>0.314165</td>\n",
       "      <td>0.314165</td>\n",
       "      <td>0.314165</td>\n",
       "      <td>0.314165</td>\n",
       "      <td>0.314165</td>\n",
       "      <td>0.314165</td>\n",
       "      <td>0.283228</td>\n",
       "    </tr>\n",
       "  </tbody>\n",
       "</table>\n",
       "<p>2 rows × 102 columns</p>\n",
       "</div>"
      ],
      "text/plain": [
       "  field age type harvest_month  harvest_year  temperature   dewpoint  \\\n",
       "0     0  19    5             1        2004.0       26.132  24.660999   \n",
       "1     0  13    2             1        2004.0       26.132  24.660999   \n",
       "\n",
       "   windspeed  Soilwater_L1  Soilwater_L2     ...      Soilwater_L4_3  \\\n",
       "0     1.8766       0.35274       0.35192     ...            0.314165   \n",
       "1     1.8766       0.35274       0.35192     ...            0.314165   \n",
       "\n",
       "   Soilwater_L4_4  Soilwater_L4_5  Soilwater_L4_6  Soilwater_L4_7  \\\n",
       "0        0.314165        0.314165        0.314165        0.314165   \n",
       "1        0.314165        0.314165        0.314165        0.314165   \n",
       "\n",
       "   Soilwater_L4_8  Soilwater_L4_9  Soilwater_L4_10  Soilwater_L4_11  \\\n",
       "0        0.314165        0.314165         0.314165         0.314165   \n",
       "1        0.314165        0.314165         0.314165         0.314165   \n",
       "\n",
       "   production  \n",
       "0    0.064071  \n",
       "1    0.283228  \n",
       "\n",
       "[2 rows x 102 columns]"
      ]
     },
     "execution_count": 9,
     "metadata": {},
     "output_type": "execute_result"
    }
   ],
   "source": [
    "# Inform pandas which features are categorical ...\n",
    "for v in cat_ftrs:\n",
    "    df_all_ftrs[v] = df_all_ftrs[v].astype('category').cat.as_ordered()\n",
    "# ... and which are continuous.\n",
    "for v in contin_ftrs:\n",
    "    df_all_ftrs[v] = df_all_ftrs[v].astype('float32')\n",
    "\n",
    "df_all_ftrs.head(2)"
   ]
  },
  {
   "cell_type": "code",
   "execution_count": 10,
   "metadata": {},
   "outputs": [],
   "source": [
    "# Split test and train data.\n",
    "df_test = df_all_ftrs[df_all_ftrs.production.isna()]\n",
    "df_all_ftrs = df_all_ftrs[~df_all_ftrs.production.isna()]"
   ]
  },
  {
   "cell_type": "code",
   "execution_count": 11,
   "metadata": {
    "scrolled": false
   },
   "outputs": [
    {
     "name": "stdout",
     "output_type": "stream",
     "text": [
      "1387\n",
      "5243\n"
     ]
    }
   ],
   "source": [
    "val_year = 2010\n",
    "\n",
    "# Ignore training examples with type != 5\n",
    "# df_all_ftrs = df_all_ftrs[(df_all_ftrs.type == 5) | (df_all_ftrs.harvest_year >= val_year)]\n",
    "\n",
    "# Ignore training examples before 2006\n",
    "# df_all_ftrs = df_all_ftrs[df_all_ftrs.harvest_year >= 2006]\n",
    "\n",
    "val_idx = np.flatnonzero(df_all_ftrs.harvest_year >= val_year)\n",
    "print(len(val_idx))\n",
    "print(len(df_all_ftrs))"
   ]
  },
  {
   "cell_type": "code",
   "execution_count": 12,
   "metadata": {},
   "outputs": [
    {
     "data": {
      "text/html": [
       "<div>\n",
       "<style scoped>\n",
       "    .dataframe tbody tr th:only-of-type {\n",
       "        vertical-align: middle;\n",
       "    }\n",
       "\n",
       "    .dataframe tbody tr th {\n",
       "        vertical-align: top;\n",
       "    }\n",
       "\n",
       "    .dataframe thead th {\n",
       "        text-align: right;\n",
       "    }\n",
       "</style>\n",
       "<table border=\"1\" class=\"dataframe\">\n",
       "  <thead>\n",
       "    <tr style=\"text-align: right;\">\n",
       "      <th></th>\n",
       "      <th>field</th>\n",
       "      <th>age</th>\n",
       "      <th>type</th>\n",
       "      <th>harvest_month</th>\n",
       "      <th>harvest_year</th>\n",
       "      <th>temperature</th>\n",
       "      <th>dewpoint</th>\n",
       "      <th>windspeed</th>\n",
       "      <th>Soilwater_L1</th>\n",
       "      <th>Soilwater_L2</th>\n",
       "      <th>...</th>\n",
       "      <th>Soilwater_L4_2</th>\n",
       "      <th>Soilwater_L4_3</th>\n",
       "      <th>Soilwater_L4_4</th>\n",
       "      <th>Soilwater_L4_5</th>\n",
       "      <th>Soilwater_L4_6</th>\n",
       "      <th>Soilwater_L4_7</th>\n",
       "      <th>Soilwater_L4_8</th>\n",
       "      <th>Soilwater_L4_9</th>\n",
       "      <th>Soilwater_L4_10</th>\n",
       "      <th>Soilwater_L4_11</th>\n",
       "    </tr>\n",
       "  </thead>\n",
       "  <tbody>\n",
       "    <tr>\n",
       "      <th>0</th>\n",
       "      <td>1</td>\n",
       "      <td>17</td>\n",
       "      <td>7</td>\n",
       "      <td>1</td>\n",
       "      <td>-1.626713</td>\n",
       "      <td>-1.014467</td>\n",
       "      <td>0.894659</td>\n",
       "      <td>-0.616689</td>\n",
       "      <td>0.894475</td>\n",
       "      <td>0.896105</td>\n",
       "      <td>...</td>\n",
       "      <td>-0.117815</td>\n",
       "      <td>-0.128899</td>\n",
       "      <td>-0.137128</td>\n",
       "      <td>-0.144918</td>\n",
       "      <td>-0.144076</td>\n",
       "      <td>-0.142981</td>\n",
       "      <td>-0.137557</td>\n",
       "      <td>-0.12906</td>\n",
       "      <td>-0.117197</td>\n",
       "      <td>-0.101698</td>\n",
       "    </tr>\n",
       "    <tr>\n",
       "      <th>1</th>\n",
       "      <td>1</td>\n",
       "      <td>11</td>\n",
       "      <td>4</td>\n",
       "      <td>1</td>\n",
       "      <td>-1.626713</td>\n",
       "      <td>-1.014467</td>\n",
       "      <td>0.894659</td>\n",
       "      <td>-0.616689</td>\n",
       "      <td>0.894475</td>\n",
       "      <td>0.896105</td>\n",
       "      <td>...</td>\n",
       "      <td>-0.117815</td>\n",
       "      <td>-0.128899</td>\n",
       "      <td>-0.137128</td>\n",
       "      <td>-0.144918</td>\n",
       "      <td>-0.144076</td>\n",
       "      <td>-0.142981</td>\n",
       "      <td>-0.137557</td>\n",
       "      <td>-0.12906</td>\n",
       "      <td>-0.117197</td>\n",
       "      <td>-0.101698</td>\n",
       "    </tr>\n",
       "  </tbody>\n",
       "</table>\n",
       "<p>2 rows × 101 columns</p>\n",
       "</div>"
      ],
      "text/plain": [
       "   field  age  type  harvest_month  harvest_year  temperature  dewpoint  \\\n",
       "0      1   17     7              1     -1.626713    -1.014467  0.894659   \n",
       "1      1   11     4              1     -1.626713    -1.014467  0.894659   \n",
       "\n",
       "   windspeed  Soilwater_L1  Soilwater_L2       ...         Soilwater_L4_2  \\\n",
       "0  -0.616689      0.894475      0.896105       ...              -0.117815   \n",
       "1  -0.616689      0.894475      0.896105       ...              -0.117815   \n",
       "\n",
       "   Soilwater_L4_3  Soilwater_L4_4  Soilwater_L4_5  Soilwater_L4_6  \\\n",
       "0       -0.128899       -0.137128       -0.144918       -0.144076   \n",
       "1       -0.128899       -0.137128       -0.144918       -0.144076   \n",
       "\n",
       "   Soilwater_L4_7  Soilwater_L4_8  Soilwater_L4_9  Soilwater_L4_10  \\\n",
       "0       -0.142981       -0.137557        -0.12906        -0.117197   \n",
       "1       -0.142981       -0.137557        -0.12906        -0.117197   \n",
       "\n",
       "   Soilwater_L4_11  \n",
       "0        -0.101698  \n",
       "1        -0.101698  \n",
       "\n",
       "[2 rows x 101 columns]"
      ]
     },
     "execution_count": 12,
     "metadata": {},
     "output_type": "execute_result"
    }
   ],
   "source": [
    "df, y, nas, mapper = proc_df(df_all_ftrs, y_fld='production', do_scale=True)\n",
    "df.head(2)"
   ]
  },
  {
   "cell_type": "code",
   "execution_count": 13,
   "metadata": {},
   "outputs": [],
   "source": [
    "df_test, _, nas, mapper = proc_df(df_test, y_fld='production', do_scale=True, mapper=mapper, na_dict=nas)"
   ]
  },
  {
   "cell_type": "code",
   "execution_count": 14,
   "metadata": {
    "scrolled": false
   },
   "outputs": [
    {
     "name": "stdout",
     "output_type": "stream",
     "text": [
      "[('field', 29), ('age', 29), ('type', 10), ('harvest_month', 13)]\n",
      "[(29, 15), (29, 15), (10, 5), (13, 7)]\n"
     ]
    }
   ],
   "source": [
    "cat_sz = [(c, len(df_all_ftrs[c].cat.categories)+1) for c in cat_ftrs]\n",
    "print(cat_sz)\n",
    "emb_szs = [(c, min(50, (c+1)//2)) for _,c in cat_sz]\n",
    "print(emb_szs)"
   ]
  },
  {
   "cell_type": "code",
   "execution_count": 15,
   "metadata": {},
   "outputs": [],
   "source": [
    "md = ColumnarModelData.from_data_frame(path, # path for data saving\n",
    "                                       val_idx, # indexes of validation examples\n",
    "                                       df, # training data\n",
    "                                       y.astype(np.float32), # output variable\n",
    "                                       cat_flds=cat_ftrs, # categorical features\n",
    "                                       bs=16, # batch size\n",
    "                                       test_df=df_test) # test dataframe"
   ]
  },
  {
   "cell_type": "code",
   "execution_count": 16,
   "metadata": {},
   "outputs": [
    {
     "data": {
      "application/vnd.jupyter.widget-view+json": {
       "model_id": "32079a9c80f64e1d8c397fe4fb4ae7c4",
       "version_major": 2,
       "version_minor": 0
      },
      "text/plain": [
       "HBox(children=(IntProgress(value=0, description='Epoch', max=1), HTML(value='')))"
      ]
     },
     "metadata": {},
     "output_type": "display_data"
    },
    {
     "name": "stdout",
     "output_type": "stream",
     "text": [
      " 70%|██████▉   | 168/241 [00:01<00:00, 163.44it/s, loss=2.2] \n",
      "                                                            \r"
     ]
    },
    {
     "data": {
      "image/png": "[encoded data removed]",
      "text/plain": [
       "<Figure size 432x288 with 1 Axes>"
      ]
     },
     "metadata": {},
     "output_type": "display_data"
    }
   ],
   "source": [
    "# dropout rate\n",
    "dr = 0.3\n",
    "\n",
    "learner_params = {\n",
    "    \"emb_szs\": emb_szs, # embedding sizes\n",
    "    \"n_cont\": len(df.columns) - len(cat_ftrs), # num continuous inputs\n",
    "    \"emb_drop\": dr, # embeddings dropout probability\n",
    "    \"out_sz\": 1, # output size\n",
    "    \"szs\": [300, 100], # sizes of fully-connected layers\n",
    "    \"drops\": [dr, dr], # dropout probabilities after each FC layer\n",
    "    \"use_bn\": False # batch normalization\n",
    "}\n",
    "\n",
    "m = md.get_learner(**learner_params)\n",
    "\n",
    "load_model_ignoring(m, 'pretrain-noiser-trn075-val089')\n",
    "\n",
    "m.freeze_to(-1)\n",
    "\n",
    "m.lr_find()\n",
    "m.sched.plot()"
   ]
  },
  {
   "cell_type": "code",
   "execution_count": 18,
   "metadata": {},
   "outputs": [
    {
     "data": {
      "application/vnd.jupyter.widget-view+json": {
       "model_id": "9e846bc57b154f22942f81fe943222c5",
       "version_major": 2,
       "version_minor": 0
      },
      "text/plain": [
       "HBox(children=(IntProgress(value=0, description='Epoch', max=60), HTML(value='')))"
      ]
     },
     "metadata": {},
     "output_type": "display_data"
    },
    {
     "name": "stdout",
     "output_type": "stream",
     "text": [
      "epoch      trn_loss   val_loss   mean_absolute_error         \n",
      "    0      4.163914   1.003811   0.809933  \n",
      "    1      2.195457   0.659021   0.66463                     \n",
      "    2      1.926943   0.601999   0.637686                    \n",
      "    3      0.812969   0.263051   0.428684                    \n",
      "    4      0.447626   0.157978   0.324582                     \n",
      "    5      0.391475   0.149549   0.315075                     \n",
      "    6      0.20515    0.054309   0.174181                     \n",
      "    7      0.103854   0.048619   0.163102                     \n",
      "    8      0.096848   0.043161   0.150161                      \n",
      "    9      0.048578   0.030813   0.119149                      \n",
      "    10     0.033442   0.024319   0.103231                      \n",
      "    11     0.031505   0.024868   0.104146                      \n",
      "    12     0.020476   0.022943   0.09983                       \n",
      "    13     0.017966   0.02151    0.096021                      \n",
      "    14     0.016339   0.020967   0.095584                      \n",
      "    15     0.016212   0.021103   0.096508                      \n",
      "    16     0.015647   0.01978    0.094835                      \n",
      "    17     0.01408    0.019542   0.094568                      \n",
      "    18     0.015817   0.021898   0.098099                      \n",
      "    19     0.019019   0.020044   0.095538                      \n",
      "    20     0.016879   0.020705   0.095893                      \n",
      "    21     0.017493   0.019541   0.098953                      \n",
      "    22     0.016671   0.020209   0.095735                      \n",
      "    23     0.015998   0.019448   0.094152                      \n",
      "    24     0.016454   0.019917   0.099591                      \n",
      "    25     0.01595    0.019813   0.096337                      \n",
      "    26     0.014331   0.020281   0.095376                      \n",
      "    27     0.01601    0.022828   0.100539                      \n",
      "    28     0.014358   0.020836   0.097636                      \n",
      "    29     0.011549   0.020422   0.096096                      \n",
      "    30     0.017939   0.027387   0.11182                       \n",
      "    31     0.014766   0.019668   0.097231                      \n",
      "    32     0.014862   0.021285   0.097994                      \n",
      "    33     0.017339   0.022548   0.104992                      \n",
      "    34     0.017857   0.024566   0.105033                      \n",
      "    35     0.014154   0.020864   0.095485                      \n",
      "    36     0.017846   0.025215   0.106139                      \n",
      "    37     0.018208   0.020411   0.098952                      \n",
      "    38     0.013115   0.020423   0.096031                      \n",
      "    39     0.020094   0.021334   0.096777                      \n",
      "    40     0.01404    0.020078   0.095874                      \n",
      "    41     0.014751   0.019617   0.094793                      \n",
      "    42     0.018987   0.018917   0.094684                      \n",
      "    43     0.01524    0.020636   0.095605                      \n",
      "    44     0.014025   0.020348   0.096246                      \n",
      "    45     0.014799   0.024373   0.103942                      \n",
      "    46     0.016588   0.019473   0.09881                       \n",
      "    47     0.01432    0.019875   0.095876                      \n",
      "    48     0.019197   0.021304   0.109867                      \n",
      "    49     0.014957   0.019728   0.099544                      \n",
      "    50     0.013734   0.019274   0.094715                      \n",
      "    51     0.015107   0.023867   0.101543                      \n",
      "    52     0.016472   0.019539   0.096979                      \n",
      "    53     0.01576    0.019441   0.095144                      \n",
      "    54     0.016391   0.029147   0.115703                      \n",
      "    55     0.015721   0.022553   0.099145                      \n",
      "    56     0.013141   0.020503   0.095133                      \n",
      "    57     0.017818   0.020161   0.100604                      \n",
      "    58     0.016737   0.021725   0.09796                       \n",
      "    59     0.014493   0.020222   0.094778                      \n",
      "\n"
     ]
    },
    {
     "data": {
      "text/plain": [
       "[array([0.02022]), 0.09477783282433126]"
      ]
     },
     "execution_count": 18,
     "metadata": {},
     "output_type": "execute_result"
    }
   ],
   "source": [
    "# dropout rate\n",
    "dr = 0.3\n",
    "\n",
    "learner_params = {\n",
    "    \"emb_szs\": emb_szs, # embedding sizes\n",
    "    \"n_cont\": len(df.columns) - len(cat_ftrs), # num continuous inputs\n",
    "    \"emb_drop\": dr, # embeddings dropout probability\n",
    "    \"out_sz\": 1, # output size\n",
    "    \"szs\": [300, 100], # sizes of fully-connected layers\n",
    "    \"drops\": [dr, dr], # dropout probabilities after each FC layer\n",
    "    \"use_bn\": False # batch normalization\n",
    "}\n",
    "\n",
    "m = md.get_learner(**learner_params)\n",
    "\n",
    "load_model_ignoring(m, 'pretrain-noiser-trn075-val089')\n",
    "\n",
    "m.freeze_to(-1)\n",
    "\n",
    "lr = 1e-3\n",
    "m.fit(lr, 20, cycle_len=3, metrics=[metrics.mean_absolute_error])"
   ]
  },
  {
   "cell_type": "code",
   "execution_count": 19,
   "metadata": {},
   "outputs": [],
   "source": [
    "m.save('finetuned-noiser2-val094')"
   ]
  },
  {
   "cell_type": "code",
   "execution_count": 27,
   "metadata": {},
   "outputs": [
    {
     "data": {
      "application/vnd.jupyter.widget-view+json": {
       "model_id": "cde9b61d2cec42319bf7f4a29d023b6f",
       "version_major": 2,
       "version_minor": 0
      },
      "text/plain": [
       "HBox(children=(IntProgress(value=0, description='Epoch', max=60), HTML(value='')))"
      ]
     },
     "metadata": {},
     "output_type": "display_data"
    },
    {
     "name": "stdout",
     "output_type": "stream",
     "text": [
      "epoch      trn_loss   val_loss   mean_absolute_error           \n",
      "    0      0.016237   0.020855   0.099619  \n",
      "    1      0.014624   0.019151   0.093971                      \n",
      "    2      0.012064   0.019984   0.093085                      \n",
      "    3      0.013417   0.020775   0.094557                      \n",
      "    4      0.014609   0.018394   0.088187                      \n",
      "    5      0.01142    0.018511   0.087975                      \n",
      "    6      0.013167   0.017913   0.095244                      \n",
      "    7      0.013855   0.017411   0.091055                      \n",
      "    8      0.01236    0.019325   0.090836                      \n",
      "    9      0.013821   0.019587   0.091349                      \n",
      "    10     0.01251    0.017183   0.088466                      \n",
      "    11     0.009672   0.019104   0.091584                      \n",
      "    12     0.013621   0.017584   0.091763                      \n",
      "    13     0.010449   0.018265   0.086729                      \n",
      "    14     0.0103     0.016934   0.083969                      \n",
      "    15     0.012545   0.017168   0.08512                       \n",
      "    16     0.010166   0.018309   0.088117                      \n",
      "    17     0.010926   0.017214   0.084994                      \n",
      "    18     0.01172    0.018706   0.091473                      \n",
      "    19     0.009437   0.017714   0.086286                       \n",
      "    20     0.009957   0.016879   0.083965                       \n",
      "    21     0.011702   0.017288   0.086061                      \n",
      "    22     0.009139   0.016501   0.085179                       \n",
      "    23     0.01022    0.016642   0.083851                       \n",
      "    24     0.011212   0.018537   0.091138                       \n",
      "    25     0.009553   0.017611   0.086371                       \n",
      "    26     0.009558   0.017247   0.085375                       \n",
      "    27     0.012093   0.01734    0.09                           \n",
      "    28     0.011159   0.016851   0.083726                       \n",
      "    29     0.011074   0.017216   0.084321                      \n",
      "    30     0.010063   0.01909    0.093775                       \n",
      "    31     0.009605   0.016955   0.084109                       \n",
      "    32     0.010644   0.016878   0.083747                       \n",
      "    33     0.011697   0.016319   0.084103                      \n",
      "    34     0.009914   0.017077   0.084381                       \n",
      "    35     0.008752   0.016547   0.08357                        \n",
      "    36     0.010988   0.018479   0.08985                        \n",
      "    37     0.010894   0.01685    0.084337                       \n",
      "    38     0.009291   0.017001   0.083502                       \n",
      "    39     0.011479   0.017181   0.089412                       \n",
      "    40     0.009465   0.015997   0.082628                       \n",
      "    41     0.009154   0.016079   0.082188                       \n",
      "    42     0.009935   0.017962   0.088676                       \n",
      "    43     0.007986   0.01699    0.085329                       \n",
      "    44     0.009321   0.016504   0.083498                       \n",
      "    45     0.013014   0.020061   0.097766                       \n",
      "    46     0.008847   0.017858   0.087134                       \n",
      "    47     0.008766   0.016772   0.083716                       \n",
      "    48     0.009365   0.016277   0.082946                       \n",
      "    49     0.008137   0.016734   0.083299                       \n",
      "    50     0.00751    0.016598   0.082816                       \n",
      "    51     0.008779   0.017003   0.084571                       \n",
      "    52     0.010764   0.018682   0.090052                       \n",
      "    53     0.009915   0.018527   0.088881                       \n",
      "    54     0.009844   0.015785   0.083505                       \n",
      "    55     0.009228   0.016117   0.081678                       \n",
      "    56     0.009142   0.01633    0.082054                       \n",
      "    57     0.009215   0.016923   0.087002                       \n",
      "    58     0.008738   0.016803   0.084871                       \n",
      "    59     0.008311   0.016853   0.08467                        \n",
      "\n"
     ]
    },
    {
     "data": {
      "text/plain": [
       "[array([0.01685]), 0.0846698363220941]"
      ]
     },
     "execution_count": 27,
     "metadata": {},
     "output_type": "execute_result"
    }
   ],
   "source": [
    "# dropout rate\n",
    "dr = 0.3\n",
    "\n",
    "learner_params = {\n",
    "    \"emb_szs\": emb_szs, # embedding sizes\n",
    "    \"n_cont\": len(df.columns) - len(cat_ftrs), # num continuous inputs\n",
    "    \"emb_drop\": 0.0, # embeddings dropout probability\n",
    "    \"out_sz\": 1, # output size\n",
    "    \"szs\": [300, 100], # sizes of fully-connected layers\n",
    "    \"drops\": [dr, dr], # dropout probabilities after each FC layer\n",
    "    \"use_bn\": False # batch normalization\n",
    "}\n",
    "\n",
    "m = md.get_learner(**learner_params)\n",
    "\n",
    "m.load('finetuned-noiser2-val094')\n",
    "m.unfreeze()\n",
    "\n",
    "lr=1e-3\n",
    "lrs=[lr/100, lr/10, lr]\n",
    "m.fit(lrs, 20, cycle_len=3, metrics=[metrics.mean_absolute_error])"
   ]
  },
  {
   "cell_type": "code",
   "execution_count": 24,
   "metadata": {},
   "outputs": [],
   "source": [
    "m.save('finetuned-noiser2-val0797')"
   ]
  },
  {
   "cell_type": "markdown",
   "metadata": {},
   "source": [
    "## Submission file"
   ]
  },
  {
   "cell_type": "code",
   "execution_count": 73,
   "metadata": {},
   "outputs": [],
   "source": [
    "# dropout rate\n",
    "dr = 0.3\n",
    "\n",
    "learner_params = {\n",
    "    \"emb_szs\": emb_szs, # embedding sizes\n",
    "    \"n_cont\": len(df.columns) - len(cat_ftrs), # num continuous inputs\n",
    "    \"emb_drop\": dr, # embeddings dropout probability\n",
    "    \"out_sz\": 1, # output size\n",
    "    \"szs\": [300, 100], # sizes of fully-connected layers\n",
    "    \"drops\": [dr, dr], # dropout probabilities after each FC layer\n",
    "    \"use_bn\": False # batch normalization\n",
    "}\n",
    "\n",
    "m = md.get_learner(**learner_params)\n",
    "\n",
    "m.load('finetuned-all-082')"
   ]
  },
  {
   "cell_type": "code",
   "execution_count": 84,
   "metadata": {
    "scrolled": false
   },
   "outputs": [
    {
     "name": "stderr",
     "output_type": "stream",
     "text": [
      "[autoreload of urllib3.packages.six failed: Traceback (most recent call last):\n",
      "  File \"/home/eraldo/miniconda2/envs/fastai/lib/python3.6/site-packages/IPython/extensions/autoreload.py\", line 245, in check\n",
      "    superreload(m, reload, self.old_objects)\n",
      "  File \"/home/eraldo/miniconda2/envs/fastai/lib/python3.6/site-packages/IPython/extensions/autoreload.py\", line 384, in superreload\n",
      "    update_generic(old_obj, new_obj)\n",
      "  File \"/home/eraldo/miniconda2/envs/fastai/lib/python3.6/site-packages/IPython/extensions/autoreload.py\", line 323, in update_generic\n",
      "    update(a, b)\n",
      "  File \"/home/eraldo/miniconda2/envs/fastai/lib/python3.6/site-packages/IPython/extensions/autoreload.py\", line 275, in update_class\n",
      "    old_obj = getattr(old, key)\n",
      "  File \"/home/eraldo/miniconda2/envs/fastai/lib/python3.6/site-packages/urllib3/packages/six.py\", line 93, in __get__\n",
      "    setattr(obj, self.name, result)  # Invokes __set__.\n",
      "AttributeError: 'NoneType' object has no attribute 'cStringIO'\n",
      "]\n",
      "[autoreload of urllib3.contrib.pyopenssl failed: Traceback (most recent call last):\n",
      "  File \"/home/eraldo/miniconda2/envs/fastai/lib/python3.6/site-packages/IPython/extensions/autoreload.py\", line 245, in check\n",
      "    superreload(m, reload, self.old_objects)\n",
      "  File \"/home/eraldo/miniconda2/envs/fastai/lib/python3.6/site-packages/IPython/extensions/autoreload.py\", line 368, in superreload\n",
      "    module = reload(module)\n",
      "  File \"/home/eraldo/miniconda2/envs/fastai/lib/python3.6/imp.py\", line 315, in reload\n",
      "    return importlib.reload(module)\n",
      "  File \"/home/eraldo/miniconda2/envs/fastai/lib/python3.6/importlib/__init__.py\", line 166, in reload\n",
      "    _bootstrap._exec(spec, module)\n",
      "  File \"<frozen importlib._bootstrap>\", line 618, in _exec\n",
      "  File \"<frozen importlib._bootstrap_external>\", line 678, in exec_module\n",
      "  File \"<frozen importlib._bootstrap>\", line 219, in _call_with_frames_removed\n",
      "  File \"/home/eraldo/miniconda2/envs/fastai/lib/python3.6/site-packages/urllib3/contrib/pyopenssl.py\", line 103, in <module>\n",
      "    orig_util_SSLContext = util.ssl_.SSLContext\n",
      "AttributeError: module 'urllib3.util' has no attribute 'ssl_'\n",
      "]\n",
      "[autoreload of urllib3.packages.six failed: Traceback (most recent call last):\n",
      "  File \"/home/eraldo/miniconda2/envs/fastai/lib/python3.6/site-packages/IPython/extensions/autoreload.py\", line 245, in check\n",
      "    superreload(m, reload, self.old_objects)\n",
      "  File \"/home/eraldo/miniconda2/envs/fastai/lib/python3.6/site-packages/IPython/extensions/autoreload.py\", line 384, in superreload\n",
      "    update_generic(old_obj, new_obj)\n",
      "  File \"/home/eraldo/miniconda2/envs/fastai/lib/python3.6/site-packages/IPython/extensions/autoreload.py\", line 323, in update_generic\n",
      "    update(a, b)\n",
      "  File \"/home/eraldo/miniconda2/envs/fastai/lib/python3.6/site-packages/IPython/extensions/autoreload.py\", line 275, in update_class\n",
      "    old_obj = getattr(old, key)\n",
      "  File \"/home/eraldo/miniconda2/envs/fastai/lib/python3.6/site-packages/urllib3/packages/six.py\", line 93, in __get__\n",
      "    setattr(obj, self.name, result)  # Invokes __set__.\n",
      "AttributeError: 'NoneType' object has no attribute 'cStringIO'\n",
      "]\n",
      "[autoreload of urllib3.contrib.pyopenssl failed: Traceback (most recent call last):\n",
      "  File \"/home/eraldo/miniconda2/envs/fastai/lib/python3.6/site-packages/IPython/extensions/autoreload.py\", line 245, in check\n",
      "    superreload(m, reload, self.old_objects)\n",
      "  File \"/home/eraldo/miniconda2/envs/fastai/lib/python3.6/site-packages/IPython/extensions/autoreload.py\", line 368, in superreload\n",
      "    module = reload(module)\n",
      "  File \"/home/eraldo/miniconda2/envs/fastai/lib/python3.6/imp.py\", line 315, in reload\n",
      "    return importlib.reload(module)\n",
      "  File \"/home/eraldo/miniconda2/envs/fastai/lib/python3.6/importlib/__init__.py\", line 166, in reload\n",
      "    _bootstrap._exec(spec, module)\n",
      "  File \"<frozen importlib._bootstrap>\", line 618, in _exec\n",
      "  File \"<frozen importlib._bootstrap_external>\", line 678, in exec_module\n",
      "  File \"<frozen importlib._bootstrap>\", line 219, in _call_with_frames_removed\n",
      "  File \"/home/eraldo/miniconda2/envs/fastai/lib/python3.6/site-packages/urllib3/contrib/pyopenssl.py\", line 103, in <module>\n",
      "    orig_util_SSLContext = util.ssl_.SSLContext\n",
      "AttributeError: module 'urllib3.util' has no attribute 'ssl_'\n",
      "]\n",
      "[autoreload of urllib3.packages.six failed: Traceback (most recent call last):\n",
      "  File \"/home/eraldo/miniconda2/envs/fastai/lib/python3.6/site-packages/IPython/extensions/autoreload.py\", line 245, in check\n",
      "    superreload(m, reload, self.old_objects)\n",
      "  File \"/home/eraldo/miniconda2/envs/fastai/lib/python3.6/site-packages/IPython/extensions/autoreload.py\", line 384, in superreload\n",
      "    update_generic(old_obj, new_obj)\n",
      "  File \"/home/eraldo/miniconda2/envs/fastai/lib/python3.6/site-packages/IPython/extensions/autoreload.py\", line 323, in update_generic\n",
      "    update(a, b)\n",
      "  File \"/home/eraldo/miniconda2/envs/fastai/lib/python3.6/site-packages/IPython/extensions/autoreload.py\", line 275, in update_class\n",
      "    old_obj = getattr(old, key)\n",
      "  File \"/home/eraldo/miniconda2/envs/fastai/lib/python3.6/site-packages/urllib3/packages/six.py\", line 93, in __get__\n",
      "    setattr(obj, self.name, result)  # Invokes __set__.\n",
      "AttributeError: 'NoneType' object has no attribute 'cStringIO'\n",
      "]\n",
      "[autoreload of urllib3.contrib.pyopenssl failed: Traceback (most recent call last):\n",
      "  File \"/home/eraldo/miniconda2/envs/fastai/lib/python3.6/site-packages/IPython/extensions/autoreload.py\", line 245, in check\n",
      "    superreload(m, reload, self.old_objects)\n",
      "  File \"/home/eraldo/miniconda2/envs/fastai/lib/python3.6/site-packages/IPython/extensions/autoreload.py\", line 368, in superreload\n",
      "    module = reload(module)\n",
      "  File \"/home/eraldo/miniconda2/envs/fastai/lib/python3.6/imp.py\", line 315, in reload\n",
      "    return importlib.reload(module)\n",
      "  File \"/home/eraldo/miniconda2/envs/fastai/lib/python3.6/importlib/__init__.py\", line 166, in reload\n",
      "    _bootstrap._exec(spec, module)\n",
      "  File \"<frozen importlib._bootstrap>\", line 618, in _exec\n",
      "  File \"<frozen importlib._bootstrap_external>\", line 678, in exec_module\n",
      "  File \"<frozen importlib._bootstrap>\", line 219, in _call_with_frames_removed\n",
      "  File \"/home/eraldo/miniconda2/envs/fastai/lib/python3.6/site-packages/urllib3/contrib/pyopenssl.py\", line 103, in <module>\n",
      "    orig_util_SSLContext = util.ssl_.SSLContext\n",
      "AttributeError: module 'urllib3.util' has no attribute 'ssl_'\n",
      "]\n"
     ]
    },
    {
     "ename": "AttributeError",
     "evalue": "'DataFrame' object has no attribute 'Id'",
     "output_type": "error",
     "traceback": [
      "\u001b[0;31m---------------------------------------------------------------------------\u001b[0m",
      "\u001b[0;31mAttributeError\u001b[0m                            Traceback (most recent call last)",
      "\u001b[0;32m<ipython-input-84-b57821cecc7b>\u001b[0m in \u001b[0;36m<module>\u001b[0;34m()\u001b[0m\n\u001b[1;32m     14\u001b[0m \u001b[0;32mwith\u001b[0m \u001b[0mopen\u001b[0m\u001b[0;34m(\u001b[0m\u001b[0msubmission_file\u001b[0m\u001b[0;34m,\u001b[0m \u001b[0;34m'w'\u001b[0m\u001b[0;34m)\u001b[0m \u001b[0;32mas\u001b[0m \u001b[0mf\u001b[0m\u001b[0;34m:\u001b[0m\u001b[0;34m\u001b[0m\u001b[0m\n\u001b[1;32m     15\u001b[0m     \u001b[0mf\u001b[0m\u001b[0;34m.\u001b[0m\u001b[0mwrite\u001b[0m\u001b[0;34m(\u001b[0m\u001b[0;34m\"Id,production\\n\"\u001b[0m\u001b[0;34m)\u001b[0m\u001b[0;34m\u001b[0m\u001b[0m\n\u001b[0;32m---> 16\u001b[0;31m     \u001b[0;32mfor\u001b[0m \u001b[0m_id\u001b[0m\u001b[0;34m,\u001b[0m \u001b[0m_pred\u001b[0m \u001b[0;32min\u001b[0m \u001b[0mzip\u001b[0m\u001b[0;34m(\u001b[0m\u001b[0mdf_test_id\u001b[0m\u001b[0;34m.\u001b[0m\u001b[0mId\u001b[0m\u001b[0;34m.\u001b[0m\u001b[0mvalues\u001b[0m\u001b[0;34m,\u001b[0m \u001b[0mpred\u001b[0m\u001b[0;34m)\u001b[0m\u001b[0;34m:\u001b[0m\u001b[0;34m\u001b[0m\u001b[0m\n\u001b[0m\u001b[1;32m     17\u001b[0m         \u001b[0mf\u001b[0m\u001b[0;34m.\u001b[0m\u001b[0mwrite\u001b[0m\u001b[0;34m(\u001b[0m\u001b[0;34m\"{},{}\\n\"\u001b[0m\u001b[0;34m.\u001b[0m\u001b[0mformat\u001b[0m\u001b[0;34m(\u001b[0m\u001b[0m_id\u001b[0m\u001b[0;34m,\u001b[0m \u001b[0m_pred\u001b[0m\u001b[0;34m)\u001b[0m\u001b[0;34m)\u001b[0m\u001b[0;34m\u001b[0m\u001b[0m\n\u001b[1;32m     18\u001b[0m \u001b[0;34m\u001b[0m\u001b[0m\n",
      "\u001b[0;32m~/miniconda2/envs/fastai/lib/python3.6/site-packages/pandas/core/generic.py\u001b[0m in \u001b[0;36m__getattr__\u001b[0;34m(self, name)\u001b[0m\n\u001b[1;32m   4374\u001b[0m             \u001b[0;32mif\u001b[0m \u001b[0mself\u001b[0m\u001b[0;34m.\u001b[0m\u001b[0m_info_axis\u001b[0m\u001b[0;34m.\u001b[0m\u001b[0m_can_hold_identifiers_and_holds_name\u001b[0m\u001b[0;34m(\u001b[0m\u001b[0mname\u001b[0m\u001b[0;34m)\u001b[0m\u001b[0;34m:\u001b[0m\u001b[0;34m\u001b[0m\u001b[0m\n\u001b[1;32m   4375\u001b[0m                 \u001b[0;32mreturn\u001b[0m \u001b[0mself\u001b[0m\u001b[0;34m[\u001b[0m\u001b[0mname\u001b[0m\u001b[0;34m]\u001b[0m\u001b[0;34m\u001b[0m\u001b[0m\n\u001b[0;32m-> 4376\u001b[0;31m             \u001b[0;32mreturn\u001b[0m \u001b[0mobject\u001b[0m\u001b[0;34m.\u001b[0m\u001b[0m__getattribute__\u001b[0m\u001b[0;34m(\u001b[0m\u001b[0mself\u001b[0m\u001b[0;34m,\u001b[0m \u001b[0mname\u001b[0m\u001b[0;34m)\u001b[0m\u001b[0;34m\u001b[0m\u001b[0m\n\u001b[0m\u001b[1;32m   4377\u001b[0m \u001b[0;34m\u001b[0m\u001b[0m\n\u001b[1;32m   4378\u001b[0m     \u001b[0;32mdef\u001b[0m \u001b[0m__setattr__\u001b[0m\u001b[0;34m(\u001b[0m\u001b[0mself\u001b[0m\u001b[0;34m,\u001b[0m \u001b[0mname\u001b[0m\u001b[0;34m,\u001b[0m \u001b[0mvalue\u001b[0m\u001b[0;34m)\u001b[0m\u001b[0;34m:\u001b[0m\u001b[0;34m\u001b[0m\u001b[0m\n",
      "\u001b[0;31mAttributeError\u001b[0m: 'DataFrame' object has no attribute 'Id'"
     ]
    }
   ],
   "source": [
    "from datetime import datetime\n",
    "\n",
    "# Make prediction.\n",
    "pred = m.predict(is_test=True).squeeze()\n",
    "\n",
    "now = datetime.now().strftime('%Y-%m-%d-%H-%M-%S-%f')\n",
    "\n",
    "df_test_id = df_test # pd.read_csv(os.path.join(path, 'test.csv'))\n",
    "\n",
    "submission_file  = '../submissions/{}.submission.csv'.format(now)\n",
    "model_file       = '../submissions/{}.model'.format(now)\n",
    "\n",
    "# Create a submission file.\n",
    "with open(submission_file, 'w') as f:\n",
    "    f.write(\"Id,production\\n\")\n",
    "    for _id, _pred in zip(df_test_id.Id.values, pred):\n",
    "        f.write(\"{},{}\\n\".format(_id, min(1.0, max(0.0, _pred))))\n",
    "\n",
    "# Save model.\n",
    "save_model(m.model, model_file)"
   ]
  },
  {
   "cell_type": "code",
   "execution_count": 82,
   "metadata": {},
   "outputs": [
    {
     "data": {
      "text/plain": [
       "array([0.08109, 0.24406, 0.08957, ..., 0.06683, 0.24095, 0.26506], dtype=float32)"
      ]
     },
     "execution_count": 82,
     "metadata": {},
     "output_type": "execute_result"
    }
   ],
   "source": [
    "pred = m.predict(is_test=True)\n",
    "pred.squeeze()"
   ]
  }
 ],
 "metadata": {
  "kernelspec": {
   "display_name": "Python 3",
   "language": "python",
   "name": "python3"
  },
  "language_info": {
   "codemirror_mode": {
    "name": "ipython",
    "version": 3
   },
   "file_extension": ".py",
   "mimetype": "text/x-python",
   "name": "python",
   "nbconvert_exporter": "python",
   "pygments_lexer": "ipython3",
   "version": "3.6.6"
  }
 },
 "nbformat": 4,
 "nbformat_minor": 1
}
