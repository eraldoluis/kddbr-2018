{
 "cells": [
  {
   "cell_type": "markdown",
   "metadata": {
    "_uuid": "4646fdea09654229ea606aa4faffad9cb819398b"
   },
   "source": [
    "# DL Modeling - Pre Training - Noiser\n",
    "\n",
    "Pre-training a model on all data (train+test) using the categorical features as classes.\n",
    "We mask each categorical feature out (one at a time) and learn to predict its value.\n",
    "We hope this will be a nice pre-training step in order to learn good initializations for the embeddings\n",
    "    and even the fully-connected layers.\n",
    "    \n",
    "We are now adding more noise to input features.\n",
    "We randomly mask some categorical features out additionally to the central feature."
   ]
  },
  {
   "cell_type": "code",
   "execution_count": 2,
   "metadata": {},
   "outputs": [],
   "source": [
    "%matplotlib inline\n",
    "%reload_ext autoreload\n",
    "%autoreload 2"
   ]
  },
  {
   "cell_type": "code",
   "execution_count": 3,
   "metadata": {
    "_uuid": "35b9298747ec076ac8a9afb81192039880e46f2c"
   },
   "outputs": [
    {
     "name": "stderr",
     "output_type": "stream",
     "text": [
      "/home/eraldo/miniconda2/envs/fastai/lib/python3.6/importlib/_bootstrap.py:219: RuntimeWarning: numpy.dtype size changed, may indicate binary incompatibility. Expected 96, got 88\n",
      "  return f(*args, **kwds)\n"
     ]
    }
   ],
   "source": [
    "import pandas as pd\n",
    "import numpy as np\n",
    "import os \n",
    "\n",
    "from datetime import datetime\n",
    "import matplotlib.pyplot as plt\n",
    "import seaborn as sns\n",
    "\n",
    "from kdd_utils import addFieldDataFtrs, addSoilFtrs, cvPerYear, save_model_ignoring, load_model_ignoring\n",
    "\n",
    "sns.set(style=\"whitegrid\")"
   ]
  },
  {
   "cell_type": "code",
   "execution_count": 4,
   "metadata": {},
   "outputs": [
    {
     "name": "stderr",
     "output_type": "stream",
     "text": [
      "/home/eraldo/miniconda2/envs/fastai/lib/python3.6/importlib/_bootstrap.py:219: RuntimeWarning: numpy.dtype size changed, may indicate binary incompatibility. Expected 96, got 88\n",
      "  return f(*args, **kwds)\n",
      "/home/eraldo/miniconda2/envs/fastai/lib/python3.6/site-packages/sklearn/ensemble/weight_boosting.py:29: DeprecationWarning: numpy.core.umath_tests is an internal NumPy module and should not be imported. It will be removed in a future NumPy release.\n",
      "  from numpy.core.umath_tests import inner1d\n"
     ]
    }
   ],
   "source": [
    "from fastai.structured import *\n",
    "from fastai.column_data import *"
   ]
  },
  {
   "cell_type": "markdown",
   "metadata": {
    "_uuid": "5e5a56ed28ca3f0433752b640126d39410d590e7"
   },
   "source": [
    "## Train and test datasets\n",
    "\n",
    "Basic data containing palm tree information"
   ]
  },
  {
   "cell_type": "code",
   "execution_count": 5,
   "metadata": {
    "_uuid": "d26413ead269ebe206f0ac43cda68634d9611199",
    "scrolled": true
   },
   "outputs": [
    {
     "name": "stdout",
     "output_type": "stream",
     "text": [
      "Shapes\n",
      "---\n",
      "Train: (5243, 7)\n",
      " Test: (4110, 6)\n",
      "  All: (9353, 7)\n"
     ]
    }
   ],
   "source": [
    "path = '../input/'\n",
    "\n",
    "# Train data.\n",
    "df_train = pd.read_csv(os.path.join(path, 'train.csv'))\n",
    "\n",
    "# Ignoring date before 2006 for training.\n",
    "# df_train = df_train[df_train.harvest_year >= 2006]\n",
    "\n",
    "# Using only examples with type=5 for training.\n",
    "# df_train = df_train[df_train.type == 5]\n",
    "\n",
    "# Test data.\n",
    "df_test  = pd.read_csv(os.path.join(path, 'test.csv'))\n",
    "\n",
    "# Merge train and test data for ease of pre-processing.\n",
    "df_all = pd.concat([df_train, df_test], sort=False).reindex()\n",
    "\n",
    "# Configure number of jobs.\n",
    "N_JOBS=7\n",
    "\n",
    "print('Shapes\\n---\\nTrain: {}\\n Test: {}\\n  All: {}'.format(df_train.shape, df_test.shape, df_all.shape))"
   ]
  },
  {
   "cell_type": "markdown",
   "metadata": {
    "_uuid": "8163b4159ec67907aa1518f341edf613f4bc7266"
   },
   "source": [
    "## Field and Soil Features\n",
    "\n",
    "These files hold atmospheric data from January 2002 to December 2017, and can be used to estimate the weather conditions during the development of the plant. Notice that weather does influence the production. Using only a single month prior to harvest is probably too little data. Participants should decide how far back in the past they want to look when training models.\n",
    "\n"
   ]
  },
  {
   "cell_type": "code",
   "execution_count": 6,
   "metadata": {
    "_uuid": "c9596d68c59820e59de0b7861c9234712185fdab",
    "scrolled": true
   },
   "outputs": [
    {
     "name": "stdout",
     "output_type": "stream",
     "text": [
      "['index', 'Id', 'field', 'age', 'type', 'harvest_year', 'harvest_month', 'production', 'temperature', 'dewpoint', 'windspeed', 'Soilwater_L1', 'Soilwater_L2', 'Soilwater_L3', 'Soilwater_L4', 'Precipitation', 'temperature_1', 'temperature_2', 'temperature_3', 'temperature_4', 'temperature_5', 'temperature_6', 'temperature_7', 'temperature_8', 'temperature_9', 'temperature_10', 'temperature_11', 'dewpoint_1', 'dewpoint_2', 'dewpoint_3', 'dewpoint_4', 'dewpoint_5', 'dewpoint_6', 'dewpoint_7', 'dewpoint_8', 'dewpoint_9', 'dewpoint_10', 'dewpoint_11', 'windspeed_1', 'windspeed_2', 'windspeed_3', 'windspeed_4', 'windspeed_5', 'windspeed_6', 'windspeed_7', 'windspeed_8', 'windspeed_9', 'windspeed_10', 'windspeed_11', 'Precipitation_1', 'Precipitation_2', 'Precipitation_3', 'Precipitation_4', 'Precipitation_5', 'Precipitation_6', 'Precipitation_7', 'Precipitation_8', 'Precipitation_9', 'Precipitation_10', 'Precipitation_11', 'Soilwater_L1_1', 'Soilwater_L1_2', 'Soilwater_L1_3', 'Soilwater_L1_4', 'Soilwater_L1_5', 'Soilwater_L1_6', 'Soilwater_L1_7', 'Soilwater_L1_8', 'Soilwater_L1_9', 'Soilwater_L1_10', 'Soilwater_L1_11', 'Soilwater_L2_1', 'Soilwater_L2_2', 'Soilwater_L2_3', 'Soilwater_L2_4', 'Soilwater_L2_5', 'Soilwater_L2_6', 'Soilwater_L2_7', 'Soilwater_L2_8', 'Soilwater_L2_9', 'Soilwater_L2_10', 'Soilwater_L2_11', 'Soilwater_L3_1', 'Soilwater_L3_2', 'Soilwater_L3_3', 'Soilwater_L3_4', 'Soilwater_L3_5', 'Soilwater_L3_6', 'Soilwater_L3_7', 'Soilwater_L3_8', 'Soilwater_L3_9', 'Soilwater_L3_10', 'Soilwater_L3_11', 'Soilwater_L4_1', 'Soilwater_L4_2', 'Soilwater_L4_3', 'Soilwater_L4_4', 'Soilwater_L4_5', 'Soilwater_L4_6', 'Soilwater_L4_7', 'Soilwater_L4_8', 'Soilwater_L4_9', 'Soilwater_L4_10', 'Soilwater_L4_11']\n"
     ]
    }
   ],
   "source": [
    "df_all_ftrs = addFieldDataFtrs(df_all, shiftPeriod=12, shiftFtrs=['temperature', 'dewpoint', 'windspeed', \n",
    "                                                                 'Precipitation', 'Soilwater_L1', \n",
    "                                                                 'Soilwater_L2', 'Soilwater_L3', \n",
    "                                                                 'Soilwater_L4'])\n",
    "#df_all_ftrs = addSoilFtrs(df_all_ftrs)\n",
    "print(list(df_all_ftrs.columns))"
   ]
  },
  {
   "cell_type": "code",
   "execution_count": 7,
   "metadata": {
    "scrolled": true
   },
   "outputs": [
    {
     "data": {
      "text/html": [
       "<div>\n",
       "<style scoped>\n",
       "    .dataframe tbody tr th:only-of-type {\n",
       "        vertical-align: middle;\n",
       "    }\n",
       "\n",
       "    .dataframe tbody tr th {\n",
       "        vertical-align: top;\n",
       "    }\n",
       "\n",
       "    .dataframe thead th {\n",
       "        text-align: right;\n",
       "    }\n",
       "</style>\n",
       "<table border=\"1\" class=\"dataframe\">\n",
       "  <thead>\n",
       "    <tr style=\"text-align: right;\">\n",
       "      <th></th>\n",
       "      <th>index</th>\n",
       "      <th>Id</th>\n",
       "      <th>field</th>\n",
       "      <th>age</th>\n",
       "      <th>type</th>\n",
       "      <th>harvest_year</th>\n",
       "      <th>harvest_month</th>\n",
       "      <th>production</th>\n",
       "      <th>temperature</th>\n",
       "      <th>dewpoint</th>\n",
       "      <th>...</th>\n",
       "      <th>Soilwater_L4_2</th>\n",
       "      <th>Soilwater_L4_3</th>\n",
       "      <th>Soilwater_L4_4</th>\n",
       "      <th>Soilwater_L4_5</th>\n",
       "      <th>Soilwater_L4_6</th>\n",
       "      <th>Soilwater_L4_7</th>\n",
       "      <th>Soilwater_L4_8</th>\n",
       "      <th>Soilwater_L4_9</th>\n",
       "      <th>Soilwater_L4_10</th>\n",
       "      <th>Soilwater_L4_11</th>\n",
       "    </tr>\n",
       "  </thead>\n",
       "  <tbody>\n",
       "    <tr>\n",
       "      <th>0</th>\n",
       "      <td>0</td>\n",
       "      <td>0</td>\n",
       "      <td>0</td>\n",
       "      <td>19</td>\n",
       "      <td>5</td>\n",
       "      <td>2004</td>\n",
       "      <td>1</td>\n",
       "      <td>0.064071</td>\n",
       "      <td>26.132</td>\n",
       "      <td>24.661</td>\n",
       "      <td>...</td>\n",
       "      <td>0.314165</td>\n",
       "      <td>0.314165</td>\n",
       "      <td>0.314165</td>\n",
       "      <td>0.314165</td>\n",
       "      <td>0.314165</td>\n",
       "      <td>0.314165</td>\n",
       "      <td>0.314165</td>\n",
       "      <td>0.314165</td>\n",
       "      <td>0.314165</td>\n",
       "      <td>0.314165</td>\n",
       "    </tr>\n",
       "    <tr>\n",
       "      <th>1</th>\n",
       "      <td>1</td>\n",
       "      <td>1532</td>\n",
       "      <td>0</td>\n",
       "      <td>13</td>\n",
       "      <td>2</td>\n",
       "      <td>2004</td>\n",
       "      <td>1</td>\n",
       "      <td>0.283228</td>\n",
       "      <td>26.132</td>\n",
       "      <td>24.661</td>\n",
       "      <td>...</td>\n",
       "      <td>0.314165</td>\n",
       "      <td>0.314165</td>\n",
       "      <td>0.314165</td>\n",
       "      <td>0.314165</td>\n",
       "      <td>0.314165</td>\n",
       "      <td>0.314165</td>\n",
       "      <td>0.314165</td>\n",
       "      <td>0.314165</td>\n",
       "      <td>0.314165</td>\n",
       "      <td>0.314165</td>\n",
       "    </tr>\n",
       "    <tr>\n",
       "      <th>2</th>\n",
       "      <td>2</td>\n",
       "      <td>4204</td>\n",
       "      <td>0</td>\n",
       "      <td>4</td>\n",
       "      <td>5</td>\n",
       "      <td>2004</td>\n",
       "      <td>1</td>\n",
       "      <td>0.106263</td>\n",
       "      <td>26.132</td>\n",
       "      <td>24.661</td>\n",
       "      <td>...</td>\n",
       "      <td>0.314165</td>\n",
       "      <td>0.314165</td>\n",
       "      <td>0.314165</td>\n",
       "      <td>0.314165</td>\n",
       "      <td>0.314165</td>\n",
       "      <td>0.314165</td>\n",
       "      <td>0.314165</td>\n",
       "      <td>0.314165</td>\n",
       "      <td>0.314165</td>\n",
       "      <td>0.314165</td>\n",
       "    </tr>\n",
       "    <tr>\n",
       "      <th>3</th>\n",
       "      <td>3</td>\n",
       "      <td>1</td>\n",
       "      <td>0</td>\n",
       "      <td>19</td>\n",
       "      <td>5</td>\n",
       "      <td>2004</td>\n",
       "      <td>2</td>\n",
       "      <td>0.047658</td>\n",
       "      <td>25.295</td>\n",
       "      <td>24.401</td>\n",
       "      <td>...</td>\n",
       "      <td>0.314165</td>\n",
       "      <td>0.314165</td>\n",
       "      <td>0.314165</td>\n",
       "      <td>0.314165</td>\n",
       "      <td>0.314165</td>\n",
       "      <td>0.314165</td>\n",
       "      <td>0.314165</td>\n",
       "      <td>0.314165</td>\n",
       "      <td>0.314165</td>\n",
       "      <td>0.314165</td>\n",
       "    </tr>\n",
       "    <tr>\n",
       "      <th>4</th>\n",
       "      <td>4</td>\n",
       "      <td>1533</td>\n",
       "      <td>0</td>\n",
       "      <td>13</td>\n",
       "      <td>2</td>\n",
       "      <td>2004</td>\n",
       "      <td>2</td>\n",
       "      <td>0.182068</td>\n",
       "      <td>25.295</td>\n",
       "      <td>24.401</td>\n",
       "      <td>...</td>\n",
       "      <td>0.314165</td>\n",
       "      <td>0.314165</td>\n",
       "      <td>0.314165</td>\n",
       "      <td>0.314165</td>\n",
       "      <td>0.314165</td>\n",
       "      <td>0.314165</td>\n",
       "      <td>0.314165</td>\n",
       "      <td>0.314165</td>\n",
       "      <td>0.314165</td>\n",
       "      <td>0.314165</td>\n",
       "    </tr>\n",
       "  </tbody>\n",
       "</table>\n",
       "<p>5 rows × 104 columns</p>\n",
       "</div>"
      ],
      "text/plain": [
       "   index    Id  field  age  type  harvest_year  harvest_month  production  \\\n",
       "0      0     0      0   19     5          2004              1    0.064071   \n",
       "1      1  1532      0   13     2          2004              1    0.283228   \n",
       "2      2  4204      0    4     5          2004              1    0.106263   \n",
       "3      3     1      0   19     5          2004              2    0.047658   \n",
       "4      4  1533      0   13     2          2004              2    0.182068   \n",
       "\n",
       "   temperature  dewpoint       ...         Soilwater_L4_2  Soilwater_L4_3  \\\n",
       "0       26.132    24.661       ...               0.314165        0.314165   \n",
       "1       26.132    24.661       ...               0.314165        0.314165   \n",
       "2       26.132    24.661       ...               0.314165        0.314165   \n",
       "3       25.295    24.401       ...               0.314165        0.314165   \n",
       "4       25.295    24.401       ...               0.314165        0.314165   \n",
       "\n",
       "   Soilwater_L4_4  Soilwater_L4_5  Soilwater_L4_6  Soilwater_L4_7  \\\n",
       "0        0.314165        0.314165        0.314165        0.314165   \n",
       "1        0.314165        0.314165        0.314165        0.314165   \n",
       "2        0.314165        0.314165        0.314165        0.314165   \n",
       "3        0.314165        0.314165        0.314165        0.314165   \n",
       "4        0.314165        0.314165        0.314165        0.314165   \n",
       "\n",
       "   Soilwater_L4_8  Soilwater_L4_9  Soilwater_L4_10  Soilwater_L4_11  \n",
       "0        0.314165        0.314165         0.314165         0.314165  \n",
       "1        0.314165        0.314165         0.314165         0.314165  \n",
       "2        0.314165        0.314165         0.314165         0.314165  \n",
       "3        0.314165        0.314165         0.314165         0.314165  \n",
       "4        0.314165        0.314165         0.314165         0.314165  \n",
       "\n",
       "[5 rows x 104 columns]"
      ]
     },
     "execution_count": 7,
     "metadata": {},
     "output_type": "execute_result"
    }
   ],
   "source": [
    "df_all_ftrs.head()"
   ]
  },
  {
   "cell_type": "code",
   "execution_count": 8,
   "metadata": {},
   "outputs": [
    {
     "name": "stdout",
     "output_type": "stream",
     "text": [
      "['harvest_year', 'temperature', 'dewpoint', 'windspeed', 'Soilwater_L1', 'Soilwater_L2', 'Soilwater_L3', 'Soilwater_L4', 'Precipitation', 'temperature_1', 'temperature_2', 'temperature_3', 'temperature_4', 'temperature_5', 'temperature_6', 'temperature_7', 'temperature_8', 'temperature_9', 'temperature_10', 'temperature_11', 'dewpoint_1', 'dewpoint_2', 'dewpoint_3', 'dewpoint_4', 'dewpoint_5', 'dewpoint_6', 'dewpoint_7', 'dewpoint_8', 'dewpoint_9', 'dewpoint_10', 'dewpoint_11', 'windspeed_1', 'windspeed_2', 'windspeed_3', 'windspeed_4', 'windspeed_5', 'windspeed_6', 'windspeed_7', 'windspeed_8', 'windspeed_9', 'windspeed_10', 'windspeed_11', 'Precipitation_1', 'Precipitation_2', 'Precipitation_3', 'Precipitation_4', 'Precipitation_5', 'Precipitation_6', 'Precipitation_7', 'Precipitation_8', 'Precipitation_9', 'Precipitation_10', 'Precipitation_11', 'Soilwater_L1_1', 'Soilwater_L1_2', 'Soilwater_L1_3', 'Soilwater_L1_4', 'Soilwater_L1_5', 'Soilwater_L1_6', 'Soilwater_L1_7', 'Soilwater_L1_8', 'Soilwater_L1_9', 'Soilwater_L1_10', 'Soilwater_L1_11', 'Soilwater_L2_1', 'Soilwater_L2_2', 'Soilwater_L2_3', 'Soilwater_L2_4', 'Soilwater_L2_5', 'Soilwater_L2_6', 'Soilwater_L2_7', 'Soilwater_L2_8', 'Soilwater_L2_9', 'Soilwater_L2_10', 'Soilwater_L2_11', 'Soilwater_L3_1', 'Soilwater_L3_2', 'Soilwater_L3_3', 'Soilwater_L3_4', 'Soilwater_L3_5', 'Soilwater_L3_6', 'Soilwater_L3_7', 'Soilwater_L3_8', 'Soilwater_L3_9', 'Soilwater_L3_10', 'Soilwater_L3_11', 'Soilwater_L4_1', 'Soilwater_L4_2', 'Soilwater_L4_3', 'Soilwater_L4_4', 'Soilwater_L4_5', 'Soilwater_L4_6', 'Soilwater_L4_7', 'Soilwater_L4_8', 'Soilwater_L4_9', 'Soilwater_L4_10', 'Soilwater_L4_11']\n"
     ]
    }
   ],
   "source": [
    "# Categorical features.\n",
    "cat_ftrs = ['field', 'age', 'type', 'harvest_month']\n",
    "# Continuous features.\n",
    "contin_ftrs = [f for f in df_all_ftrs.columns if f not in (['production', 'Id', 'index'] + cat_ftrs)]\n",
    "print(contin_ftrs)"
   ]
  },
  {
   "cell_type": "code",
   "execution_count": 9,
   "metadata": {},
   "outputs": [
    {
     "data": {
      "text/html": [
       "<div>\n",
       "<style scoped>\n",
       "    .dataframe tbody tr th:only-of-type {\n",
       "        vertical-align: middle;\n",
       "    }\n",
       "\n",
       "    .dataframe tbody tr th {\n",
       "        vertical-align: top;\n",
       "    }\n",
       "\n",
       "    .dataframe thead th {\n",
       "        text-align: right;\n",
       "    }\n",
       "</style>\n",
       "<table border=\"1\" class=\"dataframe\">\n",
       "  <thead>\n",
       "    <tr style=\"text-align: right;\">\n",
       "      <th></th>\n",
       "      <th>field</th>\n",
       "      <th>age</th>\n",
       "      <th>type</th>\n",
       "      <th>harvest_month</th>\n",
       "      <th>harvest_year</th>\n",
       "      <th>temperature</th>\n",
       "      <th>dewpoint</th>\n",
       "      <th>windspeed</th>\n",
       "      <th>Soilwater_L1</th>\n",
       "      <th>Soilwater_L2</th>\n",
       "      <th>...</th>\n",
       "      <th>Soilwater_L4_2</th>\n",
       "      <th>Soilwater_L4_3</th>\n",
       "      <th>Soilwater_L4_4</th>\n",
       "      <th>Soilwater_L4_5</th>\n",
       "      <th>Soilwater_L4_6</th>\n",
       "      <th>Soilwater_L4_7</th>\n",
       "      <th>Soilwater_L4_8</th>\n",
       "      <th>Soilwater_L4_9</th>\n",
       "      <th>Soilwater_L4_10</th>\n",
       "      <th>Soilwater_L4_11</th>\n",
       "    </tr>\n",
       "  </thead>\n",
       "  <tbody>\n",
       "    <tr>\n",
       "      <th>0</th>\n",
       "      <td>0</td>\n",
       "      <td>19</td>\n",
       "      <td>5</td>\n",
       "      <td>1</td>\n",
       "      <td>2004</td>\n",
       "      <td>26.132</td>\n",
       "      <td>24.661</td>\n",
       "      <td>1.8766</td>\n",
       "      <td>0.35274</td>\n",
       "      <td>0.35192</td>\n",
       "      <td>...</td>\n",
       "      <td>0.314165</td>\n",
       "      <td>0.314165</td>\n",
       "      <td>0.314165</td>\n",
       "      <td>0.314165</td>\n",
       "      <td>0.314165</td>\n",
       "      <td>0.314165</td>\n",
       "      <td>0.314165</td>\n",
       "      <td>0.314165</td>\n",
       "      <td>0.314165</td>\n",
       "      <td>0.314165</td>\n",
       "    </tr>\n",
       "    <tr>\n",
       "      <th>1</th>\n",
       "      <td>0</td>\n",
       "      <td>13</td>\n",
       "      <td>2</td>\n",
       "      <td>1</td>\n",
       "      <td>2004</td>\n",
       "      <td>26.132</td>\n",
       "      <td>24.661</td>\n",
       "      <td>1.8766</td>\n",
       "      <td>0.35274</td>\n",
       "      <td>0.35192</td>\n",
       "      <td>...</td>\n",
       "      <td>0.314165</td>\n",
       "      <td>0.314165</td>\n",
       "      <td>0.314165</td>\n",
       "      <td>0.314165</td>\n",
       "      <td>0.314165</td>\n",
       "      <td>0.314165</td>\n",
       "      <td>0.314165</td>\n",
       "      <td>0.314165</td>\n",
       "      <td>0.314165</td>\n",
       "      <td>0.314165</td>\n",
       "    </tr>\n",
       "  </tbody>\n",
       "</table>\n",
       "<p>2 rows × 101 columns</p>\n",
       "</div>"
      ],
      "text/plain": [
       "   field  age  type  harvest_month  harvest_year  temperature  dewpoint  \\\n",
       "0      0   19     5              1          2004       26.132    24.661   \n",
       "1      0   13     2              1          2004       26.132    24.661   \n",
       "\n",
       "   windspeed  Soilwater_L1  Soilwater_L2       ...         Soilwater_L4_2  \\\n",
       "0     1.8766       0.35274       0.35192       ...               0.314165   \n",
       "1     1.8766       0.35274       0.35192       ...               0.314165   \n",
       "\n",
       "   Soilwater_L4_3  Soilwater_L4_4  Soilwater_L4_5  Soilwater_L4_6  \\\n",
       "0        0.314165        0.314165        0.314165        0.314165   \n",
       "1        0.314165        0.314165        0.314165        0.314165   \n",
       "\n",
       "   Soilwater_L4_7  Soilwater_L4_8  Soilwater_L4_9  Soilwater_L4_10  \\\n",
       "0        0.314165        0.314165        0.314165         0.314165   \n",
       "1        0.314165        0.314165        0.314165         0.314165   \n",
       "\n",
       "   Soilwater_L4_11  \n",
       "0         0.314165  \n",
       "1         0.314165  \n",
       "\n",
       "[2 rows x 101 columns]"
      ]
     },
     "execution_count": 9,
     "metadata": {},
     "output_type": "execute_result"
    }
   ],
   "source": [
    "# Remove unused features.\n",
    "df_all_ftrs = df_all_ftrs[cat_ftrs + contin_ftrs]\n",
    "df_all_ftrs.head(2)"
   ]
  },
  {
   "cell_type": "code",
   "execution_count": 10,
   "metadata": {
    "scrolled": true
   },
   "outputs": [
    {
     "data": {
      "text/html": [
       "<div>\n",
       "<style scoped>\n",
       "    .dataframe tbody tr th:only-of-type {\n",
       "        vertical-align: middle;\n",
       "    }\n",
       "\n",
       "    .dataframe tbody tr th {\n",
       "        vertical-align: top;\n",
       "    }\n",
       "\n",
       "    .dataframe thead th {\n",
       "        text-align: right;\n",
       "    }\n",
       "</style>\n",
       "<table border=\"1\" class=\"dataframe\">\n",
       "  <thead>\n",
       "    <tr style=\"text-align: right;\">\n",
       "      <th></th>\n",
       "      <th>field</th>\n",
       "      <th>age</th>\n",
       "      <th>type</th>\n",
       "      <th>harvest_month</th>\n",
       "      <th>harvest_year</th>\n",
       "      <th>temperature</th>\n",
       "      <th>dewpoint</th>\n",
       "      <th>windspeed</th>\n",
       "      <th>Soilwater_L1</th>\n",
       "      <th>Soilwater_L2</th>\n",
       "      <th>...</th>\n",
       "      <th>Soilwater_L4_2</th>\n",
       "      <th>Soilwater_L4_3</th>\n",
       "      <th>Soilwater_L4_4</th>\n",
       "      <th>Soilwater_L4_5</th>\n",
       "      <th>Soilwater_L4_6</th>\n",
       "      <th>Soilwater_L4_7</th>\n",
       "      <th>Soilwater_L4_8</th>\n",
       "      <th>Soilwater_L4_9</th>\n",
       "      <th>Soilwater_L4_10</th>\n",
       "      <th>Soilwater_L4_11</th>\n",
       "    </tr>\n",
       "  </thead>\n",
       "  <tbody>\n",
       "    <tr>\n",
       "      <th>0</th>\n",
       "      <td>0</td>\n",
       "      <td>19</td>\n",
       "      <td>5</td>\n",
       "      <td>1</td>\n",
       "      <td>2004.0</td>\n",
       "      <td>26.132</td>\n",
       "      <td>24.660999</td>\n",
       "      <td>1.8766</td>\n",
       "      <td>0.35274</td>\n",
       "      <td>0.35192</td>\n",
       "      <td>...</td>\n",
       "      <td>0.314165</td>\n",
       "      <td>0.314165</td>\n",
       "      <td>0.314165</td>\n",
       "      <td>0.314165</td>\n",
       "      <td>0.314165</td>\n",
       "      <td>0.314165</td>\n",
       "      <td>0.314165</td>\n",
       "      <td>0.314165</td>\n",
       "      <td>0.314165</td>\n",
       "      <td>0.314165</td>\n",
       "    </tr>\n",
       "    <tr>\n",
       "      <th>1</th>\n",
       "      <td>0</td>\n",
       "      <td>13</td>\n",
       "      <td>2</td>\n",
       "      <td>1</td>\n",
       "      <td>2004.0</td>\n",
       "      <td>26.132</td>\n",
       "      <td>24.660999</td>\n",
       "      <td>1.8766</td>\n",
       "      <td>0.35274</td>\n",
       "      <td>0.35192</td>\n",
       "      <td>...</td>\n",
       "      <td>0.314165</td>\n",
       "      <td>0.314165</td>\n",
       "      <td>0.314165</td>\n",
       "      <td>0.314165</td>\n",
       "      <td>0.314165</td>\n",
       "      <td>0.314165</td>\n",
       "      <td>0.314165</td>\n",
       "      <td>0.314165</td>\n",
       "      <td>0.314165</td>\n",
       "      <td>0.314165</td>\n",
       "    </tr>\n",
       "  </tbody>\n",
       "</table>\n",
       "<p>2 rows × 101 columns</p>\n",
       "</div>"
      ],
      "text/plain": [
       "  field age type harvest_month  harvest_year  temperature   dewpoint  \\\n",
       "0     0  19    5             1        2004.0       26.132  24.660999   \n",
       "1     0  13    2             1        2004.0       26.132  24.660999   \n",
       "\n",
       "   windspeed  Soilwater_L1  Soilwater_L2       ...         Soilwater_L4_2  \\\n",
       "0     1.8766       0.35274       0.35192       ...               0.314165   \n",
       "1     1.8766       0.35274       0.35192       ...               0.314165   \n",
       "\n",
       "   Soilwater_L4_3  Soilwater_L4_4  Soilwater_L4_5  Soilwater_L4_6  \\\n",
       "0        0.314165        0.314165        0.314165        0.314165   \n",
       "1        0.314165        0.314165        0.314165        0.314165   \n",
       "\n",
       "   Soilwater_L4_7  Soilwater_L4_8  Soilwater_L4_9  Soilwater_L4_10  \\\n",
       "0        0.314165        0.314165        0.314165         0.314165   \n",
       "1        0.314165        0.314165        0.314165         0.314165   \n",
       "\n",
       "   Soilwater_L4_11  \n",
       "0         0.314165  \n",
       "1         0.314165  \n",
       "\n",
       "[2 rows x 101 columns]"
      ]
     },
     "execution_count": 10,
     "metadata": {},
     "output_type": "execute_result"
    }
   ],
   "source": [
    "# Inform pandas which features are categorical ...\n",
    "for v in cat_ftrs:\n",
    "    df_all_ftrs[v] = df_all_ftrs[v].astype('category').cat.as_ordered()\n",
    "# ... and which are continuous.\n",
    "for v in contin_ftrs:\n",
    "    df_all_ftrs[v] = df_all_ftrs[v].astype('float32')\n",
    "\n",
    "df_all_ftrs.head(2)"
   ]
  },
  {
   "cell_type": "code",
   "execution_count": 11,
   "metadata": {
    "scrolled": false
   },
   "outputs": [
    {
     "name": "stdout",
     "output_type": "stream",
     "text": [
      "[('field', 29), ('age', 29), ('type', 10), ('harvest_month', 13)]\n",
      "[(29, 15), (29, 15), (10, 5), (13, 7)]\n"
     ]
    }
   ],
   "source": [
    "# Compute list of embedding sizes.\n",
    "cat_sz = [(c, len(df_all_ftrs[c].cat.categories)+1) for c in cat_ftrs]\n",
    "print(cat_sz)\n",
    "emb_szs = [(c, min(50, (c+1)//2)) for _,c in cat_sz]\n",
    "print(emb_szs)"
   ]
  },
  {
   "cell_type": "code",
   "execution_count": 12,
   "metadata": {
    "scrolled": false
   },
   "outputs": [
    {
     "name": "stdout",
     "output_type": "stream",
     "text": [
      "497\n",
      "9353\n"
     ]
    }
   ],
   "source": [
    "val_year = 2017\n",
    "\n",
    "# Ignore training examples with type != 5\n",
    "# df_all_ftrs = df_all_ftrs[(df_all_ftrs.type == 5) | (df_all_ftrs.harvest_year >= val_year)]\n",
    "\n",
    "val_idx = np.flatnonzero(df_all_ftrs.harvest_year >= val_year)\n",
    "print(len(val_idx))\n",
    "print(len(df_all_ftrs))"
   ]
  },
  {
   "cell_type": "code",
   "execution_count": 13,
   "metadata": {},
   "outputs": [
    {
     "data": {
      "text/html": [
       "<div>\n",
       "<style scoped>\n",
       "    .dataframe tbody tr th:only-of-type {\n",
       "        vertical-align: middle;\n",
       "    }\n",
       "\n",
       "    .dataframe tbody tr th {\n",
       "        vertical-align: top;\n",
       "    }\n",
       "\n",
       "    .dataframe thead th {\n",
       "        text-align: right;\n",
       "    }\n",
       "</style>\n",
       "<table border=\"1\" class=\"dataframe\">\n",
       "  <thead>\n",
       "    <tr style=\"text-align: right;\">\n",
       "      <th></th>\n",
       "      <th>field</th>\n",
       "      <th>age</th>\n",
       "      <th>type</th>\n",
       "      <th>harvest_month</th>\n",
       "      <th>harvest_year</th>\n",
       "      <th>temperature</th>\n",
       "      <th>dewpoint</th>\n",
       "      <th>windspeed</th>\n",
       "      <th>Soilwater_L1</th>\n",
       "      <th>Soilwater_L2</th>\n",
       "      <th>...</th>\n",
       "      <th>Soilwater_L4_2</th>\n",
       "      <th>Soilwater_L4_3</th>\n",
       "      <th>Soilwater_L4_4</th>\n",
       "      <th>Soilwater_L4_5</th>\n",
       "      <th>Soilwater_L4_6</th>\n",
       "      <th>Soilwater_L4_7</th>\n",
       "      <th>Soilwater_L4_8</th>\n",
       "      <th>Soilwater_L4_9</th>\n",
       "      <th>Soilwater_L4_10</th>\n",
       "      <th>Soilwater_L4_11</th>\n",
       "    </tr>\n",
       "  </thead>\n",
       "  <tbody>\n",
       "    <tr>\n",
       "      <th>0</th>\n",
       "      <td>1</td>\n",
       "      <td>17</td>\n",
       "      <td>7</td>\n",
       "      <td>1</td>\n",
       "      <td>-1.697803</td>\n",
       "      <td>-1.166099</td>\n",
       "      <td>0.936026</td>\n",
       "      <td>-0.934888</td>\n",
       "      <td>1.001172</td>\n",
       "      <td>1.00669</td>\n",
       "      <td>...</td>\n",
       "      <td>-0.003063</td>\n",
       "      <td>-0.004811</td>\n",
       "      <td>-0.00487</td>\n",
       "      <td>-0.003559</td>\n",
       "      <td>-0.000209</td>\n",
       "      <td>0.000733</td>\n",
       "      <td>0.000304</td>\n",
       "      <td>0.00122</td>\n",
       "      <td>0.000906</td>\n",
       "      <td>-0.003347</td>\n",
       "    </tr>\n",
       "    <tr>\n",
       "      <th>1</th>\n",
       "      <td>1</td>\n",
       "      <td>11</td>\n",
       "      <td>4</td>\n",
       "      <td>1</td>\n",
       "      <td>-1.697803</td>\n",
       "      <td>-1.166099</td>\n",
       "      <td>0.936026</td>\n",
       "      <td>-0.934888</td>\n",
       "      <td>1.001172</td>\n",
       "      <td>1.00669</td>\n",
       "      <td>...</td>\n",
       "      <td>-0.003063</td>\n",
       "      <td>-0.004811</td>\n",
       "      <td>-0.00487</td>\n",
       "      <td>-0.003559</td>\n",
       "      <td>-0.000209</td>\n",
       "      <td>0.000733</td>\n",
       "      <td>0.000304</td>\n",
       "      <td>0.00122</td>\n",
       "      <td>0.000906</td>\n",
       "      <td>-0.003347</td>\n",
       "    </tr>\n",
       "  </tbody>\n",
       "</table>\n",
       "<p>2 rows × 101 columns</p>\n",
       "</div>"
      ],
      "text/plain": [
       "   field  age  type  harvest_month  harvest_year  temperature  dewpoint  \\\n",
       "0      1   17     7              1     -1.697803    -1.166099  0.936026   \n",
       "1      1   11     4              1     -1.697803    -1.166099  0.936026   \n",
       "\n",
       "   windspeed  Soilwater_L1  Soilwater_L2       ...         Soilwater_L4_2  \\\n",
       "0  -0.934888      1.001172       1.00669       ...              -0.003063   \n",
       "1  -0.934888      1.001172       1.00669       ...              -0.003063   \n",
       "\n",
       "   Soilwater_L4_3  Soilwater_L4_4  Soilwater_L4_5  Soilwater_L4_6  \\\n",
       "0       -0.004811        -0.00487       -0.003559       -0.000209   \n",
       "1       -0.004811        -0.00487       -0.003559       -0.000209   \n",
       "\n",
       "   Soilwater_L4_7  Soilwater_L4_8  Soilwater_L4_9  Soilwater_L4_10  \\\n",
       "0        0.000733        0.000304         0.00122         0.000906   \n",
       "1        0.000733        0.000304         0.00122         0.000906   \n",
       "\n",
       "   Soilwater_L4_11  \n",
       "0        -0.003347  \n",
       "1        -0.003347  \n",
       "\n",
       "[2 rows x 101 columns]"
      ]
     },
     "execution_count": 13,
     "metadata": {},
     "output_type": "execute_result"
    }
   ],
   "source": [
    "df, _, nas, mapper = proc_df(df_all_ftrs, y_fld=None, do_scale=True)\n",
    "df.head(2)"
   ]
  },
  {
   "cell_type": "markdown",
   "metadata": {},
   "source": [
    "### One-hot output variables\n",
    "Create one-hot output variables for each categorical input variable."
   ]
  },
  {
   "cell_type": "code",
   "execution_count": 15,
   "metadata": {},
   "outputs": [],
   "source": [
    "cols = ['field', 'age', 'type', 'harvest_month']\n",
    "\n",
    "# Create dummy values for categorical features.\n",
    "y = pd.get_dummies(df.loc[:,cols], columns=cols)\n",
    "\n",
    "dfs = []\n",
    "ys = []\n",
    "\n",
    "for i in range(len(cols) - 1):\n",
    "    coli = cols[i]\n",
    "    for j in range(i + 1, len(cols)):\n",
    "        colj = cols[j]\n",
    "        \n",
    "        # Create a new split for the categorical feature 'col'.\n",
    "        df_col = df.copy()\n",
    "        # Remove categorical feature value for this split.\n",
    "        df_col[coli] = 0\n",
    "        df_col[colj] = 0\n",
    "        # Add to list of splits.\n",
    "        dfs.append(df_col)\n",
    "\n",
    "        # Copy the output variables.\n",
    "        ys.append(y.copy())\n",
    "\n",
    "# Concatenate all splits.\n",
    "y = pd.concat(ys)\n",
    "df = pd.concat(dfs)"
   ]
  },
  {
   "cell_type": "code",
   "execution_count": 16,
   "metadata": {},
   "outputs": [
    {
     "name": "stdout",
     "output_type": "stream",
     "text": [
      "56118\n",
      "56118\n"
     ]
    }
   ],
   "source": [
    "print(len(y))\n",
    "print(len(df))"
   ]
  },
  {
   "cell_type": "code",
   "execution_count": 17,
   "metadata": {},
   "outputs": [],
   "source": [
    "md = ColumnarModelData.from_data_frame(path, # path for data saving\n",
    "                                       val_idx, # indexes of validation examples\n",
    "                                       df, # training data\n",
    "                                       y.values.astype(np.float32), # output variable\n",
    "                                       cat_flds=cat_ftrs, # categorical features\n",
    "                                       bs=16, # batch size\n",
    "                                       is_reg=False, # not regression\n",
    "                                       is_multi=True) # multi-label problem"
   ]
  },
  {
   "cell_type": "code",
   "execution_count": 18,
   "metadata": {},
   "outputs": [],
   "source": [
    "# dropout rate\n",
    "dr = 0.5\n",
    "\n",
    "learner_params = {\n",
    "    \"emb_szs\": emb_szs, # embedding sizes\n",
    "    \"n_cont\": len(df.columns) - len(cat_ftrs), # num continuous inputs\n",
    "    \"emb_drop\": dr, # embeddings dropout probability\n",
    "    \"out_sz\": y.shape[1], # output size\n",
    "    \"szs\": [300, 100], # sizes of fully-connected layers\n",
    "    \"drops\": [dr, dr], # dropout probabilities after each FC layer\n",
    "    \"use_bn\": False # batch normalization\n",
    "}"
   ]
  },
  {
   "cell_type": "code",
   "execution_count": 19,
   "metadata": {
    "scrolled": false
   },
   "outputs": [
    {
     "data": {
      "application/vnd.jupyter.widget-view+json": {
       "model_id": "7838efe112dd421b9751b9eea0c0774c",
       "version_major": 2,
       "version_minor": 0
      },
      "text/plain": [
       "HBox(children=(IntProgress(value=0, description='Epoch', max=1), HTML(value='')))"
      ]
     },
     "metadata": {},
     "output_type": "display_data"
    },
    {
     "name": "stdout",
     "output_type": "stream",
     "text": [
      " 74%|███████▍  | 2580/3477 [00:11<00:03, 229.28it/s, loss=0.397]"
     ]
    },
    {
     "data": {
      "image/png": "[encoded data removed]",
      "text/plain": [
       "<Figure size 432x288 with 1 Axes>"
      ]
     },
     "metadata": {},
     "output_type": "display_data"
    }
   ],
   "source": [
    "m = md.get_learner(**learner_params)\n",
    "m.lr_find()\n",
    "m.sched.plot()"
   ]
  },
  {
   "cell_type": "code",
   "execution_count": 20,
   "metadata": {
    "scrolled": false
   },
   "outputs": [
    {
     "data": {
      "application/vnd.jupyter.widget-view+json": {
       "model_id": "6469041c889f4cbaa6dfb1391b3102e5",
       "version_major": 2,
       "version_minor": 0
      },
      "text/plain": [
       "HBox(children=(IntProgress(value=0, description='Epoch', max=15), HTML(value='')))"
      ]
     },
     "metadata": {},
     "output_type": "display_data"
    },
    {
     "name": "stdout",
     "output_type": "stream",
     "text": [
      "epoch      trn_loss   val_loss                                  \n",
      "    0      0.140331   0.129495  \n",
      "    1      0.123166   0.118639                                  \n",
      "    2      0.120474   0.117474                                  \n",
      "    3      0.110537   0.113699                                  \n",
      "    4      0.105297   0.10865                                   \n",
      "    5      0.101588   0.10798                                   \n",
      "    6      0.10053    0.105416                                  \n",
      "    7      0.096001   0.102451                                   \n",
      "    8      0.095292   0.10212                                    \n",
      "    9      0.093503   0.102928                                   \n",
      "    10     0.090106   0.099895                                   \n",
      "    11     0.090759   0.099125                                   \n",
      "    12     0.092567   0.101045                                   \n",
      "    13     0.088478   0.097288                                   \n",
      "    14     0.086355   0.097346                                   \n"
     ]
    },
    {
     "data": {
      "text/plain": [
       "[array([0.09735])]"
      ]
     },
     "execution_count": 20,
     "metadata": {},
     "output_type": "execute_result"
    }
   ],
   "source": [
    "lr = 1e-3\n",
    "m = md.get_learner(**learner_params)\n",
    "m.fit(lr, 5, cycle_len=3)"
   ]
  },
  {
   "cell_type": "code",
   "execution_count": 21,
   "metadata": {},
   "outputs": [],
   "source": [
    "save_model_ignoring(m, 'pretrain-noiser2-trn086-val097', ['outp'])"
   ]
  },
  {
   "cell_type": "code",
   "execution_count": 22,
   "metadata": {},
   "outputs": [
    {
     "data": {
      "application/vnd.jupyter.widget-view+json": {
       "model_id": "92d7eaab45454325bb58b1317640f36a",
       "version_major": 2,
       "version_minor": 0
      },
      "text/plain": [
       "HBox(children=(IntProgress(value=0, description='Epoch', max=15), HTML(value='')))"
      ]
     },
     "metadata": {},
     "output_type": "display_data"
    },
    {
     "name": "stdout",
     "output_type": "stream",
     "text": [
      "epoch      trn_loss   val_loss                                   \n",
      "    0      0.088018   0.097957  \n",
      "    1      0.086177   0.094634                                   \n",
      "    2      0.0857     0.094195                                   \n",
      "    3      0.087332   0.094894                                   \n",
      "    4      0.08442    0.094211                                   \n",
      "    5      0.081653   0.093377                                   \n",
      "    6      0.085544   0.093146                                   \n",
      "    7      0.08294    0.092404                                   \n",
      "    8      0.082215   0.091655                                   \n",
      "    9      0.084891   0.094449                                   \n",
      "    10     0.082295   0.092362                                   \n",
      "    11     0.082717   0.091526                                   \n",
      "    12     0.084409   0.09347                                    \n",
      "    13     0.080383   0.091254                                   \n",
      "    14     0.079668   0.091095                                   \n"
     ]
    },
    {
     "data": {
      "text/plain": [
       "[array([0.0911])]"
      ]
     },
     "execution_count": 22,
     "metadata": {},
     "output_type": "execute_result"
    }
   ],
   "source": [
    "m.fit(lr, 5, cycle_len=3)"
   ]
  },
  {
   "cell_type": "code",
   "execution_count": 23,
   "metadata": {},
   "outputs": [],
   "source": [
    "save_model_ignoring(m, 'pretrain-noiser-trn079-val091', ['outp'])"
   ]
  },
  {
   "cell_type": "code",
   "execution_count": 24,
   "metadata": {
    "scrolled": false
   },
   "outputs": [
    {
     "data": {
      "application/vnd.jupyter.widget-view+json": {
       "model_id": "94574b66cfe04deeaba1dbd1de31a77a",
       "version_major": 2,
       "version_minor": 0
      },
      "text/plain": [
       "HBox(children=(IntProgress(value=0, description='Epoch', max=15), HTML(value='')))"
      ]
     },
     "metadata": {},
     "output_type": "display_data"
    },
    {
     "name": "stdout",
     "output_type": "stream",
     "text": [
      "epoch      trn_loss   val_loss                                   \n",
      "    0      0.084967   0.092455  \n",
      "    1      0.080761   0.091308                                   \n",
      "    2      0.078432   0.09077                                    \n",
      "    3      0.083287   0.093344                                   \n",
      "    4      0.081361   0.091002                                   \n",
      "    5      0.07898    0.09043                                    \n",
      "    6      0.08143    0.09251                                    \n",
      "    7      0.080236   0.090195                                   \n",
      "    8      0.078977   0.089922                                   \n",
      "    9      0.083026   0.091723                                   \n",
      "    10     0.077808   0.090058                                   \n",
      "    11     0.079957   0.090133                                   \n",
      "    12     0.080989   0.092132                                   \n",
      "    13     0.078065   0.090185                                   \n",
      "    14     0.078084   0.090291                                   \n"
     ]
    },
    {
     "data": {
      "text/plain": [
       "[array([0.09029])]"
      ]
     },
     "execution_count": 24,
     "metadata": {},
     "output_type": "execute_result"
    }
   ],
   "source": [
    "m.fit(lr, 5, cycle_len=3)"
   ]
  },
  {
   "cell_type": "code",
   "execution_count": 25,
   "metadata": {},
   "outputs": [],
   "source": [
    "save_model_ignoring(m, 'pretrain-noiser-trn078-val090', ['outp'])"
   ]
  },
  {
   "cell_type": "code",
   "execution_count": 26,
   "metadata": {},
   "outputs": [
    {
     "data": {
      "application/vnd.jupyter.widget-view+json": {
       "model_id": "73ae2ca6281e4e4998ad46469e7dd03c",
       "version_major": 2,
       "version_minor": 0
      },
      "text/plain": [
       "HBox(children=(IntProgress(value=0, description='Epoch', max=15), HTML(value='')))"
      ]
     },
     "metadata": {},
     "output_type": "display_data"
    },
    {
     "name": "stdout",
     "output_type": "stream",
     "text": [
      "epoch      trn_loss   val_loss                                   \n",
      "    0      0.081485   0.0917    \n",
      "    1      0.078008   0.090314                                   \n",
      "    2      0.076627   0.09                                       \n",
      "    3      0.080734   0.091234                                   \n",
      "    4      0.077566   0.09034                                    \n",
      "    5      0.077331   0.089912                                   \n",
      "    6      0.080264   0.091338                                   \n",
      "    7      0.077816   0.089831                                   \n",
      "    8      0.076679   0.089538                                   \n",
      "    9      0.080579   0.091143                                   \n",
      "    10     0.079106   0.090176                                   \n",
      "    11     0.078439   0.089637                                   \n",
      "    12     0.080664   0.092402                                   \n",
      "    13     0.078309   0.090807                                   \n",
      "    14     0.075504   0.089634                                   \n"
     ]
    },
    {
     "data": {
      "text/plain": [
       "[array([0.08963])]"
      ]
     },
     "execution_count": 26,
     "metadata": {},
     "output_type": "execute_result"
    }
   ],
   "source": [
    "m.fit(lr, 5, cycle_len=3)"
   ]
  },
  {
   "cell_type": "code",
   "execution_count": 27,
   "metadata": {},
   "outputs": [],
   "source": [
    "save_model_ignoring(m, 'pretrain-noiser-trn075-val089', ['outp'])"
   ]
  }
 ],
 "metadata": {
  "kernelspec": {
   "display_name": "Python 3",
   "language": "python",
   "name": "python3"
  },
  "language_info": {
   "codemirror_mode": {
    "name": "ipython",
    "version": 3
   },
   "file_extension": ".py",
   "mimetype": "text/x-python",
   "name": "python",
   "nbconvert_exporter": "python",
   "pygments_lexer": "ipython3",
   "version": "3.6.6"
  }
 },
 "nbformat": 4,
 "nbformat_minor": 1
}
