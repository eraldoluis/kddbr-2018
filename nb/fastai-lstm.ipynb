{
 "cells": [
  {
   "cell_type": "markdown",
   "metadata": {
    "_uuid": "4646fdea09654229ea606aa4faffad9cb819398b"
   },
   "source": [
    "# LSTM Modeling\n",
    "Use a LSTM model.\n",
    "Each group of (field, type, year_plant), where year_plant = harvest_year - age, is considered a sequence."
   ]
  },
  {
   "cell_type": "code",
   "execution_count": 45,
   "metadata": {},
   "outputs": [
    {
     "name": "stdout",
     "output_type": "stream",
     "text": [
      "env: CUDA_VISIBLE_DEVICES=1\n"
     ]
    }
   ],
   "source": [
    "%matplotlib inline\n",
    "%reload_ext autoreload\n",
    "%autoreload 2\n",
    "\n",
    "%env CUDA_VISIBLE_DEVICES=1"
   ]
  },
  {
   "cell_type": "code",
   "execution_count": 46,
   "metadata": {
    "_uuid": "35b9298747ec076ac8a9afb81192039880e46f2c"
   },
   "outputs": [],
   "source": [
    "import pandas as pd\n",
    "import numpy as np\n",
    "import os \n",
    "\n",
    "from datetime import datetime\n",
    "import matplotlib.pyplot as plt\n",
    "import seaborn as sns\n",
    "\n",
    "from kdd_utils import addFieldDataFtrs, addSoilFtrs, cvPerYear, load_model_ignoring, save_model_ignoring\n",
    "\n",
    "sns.set(style=\"whitegrid\")"
   ]
  },
  {
   "cell_type": "code",
   "execution_count": 47,
   "metadata": {},
   "outputs": [],
   "source": [
    "from fastai.structured import *\n",
    "from fastai.column_data import *\n",
    "from fastai.column_seq_data import *"
   ]
  },
  {
   "cell_type": "markdown",
   "metadata": {
    "_uuid": "5e5a56ed28ca3f0433752b640126d39410d590e7"
   },
   "source": [
    "## Train and test datasets\n",
    "\n",
    "Basic data containing palm tree information"
   ]
  },
  {
   "cell_type": "code",
   "execution_count": 48,
   "metadata": {
    "_uuid": "d26413ead269ebe206f0ac43cda68634d9611199",
    "scrolled": true
   },
   "outputs": [
    {
     "name": "stdout",
     "output_type": "stream",
     "text": [
      "Shape: (9353, 8)\n"
     ]
    }
   ],
   "source": [
    "path = '../input/'\n",
    "\n",
    "# Train data.\n",
    "df_all = pd.read_csv(os.path.join(path, 'all_clean.csv'))\n",
    "\n",
    "print('Shape:', df_all.shape)"
   ]
  },
  {
   "cell_type": "markdown",
   "metadata": {
    "_uuid": "8163b4159ec67907aa1518f341edf613f4bc7266"
   },
   "source": [
    "## Field and Soil Features\n",
    "\n",
    "These files hold atmospheric data from January 2002 to December 2017, and can be used to estimate the weather conditions during the development of the plant. Notice that weather does influence the production. Using only a single month prior to harvest is probably too little data. Participants should decide how far back in the past they want to look when training models.\n",
    "\n"
   ]
  },
  {
   "cell_type": "code",
   "execution_count": 49,
   "metadata": {
    "_uuid": "c9596d68c59820e59de0b7861c9234712185fdab",
    "scrolled": true
   },
   "outputs": [
    {
     "name": "stdout",
     "output_type": "stream",
     "text": [
      "['index', 'Unnamed: 0', 'Id', 'age', 'field', 'harvest_month', 'harvest_year', 'production', 'type', 'month', 'year', 'temperature', 'dewpoint', 'windspeed', 'Soilwater_L1', 'Soilwater_L2', 'Soilwater_L3', 'Soilwater_L4', 'Precipitation', 'BDRICM_BDRICM_M', 'BDRLOG_BDRLOG_M', 'BDTICM_BDTICM_M', 'BLDFIE_sl1', 'BLDFIE_sl2', 'BLDFIE_sl3', 'BLDFIE_sl4', 'BLDFIE_sl5', 'BLDFIE_sl6', 'BLDFIE_sl7', 'CECSOL_sl1', 'CECSOL_sl2', 'CECSOL_sl3', 'CECSOL_sl4', 'CECSOL_sl5', 'CECSOL_sl6', 'CECSOL_sl7', 'CLYPPT_sl1', 'CLYPPT_sl2', 'CLYPPT_sl3', 'CLYPPT_sl4', 'CLYPPT_sl5', 'CLYPPT_sl6', 'CLYPPT_sl7', 'CRFVOL_sl1', 'CRFVOL_sl2', 'CRFVOL_sl3', 'CRFVOL_sl4', 'CRFVOL_sl5', 'CRFVOL_sl6', 'CRFVOL_sl7', 'OCSTHA_sd1', 'OCSTHA_sd2', 'OCSTHA_sd3', 'OCSTHA_sd4', 'OCSTHA_sd5', 'OCSTHA_sd6', 'ORCDRC_sl1', 'ORCDRC_sl2', 'ORCDRC_sl3', 'ORCDRC_sl4', 'ORCDRC_sl5', 'ORCDRC_sl6', 'ORCDRC_sl7', 'PHIHOX_sl1', 'PHIHOX_sl2', 'PHIHOX_sl3', 'PHIHOX_sl4', 'PHIHOX_sl5', 'PHIHOX_sl6', 'PHIHOX_sl7', 'PHIKCL_sl1', 'PHIKCL_sl2', 'PHIKCL_sl3', 'PHIKCL_sl4', 'PHIKCL_sl5', 'PHIKCL_sl6', 'PHIKCL_sl7', 'SLTPPT_sl1', 'SLTPPT_sl2', 'SLTPPT_sl3', 'SLTPPT_sl4', 'SLTPPT_sl5', 'SLTPPT_sl6', 'SLTPPT_sl7', 'SNDPPT_sl1', 'SNDPPT_sl2', 'SNDPPT_sl3', 'SNDPPT_sl4', 'SNDPPT_sl5', 'SNDPPT_sl6', 'SNDPPT_sl7']\n"
     ]
    }
   ],
   "source": [
    "df_all_ftrs = addFieldDataFtrs(df_all, shiftFtrs=None)\n",
    "df_all_ftrs = addSoilFtrs(df_all_ftrs)\n",
    "print(list(df_all_ftrs.columns))"
   ]
  },
  {
   "cell_type": "code",
   "execution_count": 50,
   "metadata": {
    "scrolled": true
   },
   "outputs": [
    {
     "data": {
      "text/html": [
       "<div>\n",
       "<style scoped>\n",
       "    .dataframe tbody tr th:only-of-type {\n",
       "        vertical-align: middle;\n",
       "    }\n",
       "\n",
       "    .dataframe tbody tr th {\n",
       "        vertical-align: top;\n",
       "    }\n",
       "\n",
       "    .dataframe thead th {\n",
       "        text-align: right;\n",
       "    }\n",
       "</style>\n",
       "<table border=\"1\" class=\"dataframe\">\n",
       "  <thead>\n",
       "    <tr style=\"text-align: right;\">\n",
       "      <th></th>\n",
       "      <th>index</th>\n",
       "      <th>Unnamed: 0</th>\n",
       "      <th>Id</th>\n",
       "      <th>age</th>\n",
       "      <th>field</th>\n",
       "      <th>harvest_month</th>\n",
       "      <th>harvest_year</th>\n",
       "      <th>production</th>\n",
       "      <th>type</th>\n",
       "      <th>month</th>\n",
       "      <th>...</th>\n",
       "      <th>SLTPPT_sl5</th>\n",
       "      <th>SLTPPT_sl6</th>\n",
       "      <th>SLTPPT_sl7</th>\n",
       "      <th>SNDPPT_sl1</th>\n",
       "      <th>SNDPPT_sl2</th>\n",
       "      <th>SNDPPT_sl3</th>\n",
       "      <th>SNDPPT_sl4</th>\n",
       "      <th>SNDPPT_sl5</th>\n",
       "      <th>SNDPPT_sl6</th>\n",
       "      <th>SNDPPT_sl7</th>\n",
       "    </tr>\n",
       "  </thead>\n",
       "  <tbody>\n",
       "    <tr>\n",
       "      <th>0</th>\n",
       "      <td>0</td>\n",
       "      <td>0</td>\n",
       "      <td>0</td>\n",
       "      <td>19</td>\n",
       "      <td>0</td>\n",
       "      <td>1</td>\n",
       "      <td>2004</td>\n",
       "      <td>0.064071</td>\n",
       "      <td>5</td>\n",
       "      <td>1</td>\n",
       "      <td>...</td>\n",
       "      <td>22</td>\n",
       "      <td>22</td>\n",
       "      <td>23</td>\n",
       "      <td>44</td>\n",
       "      <td>45</td>\n",
       "      <td>44</td>\n",
       "      <td>39</td>\n",
       "      <td>38</td>\n",
       "      <td>37</td>\n",
       "      <td>36</td>\n",
       "    </tr>\n",
       "    <tr>\n",
       "      <th>1</th>\n",
       "      <td>1</td>\n",
       "      <td>1532</td>\n",
       "      <td>1532</td>\n",
       "      <td>13</td>\n",
       "      <td>0</td>\n",
       "      <td>1</td>\n",
       "      <td>2004</td>\n",
       "      <td>0.283228</td>\n",
       "      <td>2</td>\n",
       "      <td>1</td>\n",
       "      <td>...</td>\n",
       "      <td>22</td>\n",
       "      <td>22</td>\n",
       "      <td>23</td>\n",
       "      <td>44</td>\n",
       "      <td>45</td>\n",
       "      <td>44</td>\n",
       "      <td>39</td>\n",
       "      <td>38</td>\n",
       "      <td>37</td>\n",
       "      <td>36</td>\n",
       "    </tr>\n",
       "    <tr>\n",
       "      <th>2</th>\n",
       "      <td>2</td>\n",
       "      <td>4204</td>\n",
       "      <td>4204</td>\n",
       "      <td>4</td>\n",
       "      <td>0</td>\n",
       "      <td>1</td>\n",
       "      <td>2004</td>\n",
       "      <td>0.106263</td>\n",
       "      <td>5</td>\n",
       "      <td>1</td>\n",
       "      <td>...</td>\n",
       "      <td>22</td>\n",
       "      <td>22</td>\n",
       "      <td>23</td>\n",
       "      <td>44</td>\n",
       "      <td>45</td>\n",
       "      <td>44</td>\n",
       "      <td>39</td>\n",
       "      <td>38</td>\n",
       "      <td>37</td>\n",
       "      <td>36</td>\n",
       "    </tr>\n",
       "    <tr>\n",
       "      <th>3</th>\n",
       "      <td>3</td>\n",
       "      <td>1</td>\n",
       "      <td>1</td>\n",
       "      <td>19</td>\n",
       "      <td>0</td>\n",
       "      <td>2</td>\n",
       "      <td>2004</td>\n",
       "      <td>0.047658</td>\n",
       "      <td>5</td>\n",
       "      <td>2</td>\n",
       "      <td>...</td>\n",
       "      <td>22</td>\n",
       "      <td>22</td>\n",
       "      <td>23</td>\n",
       "      <td>44</td>\n",
       "      <td>45</td>\n",
       "      <td>44</td>\n",
       "      <td>39</td>\n",
       "      <td>38</td>\n",
       "      <td>37</td>\n",
       "      <td>36</td>\n",
       "    </tr>\n",
       "    <tr>\n",
       "      <th>4</th>\n",
       "      <td>4</td>\n",
       "      <td>1533</td>\n",
       "      <td>1533</td>\n",
       "      <td>13</td>\n",
       "      <td>0</td>\n",
       "      <td>2</td>\n",
       "      <td>2004</td>\n",
       "      <td>0.182068</td>\n",
       "      <td>2</td>\n",
       "      <td>2</td>\n",
       "      <td>...</td>\n",
       "      <td>22</td>\n",
       "      <td>22</td>\n",
       "      <td>23</td>\n",
       "      <td>44</td>\n",
       "      <td>45</td>\n",
       "      <td>44</td>\n",
       "      <td>39</td>\n",
       "      <td>38</td>\n",
       "      <td>37</td>\n",
       "      <td>36</td>\n",
       "    </tr>\n",
       "  </tbody>\n",
       "</table>\n",
       "<p>5 rows × 91 columns</p>\n",
       "</div>"
      ],
      "text/plain": [
       "   index  Unnamed: 0    Id  age  field  harvest_month  harvest_year  \\\n",
       "0      0           0     0   19      0              1          2004   \n",
       "1      1        1532  1532   13      0              1          2004   \n",
       "2      2        4204  4204    4      0              1          2004   \n",
       "3      3           1     1   19      0              2          2004   \n",
       "4      4        1533  1533   13      0              2          2004   \n",
       "\n",
       "   production  type  month     ...      SLTPPT_sl5  SLTPPT_sl6  SLTPPT_sl7  \\\n",
       "0    0.064071     5      1     ...              22          22          23   \n",
       "1    0.283228     2      1     ...              22          22          23   \n",
       "2    0.106263     5      1     ...              22          22          23   \n",
       "3    0.047658     5      2     ...              22          22          23   \n",
       "4    0.182068     2      2     ...              22          22          23   \n",
       "\n",
       "   SNDPPT_sl1  SNDPPT_sl2  SNDPPT_sl3  SNDPPT_sl4  SNDPPT_sl5  SNDPPT_sl6  \\\n",
       "0          44          45          44          39          38          37   \n",
       "1          44          45          44          39          38          37   \n",
       "2          44          45          44          39          38          37   \n",
       "3          44          45          44          39          38          37   \n",
       "4          44          45          44          39          38          37   \n",
       "\n",
       "   SNDPPT_sl7  \n",
       "0          36  \n",
       "1          36  \n",
       "2          36  \n",
       "3          36  \n",
       "4          36  \n",
       "\n",
       "[5 rows x 91 columns]"
      ]
     },
     "execution_count": 50,
     "metadata": {},
     "output_type": "execute_result"
    }
   ],
   "source": [
    "df_all_ftrs.head()"
   ]
  },
  {
   "cell_type": "code",
   "execution_count": 51,
   "metadata": {},
   "outputs": [
    {
     "name": "stdout",
     "output_type": "stream",
     "text": [
      "['Unnamed: 0', 'harvest_year', 'month', 'year', 'temperature', 'dewpoint', 'windspeed', 'Soilwater_L1', 'Soilwater_L2', 'Soilwater_L3', 'Soilwater_L4', 'Precipitation', 'BDRICM_BDRICM_M', 'BDRLOG_BDRLOG_M', 'BDTICM_BDTICM_M', 'BLDFIE_sl1', 'BLDFIE_sl2', 'BLDFIE_sl3', 'BLDFIE_sl4', 'BLDFIE_sl5', 'BLDFIE_sl6', 'BLDFIE_sl7', 'CECSOL_sl1', 'CECSOL_sl2', 'CECSOL_sl3', 'CECSOL_sl4', 'CECSOL_sl5', 'CECSOL_sl6', 'CECSOL_sl7', 'CLYPPT_sl1', 'CLYPPT_sl2', 'CLYPPT_sl3', 'CLYPPT_sl4', 'CLYPPT_sl5', 'CLYPPT_sl6', 'CLYPPT_sl7', 'CRFVOL_sl1', 'CRFVOL_sl2', 'CRFVOL_sl3', 'CRFVOL_sl4', 'CRFVOL_sl5', 'CRFVOL_sl6', 'CRFVOL_sl7', 'OCSTHA_sd1', 'OCSTHA_sd2', 'OCSTHA_sd3', 'OCSTHA_sd4', 'OCSTHA_sd5', 'OCSTHA_sd6', 'ORCDRC_sl1', 'ORCDRC_sl2', 'ORCDRC_sl3', 'ORCDRC_sl4', 'ORCDRC_sl5', 'ORCDRC_sl6', 'ORCDRC_sl7', 'PHIHOX_sl1', 'PHIHOX_sl2', 'PHIHOX_sl3', 'PHIHOX_sl4', 'PHIHOX_sl5', 'PHIHOX_sl6', 'PHIHOX_sl7', 'PHIKCL_sl1', 'PHIKCL_sl2', 'PHIKCL_sl3', 'PHIKCL_sl4', 'PHIKCL_sl5', 'PHIKCL_sl6', 'PHIKCL_sl7', 'SLTPPT_sl1', 'SLTPPT_sl2', 'SLTPPT_sl3', 'SLTPPT_sl4', 'SLTPPT_sl5', 'SLTPPT_sl6', 'SLTPPT_sl7', 'SNDPPT_sl1', 'SNDPPT_sl2', 'SNDPPT_sl3', 'SNDPPT_sl4', 'SNDPPT_sl5', 'SNDPPT_sl6', 'SNDPPT_sl7']\n"
     ]
    }
   ],
   "source": [
    "# Categorical features.\n",
    "cat_ftrs = ['field', 'age', 'type', 'harvest_month']\n",
    "# Continuous features.\n",
    "contin_ftrs = [f for f in df_all_ftrs.columns if f not in (['production', 'Id', 'index'] + cat_ftrs)]\n",
    "print(contin_ftrs)"
   ]
  },
  {
   "cell_type": "code",
   "execution_count": 52,
   "metadata": {},
   "outputs": [
    {
     "data": {
      "text/html": [
       "<div>\n",
       "<style scoped>\n",
       "    .dataframe tbody tr th:only-of-type {\n",
       "        vertical-align: middle;\n",
       "    }\n",
       "\n",
       "    .dataframe tbody tr th {\n",
       "        vertical-align: top;\n",
       "    }\n",
       "\n",
       "    .dataframe thead th {\n",
       "        text-align: right;\n",
       "    }\n",
       "</style>\n",
       "<table border=\"1\" class=\"dataframe\">\n",
       "  <thead>\n",
       "    <tr style=\"text-align: right;\">\n",
       "      <th></th>\n",
       "      <th>field</th>\n",
       "      <th>age</th>\n",
       "      <th>type</th>\n",
       "      <th>harvest_month</th>\n",
       "      <th>Unnamed: 0</th>\n",
       "      <th>harvest_year</th>\n",
       "      <th>month</th>\n",
       "      <th>year</th>\n",
       "      <th>temperature</th>\n",
       "      <th>dewpoint</th>\n",
       "      <th>...</th>\n",
       "      <th>SLTPPT_sl7</th>\n",
       "      <th>SNDPPT_sl1</th>\n",
       "      <th>SNDPPT_sl2</th>\n",
       "      <th>SNDPPT_sl3</th>\n",
       "      <th>SNDPPT_sl4</th>\n",
       "      <th>SNDPPT_sl5</th>\n",
       "      <th>SNDPPT_sl6</th>\n",
       "      <th>SNDPPT_sl7</th>\n",
       "      <th>production</th>\n",
       "      <th>Id</th>\n",
       "    </tr>\n",
       "  </thead>\n",
       "  <tbody>\n",
       "    <tr>\n",
       "      <th>0</th>\n",
       "      <td>0</td>\n",
       "      <td>19</td>\n",
       "      <td>5</td>\n",
       "      <td>1</td>\n",
       "      <td>0</td>\n",
       "      <td>2004</td>\n",
       "      <td>1</td>\n",
       "      <td>2004</td>\n",
       "      <td>26.132</td>\n",
       "      <td>24.661</td>\n",
       "      <td>...</td>\n",
       "      <td>23</td>\n",
       "      <td>44</td>\n",
       "      <td>45</td>\n",
       "      <td>44</td>\n",
       "      <td>39</td>\n",
       "      <td>38</td>\n",
       "      <td>37</td>\n",
       "      <td>36</td>\n",
       "      <td>0.064071</td>\n",
       "      <td>0</td>\n",
       "    </tr>\n",
       "    <tr>\n",
       "      <th>1</th>\n",
       "      <td>0</td>\n",
       "      <td>13</td>\n",
       "      <td>2</td>\n",
       "      <td>1</td>\n",
       "      <td>1532</td>\n",
       "      <td>2004</td>\n",
       "      <td>1</td>\n",
       "      <td>2004</td>\n",
       "      <td>26.132</td>\n",
       "      <td>24.661</td>\n",
       "      <td>...</td>\n",
       "      <td>23</td>\n",
       "      <td>44</td>\n",
       "      <td>45</td>\n",
       "      <td>44</td>\n",
       "      <td>39</td>\n",
       "      <td>38</td>\n",
       "      <td>37</td>\n",
       "      <td>36</td>\n",
       "      <td>0.283228</td>\n",
       "      <td>1532</td>\n",
       "    </tr>\n",
       "  </tbody>\n",
       "</table>\n",
       "<p>2 rows × 90 columns</p>\n",
       "</div>"
      ],
      "text/plain": [
       "   field  age  type  harvest_month  Unnamed: 0  harvest_year  month  year  \\\n",
       "0      0   19     5              1           0          2004      1  2004   \n",
       "1      0   13     2              1        1532          2004      1  2004   \n",
       "\n",
       "   temperature  dewpoint  ...   SLTPPT_sl7  SNDPPT_sl1  SNDPPT_sl2  \\\n",
       "0       26.132    24.661  ...           23          44          45   \n",
       "1       26.132    24.661  ...           23          44          45   \n",
       "\n",
       "   SNDPPT_sl3  SNDPPT_sl4  SNDPPT_sl5  SNDPPT_sl6  SNDPPT_sl7  production  \\\n",
       "0          44          39          38          37          36    0.064071   \n",
       "1          44          39          38          37          36    0.283228   \n",
       "\n",
       "     Id  \n",
       "0     0  \n",
       "1  1532  \n",
       "\n",
       "[2 rows x 90 columns]"
      ]
     },
     "execution_count": 52,
     "metadata": {},
     "output_type": "execute_result"
    }
   ],
   "source": [
    "# Remove unused features.\n",
    "df_all_ftrs = df_all_ftrs[cat_ftrs + contin_ftrs + ['production', 'Id']]\n",
    "df_all_ftrs.head(2)"
   ]
  },
  {
   "cell_type": "code",
   "execution_count": 53,
   "metadata": {},
   "outputs": [],
   "source": [
    "val_year = 2011\n",
    "test_year = 2012\n",
    "\n",
    "train_mask = (df_all_ftrs.harvest_year < val_year)\n",
    "val_mask = ((df_all_ftrs.harvest_year >= val_year) & (df_all_ftrs.harvest_year < test_year))\n",
    "test_mask = (df_all_ftrs.harvest_year >= test_year)\n",
    "\n",
    "df_train = df_all_ftrs[train_mask]\n",
    "df_val = df_all_ftrs[val_mask]\n",
    "df_test = df_all_ftrs[test_mask]"
   ]
  },
  {
   "cell_type": "code",
   "execution_count": 54,
   "metadata": {},
   "outputs": [],
   "source": [
    "def getSeqs(df):\n",
    "    df = df.reset_index(drop=True)\n",
    "    df['year_plant'] = df.harvest_year - df.age\n",
    "    seqs_lim = [0]\n",
    "    row = df.iloc[0]\n",
    "    vals = (row.field, row.type, row.year_plant)\n",
    "    for i, row in df.iterrows():\n",
    "        if (row.field, row.type, row.year_plant) != vals:\n",
    "            seqs_lim.append(i)\n",
    "            vals = (row.field, row.type, row.year_plant)\n",
    "    return seqs_lim + [len(df)]\n",
    "\n",
    "def getSeqsPerYear(df):\n",
    "    df = df.reset_index(drop=True)\n",
    "    seqs_lim = [0]\n",
    "    row = df.iloc[0]\n",
    "    vals = (row.field, row.type, row.harvest_year)\n",
    "    for i, row in df.iterrows():\n",
    "        if (row.field, row.type, row.harvest_year) != vals:\n",
    "            seqs_lim.append(i)\n",
    "            vals = (row.field, row.type, row.harvest_year)\n",
    "    return seqs_lim + [len(df)]\n",
    "\n",
    "# Compute list of sequence limits.\n",
    "seqs_train = getSeqsPerYear(df_train)\n",
    "seqs_val = getSeqsPerYear(df_val)\n",
    "seqs_test = getSeqsPerYear(df_test)"
   ]
  },
  {
   "cell_type": "code",
   "execution_count": 55,
   "metadata": {},
   "outputs": [
    {
     "name": "stderr",
     "output_type": "stream",
     "text": [
      "/home/eraldo/miniconda2/envs/fastai/lib/python3.6/site-packages/pandas/core/indexing.py:543: SettingWithCopyWarning: \n",
      "A value is trying to be set on a copy of a slice from a DataFrame.\n",
      "Try using .loc[row_indexer,col_indexer] = value instead\n",
      "\n",
      "See the caveats in the documentation: http://pandas.pydata.org/pandas-docs/stable/indexing.html#indexing-view-versus-copy\n",
      "  self.obj[item] = s\n"
     ]
    }
   ],
   "source": [
    "def convType(df, cat_ftrs, contin_ftrs):\n",
    "    # Inform pandas which features are categorical ...\n",
    "    for v in cat_ftrs:\n",
    "        df.loc[:,v] = df[v].astype('category').cat.as_ordered()\n",
    "    # ... and which are continuous.\n",
    "    for v in contin_ftrs:\n",
    "        df.loc[:,v] = df[v].astype('float32')\n",
    "\n",
    "for df in [df_train, df_val, df_test, df_all_ftrs]:\n",
    "    convType(df, cat_ftrs, contin_ftrs)"
   ]
  },
  {
   "cell_type": "code",
   "execution_count": 56,
   "metadata": {},
   "outputs": [
    {
     "name": "stdout",
     "output_type": "stream",
     "text": [
      "[('field', 29), ('age', 29), ('type', 10), ('harvest_month', 13)]\n",
      "[(29, 15), (29, 15), (10, 5), (13, 7)]\n"
     ]
    }
   ],
   "source": [
    "# Compute list of embedding sizes.\n",
    "cat_sz = [(c, len(df_all_ftrs[c].cat.categories) + 1) for c in cat_ftrs]\n",
    "print(cat_sz)\n",
    "emb_szs = [(c, min(50, (c+1)//2)) for _,c in cat_sz]\n",
    "print(emb_szs)"
   ]
  },
  {
   "cell_type": "code",
   "execution_count": 57,
   "metadata": {
    "scrolled": false
   },
   "outputs": [],
   "source": [
    "df_train, y_train, nas, mapper = proc_df(df_train, y_fld='production', do_scale=True, \n",
    "                                         skip_flds=['Id'])\n",
    "\n",
    "df_val, y_val, nas, mapper = proc_df(df_val, y_fld='production', do_scale=True, \n",
    "                                     mapper=mapper, na_dict=nas, skip_flds=['Id'])\n",
    "\n",
    "test_ids = df_test.Id\n",
    "\n",
    "df_test, _, nas, mapper = proc_df(df_test, y_fld='production', do_scale=True, \n",
    "                                  mapper=mapper, na_dict=nas, skip_flds=['Id'])\n",
    "\n",
    "n_cont = len(df_train.columns) - len(cat_ftrs)"
   ]
  },
  {
   "cell_type": "code",
   "execution_count": 58,
   "metadata": {},
   "outputs": [],
   "source": [
    "md = ColumnarSeqModelData.from_data_frames(path, # path for data saving\n",
    "                                           seqs_train, # limits of training sequences\n",
    "                                           df_train, # training set\n",
    "                                           y_train, # output variable for the training set\n",
    "                                           seqs_val, # limits of validation sequences\n",
    "                                           df_val, # validation set\n",
    "                                           y_val, # output variable for the validation set\n",
    "                                           cat_flds=cat_ftrs, # categorical features\n",
    "                                           is_reg=True, # not regression\n",
    "                                           is_multi=False, # multi-label problem\n",
    "                                           test_seqs_lim=seqs_test, # limits of test sequences\n",
    "                                           test_df=df_test) # test set"
   ]
  },
  {
   "cell_type": "code",
   "execution_count": 59,
   "metadata": {},
   "outputs": [
    {
     "data": {
      "application/vnd.jupyter.widget-view+json": {
       "model_id": "9ead9a1624664cf094b376219cd949f6",
       "version_major": 2,
       "version_minor": 0
      },
      "text/plain": [
       "HBox(children=(IntProgress(value=0, description='Epoch', max=1), HTML(value='')))"
      ]
     },
     "metadata": {},
     "output_type": "display_data"
    },
    {
     "name": "stdout",
     "output_type": "stream",
     "text": [
      "                                                                \r"
     ]
    },
    {
     "data": {
      "image/png": "[encoded data removed]",
      "text/plain": [
       "<Figure size 432x288 with 1 Axes>"
      ]
     },
     "metadata": {},
     "output_type": "display_data"
    }
   ],
   "source": [
    "# dropout rate\n",
    "dr = 0.01\n",
    "\n",
    "learner_params = {\n",
    "    \"emb_szs\": emb_szs, # embedding sizes\n",
    "    \"n_cont\": n_cont, # num continuous inputs\n",
    "    \"emb_drop\": dr, # embeddings dropout probability\n",
    "    \"out_sz\": 1, # output size\n",
    "    \"szs\": [300], # sizes of fully-connected layers\n",
    "    \"drops\": [dr], # dropout probabilities after each FC layer\n",
    "    \"lstm_hidden_size\": 100, # size of the LSTM hidden states\n",
    "    \"lstm_num_layers\": 1, # number of LSTM layers\n",
    "    \"lstm_dropout\": dr, # LSTM dropout\n",
    "    \"use_bn\": False # batch normalization\n",
    "}\n",
    "\n",
    "m = md.get_learner(**learner_params)\n",
    "\n",
    "m.lr_find(start_lr=1e-6)\n",
    "m.sched.plot()"
   ]
  },
  {
   "cell_type": "code",
   "execution_count": 60,
   "metadata": {},
   "outputs": [
    {
     "data": {
      "application/vnd.jupyter.widget-view+json": {
       "model_id": "1d5e218ea3514cf587d9343b26fc4ca3",
       "version_major": 2,
       "version_minor": 0
      },
      "text/plain": [
       "HBox(children=(IntProgress(value=0, description='Epoch', max=10), HTML(value='')))"
      ]
     },
     "metadata": {},
     "output_type": "display_data"
    },
    {
     "name": "stdout",
     "output_type": "stream",
     "text": [
      "epoch      trn_loss   val_loss   mae                             \n",
      "    0      0.026687   0.024382   0.117014  \n",
      "    1      0.019223   0.020301   0.107471                        \n",
      "    2      0.018388   0.018496   0.105048                        \n",
      "    3      0.011571   0.017536   0.099403                         \n",
      "    4      0.017289   0.016937   0.099919                         \n",
      "    5      0.009727   0.016697   0.095821                         \n",
      "    6      0.010896   0.016707   0.098547                        \n",
      "    7      0.011113   0.015983   0.095201                        \n",
      "    8      0.012479   0.016898   0.099334                         \n",
      "    9      0.00852    0.016263   0.093963                         \n"
     ]
    },
    {
     "data": {
      "text/plain": [
       "[array([0.01626]), 0.09396300467445327]"
      ]
     },
     "execution_count": 60,
     "metadata": {},
     "output_type": "execute_result"
    }
   ],
   "source": [
    "# dropout rate\n",
    "dr = 0.1\n",
    "\n",
    "learner_params = {\n",
    "    \"emb_szs\": emb_szs, # embedding sizes\n",
    "    \"n_cont\": n_cont, # num continuous inputs\n",
    "    \"emb_drop\": dr, # embeddings dropout probability\n",
    "    \"out_sz\": 1, # output size\n",
    "    \"szs\": [300], # sizes of fully-connected layers\n",
    "    \"drops\": [dr], # dropout probabilities after each FC layer\n",
    "    \"lstm_hidden_size\": 100, # size of the LSTM hidden states\n",
    "    \"lstm_num_layers\": 1, # number of LSTM layers\n",
    "    \"lstm_dropout\": dr, # LSTM dropout\n",
    "    \"use_bn\": False # batch normalization\n",
    "}\n",
    "\n",
    "m = md.get_learner(**learner_params)\n",
    "\n",
    "def mae(y_true, y_pred):\n",
    "    return metrics.mean_absolute_error(y_true.squeeze(), y_pred.squeeze())\n",
    "\n",
    "lr=1e-5\n",
    "m.fit(lr, n_cycle=10, metrics=[mae])"
   ]
  },
  {
   "cell_type": "code",
   "execution_count": 62,
   "metadata": {},
   "outputs": [
    {
     "data": {
      "application/vnd.jupyter.widget-view+json": {
       "model_id": "",
       "version_major": 2,
       "version_minor": 0
      },
      "text/plain": [
       "HBox(children=(IntProgress(value=0, description='Epoch', max=10), HTML(value='')))"
      ]
     },
     "metadata": {},
     "output_type": "display_data"
    },
    {
     "name": "stdout",
     "output_type": "stream",
     "text": [
      "epoch      trn_loss   val_loss   mae                             \n",
      "    0      0.018076   0.02113    0.112031  \n",
      "    1      0.012362   0.018631   0.098935                        \n",
      "    2      0.015154   0.01733    0.095051                         \n",
      "    3      0.018112   0.016571   0.095786                        \n",
      "    4      0.020348   0.016236   0.094763                         \n",
      "    5      0.009856   0.016101   0.093957                         \n",
      "    6      0.015139   0.016011   0.094515                         \n",
      "    7      0.017217   0.01587    0.093579                         \n",
      "    8      0.020293   0.015733   0.095006                         \n",
      "    9      0.010519   0.015712   0.093517                         \n"
     ]
    },
    {
     "data": {
      "text/plain": [
       "[array([0.01571]), 0.09351728804291708]"
      ]
     },
     "execution_count": 62,
     "metadata": {},
     "output_type": "execute_result"
    }
   ],
   "source": [
    "# dropout rate\n",
    "dr = 0.0\n",
    "\n",
    "learner_params = {\n",
    "    \"emb_szs\": emb_szs, # embedding sizes\n",
    "    \"n_cont\": n_cont, # num continuous inputs\n",
    "    \"emb_drop\": dr, # embeddings dropout probability\n",
    "    \"out_sz\": 1, # output size\n",
    "    \"szs\": [300], # sizes of fully-connected layers\n",
    "    \"drops\": [dr], # dropout probabilities after each FC layer\n",
    "    \"lstm_hidden_size\": 100, # size of the LSTM hidden states\n",
    "    \"lstm_num_layers\": 1, # number of LSTM layers\n",
    "    \"lstm_dropout\": dr, # LSTM dropout\n",
    "    \"use_bn\": False, # batch normalization\n",
    "    \"y_range\": [0.0, 1.0]\n",
    "}\n",
    "\n",
    "m = md.get_learner(**learner_params)\n",
    "\n",
    "def mae(y_true, y_pred):\n",
    "    return metrics.mean_absolute_error(y_true.squeeze(), y_pred.squeeze())\n",
    "\n",
    "lr=1e-5\n",
    "m.fit(lr, n_cycle=10, metrics=[mae])"
   ]
  },
  {
   "cell_type": "code",
   "execution_count": 71,
   "metadata": {},
   "outputs": [
    {
     "data": {
      "application/vnd.jupyter.widget-view+json": {
       "model_id": "dbe647a8a84b4d999cba054f820cc027",
       "version_major": 2,
       "version_minor": 0
      },
      "text/plain": [
       "HBox(children=(IntProgress(value=0, description='Epoch', max=10), HTML(value='')))"
      ]
     },
     "metadata": {},
     "output_type": "display_data"
    },
    {
     "name": "stdout",
     "output_type": "stream",
     "text": [
      "epoch      trn_loss   val_loss   mae                             \n",
      "    0      0.017406   0.023324   0.102905  \n",
      "    1      0.014457   0.020847   0.097834                        \n",
      "    2      0.024014   0.018886   0.094977                         \n",
      "    3      0.010158   0.020152   0.097686                         \n",
      "    4      0.021012   0.018028   0.094876                        \n",
      "    5      0.011536   0.019061   0.097404                         \n",
      "    6      0.021793   0.018248   0.096158                         \n",
      "    7      0.012375   0.018688   0.097191                         \n",
      "    8      0.009725   0.018965   0.097095                         \n",
      "    9      0.015222   0.017122   0.094482                         \n"
     ]
    },
    {
     "data": {
      "text/plain": [
       "[array([0.01712]), 0.09448212982254772]"
      ]
     },
     "execution_count": 71,
     "metadata": {},
     "output_type": "execute_result"
    }
   ],
   "source": [
    "# dropout rate\n",
    "dr = 0.5\n",
    "\n",
    "learner_params = {\n",
    "    \"emb_szs\": emb_szs, # embedding sizes\n",
    "    \"n_cont\": n_cont, # num continuous inputs\n",
    "    \"emb_drop\": dr, # embeddings dropout probability\n",
    "    \"out_sz\": 1, # output size\n",
    "    \"szs\": [300, 100], # sizes of fully-connected layers\n",
    "    \"drops\": [dr, dr], # dropout probabilities after each FC layer\n",
    "    \"lstm_hidden_size\": 100, # size of the LSTM hidden states\n",
    "    \"lstm_num_layers\": 2, # number of LSTM layers\n",
    "    \"lstm_dropout\": dr, # LSTM dropout\n",
    "    \"use_bn\": False, # batch normalization\n",
    "    \"y_range\": [0.0, 1.0]\n",
    "}\n",
    "\n",
    "m = md.get_learner(**learner_params)\n",
    "\n",
    "def mae(y_true, y_pred):\n",
    "    return metrics.mean_absolute_error(y_true.squeeze(), y_pred.squeeze())\n",
    "\n",
    "lr=1e-4\n",
    "m.fit(lr, n_cycle=10, metrics=[mae])"
   ]
  },
  {
   "cell_type": "markdown",
   "metadata": {},
   "source": [
    "## Submission file"
   ]
  },
  {
   "cell_type": "code",
   "execution_count": 21,
   "metadata": {},
   "outputs": [],
   "source": [
    "# dropout rate\n",
    "dr = 0.3\n",
    "\n",
    "learner_params = {\n",
    "    \"emb_szs\": emb_szs, # embedding sizes\n",
    "    \"n_cont\": len(df.columns) - len(cat_ftrs), # num continuous inputs\n",
    "    \"emb_drop\": dr, # embeddings dropout probability\n",
    "    \"out_sz\": 1, # output size\n",
    "    \"szs\": [300, 100], # sizes of fully-connected layers\n",
    "    \"drops\": [dr, dr], # dropout probabilities after each FC layer\n",
    "    \"use_bn\": False # batch normalization\n",
    "}\n",
    "\n",
    "m = md.get_learner(**learner_params)\n",
    "\n",
    "m.load('finetune-all-clean-trn011')"
   ]
  },
  {
   "cell_type": "code",
   "execution_count": 35,
   "metadata": {
    "scrolled": false
   },
   "outputs": [],
   "source": [
    "from datetime import datetime\n",
    "\n",
    "# Make prediction.\n",
    "pred = m.predict(is_test=True).squeeze()\n",
    "\n",
    "now = datetime.now().strftime('%Y-%m-%d-%H-%M-%S-%f')\n",
    "\n",
    "submission_file  = '../submissions/{}.submission.csv'.format(now)\n",
    "model_file       = '../submissions/{}.model'.format(now)\n",
    "\n",
    "# Create a submission file.\n",
    "with open(submission_file, 'w') as f:\n",
    "    f.write(\"Id,production\\n\")\n",
    "    for _id, _pred in zip(test_ids.values, pred):\n",
    "        f.write(\"{},{}\\n\".format(_id, min(1.0, max(0.0, _pred))))\n",
    "\n",
    "# Save model.\n",
    "save_model(m.model, model_file)"
   ]
  }
 ],
 "metadata": {
  "kernelspec": {
   "display_name": "Python 3",
   "language": "python",
   "name": "python3"
  },
  "language_info": {
   "codemirror_mode": {
    "name": "ipython",
    "version": 3
   },
   "file_extension": ".py",
   "mimetype": "text/x-python",
   "name": "python",
   "nbconvert_exporter": "python",
   "pygments_lexer": "ipython3",
   "version": "3.6.6"
  }
 },
 "nbformat": 4,
 "nbformat_minor": 1
}
