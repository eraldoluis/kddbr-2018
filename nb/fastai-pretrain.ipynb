{
 "cells": [
  {
   "cell_type": "markdown",
   "metadata": {
    "_uuid": "4646fdea09654229ea606aa4faffad9cb819398b"
   },
   "source": [
    "# DL Modeling - Pre Training\n",
    "\n",
    "Pre-training a model on all data (train+test) using the categorical features as classes.\n",
    "We mask each categorical feature out (one at a time) and learn to predict its value.\n",
    "We hope this will be a nice pre-training step in order to learn good initializations for the embeddings\n",
    "    and even the fully-connected layers."
   ]
  },
  {
   "cell_type": "code",
   "execution_count": 1,
   "metadata": {},
   "outputs": [],
   "source": [
    "%matplotlib inline\n",
    "%reload_ext autoreload\n",
    "%autoreload 2"
   ]
  },
  {
   "cell_type": "code",
   "execution_count": 2,
   "metadata": {
    "_uuid": "35b9298747ec076ac8a9afb81192039880e46f2c"
   },
   "outputs": [
    {
     "name": "stderr",
     "output_type": "stream",
     "text": [
      "/home/eraldo/miniconda2/envs/fastai/lib/python3.6/importlib/_bootstrap.py:219: RuntimeWarning: numpy.dtype size changed, may indicate binary incompatibility. Expected 96, got 88\n",
      "  return f(*args, **kwds)\n"
     ]
    }
   ],
   "source": [
    "import pandas as pd\n",
    "import numpy as np\n",
    "import os \n",
    "\n",
    "from datetime import datetime\n",
    "import matplotlib.pyplot as plt\n",
    "import seaborn as sns\n",
    "\n",
    "from kdd_utils import addFieldDataFtrs, addSoilFtrs, cvPerYear, save_model_ignoring, load_model_ignoring\n",
    "\n",
    "sns.set(style=\"whitegrid\")"
   ]
  },
  {
   "cell_type": "code",
   "execution_count": 3,
   "metadata": {},
   "outputs": [
    {
     "name": "stderr",
     "output_type": "stream",
     "text": [
      "/home/eraldo/miniconda2/envs/fastai/lib/python3.6/importlib/_bootstrap.py:219: RuntimeWarning: numpy.dtype size changed, may indicate binary incompatibility. Expected 96, got 88\n",
      "  return f(*args, **kwds)\n",
      "/home/eraldo/miniconda2/envs/fastai/lib/python3.6/site-packages/sklearn/ensemble/weight_boosting.py:29: DeprecationWarning: numpy.core.umath_tests is an internal NumPy module and should not be imported. It will be removed in a future NumPy release.\n",
      "  from numpy.core.umath_tests import inner1d\n"
     ]
    }
   ],
   "source": [
    "from fastai.structured import *\n",
    "from fastai.column_data import *"
   ]
  },
  {
   "cell_type": "markdown",
   "metadata": {
    "_uuid": "5e5a56ed28ca3f0433752b640126d39410d590e7"
   },
   "source": [
    "## Train and test datasets\n",
    "\n",
    "Basic data containing palm tree information"
   ]
  },
  {
   "cell_type": "code",
   "execution_count": 4,
   "metadata": {
    "_uuid": "d26413ead269ebe206f0ac43cda68634d9611199",
    "scrolled": true
   },
   "outputs": [
    {
     "name": "stdout",
     "output_type": "stream",
     "text": [
      "Shapes\n",
      "---\n",
      "Train: (5243, 7)\n",
      " Test: (4110, 6)\n",
      "  All: (9353, 7)\n"
     ]
    }
   ],
   "source": [
    "path = '../input/'\n",
    "\n",
    "# Train data.\n",
    "df_train = pd.read_csv(os.path.join(path, 'train.csv'))\n",
    "\n",
    "# Ignoring date before 2006 for training.\n",
    "# df_train = df_train[df_train.harvest_year >= 2006]\n",
    "\n",
    "# Using only examples with type=5 for training.\n",
    "# df_train = df_train[df_train.type == 5]\n",
    "\n",
    "# Test data.\n",
    "df_test  = pd.read_csv(os.path.join(path, 'test.csv'))\n",
    "\n",
    "# Merge train and test data for ease of pre-processing.\n",
    "df_all = pd.concat([df_train, df_test], sort=False).reindex()\n",
    "\n",
    "# Configure number of jobs.\n",
    "N_JOBS=7\n",
    "\n",
    "print('Shapes\\n---\\nTrain: {}\\n Test: {}\\n  All: {}'.format(df_train.shape, df_test.shape, df_all.shape))"
   ]
  },
  {
   "cell_type": "markdown",
   "metadata": {
    "_uuid": "8163b4159ec67907aa1518f341edf613f4bc7266"
   },
   "source": [
    "## Field and Soil Features\n",
    "\n",
    "These files hold atmospheric data from January 2002 to December 2017, and can be used to estimate the weather conditions during the development of the plant. Notice that weather does influence the production. Using only a single month prior to harvest is probably too little data. Participants should decide how far back in the past they want to look when training models.\n",
    "\n"
   ]
  },
  {
   "cell_type": "code",
   "execution_count": 5,
   "metadata": {
    "_uuid": "c9596d68c59820e59de0b7861c9234712185fdab",
    "scrolled": true
   },
   "outputs": [
    {
     "name": "stdout",
     "output_type": "stream",
     "text": [
      "['index', 'Id', 'field', 'age', 'type', 'harvest_year', 'harvest_month', 'production', 'temperature', 'dewpoint', 'windspeed', 'Soilwater_L1', 'Soilwater_L2', 'Soilwater_L3', 'Soilwater_L4', 'Precipitation', 'temperature_1', 'temperature_2', 'temperature_3', 'temperature_4', 'temperature_5', 'temperature_6', 'temperature_7', 'temperature_8', 'temperature_9', 'temperature_10', 'temperature_11', 'dewpoint_1', 'dewpoint_2', 'dewpoint_3', 'dewpoint_4', 'dewpoint_5', 'dewpoint_6', 'dewpoint_7', 'dewpoint_8', 'dewpoint_9', 'dewpoint_10', 'dewpoint_11', 'windspeed_1', 'windspeed_2', 'windspeed_3', 'windspeed_4', 'windspeed_5', 'windspeed_6', 'windspeed_7', 'windspeed_8', 'windspeed_9', 'windspeed_10', 'windspeed_11', 'Precipitation_1', 'Precipitation_2', 'Precipitation_3', 'Precipitation_4', 'Precipitation_5', 'Precipitation_6', 'Precipitation_7', 'Precipitation_8', 'Precipitation_9', 'Precipitation_10', 'Precipitation_11', 'Soilwater_L1_1', 'Soilwater_L1_2', 'Soilwater_L1_3', 'Soilwater_L1_4', 'Soilwater_L1_5', 'Soilwater_L1_6', 'Soilwater_L1_7', 'Soilwater_L1_8', 'Soilwater_L1_9', 'Soilwater_L1_10', 'Soilwater_L1_11', 'Soilwater_L2_1', 'Soilwater_L2_2', 'Soilwater_L2_3', 'Soilwater_L2_4', 'Soilwater_L2_5', 'Soilwater_L2_6', 'Soilwater_L2_7', 'Soilwater_L2_8', 'Soilwater_L2_9', 'Soilwater_L2_10', 'Soilwater_L2_11', 'Soilwater_L3_1', 'Soilwater_L3_2', 'Soilwater_L3_3', 'Soilwater_L3_4', 'Soilwater_L3_5', 'Soilwater_L3_6', 'Soilwater_L3_7', 'Soilwater_L3_8', 'Soilwater_L3_9', 'Soilwater_L3_10', 'Soilwater_L3_11', 'Soilwater_L4_1', 'Soilwater_L4_2', 'Soilwater_L4_3', 'Soilwater_L4_4', 'Soilwater_L4_5', 'Soilwater_L4_6', 'Soilwater_L4_7', 'Soilwater_L4_8', 'Soilwater_L4_9', 'Soilwater_L4_10', 'Soilwater_L4_11']\n"
     ]
    }
   ],
   "source": [
    "df_all_ftrs = addFieldDataFtrs(df_all, shiftPeriod=12, shiftFtrs=['temperature', 'dewpoint', 'windspeed', \n",
    "                                                                 'Precipitation', 'Soilwater_L1', \n",
    "                                                                 'Soilwater_L2', 'Soilwater_L3', \n",
    "                                                                 'Soilwater_L4'])\n",
    "#df_all_ftrs = addSoilFtrs(df_all_ftrs)\n",
    "print(list(df_all_ftrs.columns))"
   ]
  },
  {
   "cell_type": "code",
   "execution_count": 6,
   "metadata": {
    "scrolled": true
   },
   "outputs": [
    {
     "data": {
      "text/html": [
       "<div>\n",
       "<style scoped>\n",
       "    .dataframe tbody tr th:only-of-type {\n",
       "        vertical-align: middle;\n",
       "    }\n",
       "\n",
       "    .dataframe tbody tr th {\n",
       "        vertical-align: top;\n",
       "    }\n",
       "\n",
       "    .dataframe thead th {\n",
       "        text-align: right;\n",
       "    }\n",
       "</style>\n",
       "<table border=\"1\" class=\"dataframe\">\n",
       "  <thead>\n",
       "    <tr style=\"text-align: right;\">\n",
       "      <th></th>\n",
       "      <th>index</th>\n",
       "      <th>Id</th>\n",
       "      <th>field</th>\n",
       "      <th>age</th>\n",
       "      <th>type</th>\n",
       "      <th>harvest_year</th>\n",
       "      <th>harvest_month</th>\n",
       "      <th>production</th>\n",
       "      <th>temperature</th>\n",
       "      <th>dewpoint</th>\n",
       "      <th>...</th>\n",
       "      <th>Soilwater_L4_2</th>\n",
       "      <th>Soilwater_L4_3</th>\n",
       "      <th>Soilwater_L4_4</th>\n",
       "      <th>Soilwater_L4_5</th>\n",
       "      <th>Soilwater_L4_6</th>\n",
       "      <th>Soilwater_L4_7</th>\n",
       "      <th>Soilwater_L4_8</th>\n",
       "      <th>Soilwater_L4_9</th>\n",
       "      <th>Soilwater_L4_10</th>\n",
       "      <th>Soilwater_L4_11</th>\n",
       "    </tr>\n",
       "  </thead>\n",
       "  <tbody>\n",
       "    <tr>\n",
       "      <th>0</th>\n",
       "      <td>0</td>\n",
       "      <td>0</td>\n",
       "      <td>0</td>\n",
       "      <td>19</td>\n",
       "      <td>5</td>\n",
       "      <td>2004</td>\n",
       "      <td>1</td>\n",
       "      <td>0.064071</td>\n",
       "      <td>26.132</td>\n",
       "      <td>24.661</td>\n",
       "      <td>...</td>\n",
       "      <td>0.314165</td>\n",
       "      <td>0.314165</td>\n",
       "      <td>0.314165</td>\n",
       "      <td>0.314165</td>\n",
       "      <td>0.314165</td>\n",
       "      <td>0.314165</td>\n",
       "      <td>0.314165</td>\n",
       "      <td>0.314165</td>\n",
       "      <td>0.314165</td>\n",
       "      <td>0.314165</td>\n",
       "    </tr>\n",
       "    <tr>\n",
       "      <th>1</th>\n",
       "      <td>1</td>\n",
       "      <td>1532</td>\n",
       "      <td>0</td>\n",
       "      <td>13</td>\n",
       "      <td>2</td>\n",
       "      <td>2004</td>\n",
       "      <td>1</td>\n",
       "      <td>0.283228</td>\n",
       "      <td>26.132</td>\n",
       "      <td>24.661</td>\n",
       "      <td>...</td>\n",
       "      <td>0.314165</td>\n",
       "      <td>0.314165</td>\n",
       "      <td>0.314165</td>\n",
       "      <td>0.314165</td>\n",
       "      <td>0.314165</td>\n",
       "      <td>0.314165</td>\n",
       "      <td>0.314165</td>\n",
       "      <td>0.314165</td>\n",
       "      <td>0.314165</td>\n",
       "      <td>0.314165</td>\n",
       "    </tr>\n",
       "    <tr>\n",
       "      <th>2</th>\n",
       "      <td>2</td>\n",
       "      <td>4204</td>\n",
       "      <td>0</td>\n",
       "      <td>4</td>\n",
       "      <td>5</td>\n",
       "      <td>2004</td>\n",
       "      <td>1</td>\n",
       "      <td>0.106263</td>\n",
       "      <td>26.132</td>\n",
       "      <td>24.661</td>\n",
       "      <td>...</td>\n",
       "      <td>0.314165</td>\n",
       "      <td>0.314165</td>\n",
       "      <td>0.314165</td>\n",
       "      <td>0.314165</td>\n",
       "      <td>0.314165</td>\n",
       "      <td>0.314165</td>\n",
       "      <td>0.314165</td>\n",
       "      <td>0.314165</td>\n",
       "      <td>0.314165</td>\n",
       "      <td>0.314165</td>\n",
       "    </tr>\n",
       "    <tr>\n",
       "      <th>3</th>\n",
       "      <td>3</td>\n",
       "      <td>1</td>\n",
       "      <td>0</td>\n",
       "      <td>19</td>\n",
       "      <td>5</td>\n",
       "      <td>2004</td>\n",
       "      <td>2</td>\n",
       "      <td>0.047658</td>\n",
       "      <td>25.295</td>\n",
       "      <td>24.401</td>\n",
       "      <td>...</td>\n",
       "      <td>0.314165</td>\n",
       "      <td>0.314165</td>\n",
       "      <td>0.314165</td>\n",
       "      <td>0.314165</td>\n",
       "      <td>0.314165</td>\n",
       "      <td>0.314165</td>\n",
       "      <td>0.314165</td>\n",
       "      <td>0.314165</td>\n",
       "      <td>0.314165</td>\n",
       "      <td>0.314165</td>\n",
       "    </tr>\n",
       "    <tr>\n",
       "      <th>4</th>\n",
       "      <td>4</td>\n",
       "      <td>1533</td>\n",
       "      <td>0</td>\n",
       "      <td>13</td>\n",
       "      <td>2</td>\n",
       "      <td>2004</td>\n",
       "      <td>2</td>\n",
       "      <td>0.182068</td>\n",
       "      <td>25.295</td>\n",
       "      <td>24.401</td>\n",
       "      <td>...</td>\n",
       "      <td>0.314165</td>\n",
       "      <td>0.314165</td>\n",
       "      <td>0.314165</td>\n",
       "      <td>0.314165</td>\n",
       "      <td>0.314165</td>\n",
       "      <td>0.314165</td>\n",
       "      <td>0.314165</td>\n",
       "      <td>0.314165</td>\n",
       "      <td>0.314165</td>\n",
       "      <td>0.314165</td>\n",
       "    </tr>\n",
       "  </tbody>\n",
       "</table>\n",
       "<p>5 rows × 104 columns</p>\n",
       "</div>"
      ],
      "text/plain": [
       "   index    Id  field  age  type  harvest_year  harvest_month  production  \\\n",
       "0      0     0      0   19     5          2004              1    0.064071   \n",
       "1      1  1532      0   13     2          2004              1    0.283228   \n",
       "2      2  4204      0    4     5          2004              1    0.106263   \n",
       "3      3     1      0   19     5          2004              2    0.047658   \n",
       "4      4  1533      0   13     2          2004              2    0.182068   \n",
       "\n",
       "   temperature  dewpoint       ...         Soilwater_L4_2  Soilwater_L4_3  \\\n",
       "0       26.132    24.661       ...               0.314165        0.314165   \n",
       "1       26.132    24.661       ...               0.314165        0.314165   \n",
       "2       26.132    24.661       ...               0.314165        0.314165   \n",
       "3       25.295    24.401       ...               0.314165        0.314165   \n",
       "4       25.295    24.401       ...               0.314165        0.314165   \n",
       "\n",
       "   Soilwater_L4_4  Soilwater_L4_5  Soilwater_L4_6  Soilwater_L4_7  \\\n",
       "0        0.314165        0.314165        0.314165        0.314165   \n",
       "1        0.314165        0.314165        0.314165        0.314165   \n",
       "2        0.314165        0.314165        0.314165        0.314165   \n",
       "3        0.314165        0.314165        0.314165        0.314165   \n",
       "4        0.314165        0.314165        0.314165        0.314165   \n",
       "\n",
       "   Soilwater_L4_8  Soilwater_L4_9  Soilwater_L4_10  Soilwater_L4_11  \n",
       "0        0.314165        0.314165         0.314165         0.314165  \n",
       "1        0.314165        0.314165         0.314165         0.314165  \n",
       "2        0.314165        0.314165         0.314165         0.314165  \n",
       "3        0.314165        0.314165         0.314165         0.314165  \n",
       "4        0.314165        0.314165         0.314165         0.314165  \n",
       "\n",
       "[5 rows x 104 columns]"
      ]
     },
     "execution_count": 6,
     "metadata": {},
     "output_type": "execute_result"
    }
   ],
   "source": [
    "df_all_ftrs.head()"
   ]
  },
  {
   "cell_type": "code",
   "execution_count": 7,
   "metadata": {},
   "outputs": [
    {
     "name": "stdout",
     "output_type": "stream",
     "text": [
      "['harvest_year', 'temperature', 'dewpoint', 'windspeed', 'Soilwater_L1', 'Soilwater_L2', 'Soilwater_L3', 'Soilwater_L4', 'Precipitation', 'temperature_1', 'temperature_2', 'temperature_3', 'temperature_4', 'temperature_5', 'temperature_6', 'temperature_7', 'temperature_8', 'temperature_9', 'temperature_10', 'temperature_11', 'dewpoint_1', 'dewpoint_2', 'dewpoint_3', 'dewpoint_4', 'dewpoint_5', 'dewpoint_6', 'dewpoint_7', 'dewpoint_8', 'dewpoint_9', 'dewpoint_10', 'dewpoint_11', 'windspeed_1', 'windspeed_2', 'windspeed_3', 'windspeed_4', 'windspeed_5', 'windspeed_6', 'windspeed_7', 'windspeed_8', 'windspeed_9', 'windspeed_10', 'windspeed_11', 'Precipitation_1', 'Precipitation_2', 'Precipitation_3', 'Precipitation_4', 'Precipitation_5', 'Precipitation_6', 'Precipitation_7', 'Precipitation_8', 'Precipitation_9', 'Precipitation_10', 'Precipitation_11', 'Soilwater_L1_1', 'Soilwater_L1_2', 'Soilwater_L1_3', 'Soilwater_L1_4', 'Soilwater_L1_5', 'Soilwater_L1_6', 'Soilwater_L1_7', 'Soilwater_L1_8', 'Soilwater_L1_9', 'Soilwater_L1_10', 'Soilwater_L1_11', 'Soilwater_L2_1', 'Soilwater_L2_2', 'Soilwater_L2_3', 'Soilwater_L2_4', 'Soilwater_L2_5', 'Soilwater_L2_6', 'Soilwater_L2_7', 'Soilwater_L2_8', 'Soilwater_L2_9', 'Soilwater_L2_10', 'Soilwater_L2_11', 'Soilwater_L3_1', 'Soilwater_L3_2', 'Soilwater_L3_3', 'Soilwater_L3_4', 'Soilwater_L3_5', 'Soilwater_L3_6', 'Soilwater_L3_7', 'Soilwater_L3_8', 'Soilwater_L3_9', 'Soilwater_L3_10', 'Soilwater_L3_11', 'Soilwater_L4_1', 'Soilwater_L4_2', 'Soilwater_L4_3', 'Soilwater_L4_4', 'Soilwater_L4_5', 'Soilwater_L4_6', 'Soilwater_L4_7', 'Soilwater_L4_8', 'Soilwater_L4_9', 'Soilwater_L4_10', 'Soilwater_L4_11']\n"
     ]
    }
   ],
   "source": [
    "# Categorical features.\n",
    "cat_ftrs = ['field', 'age', 'type', 'harvest_month']\n",
    "# Continuous features.\n",
    "contin_ftrs = [f for f in df_all_ftrs.columns if f not in (['production', 'Id', 'index'] + cat_ftrs)]\n",
    "print(contin_ftrs)"
   ]
  },
  {
   "cell_type": "code",
   "execution_count": 8,
   "metadata": {},
   "outputs": [
    {
     "data": {
      "text/html": [
       "<div>\n",
       "<style scoped>\n",
       "    .dataframe tbody tr th:only-of-type {\n",
       "        vertical-align: middle;\n",
       "    }\n",
       "\n",
       "    .dataframe tbody tr th {\n",
       "        vertical-align: top;\n",
       "    }\n",
       "\n",
       "    .dataframe thead th {\n",
       "        text-align: right;\n",
       "    }\n",
       "</style>\n",
       "<table border=\"1\" class=\"dataframe\">\n",
       "  <thead>\n",
       "    <tr style=\"text-align: right;\">\n",
       "      <th></th>\n",
       "      <th>field</th>\n",
       "      <th>age</th>\n",
       "      <th>type</th>\n",
       "      <th>harvest_month</th>\n",
       "      <th>harvest_year</th>\n",
       "      <th>temperature</th>\n",
       "      <th>dewpoint</th>\n",
       "      <th>windspeed</th>\n",
       "      <th>Soilwater_L1</th>\n",
       "      <th>Soilwater_L2</th>\n",
       "      <th>...</th>\n",
       "      <th>Soilwater_L4_2</th>\n",
       "      <th>Soilwater_L4_3</th>\n",
       "      <th>Soilwater_L4_4</th>\n",
       "      <th>Soilwater_L4_5</th>\n",
       "      <th>Soilwater_L4_6</th>\n",
       "      <th>Soilwater_L4_7</th>\n",
       "      <th>Soilwater_L4_8</th>\n",
       "      <th>Soilwater_L4_9</th>\n",
       "      <th>Soilwater_L4_10</th>\n",
       "      <th>Soilwater_L4_11</th>\n",
       "    </tr>\n",
       "  </thead>\n",
       "  <tbody>\n",
       "    <tr>\n",
       "      <th>0</th>\n",
       "      <td>0</td>\n",
       "      <td>19</td>\n",
       "      <td>5</td>\n",
       "      <td>1</td>\n",
       "      <td>2004</td>\n",
       "      <td>26.132</td>\n",
       "      <td>24.661</td>\n",
       "      <td>1.8766</td>\n",
       "      <td>0.35274</td>\n",
       "      <td>0.35192</td>\n",
       "      <td>...</td>\n",
       "      <td>0.314165</td>\n",
       "      <td>0.314165</td>\n",
       "      <td>0.314165</td>\n",
       "      <td>0.314165</td>\n",
       "      <td>0.314165</td>\n",
       "      <td>0.314165</td>\n",
       "      <td>0.314165</td>\n",
       "      <td>0.314165</td>\n",
       "      <td>0.314165</td>\n",
       "      <td>0.314165</td>\n",
       "    </tr>\n",
       "    <tr>\n",
       "      <th>1</th>\n",
       "      <td>0</td>\n",
       "      <td>13</td>\n",
       "      <td>2</td>\n",
       "      <td>1</td>\n",
       "      <td>2004</td>\n",
       "      <td>26.132</td>\n",
       "      <td>24.661</td>\n",
       "      <td>1.8766</td>\n",
       "      <td>0.35274</td>\n",
       "      <td>0.35192</td>\n",
       "      <td>...</td>\n",
       "      <td>0.314165</td>\n",
       "      <td>0.314165</td>\n",
       "      <td>0.314165</td>\n",
       "      <td>0.314165</td>\n",
       "      <td>0.314165</td>\n",
       "      <td>0.314165</td>\n",
       "      <td>0.314165</td>\n",
       "      <td>0.314165</td>\n",
       "      <td>0.314165</td>\n",
       "      <td>0.314165</td>\n",
       "    </tr>\n",
       "  </tbody>\n",
       "</table>\n",
       "<p>2 rows × 101 columns</p>\n",
       "</div>"
      ],
      "text/plain": [
       "   field  age  type  harvest_month  harvest_year  temperature  dewpoint  \\\n",
       "0      0   19     5              1          2004       26.132    24.661   \n",
       "1      0   13     2              1          2004       26.132    24.661   \n",
       "\n",
       "   windspeed  Soilwater_L1  Soilwater_L2       ...         Soilwater_L4_2  \\\n",
       "0     1.8766       0.35274       0.35192       ...               0.314165   \n",
       "1     1.8766       0.35274       0.35192       ...               0.314165   \n",
       "\n",
       "   Soilwater_L4_3  Soilwater_L4_4  Soilwater_L4_5  Soilwater_L4_6  \\\n",
       "0        0.314165        0.314165        0.314165        0.314165   \n",
       "1        0.314165        0.314165        0.314165        0.314165   \n",
       "\n",
       "   Soilwater_L4_7  Soilwater_L4_8  Soilwater_L4_9  Soilwater_L4_10  \\\n",
       "0        0.314165        0.314165        0.314165         0.314165   \n",
       "1        0.314165        0.314165        0.314165         0.314165   \n",
       "\n",
       "   Soilwater_L4_11  \n",
       "0         0.314165  \n",
       "1         0.314165  \n",
       "\n",
       "[2 rows x 101 columns]"
      ]
     },
     "execution_count": 8,
     "metadata": {},
     "output_type": "execute_result"
    }
   ],
   "source": [
    "# Remove unused features.\n",
    "df_all_ftrs = df_all_ftrs[cat_ftrs + contin_ftrs]\n",
    "df_all_ftrs.head(2)"
   ]
  },
  {
   "cell_type": "code",
   "execution_count": 9,
   "metadata": {
    "scrolled": true
   },
   "outputs": [
    {
     "data": {
      "text/html": [
       "<div>\n",
       "<style scoped>\n",
       "    .dataframe tbody tr th:only-of-type {\n",
       "        vertical-align: middle;\n",
       "    }\n",
       "\n",
       "    .dataframe tbody tr th {\n",
       "        vertical-align: top;\n",
       "    }\n",
       "\n",
       "    .dataframe thead th {\n",
       "        text-align: right;\n",
       "    }\n",
       "</style>\n",
       "<table border=\"1\" class=\"dataframe\">\n",
       "  <thead>\n",
       "    <tr style=\"text-align: right;\">\n",
       "      <th></th>\n",
       "      <th>field</th>\n",
       "      <th>age</th>\n",
       "      <th>type</th>\n",
       "      <th>harvest_month</th>\n",
       "      <th>harvest_year</th>\n",
       "      <th>temperature</th>\n",
       "      <th>dewpoint</th>\n",
       "      <th>windspeed</th>\n",
       "      <th>Soilwater_L1</th>\n",
       "      <th>Soilwater_L2</th>\n",
       "      <th>...</th>\n",
       "      <th>Soilwater_L4_2</th>\n",
       "      <th>Soilwater_L4_3</th>\n",
       "      <th>Soilwater_L4_4</th>\n",
       "      <th>Soilwater_L4_5</th>\n",
       "      <th>Soilwater_L4_6</th>\n",
       "      <th>Soilwater_L4_7</th>\n",
       "      <th>Soilwater_L4_8</th>\n",
       "      <th>Soilwater_L4_9</th>\n",
       "      <th>Soilwater_L4_10</th>\n",
       "      <th>Soilwater_L4_11</th>\n",
       "    </tr>\n",
       "  </thead>\n",
       "  <tbody>\n",
       "    <tr>\n",
       "      <th>0</th>\n",
       "      <td>0</td>\n",
       "      <td>19</td>\n",
       "      <td>5</td>\n",
       "      <td>1</td>\n",
       "      <td>2004.0</td>\n",
       "      <td>26.132</td>\n",
       "      <td>24.660999</td>\n",
       "      <td>1.8766</td>\n",
       "      <td>0.35274</td>\n",
       "      <td>0.35192</td>\n",
       "      <td>...</td>\n",
       "      <td>0.314165</td>\n",
       "      <td>0.314165</td>\n",
       "      <td>0.314165</td>\n",
       "      <td>0.314165</td>\n",
       "      <td>0.314165</td>\n",
       "      <td>0.314165</td>\n",
       "      <td>0.314165</td>\n",
       "      <td>0.314165</td>\n",
       "      <td>0.314165</td>\n",
       "      <td>0.314165</td>\n",
       "    </tr>\n",
       "    <tr>\n",
       "      <th>1</th>\n",
       "      <td>0</td>\n",
       "      <td>13</td>\n",
       "      <td>2</td>\n",
       "      <td>1</td>\n",
       "      <td>2004.0</td>\n",
       "      <td>26.132</td>\n",
       "      <td>24.660999</td>\n",
       "      <td>1.8766</td>\n",
       "      <td>0.35274</td>\n",
       "      <td>0.35192</td>\n",
       "      <td>...</td>\n",
       "      <td>0.314165</td>\n",
       "      <td>0.314165</td>\n",
       "      <td>0.314165</td>\n",
       "      <td>0.314165</td>\n",
       "      <td>0.314165</td>\n",
       "      <td>0.314165</td>\n",
       "      <td>0.314165</td>\n",
       "      <td>0.314165</td>\n",
       "      <td>0.314165</td>\n",
       "      <td>0.314165</td>\n",
       "    </tr>\n",
       "  </tbody>\n",
       "</table>\n",
       "<p>2 rows × 101 columns</p>\n",
       "</div>"
      ],
      "text/plain": [
       "  field age type harvest_month  harvest_year  temperature   dewpoint  \\\n",
       "0     0  19    5             1        2004.0       26.132  24.660999   \n",
       "1     0  13    2             1        2004.0       26.132  24.660999   \n",
       "\n",
       "   windspeed  Soilwater_L1  Soilwater_L2       ...         Soilwater_L4_2  \\\n",
       "0     1.8766       0.35274       0.35192       ...               0.314165   \n",
       "1     1.8766       0.35274       0.35192       ...               0.314165   \n",
       "\n",
       "   Soilwater_L4_3  Soilwater_L4_4  Soilwater_L4_5  Soilwater_L4_6  \\\n",
       "0        0.314165        0.314165        0.314165        0.314165   \n",
       "1        0.314165        0.314165        0.314165        0.314165   \n",
       "\n",
       "   Soilwater_L4_7  Soilwater_L4_8  Soilwater_L4_9  Soilwater_L4_10  \\\n",
       "0        0.314165        0.314165        0.314165         0.314165   \n",
       "1        0.314165        0.314165        0.314165         0.314165   \n",
       "\n",
       "   Soilwater_L4_11  \n",
       "0         0.314165  \n",
       "1         0.314165  \n",
       "\n",
       "[2 rows x 101 columns]"
      ]
     },
     "execution_count": 9,
     "metadata": {},
     "output_type": "execute_result"
    }
   ],
   "source": [
    "# Inform pandas which features are categorical ...\n",
    "for v in cat_ftrs:\n",
    "    df_all_ftrs[v] = df_all_ftrs[v].astype('category').cat.as_ordered()\n",
    "# ... and which are continuous.\n",
    "for v in contin_ftrs:\n",
    "    df_all_ftrs[v] = df_all_ftrs[v].astype('float32')\n",
    "\n",
    "df_all_ftrs.head(2)"
   ]
  },
  {
   "cell_type": "code",
   "execution_count": 10,
   "metadata": {
    "scrolled": false
   },
   "outputs": [
    {
     "name": "stdout",
     "output_type": "stream",
     "text": [
      "[('field', 29), ('age', 29), ('type', 10), ('harvest_month', 13)]\n",
      "[(29, 15), (29, 15), (10, 5), (13, 7)]\n"
     ]
    }
   ],
   "source": [
    "# Compute list of embedding sizes.\n",
    "cat_sz = [(c, len(df_all_ftrs[c].cat.categories)+1) for c in cat_ftrs]\n",
    "print(cat_sz)\n",
    "emb_szs = [(c, min(50, (c+1)//2)) for _,c in cat_sz]\n",
    "print(emb_szs)"
   ]
  },
  {
   "cell_type": "code",
   "execution_count": 11,
   "metadata": {
    "scrolled": false
   },
   "outputs": [
    {
     "name": "stdout",
     "output_type": "stream",
     "text": [
      "497\n",
      "9353\n"
     ]
    }
   ],
   "source": [
    "val_year = 2017\n",
    "\n",
    "# Ignore training examples with type != 5\n",
    "# df_all_ftrs = df_all_ftrs[(df_all_ftrs.type == 5) | (df_all_ftrs.harvest_year >= val_year)]\n",
    "\n",
    "val_idx = np.flatnonzero(df_all_ftrs.harvest_year >= val_year)\n",
    "print(len(val_idx))\n",
    "print(len(df_all_ftrs))"
   ]
  },
  {
   "cell_type": "code",
   "execution_count": 12,
   "metadata": {},
   "outputs": [
    {
     "data": {
      "text/html": [
       "<div>\n",
       "<style scoped>\n",
       "    .dataframe tbody tr th:only-of-type {\n",
       "        vertical-align: middle;\n",
       "    }\n",
       "\n",
       "    .dataframe tbody tr th {\n",
       "        vertical-align: top;\n",
       "    }\n",
       "\n",
       "    .dataframe thead th {\n",
       "        text-align: right;\n",
       "    }\n",
       "</style>\n",
       "<table border=\"1\" class=\"dataframe\">\n",
       "  <thead>\n",
       "    <tr style=\"text-align: right;\">\n",
       "      <th></th>\n",
       "      <th>field</th>\n",
       "      <th>age</th>\n",
       "      <th>type</th>\n",
       "      <th>harvest_month</th>\n",
       "      <th>harvest_year</th>\n",
       "      <th>temperature</th>\n",
       "      <th>dewpoint</th>\n",
       "      <th>windspeed</th>\n",
       "      <th>Soilwater_L1</th>\n",
       "      <th>Soilwater_L2</th>\n",
       "      <th>...</th>\n",
       "      <th>Soilwater_L4_2</th>\n",
       "      <th>Soilwater_L4_3</th>\n",
       "      <th>Soilwater_L4_4</th>\n",
       "      <th>Soilwater_L4_5</th>\n",
       "      <th>Soilwater_L4_6</th>\n",
       "      <th>Soilwater_L4_7</th>\n",
       "      <th>Soilwater_L4_8</th>\n",
       "      <th>Soilwater_L4_9</th>\n",
       "      <th>Soilwater_L4_10</th>\n",
       "      <th>Soilwater_L4_11</th>\n",
       "    </tr>\n",
       "  </thead>\n",
       "  <tbody>\n",
       "    <tr>\n",
       "      <th>0</th>\n",
       "      <td>1</td>\n",
       "      <td>17</td>\n",
       "      <td>7</td>\n",
       "      <td>1</td>\n",
       "      <td>-1.697803</td>\n",
       "      <td>-1.166099</td>\n",
       "      <td>0.936026</td>\n",
       "      <td>-0.934888</td>\n",
       "      <td>1.001172</td>\n",
       "      <td>1.00669</td>\n",
       "      <td>...</td>\n",
       "      <td>-0.003063</td>\n",
       "      <td>-0.004811</td>\n",
       "      <td>-0.00487</td>\n",
       "      <td>-0.003559</td>\n",
       "      <td>-0.000209</td>\n",
       "      <td>0.000733</td>\n",
       "      <td>0.000304</td>\n",
       "      <td>0.00122</td>\n",
       "      <td>0.000906</td>\n",
       "      <td>-0.003347</td>\n",
       "    </tr>\n",
       "    <tr>\n",
       "      <th>1</th>\n",
       "      <td>1</td>\n",
       "      <td>11</td>\n",
       "      <td>4</td>\n",
       "      <td>1</td>\n",
       "      <td>-1.697803</td>\n",
       "      <td>-1.166099</td>\n",
       "      <td>0.936026</td>\n",
       "      <td>-0.934888</td>\n",
       "      <td>1.001172</td>\n",
       "      <td>1.00669</td>\n",
       "      <td>...</td>\n",
       "      <td>-0.003063</td>\n",
       "      <td>-0.004811</td>\n",
       "      <td>-0.00487</td>\n",
       "      <td>-0.003559</td>\n",
       "      <td>-0.000209</td>\n",
       "      <td>0.000733</td>\n",
       "      <td>0.000304</td>\n",
       "      <td>0.00122</td>\n",
       "      <td>0.000906</td>\n",
       "      <td>-0.003347</td>\n",
       "    </tr>\n",
       "  </tbody>\n",
       "</table>\n",
       "<p>2 rows × 101 columns</p>\n",
       "</div>"
      ],
      "text/plain": [
       "   field  age  type  harvest_month  harvest_year  temperature  dewpoint  \\\n",
       "0      1   17     7              1     -1.697803    -1.166099  0.936026   \n",
       "1      1   11     4              1     -1.697803    -1.166099  0.936026   \n",
       "\n",
       "   windspeed  Soilwater_L1  Soilwater_L2       ...         Soilwater_L4_2  \\\n",
       "0  -0.934888      1.001172       1.00669       ...              -0.003063   \n",
       "1  -0.934888      1.001172       1.00669       ...              -0.003063   \n",
       "\n",
       "   Soilwater_L4_3  Soilwater_L4_4  Soilwater_L4_5  Soilwater_L4_6  \\\n",
       "0       -0.004811        -0.00487       -0.003559       -0.000209   \n",
       "1       -0.004811        -0.00487       -0.003559       -0.000209   \n",
       "\n",
       "   Soilwater_L4_7  Soilwater_L4_8  Soilwater_L4_9  Soilwater_L4_10  \\\n",
       "0        0.000733        0.000304         0.00122         0.000906   \n",
       "1        0.000733        0.000304         0.00122         0.000906   \n",
       "\n",
       "   Soilwater_L4_11  \n",
       "0        -0.003347  \n",
       "1        -0.003347  \n",
       "\n",
       "[2 rows x 101 columns]"
      ]
     },
     "execution_count": 12,
     "metadata": {},
     "output_type": "execute_result"
    }
   ],
   "source": [
    "df, _, nas, mapper = proc_df(df_all_ftrs, y_fld=None, do_scale=True)\n",
    "df.head(2)"
   ]
  },
  {
   "cell_type": "markdown",
   "metadata": {},
   "source": [
    "### One-hot output variables\n",
    "Create one-hot output variables for each categorical input variable."
   ]
  },
  {
   "cell_type": "code",
   "execution_count": 13,
   "metadata": {},
   "outputs": [],
   "source": [
    "cols = ['field', 'age', 'type', 'harvest_month']\n",
    "\n",
    "# Create dummy values for categorical features.\n",
    "y = pd.get_dummies(df.loc[:,cols], columns=cols)\n",
    "\n",
    "dfs = []\n",
    "ys = []\n",
    "\n",
    "for col in cols:\n",
    "    # Create a new split for the categorical feature 'col'.\n",
    "    df_col = df.copy()\n",
    "    # Remove categorical feature value for this split.\n",
    "    df_col[col] = 0\n",
    "    # Add to list of splits.\n",
    "    dfs.append(df_col)\n",
    "    \n",
    "    # Copy the output variables.\n",
    "    ys.append(y.copy())\n",
    "\n",
    "# Concatenate all splits.\n",
    "y = pd.concat(ys)\n",
    "df = pd.concat(dfs)"
   ]
  },
  {
   "cell_type": "code",
   "execution_count": 14,
   "metadata": {},
   "outputs": [],
   "source": [
    "md = ColumnarModelData.from_data_frame(path, # path for data saving\n",
    "                                       val_idx, # indexes of validation examples\n",
    "                                       df, # training data\n",
    "                                       y.values.astype(np.float32), # output variable\n",
    "                                       cat_flds=cat_ftrs, # categorical features\n",
    "                                       bs=16, # batch size\n",
    "                                       is_reg=False, # not regression\n",
    "                                       is_multi=True) # multi-label problem"
   ]
  },
  {
   "cell_type": "code",
   "execution_count": 36,
   "metadata": {},
   "outputs": [],
   "source": [
    "# dropout rate\n",
    "dr = 0.5\n",
    "\n",
    "learner_params = {\n",
    "    \"emb_szs\": emb_szs, # embedding sizes\n",
    "    \"n_cont\": len(df.columns) - len(cat_ftrs), # num continuous inputs\n",
    "    \"emb_drop\": 0.00, # embeddings dropout probability\n",
    "    \"out_sz\": y.shape[1], # output size\n",
    "    \"szs\": [300, 100], # sizes of fully-connected layers\n",
    "    \"drops\": [dr, dr], # dropout probabilities after each FC layer\n",
    "    \"use_bn\": False # batch normalization\n",
    "}"
   ]
  },
  {
   "cell_type": "code",
   "execution_count": 37,
   "metadata": {
    "scrolled": false
   },
   "outputs": [
    {
     "data": {
      "application/vnd.jupyter.widget-view+json": {
       "model_id": "79040339662d49a2a8da68399c376fff",
       "version_major": 2,
       "version_minor": 0
      },
      "text/plain": [
       "HBox(children=(IntProgress(value=0, description='Epoch', max=1), HTML(value='')))"
      ]
     },
     "metadata": {},
     "output_type": "display_data"
    },
    {
     "name": "stdout",
     "output_type": "stream",
     "text": [
      "epoch      trn_loss   val_loss                                  \n",
      "    0      0.229936   0.260135  \n",
      "\n"
     ]
    },
    {
     "data": {
      "image/png": "[encoded data removed]",
      "text/plain": [
       "<Figure size 432x288 with 1 Axes>"
      ]
     },
     "metadata": {},
     "output_type": "display_data"
    }
   ],
   "source": [
    "m = md.get_learner(**learner_params)\n",
    "m.lr_find()\n",
    "m.sched.plot()"
   ]
  },
  {
   "cell_type": "code",
   "execution_count": 32,
   "metadata": {
    "scrolled": false
   },
   "outputs": [
    {
     "data": {
      "application/vnd.jupyter.widget-view+json": {
       "model_id": "",
       "version_major": 2,
       "version_minor": 0
      },
      "text/plain": [
       "HBox(children=(IntProgress(value=0, description='Epoch', max=15), HTML(value='')))"
      ]
     },
     "metadata": {},
     "output_type": "display_data"
    },
    {
     "name": "stdout",
     "output_type": "stream",
     "text": [
      "epoch      trn_loss   val_loss                                   \n",
      "    0      0.085571   0.088387  \n",
      "    1      0.066129   0.075169                                   \n",
      "    2      0.061466   0.072457                                   \n",
      "    3      0.052359   0.060227                                   \n",
      "    4      0.045364   0.054458                                   \n",
      "    5      0.044928   0.053619                                   \n",
      "    6      0.040922   0.050644                                   \n",
      "    7      0.037582   0.049549                                   \n",
      "    8      0.037032   0.048787                                   \n",
      "    9      0.035377   0.04758                                    \n",
      "    10     0.033105   0.047333                                   \n",
      "    11     0.032353   0.046949                                   \n",
      "    12     0.031936   0.046586                                   \n",
      "    13     0.029552   0.04577                                    \n",
      "    14     0.02927    0.045971                                   \n",
      "\n"
     ]
    },
    {
     "data": {
      "text/plain": [
       "[array([0.04597])]"
      ]
     },
     "execution_count": 32,
     "metadata": {},
     "output_type": "execute_result"
    }
   ],
   "source": [
    "lr = 1e-3\n",
    "m = md.get_learner(**learner_params)\n",
    "m.fit(lr, 5, cycle_len=3)"
   ]
  },
  {
   "cell_type": "code",
   "execution_count": 38,
   "metadata": {
    "scrolled": false
   },
   "outputs": [
    {
     "data": {
      "application/vnd.jupyter.widget-view+json": {
       "model_id": "4ded264199bd43448137cd969b855987",
       "version_major": 2,
       "version_minor": 0
      },
      "text/plain": [
       "HBox(children=(IntProgress(value=0, description='Epoch', max=15), HTML(value='')))"
      ]
     },
     "metadata": {},
     "output_type": "display_data"
    },
    {
     "name": "stdout",
     "output_type": "stream",
     "text": [
      "epoch      trn_loss   val_loss                                  \n",
      "    0      0.134345   0.119553  \n",
      "    1      0.10797    0.096561                                  \n",
      "    2      0.104445   0.09341                                   \n",
      "    3      0.084523   0.074212                                   \n",
      "    4      0.076793   0.065553                                   \n",
      "    5      0.074132   0.063996                                   \n",
      "    6      0.068933   0.057764                                   \n",
      "    7      0.062646   0.052953                                   \n",
      "    8      0.059588   0.052579                                   \n",
      "    9      0.059359   0.051094                                   \n",
      "    10     0.055164   0.050151                                   \n",
      "    11     0.054003   0.049783                                   \n",
      "    12     0.053763   0.049319                                   \n",
      "    13     0.052158   0.048437                                   \n",
      "    14     0.048378   0.048004                                   \n",
      "\n"
     ]
    },
    {
     "data": {
      "text/plain": [
       "[array([0.048])]"
      ]
     },
     "execution_count": 38,
     "metadata": {},
     "output_type": "execute_result"
    }
   ],
   "source": [
    "lr = 1e-3\n",
    "m = md.get_learner(**learner_params)\n",
    "m.fit(lr, 5, cycle_len=3)"
   ]
  },
  {
   "cell_type": "code",
   "execution_count": 40,
   "metadata": {},
   "outputs": [],
   "source": [
    "save_model_ignoring(m, 'test3-trn048-tst048', ['outp'])"
   ]
  },
  {
   "cell_type": "code",
   "execution_count": 41,
   "metadata": {},
   "outputs": [
    {
     "data": {
      "application/vnd.jupyter.widget-view+json": {
       "model_id": "c8d2a566de744535b5ffddb6384f5090",
       "version_major": 2,
       "version_minor": 0
      },
      "text/plain": [
       "HBox(children=(IntProgress(value=0, description='Epoch', max=15), HTML(value='')))"
      ]
     },
     "metadata": {},
     "output_type": "display_data"
    },
    {
     "name": "stdout",
     "output_type": "stream",
     "text": [
      "epoch      trn_loss   val_loss                                   \n",
      "    0      0.052052   0.048783  \n",
      "    1      0.047729   0.047394                                   \n",
      "    2      0.047489   0.047033                                   \n",
      "    3      0.049242   0.04768                                    \n",
      "    4      0.047008   0.046933                                   \n",
      "    5      0.045168   0.047139                                   \n",
      "    6      0.049056   0.047199                                   \n",
      "    7      0.046815   0.046879                                   \n",
      "    8      0.044884   0.046553                                   \n",
      "    9      0.047347   0.047007                                   \n",
      "    10     0.045247   0.045627                                   \n",
      "    11     0.043879   0.045868                                   \n",
      "    12     0.047378   0.046616                                   \n",
      "    13     0.043313   0.046593                                   \n",
      "    14     0.042848   0.046039                                   \n",
      "\n"
     ]
    },
    {
     "data": {
      "text/plain": [
       "[array([0.04604])]"
      ]
     },
     "execution_count": 41,
     "metadata": {},
     "output_type": "execute_result"
    }
   ],
   "source": [
    "m.fit(lr, 5, cycle_len=3)"
   ]
  },
  {
   "cell_type": "code",
   "execution_count": 42,
   "metadata": {},
   "outputs": [
    {
     "data": {
      "image/png": "[encoded data removed]",
      "text/plain": [
       "<Figure size 432x288 with 1 Axes>"
      ]
     },
     "metadata": {},
     "output_type": "display_data"
    }
   ],
   "source": [
    "m.sched.plot"
   ]
  },
  {
   "cell_type": "code",
   "execution_count": 43,
   "metadata": {},
   "outputs": [],
   "source": [
    "save_model_ignoring(m, 'test-trn042-tst046', ['outp'])"
   ]
  },
  {
   "cell_type": "code",
   "execution_count": 44,
   "metadata": {
    "scrolled": false
   },
   "outputs": [
    {
     "data": {
      "application/vnd.jupyter.widget-view+json": {
       "model_id": "bc54f1a3f0b14229840defbeb4438902",
       "version_major": 2,
       "version_minor": 0
      },
      "text/plain": [
       "HBox(children=(IntProgress(value=0, description='Epoch', max=15), HTML(value='')))"
      ]
     },
     "metadata": {},
     "output_type": "display_data"
    },
    {
     "name": "stdout",
     "output_type": "stream",
     "text": [
      "epoch      trn_loss   val_loss                                   \n",
      "    0      0.045997   0.04725   \n",
      "    1      0.041975   0.046274                                   \n",
      "    2      0.04218    0.045991                                   \n",
      "    3      0.044648   0.046611                                   \n",
      "    4      0.042932   0.045767                                   \n",
      "    5      0.041309   0.04577                                    \n",
      "    6      0.043518   0.045332                                   \n",
      "    7      0.042262   0.045095                                   \n",
      "    8      0.040517   0.045051                                   \n",
      "    9      0.04548    0.04608                                    \n",
      "    10     0.042051   0.045447                                   \n",
      "    11     0.038707   0.045203                                   \n",
      "    12     0.044808   0.04658                                    \n",
      "    13     0.040657   0.045034                                   \n",
      "    14     0.040702   0.044969                                   \n",
      "\n"
     ]
    },
    {
     "data": {
      "text/plain": [
       "[array([0.04497])]"
      ]
     },
     "execution_count": 44,
     "metadata": {},
     "output_type": "execute_result"
    }
   ],
   "source": [
    "m.fit(lr, 5, cycle_len=3)"
   ]
  },
  {
   "cell_type": "code",
   "execution_count": 45,
   "metadata": {},
   "outputs": [],
   "source": [
    "save_model_ignoring(m, 'test-trn040-tst044', ['outp'])"
   ]
  },
  {
   "cell_type": "code",
   "execution_count": 46,
   "metadata": {
    "scrolled": false
   },
   "outputs": [
    {
     "data": {
      "application/vnd.jupyter.widget-view+json": {
       "model_id": "c7a1d28605bf48808ebdf22f04df85ec",
       "version_major": 2,
       "version_minor": 0
      },
      "text/plain": [
       "HBox(children=(IntProgress(value=0, description='Epoch', max=15), HTML(value='')))"
      ]
     },
     "metadata": {},
     "output_type": "display_data"
    },
    {
     "name": "stdout",
     "output_type": "stream",
     "text": [
      "epoch      trn_loss   val_loss                                   \n",
      "    0      0.043184   0.045857  \n",
      "    1      0.039135   0.045057                                   \n",
      "    2      0.039594   0.044725                                   \n",
      "    3      0.04199    0.04573                                    \n",
      "    4      0.041037   0.045611                                   \n",
      "    5      0.039098   0.045347                                   \n",
      "    6      0.042474   0.04496                                    \n",
      "    7      0.040749   0.044956                                   \n",
      "    8      0.037625   0.044797                                   \n",
      "    9      0.043232   0.047023                                   \n",
      "    10     0.039173   0.045512                                   \n",
      "    11     0.040636   0.045256                                   \n",
      "    12     0.043379   0.045676                                   \n",
      "    13     0.039973   0.044417                                   \n",
      "    14     0.038964   0.044396                                   \n",
      "\n"
     ]
    },
    {
     "data": {
      "text/plain": [
       "[array([0.0444])]"
      ]
     },
     "execution_count": 46,
     "metadata": {},
     "output_type": "execute_result"
    }
   ],
   "source": [
    "m.fit(lr, 5, cycle_len=3)"
   ]
  },
  {
   "cell_type": "code",
   "execution_count": 47,
   "metadata": {
    "scrolled": true
   },
   "outputs": [
    {
     "data": {
      "image/png": "[encoded data removed]",
      "text/plain": [
       "<Figure size 432x288 with 1 Axes>"
      ]
     },
     "metadata": {},
     "output_type": "display_data"
    }
   ],
   "source": [
    "m.sched.plot_loss()"
   ]
  },
  {
   "cell_type": "code",
   "execution_count": 49,
   "metadata": {},
   "outputs": [
    {
     "data": {
      "application/vnd.jupyter.widget-view+json": {
       "model_id": "",
       "version_major": 2,
       "version_minor": 0
      },
      "text/plain": [
       "HBox(children=(IntProgress(value=0, description='Epoch', max=30), HTML(value='')))"
      ]
     },
     "metadata": {},
     "output_type": "display_data"
    },
    {
     "name": "stdout",
     "output_type": "stream",
     "text": [
      "epoch      trn_loss   val_loss                                  \n",
      "    0      0.148808   0.134474  \n",
      "    1      0.124138   0.109706                                  \n",
      "    2      0.1199     0.106899                                  \n",
      "    3      0.107468   0.094867                                  \n",
      "    4      0.100079   0.088253                                   \n",
      "    5      0.097404   0.086676                                   \n",
      "    6      0.094568   0.080574                                   \n",
      "    7      0.087558   0.077804                                   \n",
      "    8      0.086757   0.076701                                   \n",
      "    9      0.084599   0.074127                                   \n",
      "    10     0.079853   0.06982                                    \n",
      "    11     0.077108   0.069627                                   \n",
      "    12     0.077681   0.068994                                   \n",
      "    13     0.073888   0.066165                                   \n",
      "    14     0.071708   0.065506                                   \n",
      "    15     0.074761   0.066924                                   \n",
      "    16     0.072201   0.064039                                   \n",
      "    17     0.069823   0.06405                                    \n",
      "    18     0.068754   0.06502                                    \n",
      "    19     0.068915   0.063274                                   \n",
      "    20     0.066084   0.062548                                   \n",
      "    21     0.070571   0.06281                                    \n",
      "    22     0.066164   0.061403                                   \n",
      "    23     0.06419    0.060892                                   \n",
      "    24     0.067145   0.061482                                   \n",
      "    25     0.064032   0.059913                                   \n",
      "    26     0.065738   0.059841                                   \n",
      "    27     0.067076   0.061372                                   \n",
      "    28     0.064524   0.058896                                   \n",
      "    29     0.063625   0.05861                                    \n"
     ]
    },
    {
     "data": {
      "text/plain": [
       "[array([0.05861])]"
      ]
     },
     "execution_count": 49,
     "metadata": {},
     "output_type": "execute_result"
    }
   ],
   "source": [
    "# dropout rate\n",
    "dr = 0.5\n",
    "\n",
    "learner_params = {\n",
    "    \"emb_szs\": emb_szs, # embedding sizes\n",
    "    \"n_cont\": len(df.columns) - len(cat_ftrs), # num continuous inputs\n",
    "    \"emb_drop\": dr, # embeddings dropout probability\n",
    "    \"out_sz\": y.shape[1], # output size\n",
    "    \"szs\": [300, 100], # sizes of fully-connected layers\n",
    "    \"drops\": [dr, dr], # dropout probabilities after each FC layer\n",
    "    \"use_bn\": False # batch normalization\n",
    "}\n",
    "\n",
    "m = md.get_learner(**learner_params)\n",
    "m.fit(lr, 10, cycle_len=3)"
   ]
  },
  {
   "cell_type": "code",
   "execution_count": 50,
   "metadata": {},
   "outputs": [
    {
     "data": {
      "application/vnd.jupyter.widget-view+json": {
       "model_id": "",
       "version_major": 2,
       "version_minor": 0
      },
      "text/plain": [
       "HBox(children=(IntProgress(value=0, description='Epoch', max=30), HTML(value='')))"
      ]
     },
     "metadata": {},
     "output_type": "display_data"
    },
    {
     "name": "stdout",
     "output_type": "stream",
     "text": [
      "epoch      trn_loss   val_loss                                  \n",
      "    0      0.133847   0.117982  \n",
      "    1      0.106198   0.095246                                  \n",
      "    2      0.101458   0.09258                                    \n",
      "    3      0.085746   0.079617                                   \n",
      "    4      0.078447   0.070693                                   \n",
      "    5      0.076391   0.07014                                    \n",
      "    6      0.070654   0.063512                                   \n",
      "    7      0.064949   0.058129                                   \n",
      "    8      0.063795   0.057271                                   \n",
      "    9      0.061578   0.056688                                   \n",
      "    10     0.057607   0.053201                                   \n",
      "    11     0.055665   0.05258                                    \n",
      "    12     0.057005   0.053027                                   \n",
      "    13     0.052649   0.051337                                   \n",
      "    14     0.052597   0.050818                                   \n",
      "    15     0.0514     0.051101                                   \n",
      "    16     0.050462   0.049783                                   \n",
      "    17     0.04931    0.049117                                   \n",
      "    18     0.051      0.049929                                   \n",
      "    19     0.049394   0.049126                                   \n",
      "    20     0.045379   0.048968                                   \n",
      "    21     0.046923   0.048598                                   \n",
      "    22     0.04431    0.048656                                   \n",
      "    23     0.046025   0.048365                                   \n",
      "    24     0.047541   0.048424                                   \n",
      "    25     0.044797   0.048729                                   \n",
      "    26     0.043502   0.04817                                    \n",
      "    27     0.047696   0.04899                                    \n",
      "    28     0.043028   0.048748                                   \n",
      "    29     0.042434   0.048372                                   \n"
     ]
    },
    {
     "data": {
      "text/plain": [
       "[array([0.04837])]"
      ]
     },
     "execution_count": 50,
     "metadata": {},
     "output_type": "execute_result"
    }
   ],
   "source": [
    "# dropout rate\n",
    "dr = 0.5\n",
    "\n",
    "learner_params = {\n",
    "    \"emb_szs\": emb_szs, # embedding sizes\n",
    "    \"n_cont\": len(df.columns) - len(cat_ftrs), # num continuous inputs\n",
    "    \"emb_drop\": dr/10, # embeddings dropout probability\n",
    "    \"out_sz\": y.shape[1], # output size\n",
    "    \"szs\": [300, 100], # sizes of fully-connected layers\n",
    "    \"drops\": [dr, dr], # dropout probabilities after each FC layer\n",
    "    \"use_bn\": False # batch normalization\n",
    "}\n",
    "\n",
    "m = md.get_learner(**learner_params)\n",
    "m.fit(lr, 10, cycle_len=3)"
   ]
  },
  {
   "cell_type": "code",
   "execution_count": 52,
   "metadata": {},
   "outputs": [
    {
     "data": {
      "application/vnd.jupyter.widget-view+json": {
       "model_id": "3f7fdb6c17af4a37a6bfcea953228762",
       "version_major": 2,
       "version_minor": 0
      },
      "text/plain": [
       "HBox(children=(IntProgress(value=0, description='Epoch', max=30), HTML(value='')))"
      ]
     },
     "metadata": {},
     "output_type": "display_data"
    },
    {
     "name": "stdout",
     "output_type": "stream",
     "text": [
      "epoch      trn_loss   val_loss                                   \n",
      "    0      0.065051   0.072611  \n",
      "    1      0.048025   0.057906                                   \n",
      "    2      0.043517   0.055001                                   \n",
      "    3      0.038965   0.048232                                   \n",
      "    4      0.03355    0.046395                                   \n",
      "    5      0.0295     0.046075                                   \n",
      "    6      0.031856   0.048626                                   \n",
      "    7      0.027533   0.044727                                   \n",
      "    8      0.025119   0.044411                                   \n",
      "    9      0.027991   0.044893                                   \n",
      "    10     0.023474   0.043367                                   \n",
      "    11     0.024138   0.043717                                   \n",
      "    12     0.025886   0.044182                                   \n",
      "    13     0.023518   0.044132                                   \n",
      "    14     0.022774   0.04358                                    \n",
      "    15     0.02693    0.043389                                   \n",
      "    16     0.021624   0.044015                                   \n",
      "    17     0.020628   0.043886                                   \n",
      "    18     0.026117   0.043095                                   \n",
      "    19     0.021618   0.044512                                   \n",
      "    20     0.019756   0.044086                                   \n",
      "    21     0.023142   0.044267                                   \n",
      "    22     0.020085   0.04321                                    \n",
      "    23     0.020563   0.04255                                    \n",
      "    24     0.022401   0.043958                                   \n",
      "    25     0.020726   0.042148                                   \n",
      "    26     0.018698   0.042982                                   \n",
      "    27     0.023697   0.042263                                   \n",
      "    28     0.020271   0.043443                                   \n",
      "    29     0.018871   0.043199                                   \n"
     ]
    },
    {
     "data": {
      "text/plain": [
       "[array([0.0432])]"
      ]
     },
     "execution_count": 52,
     "metadata": {},
     "output_type": "execute_result"
    }
   ],
   "source": [
    "# dropout rate\n",
    "dr = 0.5\n",
    "\n",
    "learner_params = {\n",
    "    \"emb_szs\": emb_szs, # embedding sizes\n",
    "    \"n_cont\": len(df.columns) - len(cat_ftrs), # num continuous inputs\n",
    "    \"emb_drop\": dr/10, # embeddings dropout probability\n",
    "    \"out_sz\": y.shape[1], # output size\n",
    "    \"szs\": [1000, 500], # sizes of fully-connected layers\n",
    "    \"drops\": [dr, dr], # dropout probabilities after each FC layer\n",
    "    \"use_bn\": False # batch normalization\n",
    "}\n",
    "\n",
    "m = md.get_learner(**learner_params)\n",
    "m.fit(lr, 10, cycle_len=3)"
   ]
  },
  {
   "cell_type": "code",
   "execution_count": 53,
   "metadata": {},
   "outputs": [],
   "source": [
    "save_model_ignoring(m, 'test-trn018-tst043', ['outp'])"
   ]
  }
 ],
 "metadata": {
  "kernelspec": {
   "display_name": "Python 3",
   "language": "python",
   "name": "python3"
  },
  "language_info": {
   "codemirror_mode": {
    "name": "ipython",
    "version": 3
   },
   "file_extension": ".py",
   "mimetype": "text/x-python",
   "name": "python",
   "nbconvert_exporter": "python",
   "pygments_lexer": "ipython3",
   "version": "3.6.6"
  }
 },
 "nbformat": 4,
 "nbformat_minor": 1
}
