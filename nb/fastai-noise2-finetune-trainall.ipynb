{
 "cells": [
  {
   "cell_type": "markdown",
   "metadata": {
    "_uuid": "4646fdea09654229ea606aa4faffad9cb819398b"
   },
   "source": [
    "# DL Modeling - Fine Tuning - Train on all data\n",
    "Load a pre-trained model and fine tune it."
   ]
  },
  {
   "cell_type": "code",
   "execution_count": 23,
   "metadata": {},
   "outputs": [
    {
     "name": "stdout",
     "output_type": "stream",
     "text": [
      "env: CUDA_VISIBLE_DEVICES=1\n"
     ]
    }
   ],
   "source": [
    "%matplotlib inline\n",
    "%reload_ext autoreload\n",
    "%autoreload 2\n",
    "\n",
    "%env CUDA_VISIBLE_DEVICES=1"
   ]
  },
  {
   "cell_type": "code",
   "execution_count": 24,
   "metadata": {
    "_uuid": "35b9298747ec076ac8a9afb81192039880e46f2c"
   },
   "outputs": [],
   "source": [
    "import pandas as pd\n",
    "import numpy as np\n",
    "import os \n",
    "\n",
    "from datetime import datetime\n",
    "import matplotlib.pyplot as plt\n",
    "import seaborn as sns\n",
    "\n",
    "from kdd_utils import addFieldDataFtrs, addSoilFtrs, cvPerYear, load_model_ignoring, save_model_ignoring\n",
    "\n",
    "sns.set(style=\"whitegrid\")"
   ]
  },
  {
   "cell_type": "code",
   "execution_count": 25,
   "metadata": {},
   "outputs": [],
   "source": [
    "from fastai.structured import *\n",
    "from fastai.column_data import *"
   ]
  },
  {
   "cell_type": "markdown",
   "metadata": {
    "_uuid": "5e5a56ed28ca3f0433752b640126d39410d590e7"
   },
   "source": [
    "## Train and test datasets\n",
    "\n",
    "Basic data containing palm tree information"
   ]
  },
  {
   "cell_type": "code",
   "execution_count": 26,
   "metadata": {
    "_uuid": "d26413ead269ebe206f0ac43cda68634d9611199",
    "scrolled": true
   },
   "outputs": [
    {
     "name": "stdout",
     "output_type": "stream",
     "text": [
      "Shapes\n",
      "---\n",
      "Train: (5243, 7)\n",
      " Test: (4110, 6)\n",
      "  All: (9353, 7)\n"
     ]
    }
   ],
   "source": [
    "path = '../input/'\n",
    "\n",
    "# Train data.\n",
    "df_train = pd.read_csv(os.path.join(path, 'train.csv'))\n",
    "\n",
    "# Ignoring date before 2006 for training.\n",
    "# df_train = df_train[df_train.harvest_year >= 2006]\n",
    "\n",
    "# Using only examples with type=5 for training.\n",
    "# df_train = df_train[df_train.type == 5]\n",
    "\n",
    "# Test data.\n",
    "df_test  = pd.read_csv(os.path.join(path, 'test.csv'))\n",
    "\n",
    "# Merge train and test data for ease of pre-processing.\n",
    "df_all = pd.concat([df_train, df_test], sort=False).reindex()\n",
    "\n",
    "# Configure number of jobs.\n",
    "N_JOBS=7\n",
    "\n",
    "print('Shapes\\n---\\nTrain: {}\\n Test: {}\\n  All: {}'.format(df_train.shape, df_test.shape, df_all.shape))"
   ]
  },
  {
   "cell_type": "markdown",
   "metadata": {
    "_uuid": "8163b4159ec67907aa1518f341edf613f4bc7266"
   },
   "source": [
    "## Field and Soil Features\n",
    "\n",
    "These files hold atmospheric data from January 2002 to December 2017, and can be used to estimate the weather conditions during the development of the plant. Notice that weather does influence the production. Using only a single month prior to harvest is probably too little data. Participants should decide how far back in the past they want to look when training models.\n",
    "\n"
   ]
  },
  {
   "cell_type": "code",
   "execution_count": 27,
   "metadata": {
    "_uuid": "c9596d68c59820e59de0b7861c9234712185fdab",
    "scrolled": true
   },
   "outputs": [
    {
     "name": "stdout",
     "output_type": "stream",
     "text": [
      "['index', 'Id', 'field', 'age', 'type', 'harvest_year', 'harvest_month', 'production', 'temperature', 'dewpoint', 'windspeed', 'Soilwater_L1', 'Soilwater_L2', 'Soilwater_L3', 'Soilwater_L4', 'Precipitation', 'temperature_1', 'temperature_2', 'temperature_3', 'temperature_4', 'temperature_5', 'temperature_6', 'temperature_7', 'temperature_8', 'temperature_9', 'temperature_10', 'temperature_11', 'dewpoint_1', 'dewpoint_2', 'dewpoint_3', 'dewpoint_4', 'dewpoint_5', 'dewpoint_6', 'dewpoint_7', 'dewpoint_8', 'dewpoint_9', 'dewpoint_10', 'dewpoint_11', 'windspeed_1', 'windspeed_2', 'windspeed_3', 'windspeed_4', 'windspeed_5', 'windspeed_6', 'windspeed_7', 'windspeed_8', 'windspeed_9', 'windspeed_10', 'windspeed_11', 'Precipitation_1', 'Precipitation_2', 'Precipitation_3', 'Precipitation_4', 'Precipitation_5', 'Precipitation_6', 'Precipitation_7', 'Precipitation_8', 'Precipitation_9', 'Precipitation_10', 'Precipitation_11', 'Soilwater_L1_1', 'Soilwater_L1_2', 'Soilwater_L1_3', 'Soilwater_L1_4', 'Soilwater_L1_5', 'Soilwater_L1_6', 'Soilwater_L1_7', 'Soilwater_L1_8', 'Soilwater_L1_9', 'Soilwater_L1_10', 'Soilwater_L1_11', 'Soilwater_L2_1', 'Soilwater_L2_2', 'Soilwater_L2_3', 'Soilwater_L2_4', 'Soilwater_L2_5', 'Soilwater_L2_6', 'Soilwater_L2_7', 'Soilwater_L2_8', 'Soilwater_L2_9', 'Soilwater_L2_10', 'Soilwater_L2_11', 'Soilwater_L3_1', 'Soilwater_L3_2', 'Soilwater_L3_3', 'Soilwater_L3_4', 'Soilwater_L3_5', 'Soilwater_L3_6', 'Soilwater_L3_7', 'Soilwater_L3_8', 'Soilwater_L3_9', 'Soilwater_L3_10', 'Soilwater_L3_11', 'Soilwater_L4_1', 'Soilwater_L4_2', 'Soilwater_L4_3', 'Soilwater_L4_4', 'Soilwater_L4_5', 'Soilwater_L4_6', 'Soilwater_L4_7', 'Soilwater_L4_8', 'Soilwater_L4_9', 'Soilwater_L4_10', 'Soilwater_L4_11']\n"
     ]
    }
   ],
   "source": [
    "df_all_ftrs = addFieldDataFtrs(df_all, shiftPeriod=12, shiftFtrs=['temperature', 'dewpoint', 'windspeed', \n",
    "                                                                 'Precipitation', 'Soilwater_L1', \n",
    "                                                                 'Soilwater_L2', 'Soilwater_L3', \n",
    "                                                                 'Soilwater_L4'])\n",
    "#df_all_ftrs = addSoilFtrs(df_all_ftrs)\n",
    "print(list(df_all_ftrs.columns))"
   ]
  },
  {
   "cell_type": "code",
   "execution_count": 28,
   "metadata": {
    "scrolled": true
   },
   "outputs": [
    {
     "data": {
      "text/html": [
       "<div>\n",
       "<style scoped>\n",
       "    .dataframe tbody tr th:only-of-type {\n",
       "        vertical-align: middle;\n",
       "    }\n",
       "\n",
       "    .dataframe tbody tr th {\n",
       "        vertical-align: top;\n",
       "    }\n",
       "\n",
       "    .dataframe thead th {\n",
       "        text-align: right;\n",
       "    }\n",
       "</style>\n",
       "<table border=\"1\" class=\"dataframe\">\n",
       "  <thead>\n",
       "    <tr style=\"text-align: right;\">\n",
       "      <th></th>\n",
       "      <th>index</th>\n",
       "      <th>Id</th>\n",
       "      <th>field</th>\n",
       "      <th>age</th>\n",
       "      <th>type</th>\n",
       "      <th>harvest_year</th>\n",
       "      <th>harvest_month</th>\n",
       "      <th>production</th>\n",
       "      <th>temperature</th>\n",
       "      <th>dewpoint</th>\n",
       "      <th>...</th>\n",
       "      <th>Soilwater_L4_2</th>\n",
       "      <th>Soilwater_L4_3</th>\n",
       "      <th>Soilwater_L4_4</th>\n",
       "      <th>Soilwater_L4_5</th>\n",
       "      <th>Soilwater_L4_6</th>\n",
       "      <th>Soilwater_L4_7</th>\n",
       "      <th>Soilwater_L4_8</th>\n",
       "      <th>Soilwater_L4_9</th>\n",
       "      <th>Soilwater_L4_10</th>\n",
       "      <th>Soilwater_L4_11</th>\n",
       "    </tr>\n",
       "  </thead>\n",
       "  <tbody>\n",
       "    <tr>\n",
       "      <th>0</th>\n",
       "      <td>0</td>\n",
       "      <td>0</td>\n",
       "      <td>0</td>\n",
       "      <td>19</td>\n",
       "      <td>5</td>\n",
       "      <td>2004</td>\n",
       "      <td>1</td>\n",
       "      <td>0.064071</td>\n",
       "      <td>26.132</td>\n",
       "      <td>24.661</td>\n",
       "      <td>...</td>\n",
       "      <td>0.314165</td>\n",
       "      <td>0.314165</td>\n",
       "      <td>0.314165</td>\n",
       "      <td>0.314165</td>\n",
       "      <td>0.314165</td>\n",
       "      <td>0.314165</td>\n",
       "      <td>0.314165</td>\n",
       "      <td>0.314165</td>\n",
       "      <td>0.314165</td>\n",
       "      <td>0.314165</td>\n",
       "    </tr>\n",
       "    <tr>\n",
       "      <th>1</th>\n",
       "      <td>1</td>\n",
       "      <td>1532</td>\n",
       "      <td>0</td>\n",
       "      <td>13</td>\n",
       "      <td>2</td>\n",
       "      <td>2004</td>\n",
       "      <td>1</td>\n",
       "      <td>0.283228</td>\n",
       "      <td>26.132</td>\n",
       "      <td>24.661</td>\n",
       "      <td>...</td>\n",
       "      <td>0.314165</td>\n",
       "      <td>0.314165</td>\n",
       "      <td>0.314165</td>\n",
       "      <td>0.314165</td>\n",
       "      <td>0.314165</td>\n",
       "      <td>0.314165</td>\n",
       "      <td>0.314165</td>\n",
       "      <td>0.314165</td>\n",
       "      <td>0.314165</td>\n",
       "      <td>0.314165</td>\n",
       "    </tr>\n",
       "    <tr>\n",
       "      <th>2</th>\n",
       "      <td>2</td>\n",
       "      <td>4204</td>\n",
       "      <td>0</td>\n",
       "      <td>4</td>\n",
       "      <td>5</td>\n",
       "      <td>2004</td>\n",
       "      <td>1</td>\n",
       "      <td>0.106263</td>\n",
       "      <td>26.132</td>\n",
       "      <td>24.661</td>\n",
       "      <td>...</td>\n",
       "      <td>0.314165</td>\n",
       "      <td>0.314165</td>\n",
       "      <td>0.314165</td>\n",
       "      <td>0.314165</td>\n",
       "      <td>0.314165</td>\n",
       "      <td>0.314165</td>\n",
       "      <td>0.314165</td>\n",
       "      <td>0.314165</td>\n",
       "      <td>0.314165</td>\n",
       "      <td>0.314165</td>\n",
       "    </tr>\n",
       "    <tr>\n",
       "      <th>3</th>\n",
       "      <td>3</td>\n",
       "      <td>1</td>\n",
       "      <td>0</td>\n",
       "      <td>19</td>\n",
       "      <td>5</td>\n",
       "      <td>2004</td>\n",
       "      <td>2</td>\n",
       "      <td>0.047658</td>\n",
       "      <td>25.295</td>\n",
       "      <td>24.401</td>\n",
       "      <td>...</td>\n",
       "      <td>0.314165</td>\n",
       "      <td>0.314165</td>\n",
       "      <td>0.314165</td>\n",
       "      <td>0.314165</td>\n",
       "      <td>0.314165</td>\n",
       "      <td>0.314165</td>\n",
       "      <td>0.314165</td>\n",
       "      <td>0.314165</td>\n",
       "      <td>0.314165</td>\n",
       "      <td>0.314165</td>\n",
       "    </tr>\n",
       "    <tr>\n",
       "      <th>4</th>\n",
       "      <td>4</td>\n",
       "      <td>1533</td>\n",
       "      <td>0</td>\n",
       "      <td>13</td>\n",
       "      <td>2</td>\n",
       "      <td>2004</td>\n",
       "      <td>2</td>\n",
       "      <td>0.182068</td>\n",
       "      <td>25.295</td>\n",
       "      <td>24.401</td>\n",
       "      <td>...</td>\n",
       "      <td>0.314165</td>\n",
       "      <td>0.314165</td>\n",
       "      <td>0.314165</td>\n",
       "      <td>0.314165</td>\n",
       "      <td>0.314165</td>\n",
       "      <td>0.314165</td>\n",
       "      <td>0.314165</td>\n",
       "      <td>0.314165</td>\n",
       "      <td>0.314165</td>\n",
       "      <td>0.314165</td>\n",
       "    </tr>\n",
       "  </tbody>\n",
       "</table>\n",
       "<p>5 rows × 104 columns</p>\n",
       "</div>"
      ],
      "text/plain": [
       "   index    Id  field  age  type  harvest_year  harvest_month  production  \\\n",
       "0      0     0      0   19     5          2004              1    0.064071   \n",
       "1      1  1532      0   13     2          2004              1    0.283228   \n",
       "2      2  4204      0    4     5          2004              1    0.106263   \n",
       "3      3     1      0   19     5          2004              2    0.047658   \n",
       "4      4  1533      0   13     2          2004              2    0.182068   \n",
       "\n",
       "   temperature  dewpoint       ...         Soilwater_L4_2  Soilwater_L4_3  \\\n",
       "0       26.132    24.661       ...               0.314165        0.314165   \n",
       "1       26.132    24.661       ...               0.314165        0.314165   \n",
       "2       26.132    24.661       ...               0.314165        0.314165   \n",
       "3       25.295    24.401       ...               0.314165        0.314165   \n",
       "4       25.295    24.401       ...               0.314165        0.314165   \n",
       "\n",
       "   Soilwater_L4_4  Soilwater_L4_5  Soilwater_L4_6  Soilwater_L4_7  \\\n",
       "0        0.314165        0.314165        0.314165        0.314165   \n",
       "1        0.314165        0.314165        0.314165        0.314165   \n",
       "2        0.314165        0.314165        0.314165        0.314165   \n",
       "3        0.314165        0.314165        0.314165        0.314165   \n",
       "4        0.314165        0.314165        0.314165        0.314165   \n",
       "\n",
       "   Soilwater_L4_8  Soilwater_L4_9  Soilwater_L4_10  Soilwater_L4_11  \n",
       "0        0.314165        0.314165         0.314165         0.314165  \n",
       "1        0.314165        0.314165         0.314165         0.314165  \n",
       "2        0.314165        0.314165         0.314165         0.314165  \n",
       "3        0.314165        0.314165         0.314165         0.314165  \n",
       "4        0.314165        0.314165         0.314165         0.314165  \n",
       "\n",
       "[5 rows x 104 columns]"
      ]
     },
     "execution_count": 28,
     "metadata": {},
     "output_type": "execute_result"
    }
   ],
   "source": [
    "df_all_ftrs.head()"
   ]
  },
  {
   "cell_type": "code",
   "execution_count": 29,
   "metadata": {},
   "outputs": [
    {
     "name": "stdout",
     "output_type": "stream",
     "text": [
      "['harvest_year', 'temperature', 'dewpoint', 'windspeed', 'Soilwater_L1', 'Soilwater_L2', 'Soilwater_L3', 'Soilwater_L4', 'Precipitation', 'temperature_1', 'temperature_2', 'temperature_3', 'temperature_4', 'temperature_5', 'temperature_6', 'temperature_7', 'temperature_8', 'temperature_9', 'temperature_10', 'temperature_11', 'dewpoint_1', 'dewpoint_2', 'dewpoint_3', 'dewpoint_4', 'dewpoint_5', 'dewpoint_6', 'dewpoint_7', 'dewpoint_8', 'dewpoint_9', 'dewpoint_10', 'dewpoint_11', 'windspeed_1', 'windspeed_2', 'windspeed_3', 'windspeed_4', 'windspeed_5', 'windspeed_6', 'windspeed_7', 'windspeed_8', 'windspeed_9', 'windspeed_10', 'windspeed_11', 'Precipitation_1', 'Precipitation_2', 'Precipitation_3', 'Precipitation_4', 'Precipitation_5', 'Precipitation_6', 'Precipitation_7', 'Precipitation_8', 'Precipitation_9', 'Precipitation_10', 'Precipitation_11', 'Soilwater_L1_1', 'Soilwater_L1_2', 'Soilwater_L1_3', 'Soilwater_L1_4', 'Soilwater_L1_5', 'Soilwater_L1_6', 'Soilwater_L1_7', 'Soilwater_L1_8', 'Soilwater_L1_9', 'Soilwater_L1_10', 'Soilwater_L1_11', 'Soilwater_L2_1', 'Soilwater_L2_2', 'Soilwater_L2_3', 'Soilwater_L2_4', 'Soilwater_L2_5', 'Soilwater_L2_6', 'Soilwater_L2_7', 'Soilwater_L2_8', 'Soilwater_L2_9', 'Soilwater_L2_10', 'Soilwater_L2_11', 'Soilwater_L3_1', 'Soilwater_L3_2', 'Soilwater_L3_3', 'Soilwater_L3_4', 'Soilwater_L3_5', 'Soilwater_L3_6', 'Soilwater_L3_7', 'Soilwater_L3_8', 'Soilwater_L3_9', 'Soilwater_L3_10', 'Soilwater_L3_11', 'Soilwater_L4_1', 'Soilwater_L4_2', 'Soilwater_L4_3', 'Soilwater_L4_4', 'Soilwater_L4_5', 'Soilwater_L4_6', 'Soilwater_L4_7', 'Soilwater_L4_8', 'Soilwater_L4_9', 'Soilwater_L4_10', 'Soilwater_L4_11']\n"
     ]
    }
   ],
   "source": [
    "# Categorical features.\n",
    "cat_ftrs = ['field', 'age', 'type', 'harvest_month']\n",
    "# Continuous features.\n",
    "contin_ftrs = [f for f in df_all_ftrs.columns if f not in (['production', 'Id', 'index'] + cat_ftrs)]\n",
    "print(contin_ftrs)"
   ]
  },
  {
   "cell_type": "code",
   "execution_count": 30,
   "metadata": {},
   "outputs": [
    {
     "data": {
      "text/html": [
       "<div>\n",
       "<style scoped>\n",
       "    .dataframe tbody tr th:only-of-type {\n",
       "        vertical-align: middle;\n",
       "    }\n",
       "\n",
       "    .dataframe tbody tr th {\n",
       "        vertical-align: top;\n",
       "    }\n",
       "\n",
       "    .dataframe thead th {\n",
       "        text-align: right;\n",
       "    }\n",
       "</style>\n",
       "<table border=\"1\" class=\"dataframe\">\n",
       "  <thead>\n",
       "    <tr style=\"text-align: right;\">\n",
       "      <th></th>\n",
       "      <th>field</th>\n",
       "      <th>age</th>\n",
       "      <th>type</th>\n",
       "      <th>harvest_month</th>\n",
       "      <th>harvest_year</th>\n",
       "      <th>temperature</th>\n",
       "      <th>dewpoint</th>\n",
       "      <th>windspeed</th>\n",
       "      <th>Soilwater_L1</th>\n",
       "      <th>Soilwater_L2</th>\n",
       "      <th>...</th>\n",
       "      <th>Soilwater_L4_4</th>\n",
       "      <th>Soilwater_L4_5</th>\n",
       "      <th>Soilwater_L4_6</th>\n",
       "      <th>Soilwater_L4_7</th>\n",
       "      <th>Soilwater_L4_8</th>\n",
       "      <th>Soilwater_L4_9</th>\n",
       "      <th>Soilwater_L4_10</th>\n",
       "      <th>Soilwater_L4_11</th>\n",
       "      <th>production</th>\n",
       "      <th>Id</th>\n",
       "    </tr>\n",
       "  </thead>\n",
       "  <tbody>\n",
       "    <tr>\n",
       "      <th>0</th>\n",
       "      <td>0</td>\n",
       "      <td>19</td>\n",
       "      <td>5</td>\n",
       "      <td>1</td>\n",
       "      <td>2004</td>\n",
       "      <td>26.132</td>\n",
       "      <td>24.661</td>\n",
       "      <td>1.8766</td>\n",
       "      <td>0.35274</td>\n",
       "      <td>0.35192</td>\n",
       "      <td>...</td>\n",
       "      <td>0.314165</td>\n",
       "      <td>0.314165</td>\n",
       "      <td>0.314165</td>\n",
       "      <td>0.314165</td>\n",
       "      <td>0.314165</td>\n",
       "      <td>0.314165</td>\n",
       "      <td>0.314165</td>\n",
       "      <td>0.314165</td>\n",
       "      <td>0.064071</td>\n",
       "      <td>0</td>\n",
       "    </tr>\n",
       "    <tr>\n",
       "      <th>1</th>\n",
       "      <td>0</td>\n",
       "      <td>13</td>\n",
       "      <td>2</td>\n",
       "      <td>1</td>\n",
       "      <td>2004</td>\n",
       "      <td>26.132</td>\n",
       "      <td>24.661</td>\n",
       "      <td>1.8766</td>\n",
       "      <td>0.35274</td>\n",
       "      <td>0.35192</td>\n",
       "      <td>...</td>\n",
       "      <td>0.314165</td>\n",
       "      <td>0.314165</td>\n",
       "      <td>0.314165</td>\n",
       "      <td>0.314165</td>\n",
       "      <td>0.314165</td>\n",
       "      <td>0.314165</td>\n",
       "      <td>0.314165</td>\n",
       "      <td>0.314165</td>\n",
       "      <td>0.283228</td>\n",
       "      <td>1532</td>\n",
       "    </tr>\n",
       "  </tbody>\n",
       "</table>\n",
       "<p>2 rows × 103 columns</p>\n",
       "</div>"
      ],
      "text/plain": [
       "   field  age  type  harvest_month  harvest_year  temperature  dewpoint  \\\n",
       "0      0   19     5              1          2004       26.132    24.661   \n",
       "1      0   13     2              1          2004       26.132    24.661   \n",
       "\n",
       "   windspeed  Soilwater_L1  Soilwater_L2  ...   Soilwater_L4_4  \\\n",
       "0     1.8766       0.35274       0.35192  ...         0.314165   \n",
       "1     1.8766       0.35274       0.35192  ...         0.314165   \n",
       "\n",
       "   Soilwater_L4_5  Soilwater_L4_6  Soilwater_L4_7  Soilwater_L4_8  \\\n",
       "0        0.314165        0.314165        0.314165        0.314165   \n",
       "1        0.314165        0.314165        0.314165        0.314165   \n",
       "\n",
       "   Soilwater_L4_9  Soilwater_L4_10  Soilwater_L4_11  production    Id  \n",
       "0        0.314165         0.314165         0.314165    0.064071     0  \n",
       "1        0.314165         0.314165         0.314165    0.283228  1532  \n",
       "\n",
       "[2 rows x 103 columns]"
      ]
     },
     "execution_count": 30,
     "metadata": {},
     "output_type": "execute_result"
    }
   ],
   "source": [
    "# Remove unused features.\n",
    "df_all_ftrs = df_all_ftrs[cat_ftrs + contin_ftrs + ['production', 'Id']]\n",
    "df_all_ftrs.head(2)"
   ]
  },
  {
   "cell_type": "code",
   "execution_count": 31,
   "metadata": {},
   "outputs": [
    {
     "data": {
      "text/html": [
       "<div>\n",
       "<style scoped>\n",
       "    .dataframe tbody tr th:only-of-type {\n",
       "        vertical-align: middle;\n",
       "    }\n",
       "\n",
       "    .dataframe tbody tr th {\n",
       "        vertical-align: top;\n",
       "    }\n",
       "\n",
       "    .dataframe thead th {\n",
       "        text-align: right;\n",
       "    }\n",
       "</style>\n",
       "<table border=\"1\" class=\"dataframe\">\n",
       "  <thead>\n",
       "    <tr style=\"text-align: right;\">\n",
       "      <th></th>\n",
       "      <th>field</th>\n",
       "      <th>age</th>\n",
       "      <th>type</th>\n",
       "      <th>harvest_month</th>\n",
       "      <th>harvest_year</th>\n",
       "      <th>temperature</th>\n",
       "      <th>dewpoint</th>\n",
       "      <th>windspeed</th>\n",
       "      <th>Soilwater_L1</th>\n",
       "      <th>Soilwater_L2</th>\n",
       "      <th>...</th>\n",
       "      <th>Soilwater_L4_4</th>\n",
       "      <th>Soilwater_L4_5</th>\n",
       "      <th>Soilwater_L4_6</th>\n",
       "      <th>Soilwater_L4_7</th>\n",
       "      <th>Soilwater_L4_8</th>\n",
       "      <th>Soilwater_L4_9</th>\n",
       "      <th>Soilwater_L4_10</th>\n",
       "      <th>Soilwater_L4_11</th>\n",
       "      <th>production</th>\n",
       "      <th>Id</th>\n",
       "    </tr>\n",
       "  </thead>\n",
       "  <tbody>\n",
       "    <tr>\n",
       "      <th>0</th>\n",
       "      <td>0</td>\n",
       "      <td>19</td>\n",
       "      <td>5</td>\n",
       "      <td>1</td>\n",
       "      <td>2004.0</td>\n",
       "      <td>26.132</td>\n",
       "      <td>24.660999</td>\n",
       "      <td>1.8766</td>\n",
       "      <td>0.35274</td>\n",
       "      <td>0.35192</td>\n",
       "      <td>...</td>\n",
       "      <td>0.314165</td>\n",
       "      <td>0.314165</td>\n",
       "      <td>0.314165</td>\n",
       "      <td>0.314165</td>\n",
       "      <td>0.314165</td>\n",
       "      <td>0.314165</td>\n",
       "      <td>0.314165</td>\n",
       "      <td>0.314165</td>\n",
       "      <td>0.064071</td>\n",
       "      <td>0</td>\n",
       "    </tr>\n",
       "    <tr>\n",
       "      <th>1</th>\n",
       "      <td>0</td>\n",
       "      <td>13</td>\n",
       "      <td>2</td>\n",
       "      <td>1</td>\n",
       "      <td>2004.0</td>\n",
       "      <td>26.132</td>\n",
       "      <td>24.660999</td>\n",
       "      <td>1.8766</td>\n",
       "      <td>0.35274</td>\n",
       "      <td>0.35192</td>\n",
       "      <td>...</td>\n",
       "      <td>0.314165</td>\n",
       "      <td>0.314165</td>\n",
       "      <td>0.314165</td>\n",
       "      <td>0.314165</td>\n",
       "      <td>0.314165</td>\n",
       "      <td>0.314165</td>\n",
       "      <td>0.314165</td>\n",
       "      <td>0.314165</td>\n",
       "      <td>0.283228</td>\n",
       "      <td>1532</td>\n",
       "    </tr>\n",
       "  </tbody>\n",
       "</table>\n",
       "<p>2 rows × 103 columns</p>\n",
       "</div>"
      ],
      "text/plain": [
       "  field age type harvest_month  harvest_year  temperature   dewpoint  \\\n",
       "0     0  19    5             1        2004.0       26.132  24.660999   \n",
       "1     0  13    2             1        2004.0       26.132  24.660999   \n",
       "\n",
       "   windspeed  Soilwater_L1  Soilwater_L2  ...   Soilwater_L4_4  \\\n",
       "0     1.8766       0.35274       0.35192  ...         0.314165   \n",
       "1     1.8766       0.35274       0.35192  ...         0.314165   \n",
       "\n",
       "   Soilwater_L4_5  Soilwater_L4_6  Soilwater_L4_7  Soilwater_L4_8  \\\n",
       "0        0.314165        0.314165        0.314165        0.314165   \n",
       "1        0.314165        0.314165        0.314165        0.314165   \n",
       "\n",
       "   Soilwater_L4_9  Soilwater_L4_10  Soilwater_L4_11  production    Id  \n",
       "0        0.314165         0.314165         0.314165    0.064071     0  \n",
       "1        0.314165         0.314165         0.314165    0.283228  1532  \n",
       "\n",
       "[2 rows x 103 columns]"
      ]
     },
     "execution_count": 31,
     "metadata": {},
     "output_type": "execute_result"
    }
   ],
   "source": [
    "# Inform pandas which features are categorical ...\n",
    "for v in cat_ftrs:\n",
    "    df_all_ftrs[v] = df_all_ftrs[v].astype('category').cat.as_ordered()\n",
    "# ... and which are continuous.\n",
    "for v in contin_ftrs:\n",
    "    df_all_ftrs[v] = df_all_ftrs[v].astype('float32')\n",
    "\n",
    "df_all_ftrs.head(2)"
   ]
  },
  {
   "cell_type": "code",
   "execution_count": 32,
   "metadata": {},
   "outputs": [],
   "source": [
    "# Split test and train data.\n",
    "df_test = df_all_ftrs[df_all_ftrs.production.isna()]\n",
    "df_all_ftrs = df_all_ftrs[~df_all_ftrs.production.isna()]"
   ]
  },
  {
   "cell_type": "code",
   "execution_count": 33,
   "metadata": {
    "scrolled": false
   },
   "outputs": [],
   "source": [
    "# val_year = 2010\n",
    "\n",
    "# val_idx = np.flatnonzero(df_all_ftrs.harvest_year >= val_year)\n",
    "# print(len(val_idx))\n",
    "# print(len(df_all_ftrs))"
   ]
  },
  {
   "cell_type": "code",
   "execution_count": 34,
   "metadata": {},
   "outputs": [],
   "source": [
    "test_ids = df_test['Id']"
   ]
  },
  {
   "cell_type": "code",
   "execution_count": 35,
   "metadata": {},
   "outputs": [
    {
     "data": {
      "text/html": [
       "<div>\n",
       "<style scoped>\n",
       "    .dataframe tbody tr th:only-of-type {\n",
       "        vertical-align: middle;\n",
       "    }\n",
       "\n",
       "    .dataframe tbody tr th {\n",
       "        vertical-align: top;\n",
       "    }\n",
       "\n",
       "    .dataframe thead th {\n",
       "        text-align: right;\n",
       "    }\n",
       "</style>\n",
       "<table border=\"1\" class=\"dataframe\">\n",
       "  <thead>\n",
       "    <tr style=\"text-align: right;\">\n",
       "      <th></th>\n",
       "      <th>field</th>\n",
       "      <th>age</th>\n",
       "      <th>type</th>\n",
       "      <th>harvest_month</th>\n",
       "      <th>harvest_year</th>\n",
       "      <th>temperature</th>\n",
       "      <th>dewpoint</th>\n",
       "      <th>windspeed</th>\n",
       "      <th>Soilwater_L1</th>\n",
       "      <th>Soilwater_L2</th>\n",
       "      <th>...</th>\n",
       "      <th>Soilwater_L4_2</th>\n",
       "      <th>Soilwater_L4_3</th>\n",
       "      <th>Soilwater_L4_4</th>\n",
       "      <th>Soilwater_L4_5</th>\n",
       "      <th>Soilwater_L4_6</th>\n",
       "      <th>Soilwater_L4_7</th>\n",
       "      <th>Soilwater_L4_8</th>\n",
       "      <th>Soilwater_L4_9</th>\n",
       "      <th>Soilwater_L4_10</th>\n",
       "      <th>Soilwater_L4_11</th>\n",
       "    </tr>\n",
       "  </thead>\n",
       "  <tbody>\n",
       "    <tr>\n",
       "      <th>0</th>\n",
       "      <td>1</td>\n",
       "      <td>17</td>\n",
       "      <td>7</td>\n",
       "      <td>1</td>\n",
       "      <td>-1.626713</td>\n",
       "      <td>-1.014467</td>\n",
       "      <td>0.894659</td>\n",
       "      <td>-0.616689</td>\n",
       "      <td>0.894475</td>\n",
       "      <td>0.896105</td>\n",
       "      <td>...</td>\n",
       "      <td>-0.117815</td>\n",
       "      <td>-0.128899</td>\n",
       "      <td>-0.137128</td>\n",
       "      <td>-0.144918</td>\n",
       "      <td>-0.144076</td>\n",
       "      <td>-0.142981</td>\n",
       "      <td>-0.137557</td>\n",
       "      <td>-0.12906</td>\n",
       "      <td>-0.117197</td>\n",
       "      <td>-0.101698</td>\n",
       "    </tr>\n",
       "    <tr>\n",
       "      <th>1</th>\n",
       "      <td>1</td>\n",
       "      <td>11</td>\n",
       "      <td>4</td>\n",
       "      <td>1</td>\n",
       "      <td>-1.626713</td>\n",
       "      <td>-1.014467</td>\n",
       "      <td>0.894659</td>\n",
       "      <td>-0.616689</td>\n",
       "      <td>0.894475</td>\n",
       "      <td>0.896105</td>\n",
       "      <td>...</td>\n",
       "      <td>-0.117815</td>\n",
       "      <td>-0.128899</td>\n",
       "      <td>-0.137128</td>\n",
       "      <td>-0.144918</td>\n",
       "      <td>-0.144076</td>\n",
       "      <td>-0.142981</td>\n",
       "      <td>-0.137557</td>\n",
       "      <td>-0.12906</td>\n",
       "      <td>-0.117197</td>\n",
       "      <td>-0.101698</td>\n",
       "    </tr>\n",
       "  </tbody>\n",
       "</table>\n",
       "<p>2 rows × 101 columns</p>\n",
       "</div>"
      ],
      "text/plain": [
       "   field  age  type  harvest_month  harvest_year  temperature  dewpoint  \\\n",
       "0      1   17     7              1     -1.626713    -1.014467  0.894659   \n",
       "1      1   11     4              1     -1.626713    -1.014467  0.894659   \n",
       "\n",
       "   windspeed  Soilwater_L1  Soilwater_L2       ...         Soilwater_L4_2  \\\n",
       "0  -0.616689      0.894475      0.896105       ...              -0.117815   \n",
       "1  -0.616689      0.894475      0.896105       ...              -0.117815   \n",
       "\n",
       "   Soilwater_L4_3  Soilwater_L4_4  Soilwater_L4_5  Soilwater_L4_6  \\\n",
       "0       -0.128899       -0.137128       -0.144918       -0.144076   \n",
       "1       -0.128899       -0.137128       -0.144918       -0.144076   \n",
       "\n",
       "   Soilwater_L4_7  Soilwater_L4_8  Soilwater_L4_9  Soilwater_L4_10  \\\n",
       "0       -0.142981       -0.137557        -0.12906        -0.117197   \n",
       "1       -0.142981       -0.137557        -0.12906        -0.117197   \n",
       "\n",
       "   Soilwater_L4_11  \n",
       "0        -0.101698  \n",
       "1        -0.101698  \n",
       "\n",
       "[2 rows x 101 columns]"
      ]
     },
     "execution_count": 35,
     "metadata": {},
     "output_type": "execute_result"
    }
   ],
   "source": [
    "df, y, nas, mapper = proc_df(df_all_ftrs, y_fld='production', do_scale=True, skip_flds=['Id'])\n",
    "df.head(2)"
   ]
  },
  {
   "cell_type": "code",
   "execution_count": 36,
   "metadata": {},
   "outputs": [],
   "source": [
    "df_test, _, nas, mapper = proc_df(df_test, y_fld='production', do_scale=True, \n",
    "                                  mapper=mapper, na_dict=nas, skip_flds=['Id'])"
   ]
  },
  {
   "cell_type": "code",
   "execution_count": 37,
   "metadata": {
    "scrolled": false
   },
   "outputs": [
    {
     "name": "stdout",
     "output_type": "stream",
     "text": [
      "[('field', 29), ('age', 29), ('type', 10), ('harvest_month', 13)]\n",
      "[(29, 15), (29, 15), (10, 5), (13, 7)]\n"
     ]
    }
   ],
   "source": [
    "cat_sz = [(c, len(df_all_ftrs[c].cat.categories)+1) for c in cat_ftrs]\n",
    "print(cat_sz)\n",
    "emb_szs = [(c, min(50, (c+1)//2)) for _,c in cat_sz]\n",
    "print(emb_szs)"
   ]
  },
  {
   "cell_type": "code",
   "execution_count": 38,
   "metadata": {},
   "outputs": [],
   "source": [
    "md = ColumnarModelData.from_data_frame(path, # path for data saving\n",
    "                                       [0], # indexes of validation examples\n",
    "                                       df, # training data\n",
    "                                       y.astype(np.float32), # output variable\n",
    "                                       cat_flds=cat_ftrs, # categorical features\n",
    "                                       bs=16, # batch size\n",
    "                                       test_df=df_test) # test dataframe"
   ]
  },
  {
   "cell_type": "code",
   "execution_count": 47,
   "metadata": {},
   "outputs": [
    {
     "data": {
      "application/vnd.jupyter.widget-view+json": {
       "model_id": "dc3641deedc342bba823ca45ec7b02e2",
       "version_major": 2,
       "version_minor": 0
      },
      "text/plain": [
       "HBox(children=(IntProgress(value=0, description='Epoch', max=30), HTML(value='')))"
      ]
     },
     "metadata": {},
     "output_type": "display_data"
    },
    {
     "name": "stdout",
     "output_type": "stream",
     "text": [
      "epoch      trn_loss   val_loss   mean_absolute_error         \n",
      "    0      3.753462   0.010861   0.104216  \n",
      "    1      1.847977   3.2e-05    0.005686                    \n",
      "    2      1.578826   0.000744   0.027282                    \n",
      "    3      0.624746   0.012064   0.109836                     \n",
      "    4      0.287173   0.00453    0.067307                     \n",
      "    5      0.249064   0.006223   0.078888                     \n",
      "    6      0.089115   0.0        0.000337                      \n",
      "    7      0.045546   3.7e-05    0.006068                      \n",
      "    8      0.044852   0.000153   0.012365                      \n",
      "    9      0.024694   0.000395   0.01988                       \n",
      "    10     0.019475   8.1e-05    0.008976                      \n",
      "    11     0.018456   0.000543   0.023305                      \n",
      "    12     0.017863   0.001246   0.035292                      \n",
      "    13     0.015991   0.002055   0.045329                      \n",
      "    14     0.016008   0.002203   0.046934                      \n",
      "    15     0.019167   0.003039   0.055128                      \n",
      "    16     0.016661   0.002002   0.044747                      \n",
      "    17     0.016375   0.00355    0.05958                       \n",
      "    18     0.016592   0.01023    0.101143                      \n",
      "    19     0.015819   0.005667   0.075281                      \n",
      "    20     0.014753   0.003629   0.060239                      \n",
      "    21     0.018024   0.004282   0.065437                      \n",
      "    22     0.019      0.00592    0.07694                       \n",
      "    23     0.016685   0.005647   0.075149                      \n",
      "    24     0.018301   0.007708   0.087798                      \n",
      "    25     0.019199   0.00979    0.098943                      \n",
      "    26     0.016165   0.008985   0.094789                      \n",
      "    27     0.017122   0.007279   0.085314                      \n",
      "    28     0.017297   0.006729   0.082031                      \n",
      "    29     0.01776    0.008694   0.093243                      \n"
     ]
    },
    {
     "data": {
      "text/plain": [
       "[array([0.00869]), 0.09324287623167038]"
      ]
     },
     "execution_count": 47,
     "metadata": {},
     "output_type": "execute_result"
    }
   ],
   "source": [
    "# dropout rate\n",
    "dr = 0.3\n",
    "\n",
    "learner_params = {\n",
    "    \"emb_szs\": emb_szs, # embedding sizes\n",
    "    \"n_cont\": len(df.columns) - len(cat_ftrs), # num continuous inputs\n",
    "    \"emb_drop\": dr, # embeddings dropout probability\n",
    "    \"out_sz\": 1, # output size\n",
    "    \"szs\": [300, 100], # sizes of fully-connected layers\n",
    "    \"drops\": [dr, dr], # dropout probabilities after each FC layer\n",
    "    \"use_bn\": False # batch normalization\n",
    "}\n",
    "\n",
    "m = md.get_learner(**learner_params)\n",
    "\n",
    "load_model_ignoring(m, 'pretrain-noiser-trn075-val089')\n",
    "\n",
    "m.freeze_to(-1)\n",
    "\n",
    "lr = 1e-3\n",
    "m.fit(lr, 10, cycle_len=3, metrics=[metrics.mean_absolute_error])"
   ]
  },
  {
   "cell_type": "code",
   "execution_count": 48,
   "metadata": {},
   "outputs": [],
   "source": [
    "m.save('fastai-finetuned-trainall-noise2-trn017')"
   ]
  },
  {
   "cell_type": "code",
   "execution_count": 50,
   "metadata": {},
   "outputs": [
    {
     "data": {
      "application/vnd.jupyter.widget-view+json": {
       "model_id": "2794c92a55e6491e80b60d80efc60d71",
       "version_major": 2,
       "version_minor": 0
      },
      "text/plain": [
       "HBox(children=(IntProgress(value=0, description='Epoch', max=30), HTML(value='')))"
      ]
     },
     "metadata": {},
     "output_type": "display_data"
    },
    {
     "name": "stdout",
     "output_type": "stream",
     "text": [
      "epoch      trn_loss   val_loss   mean_absolute_error           \n",
      "    0      0.017061   0.000995   0.031542  \n",
      "    1      0.014334   0.005615   0.074931                      \n",
      "    2      0.017632   0.007493   0.086561                      \n",
      "    3      0.016827   0.005531   0.07437                       \n",
      "    4      0.015      0.006685   0.081761                      \n",
      "    5      0.014052   0.00595    0.077137                      \n",
      "    6      0.015403   0.002725   0.0522                        \n",
      "    7      0.013188   0.003956   0.062894                      \n",
      "    8      0.013214   0.005501   0.074167                      \n",
      "    9      0.016411   0.003442   0.058668                      \n",
      "    10     0.014047   0.002701   0.051973                      \n",
      "    11     0.012123   0.005726   0.075674                      \n",
      "    12     0.013782   0.006318   0.079487                      \n",
      "    13     0.013137   0.009074   0.095259                      \n",
      "    14     0.012415   0.006557   0.080978                      \n",
      "    15     0.013973   0.005755   0.075863                      \n",
      "    16     0.013235   0.005733   0.075718                      \n",
      "    17     0.011722   0.007154   0.084584                      \n",
      "    18     0.012504   0.006233   0.078951                      \n",
      "    19     0.011358   0.004821   0.069435                      \n",
      "    20     0.01294    0.006572   0.081068                      \n",
      "    21     0.013259   0.001411   0.03756                       \n",
      "    22     0.012913   0.009973   0.099867                      \n",
      "    23     0.012944   0.00782    0.088432                      \n",
      "    24     0.012189   0.005299   0.072796                      \n",
      "    25     0.011618   0.008824   0.093937                      \n",
      "    26     0.011097   0.007017   0.083767                       \n",
      "    27     0.011372   0.005738   0.075747                      \n",
      "    28     0.010527   0.00621    0.078806                      \n",
      "    29     0.010358   0.006838   0.082689                      \n"
     ]
    },
    {
     "data": {
      "text/plain": [
       "[array([0.00684]), 0.08268933743238449]"
      ]
     },
     "execution_count": 50,
     "metadata": {},
     "output_type": "execute_result"
    }
   ],
   "source": [
    "# dropout rate\n",
    "dr = 0.3\n",
    "\n",
    "learner_params = {\n",
    "    \"emb_szs\": emb_szs, # embedding sizes\n",
    "    \"n_cont\": len(df.columns) - len(cat_ftrs), # num continuous inputs\n",
    "    \"emb_drop\": dr, # embeddings dropout probability\n",
    "    \"out_sz\": 1, # output size\n",
    "    \"szs\": [300, 100], # sizes of fully-connected layers\n",
    "    \"drops\": [dr, dr], # dropout probabilities after each FC layer\n",
    "    \"use_bn\": False # batch normalization\n",
    "}\n",
    "\n",
    "m = md.get_learner(**learner_params)\n",
    "\n",
    "m.load('fastai-finetuned-trainall-noise2-trn017')\n",
    "m.unfreeze()\n",
    "\n",
    "lr=1e-3\n",
    "lrs=[lr/100, lr/10, lr]\n",
    "m.fit(lrs, 10, cycle_len=3, metrics=[metrics.mean_absolute_error])"
   ]
  },
  {
   "cell_type": "code",
   "execution_count": 51,
   "metadata": {},
   "outputs": [],
   "source": [
    "m.save('fastai-finetuned-trainall-noise2-unfreeze-trn010b')"
   ]
  },
  {
   "cell_type": "markdown",
   "metadata": {},
   "source": [
    "## Submission file"
   ]
  },
  {
   "cell_type": "code",
   "execution_count": 52,
   "metadata": {},
   "outputs": [],
   "source": [
    "# dropout rate\n",
    "dr = 0.3\n",
    "\n",
    "learner_params = {\n",
    "    \"emb_szs\": emb_szs, # embedding sizes\n",
    "    \"n_cont\": len(df.columns) - len(cat_ftrs), # num continuous inputs\n",
    "    \"emb_drop\": 0.0, # embeddings dropout probability\n",
    "    \"out_sz\": 1, # output size\n",
    "    \"szs\": [300, 100], # sizes of fully-connected layers\n",
    "    \"drops\": [dr, dr], # dropout probabilities after each FC layer\n",
    "    \"use_bn\": False # batch normalization\n",
    "}\n",
    "\n",
    "m = md.get_learner(**learner_params)\n",
    "\n",
    "m.load('fastai-finetuned-trainall-noise2-unfreeze-trn010b')\n",
    "\n",
    "from datetime import datetime\n",
    "\n",
    "# Make prediction.\n",
    "pred = m.predict(is_test=True).squeeze()\n",
    "\n",
    "now = datetime.now().strftime('%Y-%m-%d-%H-%M-%S-%f')\n",
    "\n",
    "submission_file  = '../submissions/{}.submission.csv'.format(now)\n",
    "model_file       = '../submissions/{}.model'.format(now)\n",
    "\n",
    "# Create a submission file.\n",
    "with open(submission_file, 'w') as f:\n",
    "    f.write(\"Id,production\\n\")\n",
    "    for _id, _pred in zip(test_ids.values, pred):\n",
    "        f.write(\"{},{}\\n\".format(_id, min(1.0, max(0.0, _pred))))\n",
    "\n",
    "# Save model.\n",
    "save_model(m.model, model_file)"
   ]
  }
 ],
 "metadata": {
  "kernelspec": {
   "display_name": "Python 3",
   "language": "python",
   "name": "python3"
  },
  "language_info": {
   "codemirror_mode": {
    "name": "ipython",
    "version": 3
   },
   "file_extension": ".py",
   "mimetype": "text/x-python",
   "name": "python",
   "nbconvert_exporter": "python",
   "pygments_lexer": "ipython3",
   "version": "3.6.6"
  }
 },
 "nbformat": 4,
 "nbformat_minor": 1
}
