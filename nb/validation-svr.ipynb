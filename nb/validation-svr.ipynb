{
 "cells": [
  {
   "cell_type": "markdown",
   "metadata": {
    "_uuid": "4646fdea09654229ea606aa4faffad9cb819398b"
   },
   "source": [
    "# SVM Modeling\n",
    "- Ignoring data before 2006.\n",
    "- Using only type=5 examples.\n",
    "- No feature selection.\n",
    "- Param tuning.\n",
    "- Added back removed features ['Soilwater_L2', 'Soilwater_L3', 'Soilwater_L4']"
   ]
  },
  {
   "cell_type": "code",
   "execution_count": 1,
   "metadata": {
    "_uuid": "35b9298747ec076ac8a9afb81192039880e46f2c"
   },
   "outputs": [],
   "source": [
    "import pandas as pd\n",
    "import numpy as np\n",
    "import os \n",
    "\n",
    "import plotly.plotly as py\n",
    "import plotly.graph_objs as go\n",
    "\n",
    "from datetime import datetime\n",
    "import matplotlib.pyplot as plt\n",
    "import seaborn as sns\n",
    "\n",
    "from kdd_utils import addFieldDataFtrs, addSoilFtrs, cvPerYear\n",
    "\n",
    "sns.set(style=\"whitegrid\")"
   ]
  },
  {
   "cell_type": "markdown",
   "metadata": {
    "_uuid": "5e5a56ed28ca3f0433752b640126d39410d590e7"
   },
   "source": [
    "## Train and test datasets\n",
    "\n",
    "Basic data containing palm tree information"
   ]
  },
  {
   "cell_type": "code",
   "execution_count": 9,
   "metadata": {
    "_uuid": "d26413ead269ebe206f0ac43cda68634d9611199"
   },
   "outputs": [
    {
     "name": "stdout",
     "output_type": "stream",
     "text": [
      "Shapes\n",
      "---\n",
      "Train: (3332, 7)\n",
      " Test: (4110, 6)\n",
      "  All: (7442, 7)\n"
     ]
    }
   ],
   "source": [
    "path = '../input/'\n",
    "\n",
    "# Train data.\n",
    "df_train = pd.read_csv(os.path.join(path, 'train.csv'))\n",
    "\n",
    "# Ignoring date before 2006 for training.\n",
    "df_train = df_train[df_train.harvest_year >= 2006]\n",
    "\n",
    "# Using only examples with type=5 for training.\n",
    "df_train = df_train[df_train.type == 5]\n",
    "\n",
    "# Test data.\n",
    "df_test  = pd.read_csv(os.path.join(path, 'test.csv'))\n",
    "\n",
    "# Merge train and test data for ease of pre-processing.\n",
    "df_all = pd.concat([df_train, df_test], sort=False)\n",
    "\n",
    "print('Shapes\\n---\\nTrain: {}\\n Test: {}\\n  All: {}'.format(df_train.shape, df_test.shape, df_all.shape))"
   ]
  },
  {
   "cell_type": "markdown",
   "metadata": {
    "_uuid": "8163b4159ec67907aa1518f341edf613f4bc7266"
   },
   "source": [
    "## Field and Soil Features\n",
    "\n",
    "These files hold atmospheric data from January 2002 to December 2017, and can be used to estimate the weather conditions during the development of the plant. Notice that weather does influence the production. Using only a single month prior to harvest is probably too little data. Participants should decide how far back in the past they want to look when training models.\n",
    "\n"
   ]
  },
  {
   "cell_type": "code",
   "execution_count": 22,
   "metadata": {
    "_uuid": "c9596d68c59820e59de0b7861c9234712185fdab"
   },
   "outputs": [
    {
     "data": {
      "text/plain": [
       "Index(['index', 'Id', 'field', 'age', 'type', 'harvest_year', 'harvest_month',\n",
       "       'production', 'temperature', 'dewpoint',\n",
       "       ...\n",
       "       'SLTPPT_sl5', 'SLTPPT_sl6', 'SLTPPT_sl7', 'SNDPPT_sl1', 'SNDPPT_sl2',\n",
       "       'SNDPPT_sl3', 'SNDPPT_sl4', 'SNDPPT_sl5', 'SNDPPT_sl6', 'SNDPPT_sl7'],\n",
       "      dtype='object', length=113)"
      ]
     },
     "execution_count": 22,
     "metadata": {},
     "output_type": "execute_result"
    }
   ],
   "source": [
    "df_all_ftrs = addFieldDataFtrs(df_all, shiftPeriod=6)\n",
    "df_all_ftrs = addSoilFtrs(df_all_ftrs)\n",
    "df_all_ftrs.columns"
   ]
  },
  {
   "cell_type": "markdown",
   "metadata": {
    "_uuid": "c8bc92833cda5c6cdd32fefa906f73e403a8eeea"
   },
   "source": [
    "## Base Model \n",
    "\n",
    "Creation of a baseline model to finalize the competition submission pipeline. The idea is to create the most basic for future improvements."
   ]
  },
  {
   "cell_type": "code",
   "execution_count": 11,
   "metadata": {
    "_uuid": "2d75e68144377f9f03c0dbb932831ca011c5c92f"
   },
   "outputs": [],
   "source": [
    "from sklearn.svm import SVR\n",
    "from sklearn.preprocessing import StandardScaler\n",
    "from sklearn.model_selection import cross_validate\n",
    "from sklearn.metrics import mean_absolute_error, make_scorer\n",
    "\n",
    "# Exclude test data.\n",
    "df_train = df_all_ftrs[~df_all_ftrs.production.isna()]\n",
    "\n",
    "# Most important features.\n",
    "features = list(set(df_train.columns) - set(['production', 'date', 'Id', 'index']))\n",
    "\n",
    "# Input and output data.\n",
    "X = df_train[features]\n",
    "y = df_train.production.values\n",
    "\n",
    "# Scaling all data.\n",
    "scaler = StandardScaler()\n",
    "Xt = scaler.fit_transform(X)\n",
    "\n",
    "# Validate\n",
    "base_model = SVR(kernel='linear', C=1e-4)\n",
    "\n",
    "# Validate using sliding window.\n",
    "scores = cross_validate(base_model, Xt, y, scoring={'mae': 'neg_mean_absolute_error', 'r2': 'r2'}, \n",
    "                        cv=cvPerYear(X, y, 2009, 2012, evalOnlyLast=False), \n",
    "                        return_train_score=True)    "
   ]
  },
  {
   "cell_type": "code",
   "execution_count": 12,
   "metadata": {
    "_uuid": "2d75e68144377f9f03c0dbb932831ca011c5c92f",
    "scrolled": true
   },
   "outputs": [
    {
     "name": "stdout",
     "output_type": "stream",
     "text": [
      "{'fit_time': array([0.14046168, 0.22095561, 0.36412144]),\n",
      " 'mean_fit_time': 0.24184624354044595,\n",
      " 'mean_score_time': 0.12325906753540039,\n",
      " 'mean_test_mae': -0.08815613809447542,\n",
      " 'mean_test_r2': 0.33117717259058527,\n",
      " 'mean_train_mae': -0.07618323314522597,\n",
      " 'mean_train_r2': 0.34645939674984033,\n",
      " 'score_time': array([0.14857554, 0.13784242, 0.08335924]),\n",
      " 'test_mae': array([-0.08883867, -0.08470987, -0.09091987]),\n",
      " 'test_r2': array([0.32607277, 0.32508338, 0.34237537]),\n",
      " 'train_mae': array([-0.07546642, -0.07711736, -0.07596592]),\n",
      " 'train_r2': array([0.32257808, 0.34230084, 0.37449927])}\n"
     ]
    }
   ],
   "source": [
    "from pprint import pprint\n",
    "for k in list(scores.keys()):\n",
    "    scores['mean_' + k] = scores[k].mean()\n",
    "pprint(scores)"
   ]
  },
  {
   "cell_type": "markdown",
   "metadata": {},
   "source": [
    "### Grid Search"
   ]
  },
  {
   "cell_type": "code",
   "execution_count": 33,
   "metadata": {
    "scrolled": false
   },
   "outputs": [],
   "source": [
    "from sklearn.svm import SVR\n",
    "from sklearn.preprocessing import StandardScaler\n",
    "from sklearn.model_selection import cross_validate, RandomizedSearchCV, GridSearchCV\n",
    "from sklearn.metrics import mean_absolute_error, make_scorer\n",
    "\n",
    "# Exclude test data.\n",
    "df_train = df_all_ftrs[~df_all_ftrs.production.isna()]\n",
    "\n",
    "# All features.\n",
    "features = list(set(df_train.columns) - set(['production', 'date', 'Id', 'index']))\n",
    "\n",
    "# Input and output data.\n",
    "X = df_train[features]\n",
    "y = df_train.production.values\n",
    "\n",
    "# Scaling all data.\n",
    "scaler = StandardScaler()\n",
    "Xt = scaler.fit_transform(X)\n",
    "\n",
    "# Validate\n",
    "base_model = SVR()\n",
    "\n",
    "param_distros = {\n",
    "    'C': [0.001, 0.01, 0.1, 1],\n",
    "    'kernel': ['rbf'],\n",
    "#    'degree': [2, 3, 4, 5],\n",
    "    'gamma': [0.001, 0.01, 0.1]\n",
    "}\n",
    "\n",
    "grid_search = RandomizedSearchCV(base_model, param_distros, n_iter=12,\n",
    "                           scoring='neg_mean_absolute_error', \n",
    "                           n_jobs=3, iid=True, refit=False, \n",
    "                           cv=cvPerYear(X, y, 2009, 2012, evalOnlyLast=False),\n",
    "                           return_train_score=True)\n",
    "\n",
    "grid_search.fit(Xt, y)\n",
    "\n",
    "res = pd.DataFrame(grid_search.cv_results_)"
   ]
  },
  {
   "cell_type": "code",
   "execution_count": 34,
   "metadata": {
    "scrolled": true
   },
   "outputs": [
    {
     "data": {
      "text/html": [
       "<div>\n",
       "<style scoped>\n",
       "    .dataframe tbody tr th:only-of-type {\n",
       "        vertical-align: middle;\n",
       "    }\n",
       "\n",
       "    .dataframe tbody tr th {\n",
       "        vertical-align: top;\n",
       "    }\n",
       "\n",
       "    .dataframe thead th {\n",
       "        text-align: right;\n",
       "    }\n",
       "</style>\n",
       "<table border=\"1\" class=\"dataframe\">\n",
       "  <thead>\n",
       "    <tr style=\"text-align: right;\">\n",
       "      <th></th>\n",
       "      <th>mean_fit_time</th>\n",
       "      <th>std_fit_time</th>\n",
       "      <th>mean_score_time</th>\n",
       "      <th>std_score_time</th>\n",
       "      <th>param_kernel</th>\n",
       "      <th>param_gamma</th>\n",
       "      <th>param_C</th>\n",
       "      <th>split0_test_score</th>\n",
       "      <th>split1_test_score</th>\n",
       "      <th>split2_test_score</th>\n",
       "      <th>mean_test_score</th>\n",
       "      <th>std_test_score</th>\n",
       "      <th>rank_test_score</th>\n",
       "    </tr>\n",
       "  </thead>\n",
       "  <tbody>\n",
       "    <tr>\n",
       "      <th>7</th>\n",
       "      <td>0.502126</td>\n",
       "      <td>0.195724</td>\n",
       "      <td>0.140175</td>\n",
       "      <td>0.038203</td>\n",
       "      <td>rbf</td>\n",
       "      <td>0.01</td>\n",
       "      <td>0.1</td>\n",
       "      <td>-0.087310</td>\n",
       "      <td>-0.081381</td>\n",
       "      <td>-0.090275</td>\n",
       "      <td>-0.085829</td>\n",
       "      <td>0.003315</td>\n",
       "      <td>1</td>\n",
       "    </tr>\n",
       "    <tr>\n",
       "      <th>6</th>\n",
       "      <td>0.832201</td>\n",
       "      <td>0.211563</td>\n",
       "      <td>0.267229</td>\n",
       "      <td>0.165493</td>\n",
       "      <td>rbf</td>\n",
       "      <td>0.001</td>\n",
       "      <td>0.1</td>\n",
       "      <td>-0.088596</td>\n",
       "      <td>-0.082447</td>\n",
       "      <td>-0.091391</td>\n",
       "      <td>-0.087013</td>\n",
       "      <td>0.003377</td>\n",
       "      <td>2</td>\n",
       "    </tr>\n",
       "    <tr>\n",
       "      <th>10</th>\n",
       "      <td>1.016568</td>\n",
       "      <td>0.293518</td>\n",
       "      <td>0.226150</td>\n",
       "      <td>0.074671</td>\n",
       "      <td>rbf</td>\n",
       "      <td>0.01</td>\n",
       "      <td>1</td>\n",
       "      <td>-0.085716</td>\n",
       "      <td>-0.085489</td>\n",
       "      <td>-0.099695</td>\n",
       "      <td>-0.087975</td>\n",
       "      <td>0.005248</td>\n",
       "      <td>3</td>\n",
       "    </tr>\n",
       "    <tr>\n",
       "      <th>4</th>\n",
       "      <td>0.528434</td>\n",
       "      <td>0.229451</td>\n",
       "      <td>0.137109</td>\n",
       "      <td>0.026534</td>\n",
       "      <td>rbf</td>\n",
       "      <td>0.01</td>\n",
       "      <td>0.01</td>\n",
       "      <td>-0.089917</td>\n",
       "      <td>-0.085609</td>\n",
       "      <td>-0.090869</td>\n",
       "      <td>-0.088640</td>\n",
       "      <td>0.002170</td>\n",
       "      <td>4</td>\n",
       "    </tr>\n",
       "    <tr>\n",
       "      <th>9</th>\n",
       "      <td>1.231762</td>\n",
       "      <td>0.712315</td>\n",
       "      <td>0.320553</td>\n",
       "      <td>0.197117</td>\n",
       "      <td>rbf</td>\n",
       "      <td>0.001</td>\n",
       "      <td>1</td>\n",
       "      <td>-0.092786</td>\n",
       "      <td>-0.086713</td>\n",
       "      <td>-0.094323</td>\n",
       "      <td>-0.091018</td>\n",
       "      <td>0.003093</td>\n",
       "      <td>5</td>\n",
       "    </tr>\n",
       "    <tr>\n",
       "      <th>3</th>\n",
       "      <td>0.832795</td>\n",
       "      <td>0.131213</td>\n",
       "      <td>0.172789</td>\n",
       "      <td>0.037847</td>\n",
       "      <td>rbf</td>\n",
       "      <td>0.001</td>\n",
       "      <td>0.01</td>\n",
       "      <td>-0.092825</td>\n",
       "      <td>-0.088820</td>\n",
       "      <td>-0.091475</td>\n",
       "      <td>-0.091265</td>\n",
       "      <td>0.001793</td>\n",
       "      <td>6</td>\n",
       "    </tr>\n",
       "    <tr>\n",
       "      <th>8</th>\n",
       "      <td>0.829661</td>\n",
       "      <td>0.419566</td>\n",
       "      <td>0.321448</td>\n",
       "      <td>0.128377</td>\n",
       "      <td>rbf</td>\n",
       "      <td>0.1</td>\n",
       "      <td>0.1</td>\n",
       "      <td>-0.101673</td>\n",
       "      <td>-0.095686</td>\n",
       "      <td>-0.099857</td>\n",
       "      <td>-0.099374</td>\n",
       "      <td>0.002686</td>\n",
       "      <td>7</td>\n",
       "    </tr>\n",
       "    <tr>\n",
       "      <th>1</th>\n",
       "      <td>0.590080</td>\n",
       "      <td>0.215308</td>\n",
       "      <td>0.165872</td>\n",
       "      <td>0.048680</td>\n",
       "      <td>rbf</td>\n",
       "      <td>0.01</td>\n",
       "      <td>0.001</td>\n",
       "      <td>-0.101179</td>\n",
       "      <td>-0.097651</td>\n",
       "      <td>-0.100899</td>\n",
       "      <td>-0.099956</td>\n",
       "      <td>0.001633</td>\n",
       "      <td>8</td>\n",
       "    </tr>\n",
       "    <tr>\n",
       "      <th>11</th>\n",
       "      <td>1.064157</td>\n",
       "      <td>0.037370</td>\n",
       "      <td>0.287980</td>\n",
       "      <td>0.136850</td>\n",
       "      <td>rbf</td>\n",
       "      <td>0.1</td>\n",
       "      <td>1</td>\n",
       "      <td>-0.102714</td>\n",
       "      <td>-0.097431</td>\n",
       "      <td>-0.104902</td>\n",
       "      <td>-0.101318</td>\n",
       "      <td>0.002856</td>\n",
       "      <td>9</td>\n",
       "    </tr>\n",
       "    <tr>\n",
       "      <th>0</th>\n",
       "      <td>0.643663</td>\n",
       "      <td>0.195174</td>\n",
       "      <td>0.185588</td>\n",
       "      <td>0.048385</td>\n",
       "      <td>rbf</td>\n",
       "      <td>0.001</td>\n",
       "      <td>0.001</td>\n",
       "      <td>-0.104253</td>\n",
       "      <td>-0.101540</td>\n",
       "      <td>-0.105020</td>\n",
       "      <td>-0.103477</td>\n",
       "      <td>0.001396</td>\n",
       "      <td>10</td>\n",
       "    </tr>\n",
       "    <tr>\n",
       "      <th>5</th>\n",
       "      <td>1.452056</td>\n",
       "      <td>0.683907</td>\n",
       "      <td>0.522222</td>\n",
       "      <td>0.318452</td>\n",
       "      <td>rbf</td>\n",
       "      <td>0.1</td>\n",
       "      <td>0.01</td>\n",
       "      <td>-0.105788</td>\n",
       "      <td>-0.103213</td>\n",
       "      <td>-0.107311</td>\n",
       "      <td>-0.105184</td>\n",
       "      <td>0.001494</td>\n",
       "      <td>11</td>\n",
       "    </tr>\n",
       "    <tr>\n",
       "      <th>2</th>\n",
       "      <td>1.248367</td>\n",
       "      <td>0.926625</td>\n",
       "      <td>0.333258</td>\n",
       "      <td>0.197927</td>\n",
       "      <td>rbf</td>\n",
       "      <td>0.1</td>\n",
       "      <td>0.001</td>\n",
       "      <td>-0.108510</td>\n",
       "      <td>-0.107783</td>\n",
       "      <td>-0.113489</td>\n",
       "      <td>-0.109099</td>\n",
       "      <td>0.001992</td>\n",
       "      <td>12</td>\n",
       "    </tr>\n",
       "  </tbody>\n",
       "</table>\n",
       "</div>"
      ],
      "text/plain": [
       "    mean_fit_time       ...         rank_test_score\n",
       "7        0.502126       ...                       1\n",
       "6        0.832201       ...                       2\n",
       "10       1.016568       ...                       3\n",
       "4        0.528434       ...                       4\n",
       "9        1.231762       ...                       5\n",
       "3        0.832795       ...                       6\n",
       "8        0.829661       ...                       7\n",
       "1        0.590080       ...                       8\n",
       "11       1.064157       ...                       9\n",
       "0        0.643663       ...                      10\n",
       "5        1.452056       ...                      11\n",
       "2        1.248367       ...                      12\n",
       "\n",
       "[12 rows x 13 columns]"
      ]
     },
     "execution_count": 34,
     "metadata": {},
     "output_type": "execute_result"
    }
   ],
   "source": [
    "cols = [c for c in res.columns if 'train' in c]\n",
    "cols.append('params')\n",
    "res2 = res.drop(cols, axis=1)\n",
    "#res2 = res2[res2.param_kernel == 'linear']\n",
    "res2.sort_values('mean_test_score', ascending=False).head(20)"
   ]
  },
  {
   "cell_type": "code",
   "execution_count": 38,
   "metadata": {},
   "outputs": [],
   "source": [
    "from sklearn.model_selection import validation_curve\n",
    "\n",
    "# Param C range.\n",
    "#param_range = np.logspace(-9, 0, 10, base=2)\n",
    "param_range = np.logspace(-9, 0, 10, base=2)\n",
    "\n",
    "# Cross-validation generator.\n",
    "cv = cvPerYear(X, y, 2009, 2012, evalOnlyLast=False)\n",
    "\n",
    "# Model.\n",
    "model = SVR(kernel='rbf', C=0.1)\n",
    "\n",
    "train_scores, test_scores = validation_curve(\n",
    "    model, Xt, y, param_name='gamma', \n",
    "    param_range=param_range, cv=cv,\n",
    "    scoring='neg_mean_absolute_error', n_jobs=3)\n",
    "\n",
    "train_scores_mean = -np.mean(train_scores, axis=1)\n",
    "train_scores_std = np.std(train_scores, axis=1)\n",
    "test_scores_mean = -np.mean(test_scores, axis=1)\n",
    "test_scores_std = np.std(test_scores, axis=1)"
   ]
  },
  {
   "cell_type": "code",
   "execution_count": 39,
   "metadata": {},
   "outputs": [
    {
     "data": {
      "image/png": "[encoded data removed]",
      "text/plain": [
       "<Figure size 432x288 with 1 Axes>"
      ]
     },
     "metadata": {},
     "output_type": "display_data"
    }
   ],
   "source": [
    "plt.title(\"Validation Curve with SVM\")\n",
    "plt.xlabel(\"$C$\")\n",
    "plt.ylabel(\"MAE\")\n",
    "plt.ylim(0.06, 0.12)\n",
    "lw = 2\n",
    "plt.semilogx(param_range, train_scores_mean, label=\"Training score\",\n",
    "             color=\"darkorange\", lw=lw)\n",
    "plt.fill_between(param_range, train_scores_mean - train_scores_std,\n",
    "                 train_scores_mean + train_scores_std, alpha=0.2,\n",
    "                 color=\"darkorange\", lw=lw)\n",
    "plt.semilogx(param_range, test_scores_mean, label=\"Cross-validation score\",\n",
    "             color=\"navy\", lw=lw)\n",
    "plt.fill_between(param_range, test_scores_mean - test_scores_std,\n",
    "                 test_scores_mean + test_scores_std, alpha=0.2,\n",
    "                 color=\"navy\", lw=lw)\n",
    "plt.legend(loc=\"best\")\n",
    "plt.show()"
   ]
  },
  {
   "cell_type": "markdown",
   "metadata": {},
   "source": [
    "### Train on all data"
   ]
  },
  {
   "cell_type": "code",
   "execution_count": 26,
   "metadata": {
    "_uuid": "2d75e68144377f9f03c0dbb932831ca011c5c92f"
   },
   "outputs": [
    {
     "data": {
      "text/plain": [
       "SVR(C=0.1, cache_size=200, coef0=0.0, degree=3, epsilon=0.1, gamma='auto',\n",
       "  kernel='rbf', max_iter=-1, shrinking=True, tol=0.001, verbose=False)"
      ]
     },
     "execution_count": 26,
     "metadata": {},
     "output_type": "execute_result"
    }
   ],
   "source": [
    "# Exclude test data.\n",
    "df_train = df_all_ftrs[~df_all_ftrs.production.isna()]\n",
    "\n",
    "# All features.\n",
    "features = list(set(df_train.columns) - set(['production', 'date', 'Id', 'index']))\n",
    "\n",
    "# Input and output data.\n",
    "X = df_train[features]\n",
    "y = df_train.production.values\n",
    "\n",
    "# Scaling all data.\n",
    "scaler = StandardScaler()\n",
    "Xt = scaler.fit_transform(X)\n",
    "\n",
    "# Train.\n",
    "base_model = SVR(kernel='rbf', C=1e-1)\n",
    "base_model.fit(Xt, y)"
   ]
  },
  {
   "cell_type": "markdown",
   "metadata": {
    "_uuid": "c8e58b8fb79a0c4d281c343b918f5602c06b9a4e"
   },
   "source": [
    "### Submission\n",
    "\n",
    "It makes the predict of the basic model and creates the sample to substrate in kaggle, finishing the complete pipeline"
   ]
  },
  {
   "cell_type": "code",
   "execution_count": 28,
   "metadata": {
    "_uuid": "245969d01f2ee99ef753c7d644833899c7ea6782"
   },
   "outputs": [],
   "source": [
    "# # Get test examples.\n",
    "# df_test = df_all_ftrs[df_all_ftrs.production.isna()]\n",
    "\n",
    "# # Important features.\n",
    "# X = df_test[features]\n",
    "\n",
    "# # Normalize input features.\n",
    "# Xt = scaler.transform(X)\n",
    "\n",
    "# # Make prediction.\n",
    "# pred = base_model.predict(Xt)\n",
    "\n",
    "# # Create a submission file.\n",
    "# with open('../submissions/submission-all_data-ignore_lt2006-only_type5-no_ftr_selection-svr_rbf_C1e-1-added_back_soildftrs.csv', 'w') as f:\n",
    "#     f.write(\"Id,production\\n\")\n",
    "#     for _id, _pred in zip(df_test.Id.values, pred):\n",
    "#         f.write(\"{},{}\\n\".format(_id, _pred))"
   ]
  }
 ],
 "metadata": {
  "kernelspec": {
   "display_name": "Python 3",
   "language": "python",
   "name": "python3"
  },
  "language_info": {
   "codemirror_mode": {
    "name": "ipython",
    "version": 3
   },
   "file_extension": ".py",
   "mimetype": "text/x-python",
   "name": "python",
   "nbconvert_exporter": "python",
   "pygments_lexer": "ipython3",
   "version": "3.6.5"
  }
 },
 "nbformat": 4,
 "nbformat_minor": 1
}
