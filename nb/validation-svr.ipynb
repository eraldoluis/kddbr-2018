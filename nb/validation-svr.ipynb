{
 "cells": [
  {
   "cell_type": "markdown",
   "metadata": {
    "_uuid": "4646fdea09654229ea606aa4faffad9cb819398b"
   },
   "source": [
    "# SVM Modeling\n",
    "- Ignoring data before 2006.\n",
    "- Using only type=5 examples.\n",
    "- No feature selection.\n",
    "- Param tuning.\n",
    "- Added back removed features ['Soilwater_L2', 'Soilwater_L3', 'Soilwater_L4']\n",
    "- Removed soil_data features"
   ]
  },
  {
   "cell_type": "code",
   "execution_count": 1,
   "metadata": {
    "_uuid": "35b9298747ec076ac8a9afb81192039880e46f2c"
   },
   "outputs": [],
   "source": [
    "import pandas as pd\n",
    "import numpy as np\n",
    "import os \n",
    "\n",
    "import plotly.plotly as py\n",
    "import plotly.graph_objs as go\n",
    "\n",
    "from datetime import datetime\n",
    "import matplotlib.pyplot as plt\n",
    "import seaborn as sns\n",
    "\n",
    "from kdd_utils import addFieldDataFtrs, addSoilFtrs, cvPerYear\n",
    "\n",
    "sns.set(style=\"whitegrid\")"
   ]
  },
  {
   "cell_type": "markdown",
   "metadata": {
    "_uuid": "5e5a56ed28ca3f0433752b640126d39410d590e7"
   },
   "source": [
    "## Train and test datasets\n",
    "\n",
    "Basic data containing palm tree information"
   ]
  },
  {
   "cell_type": "code",
   "execution_count": 2,
   "metadata": {
    "_uuid": "d26413ead269ebe206f0ac43cda68634d9611199"
   },
   "outputs": [
    {
     "name": "stdout",
     "output_type": "stream",
     "text": [
      "Shapes\n",
      "---\n",
      "Train: (3332, 7)\n",
      " Test: (4110, 6)\n",
      "  All: (7442, 7)\n"
     ]
    }
   ],
   "source": [
    "path = '../input/'\n",
    "\n",
    "# Train data.\n",
    "df_train = pd.read_csv(os.path.join(path, 'train.csv'))\n",
    "\n",
    "# Ignoring date before 2006 for training.\n",
    "df_train = df_train[df_train.harvest_year >= 2006]\n",
    "\n",
    "# Using only examples with type=5 for training.\n",
    "df_train = df_train[df_train.type == 5]\n",
    "\n",
    "# Test data.\n",
    "df_test  = pd.read_csv(os.path.join(path, 'test.csv'))\n",
    "\n",
    "# Merge train and test data for ease of pre-processing.\n",
    "df_all = pd.concat([df_train, df_test], sort=False)\n",
    "\n",
    "# Configure number of jobs.\n",
    "N_JOBS=7\n",
    "\n",
    "print('Shapes\\n---\\nTrain: {}\\n Test: {}\\n  All: {}'.format(df_train.shape, df_test.shape, df_all.shape))"
   ]
  },
  {
   "cell_type": "markdown",
   "metadata": {
    "_uuid": "8163b4159ec67907aa1518f341edf613f4bc7266"
   },
   "source": [
    "## Field and Soil Features\n",
    "\n",
    "These files hold atmospheric data from January 2002 to December 2017, and can be used to estimate the weather conditions during the development of the plant. Notice that weather does influence the production. Using only a single month prior to harvest is probably too little data. Participants should decide how far back in the past they want to look when training models.\n",
    "\n"
   ]
  },
  {
   "cell_type": "code",
   "execution_count": 3,
   "metadata": {
    "_uuid": "c9596d68c59820e59de0b7861c9234712185fdab"
   },
   "outputs": [
    {
     "name": "stdout",
     "output_type": "stream",
     "text": [
      "['index', 'Id', 'field', 'age', 'type', 'harvest_year', 'harvest_month', 'production', 'temperature', 'dewpoint', 'windspeed', 'Soilwater_L1', 'Soilwater_L2', 'Soilwater_L3', 'Soilwater_L4', 'Precipitation', 'temperature_1', 'temperature_2', 'temperature_3', 'temperature_4', 'temperature_5', 'dewpoint_1', 'dewpoint_2', 'dewpoint_3', 'dewpoint_4', 'dewpoint_5', 'windspeed_1', 'windspeed_2', 'windspeed_3', 'windspeed_4', 'windspeed_5', 'Precipitation_1', 'Precipitation_2', 'Precipitation_3', 'Precipitation_4', 'Precipitation_5', 'Soilwater_L1_1', 'Soilwater_L1_2', 'Soilwater_L1_3', 'Soilwater_L1_4', 'Soilwater_L1_5']\n"
     ]
    }
   ],
   "source": [
    "df_all_ftrs = addFieldDataFtrs(df_all, shiftPeriod=6)\n",
    "#df_all_ftrs = addSoilFtrs(df_all_ftrs)\n",
    "print(list(df_all_ftrs.columns))"
   ]
  },
  {
   "cell_type": "markdown",
   "metadata": {
    "_uuid": "c8bc92833cda5c6cdd32fefa906f73e403a8eeea"
   },
   "source": [
    "## Base Model \n",
    "\n",
    "Creation of a baseline model to finalize the competition submission pipeline. The idea is to create the most basic for future improvements."
   ]
  },
  {
   "cell_type": "code",
   "execution_count": 4,
   "metadata": {
    "_uuid": "2d75e68144377f9f03c0dbb932831ca011c5c92f"
   },
   "outputs": [],
   "source": [
    "from sklearn.svm import SVR\n",
    "from sklearn.preprocessing import StandardScaler\n",
    "from sklearn.model_selection import cross_validate\n",
    "from sklearn.metrics import mean_absolute_error, make_scorer\n",
    "\n",
    "# Exclude test data.\n",
    "df_train = df_all_ftrs[~df_all_ftrs.production.isna()]\n",
    "\n",
    "# Most important features.\n",
    "features = list(set(df_train.columns) - set(['production', 'date', 'Id', 'index']))\n",
    "\n",
    "# Input and output data.\n",
    "X = df_train[features]\n",
    "y = df_train.production.values\n",
    "\n",
    "# Scaling all data.\n",
    "scaler = StandardScaler()\n",
    "Xt = scaler.fit_transform(X)\n",
    "\n",
    "# Validate\n",
    "base_model = SVR(kernel='linear', C=1e-4)\n",
    "\n",
    "cv = cvPerYear(X, y, 2009, 2012, evalOnlyLast=False)\n",
    "\n",
    "scoring = {'mae': 'neg_mean_absolute_error', 'r2': 'r2'}\n",
    "\n",
    "# Validate using sliding window.\n",
    "scores = cross_validate(base_model, Xt, y, scoring=scoring, cv=cv, return_train_score=True, n_jobs=N_JOBS)"
   ]
  },
  {
   "cell_type": "code",
   "execution_count": 5,
   "metadata": {
    "_uuid": "2d75e68144377f9f03c0dbb932831ca011c5c92f",
    "scrolled": true
   },
   "outputs": [
    {
     "name": "stdout",
     "output_type": "stream",
     "text": [
      "{'fit_time': array([ 0.04448485,  0.06589484,  0.10986423]),\n",
      " 'mean_fit_time': 0.073414643605550126,\n",
      " 'mean_score_time': 0.030241648356119793,\n",
      " 'mean_test_mae': -0.087994344982206485,\n",
      " 'mean_test_r2': 0.32311544399178693,\n",
      " 'mean_train_mae': -0.076218162237745968,\n",
      " 'mean_train_r2': 0.33732955579801976,\n",
      " 'score_time': array([ 0.03670645,  0.03247643,  0.02154207]),\n",
      " 'test_mae': array([-0.08871334, -0.08442643, -0.09084327]),\n",
      " 'test_r2': array([ 0.31997744,  0.31631786,  0.33305104]),\n",
      " 'train_mae': array([-0.07584809, -0.07672655, -0.07607985]),\n",
      " 'train_r2': array([ 0.31298575,  0.33555186,  0.36345105])}\n"
     ]
    }
   ],
   "source": [
    "from pprint import pprint\n",
    "for k in list(scores.keys()):\n",
    "    scores['mean_' + k] = scores[k].mean()\n",
    "pprint(scores)"
   ]
  },
  {
   "cell_type": "markdown",
   "metadata": {},
   "source": [
    "### Parameter Search"
   ]
  },
  {
   "cell_type": "code",
   "execution_count": 6,
   "metadata": {
    "scrolled": false
   },
   "outputs": [],
   "source": [
    "from sklearn.svm import SVR\n",
    "from sklearn.preprocessing import StandardScaler\n",
    "from sklearn.model_selection import cross_validate, RandomizedSearchCV, GridSearchCV\n",
    "from sklearn.metrics import mean_absolute_error, make_scorer\n",
    "\n",
    "# Exclude test data.\n",
    "df_train = df_all_ftrs[~df_all_ftrs.production.isna()]\n",
    "\n",
    "# All features.\n",
    "features = list(set(df_train.columns) - set(['production', 'Id', 'index']))\n",
    "\n",
    "# Input and output data.\n",
    "X = df_train[features]\n",
    "y = df_train.production.values\n",
    "\n",
    "# Scaling all data.\n",
    "scaler = StandardScaler()\n",
    "Xt = scaler.fit_transform(X)\n",
    "\n",
    "# Validate\n",
    "base_model = SVR()\n",
    "\n",
    "param_distros = {\n",
    "    'kernel': ['rbf'],\n",
    "    'C': np.logspace(-12, 0, 13, base=2),\n",
    "    'gamma': np.logspace(-12, 0, 13, base=2),\n",
    "}\n",
    "\n",
    "cv = cvPerYear(X, y, 2009, 2012, evalOnlyLast=False)\n",
    "\n",
    "param_search = RandomizedSearchCV(base_model, param_distros, n_iter=50,\n",
    "                                  scoring='neg_mean_absolute_error', \n",
    "                                  n_jobs=N_JOBS, iid=True, refit=False, \n",
    "                                  cv=cv, return_train_score=True)\n",
    "\n",
    "param_search.fit(Xt, y)\n",
    "\n",
    "param_res = pd.DataFrame(param_search.cv_results_)"
   ]
  },
  {
   "cell_type": "code",
   "execution_count": 7,
   "metadata": {
    "scrolled": true
   },
   "outputs": [
    {
     "data": {
      "text/html": [
       "<div>\n",
       "<style scoped>\n",
       "    .dataframe tbody tr th:only-of-type {\n",
       "        vertical-align: middle;\n",
       "    }\n",
       "\n",
       "    .dataframe tbody tr th {\n",
       "        vertical-align: top;\n",
       "    }\n",
       "\n",
       "    .dataframe thead th {\n",
       "        text-align: right;\n",
       "    }\n",
       "</style>\n",
       "<table border=\"1\" class=\"dataframe\">\n",
       "  <thead>\n",
       "    <tr style=\"text-align: right;\">\n",
       "      <th></th>\n",
       "      <th>param_kernel</th>\n",
       "      <th>param_gamma</th>\n",
       "      <th>param_C</th>\n",
       "      <th>split0_test_score</th>\n",
       "      <th>split1_test_score</th>\n",
       "      <th>split2_test_score</th>\n",
       "      <th>mean_test_score</th>\n",
       "      <th>std_test_score</th>\n",
       "      <th>rank_test_score</th>\n",
       "    </tr>\n",
       "  </thead>\n",
       "  <tbody>\n",
       "    <tr>\n",
       "      <th>2</th>\n",
       "      <td>rbf</td>\n",
       "      <td>0.0078125</td>\n",
       "      <td>0.25</td>\n",
       "      <td>-0.082692</td>\n",
       "      <td>-0.081455</td>\n",
       "      <td>-0.091049</td>\n",
       "      <td>-0.083675</td>\n",
       "      <td>0.003347</td>\n",
       "      <td>1</td>\n",
       "    </tr>\n",
       "    <tr>\n",
       "      <th>29</th>\n",
       "      <td>rbf</td>\n",
       "      <td>0.0078125</td>\n",
       "      <td>0.5</td>\n",
       "      <td>-0.083170</td>\n",
       "      <td>-0.083541</td>\n",
       "      <td>-0.092941</td>\n",
       "      <td>-0.084925</td>\n",
       "      <td>0.003592</td>\n",
       "      <td>2</td>\n",
       "    </tr>\n",
       "    <tr>\n",
       "      <th>16</th>\n",
       "      <td>rbf</td>\n",
       "      <td>0.015625</td>\n",
       "      <td>0.25</td>\n",
       "      <td>-0.084596</td>\n",
       "      <td>-0.083691</td>\n",
       "      <td>-0.093471</td>\n",
       "      <td>-0.085776</td>\n",
       "      <td>0.003469</td>\n",
       "      <td>3</td>\n",
       "    </tr>\n",
       "    <tr>\n",
       "      <th>42</th>\n",
       "      <td>rbf</td>\n",
       "      <td>0.015625</td>\n",
       "      <td>0.0078125</td>\n",
       "      <td>-0.086956</td>\n",
       "      <td>-0.083475</td>\n",
       "      <td>-0.089787</td>\n",
       "      <td>-0.086268</td>\n",
       "      <td>0.002215</td>\n",
       "      <td>4</td>\n",
       "    </tr>\n",
       "    <tr>\n",
       "      <th>19</th>\n",
       "      <td>rbf</td>\n",
       "      <td>0.00390625</td>\n",
       "      <td>0.015625</td>\n",
       "      <td>-0.087641</td>\n",
       "      <td>-0.082747</td>\n",
       "      <td>-0.090567</td>\n",
       "      <td>-0.086498</td>\n",
       "      <td>0.002847</td>\n",
       "      <td>5</td>\n",
       "    </tr>\n",
       "    <tr>\n",
       "      <th>26</th>\n",
       "      <td>rbf</td>\n",
       "      <td>0.00195312</td>\n",
       "      <td>0.25</td>\n",
       "      <td>-0.087817</td>\n",
       "      <td>-0.083474</td>\n",
       "      <td>-0.091805</td>\n",
       "      <td>-0.087035</td>\n",
       "      <td>0.002886</td>\n",
       "      <td>6</td>\n",
       "    </tr>\n",
       "    <tr>\n",
       "      <th>37</th>\n",
       "      <td>rbf</td>\n",
       "      <td>0.000976562</td>\n",
       "      <td>0.0625</td>\n",
       "      <td>-0.088566</td>\n",
       "      <td>-0.083304</td>\n",
       "      <td>-0.090626</td>\n",
       "      <td>-0.087156</td>\n",
       "      <td>0.002820</td>\n",
       "      <td>7</td>\n",
       "    </tr>\n",
       "    <tr>\n",
       "      <th>22</th>\n",
       "      <td>rbf</td>\n",
       "      <td>0.000488281</td>\n",
       "      <td>0.125</td>\n",
       "      <td>-0.088741</td>\n",
       "      <td>-0.083670</td>\n",
       "      <td>-0.090759</td>\n",
       "      <td>-0.087388</td>\n",
       "      <td>0.002724</td>\n",
       "      <td>8</td>\n",
       "    </tr>\n",
       "    <tr>\n",
       "      <th>40</th>\n",
       "      <td>rbf</td>\n",
       "      <td>0.00390625</td>\n",
       "      <td>0.0078125</td>\n",
       "      <td>-0.088846</td>\n",
       "      <td>-0.084571</td>\n",
       "      <td>-0.090837</td>\n",
       "      <td>-0.087754</td>\n",
       "      <td>0.002358</td>\n",
       "      <td>9</td>\n",
       "    </tr>\n",
       "    <tr>\n",
       "      <th>36</th>\n",
       "      <td>rbf</td>\n",
       "      <td>0.03125</td>\n",
       "      <td>0.125</td>\n",
       "      <td>-0.087880</td>\n",
       "      <td>-0.084572</td>\n",
       "      <td>-0.093893</td>\n",
       "      <td>-0.087781</td>\n",
       "      <td>0.003111</td>\n",
       "      <td>10</td>\n",
       "    </tr>\n",
       "  </tbody>\n",
       "</table>\n",
       "</div>"
      ],
      "text/plain": [
       "   param_kernel  param_gamma    param_C  split0_test_score  split1_test_score  \\\n",
       "2           rbf    0.0078125       0.25          -0.082692          -0.081455   \n",
       "29          rbf    0.0078125        0.5          -0.083170          -0.083541   \n",
       "16          rbf     0.015625       0.25          -0.084596          -0.083691   \n",
       "42          rbf     0.015625  0.0078125          -0.086956          -0.083475   \n",
       "19          rbf   0.00390625   0.015625          -0.087641          -0.082747   \n",
       "26          rbf   0.00195312       0.25          -0.087817          -0.083474   \n",
       "37          rbf  0.000976562     0.0625          -0.088566          -0.083304   \n",
       "22          rbf  0.000488281      0.125          -0.088741          -0.083670   \n",
       "40          rbf   0.00390625  0.0078125          -0.088846          -0.084571   \n",
       "36          rbf      0.03125      0.125          -0.087880          -0.084572   \n",
       "\n",
       "    split2_test_score  mean_test_score  std_test_score  rank_test_score  \n",
       "2           -0.091049        -0.083675        0.003347                1  \n",
       "29          -0.092941        -0.084925        0.003592                2  \n",
       "16          -0.093471        -0.085776        0.003469                3  \n",
       "42          -0.089787        -0.086268        0.002215                4  \n",
       "19          -0.090567        -0.086498        0.002847                5  \n",
       "26          -0.091805        -0.087035        0.002886                6  \n",
       "37          -0.090626        -0.087156        0.002820                7  \n",
       "22          -0.090759        -0.087388        0.002724                8  \n",
       "40          -0.090837        -0.087754        0.002358                9  \n",
       "36          -0.093893        -0.087781        0.003111               10  "
      ]
     },
     "execution_count": 7,
     "metadata": {},
     "output_type": "execute_result"
    }
   ],
   "source": [
    "cols = [c for c in param_res.columns if ('train' in c or 'time' in c)]\n",
    "cols.append('params')\n",
    "param_res.drop(cols, axis=1).sort_values('mean_test_score', ascending=False).head(10)"
   ]
  },
  {
   "cell_type": "markdown",
   "metadata": {},
   "source": [
    "### Validation Curve (C)"
   ]
  },
  {
   "cell_type": "code",
   "execution_count": 9,
   "metadata": {},
   "outputs": [
    {
     "name": "stdout",
     "output_type": "stream",
     "text": [
      "SVR(C=0.25, cache_size=200, coef0=0.0, degree=3, epsilon=0.1, gamma=0.0078125,\n",
      "  kernel='rbf', max_iter=-1, shrinking=True, tol=0.001, verbose=False)\n"
     ]
    }
   ],
   "source": [
    "from sklearn.model_selection import validation_curve\n",
    "\n",
    "# Param gamma range.\n",
    "C_range = np.logspace(-12, 0, 13, base=2)\n",
    "\n",
    "# Cross-validation generator.\n",
    "cv = cvPerYear(X, y, 2009, 2012, evalOnlyLast=False)\n",
    "\n",
    "# Model.\n",
    "model = SVR(**param_search.best_params_)\n",
    "print(model)\n",
    "\n",
    "train_scores, test_scores = validation_curve(\n",
    "    model, Xt, y, param_name='C', \n",
    "    param_range=C_range, cv=cv,\n",
    "    scoring='neg_mean_absolute_error', n_jobs=N_JOBS)\n",
    "\n",
    "train_scores_mean = -np.mean(train_scores, axis=1)\n",
    "train_scores_std = np.std(train_scores, axis=1)\n",
    "test_scores_mean = -np.mean(test_scores, axis=1)\n",
    "test_scores_std = np.std(test_scores, axis=1)"
   ]
  },
  {
   "cell_type": "code",
   "execution_count": 12,
   "metadata": {
    "scrolled": true
   },
   "outputs": [
    {
     "data": {
      "image/png": "[encoded data removed]",
      "text/plain": [
       "<matplotlib.figure.Figure at 0x7fed58b25e10>"
      ]
     },
     "metadata": {},
     "output_type": "display_data"
    }
   ],
   "source": [
    "plt.title(\"Validation Curve with SVM\")\n",
    "plt.xlabel(\"$C$\")\n",
    "plt.ylabel(\"MAE\")\n",
    "plt.ylim(0.06, 0.12)\n",
    "lw = 2\n",
    "plt.semilogx(C_range, train_scores_mean, label=\"Training score\",\n",
    "             color=\"darkorange\", lw=lw, basex=2)\n",
    "plt.fill_between(C_range, train_scores_mean - train_scores_std,\n",
    "                 train_scores_mean + train_scores_std, alpha=0.2,\n",
    "                 color=\"darkorange\", lw=lw)\n",
    "plt.semilogx(C_range, test_scores_mean, label=\"Cross-validation score\",\n",
    "             color=\"navy\", lw=lw, basex=2)\n",
    "plt.fill_between(C_range, test_scores_mean - test_scores_std,\n",
    "                 test_scores_mean + test_scores_std, alpha=0.2,\n",
    "                 color=\"navy\", lw=lw)\n",
    "plt.legend(loc=\"best\")\n",
    "plt.show()"
   ]
  },
  {
   "cell_type": "markdown",
   "metadata": {},
   "source": [
    "### Validation Curve (gamma)"
   ]
  },
  {
   "cell_type": "code",
   "execution_count": 13,
   "metadata": {},
   "outputs": [
    {
     "name": "stdout",
     "output_type": "stream",
     "text": [
      "SVR(C=0.25, cache_size=200, coef0=0.0, degree=3, epsilon=0.1, gamma=0.0078125,\n",
      "  kernel='rbf', max_iter=-1, shrinking=True, tol=0.001, verbose=False)\n"
     ]
    }
   ],
   "source": [
    "from sklearn.model_selection import validation_curve\n",
    "\n",
    "# Param gamma range.\n",
    "gamma_range = np.logspace(-12, 0, 13, base=2)\n",
    "\n",
    "# Cross-validation generator.\n",
    "cv = cvPerYear(X, y, 2009, 2012, evalOnlyLast=False)\n",
    "\n",
    "# Model.\n",
    "model = SVR(**param_search.best_params_)\n",
    "print(model)\n",
    "\n",
    "train_scores, test_scores = validation_curve(\n",
    "    model, Xt, y, param_name='gamma', \n",
    "    param_range=gamma_range, cv=cv,\n",
    "    scoring='neg_mean_absolute_error', n_jobs=N_JOBS)\n",
    "\n",
    "train_scores_mean = -np.mean(train_scores, axis=1)\n",
    "train_scores_std = np.std(train_scores, axis=1)\n",
    "test_scores_mean = -np.mean(test_scores, axis=1)\n",
    "test_scores_std = np.std(test_scores, axis=1)"
   ]
  },
  {
   "cell_type": "code",
   "execution_count": 15,
   "metadata": {},
   "outputs": [
    {
     "data": {
      "image/png": "[encoded data removed]",
      "text/plain": [
       "<matplotlib.figure.Figure at 0x7fed58b39710>"
      ]
     },
     "metadata": {},
     "output_type": "display_data"
    }
   ],
   "source": [
    "plt.title(\"Validation Curve with SVM\")\n",
    "plt.xlabel(\"$\\gamma$\")\n",
    "plt.ylabel(\"MAE\")\n",
    "plt.ylim(0.06, 0.12)\n",
    "lw = 2\n",
    "plt.semilogx(gamma_range, train_scores_mean, label=\"Training score\",\n",
    "             color=\"darkorange\", lw=lw, basex=2)\n",
    "plt.fill_between(gamma_range, train_scores_mean - train_scores_std,\n",
    "                 train_scores_mean + train_scores_std, alpha=0.2,\n",
    "                 color=\"darkorange\", lw=lw)\n",
    "plt.semilogx(gamma_range, test_scores_mean, label=\"Cross-validation score\",\n",
    "             color=\"navy\", lw=lw, basex=2)\n",
    "plt.fill_between(gamma_range, test_scores_mean - test_scores_std,\n",
    "                 test_scores_mean + test_scores_std, alpha=0.2,\n",
    "                 color=\"navy\", lw=lw)\n",
    "plt.legend(loc=\"best\")\n",
    "plt.show()"
   ]
  },
  {
   "cell_type": "markdown",
   "metadata": {},
   "source": [
    "### Train on all data"
   ]
  },
  {
   "cell_type": "code",
   "execution_count": 16,
   "metadata": {
    "_uuid": "2d75e68144377f9f03c0dbb932831ca011c5c92f"
   },
   "outputs": [
    {
     "data": {
      "text/plain": [
       "SVR(C=0.25, cache_size=200, coef0=0.0, degree=3, epsilon=0.1, gamma=0.0078125,\n",
       "  kernel='rbf', max_iter=-1, shrinking=True, tol=0.001, verbose=False)"
      ]
     },
     "execution_count": 16,
     "metadata": {},
     "output_type": "execute_result"
    }
   ],
   "source": [
    "# Exclude test data.\n",
    "df_train = df_all_ftrs[~df_all_ftrs.production.isna()]\n",
    "\n",
    "# All features.\n",
    "features = list(set(df_train.columns) - set(['production', 'date', 'Id', 'index']))\n",
    "\n",
    "# Input and output data.\n",
    "X = df_train[features]\n",
    "y = df_train.production.values\n",
    "\n",
    "# Scaling all data.\n",
    "scaler = StandardScaler()\n",
    "Xt = scaler.fit_transform(X)\n",
    "\n",
    "# Train.\n",
    "model = SVR(**param_search.best_params_)\n",
    "model.fit(Xt, y)"
   ]
  },
  {
   "cell_type": "markdown",
   "metadata": {
    "_uuid": "c8e58b8fb79a0c4d281c343b918f5602c06b9a4e"
   },
   "source": [
    "### Submission\n",
    "\n",
    "It makes the predict of the basic model and creates the sample to substrate in kaggle, finishing the complete pipeline"
   ]
  },
  {
   "cell_type": "code",
   "execution_count": 18,
   "metadata": {
    "_uuid": "245969d01f2ee99ef753c7d644833899c7ea6782"
   },
   "outputs": [],
   "source": [
    "from datetime import datetime\n",
    "\n",
    "# Get test examples.\n",
    "df_test = df_all_ftrs[df_all_ftrs.production.isna()]\n",
    "\n",
    "# Important features.\n",
    "X = df_test[features]\n",
    "\n",
    "# Normalize input features.\n",
    "Xt = scaler.transform(X)\n",
    "\n",
    "# Make prediction.\n",
    "pred = model.predict(Xt)\n",
    "\n",
    "now = datetime.now().strftime('%Y-%m-%d-%H-%M-%S-%f')\n",
    "\n",
    "submission_file = '../submissions/{}.submission.csv'.format(now)\n",
    "model_file = '../submissions/{}.model.pkl'.format(now)\n",
    "description_file = '../submissions/{}.params.json'.format(now)\n",
    "\n",
    "# Create a submission file.\n",
    "with open(submission_file, 'w') as f:\n",
    "    f.write(\"Id,production\\n\")\n",
    "    for _id, _pred in zip(df_test.Id.values, pred):\n",
    "        f.write(\"{},{}\\n\".format(_id, _pred))\n",
    "\n",
    "# Save model.\n",
    "import pickle\n",
    "with open(model_file, 'wb') as f:\n",
    "    pickle.dump(model, f)\n",
    "\n",
    "# Save model description.\n",
    "import json\n",
    "params = {\n",
    "    'model': str(model),\n",
    "    'best_params': param_search.best_params_,\n",
    "    'model_val': json.loads(param_res[param_res.rank_test_score == 1].squeeze().to_json())\n",
    "}\n",
    "with open(description_file, 'w') as f:\n",
    "    json.dump(params, f, indent=2)"
   ]
  }
 ],
 "metadata": {
  "kernelspec": {
   "display_name": "Python 3",
   "language": "python",
   "name": "python3"
  },
  "language_info": {
   "codemirror_mode": {
    "name": "ipython",
    "version": 3
   },
   "file_extension": ".py",
   "mimetype": "text/x-python",
   "name": "python",
   "nbconvert_exporter": "python",
   "pygments_lexer": "ipython3",
   "version": "3.6.2"
  }
 },
 "nbformat": 4,
 "nbformat_minor": 1
}
