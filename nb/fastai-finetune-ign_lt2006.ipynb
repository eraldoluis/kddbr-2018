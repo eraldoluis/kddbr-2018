{
 "cells": [
  {
   "cell_type": "markdown",
   "metadata": {
    "_uuid": "4646fdea09654229ea606aa4faffad9cb819398b"
   },
   "source": [
    "# DL Modeling - Fine Tuning\n",
    "Load a pre-trained model and fine tune it.\n",
    "Ignore data before 2006."
   ]
  },
  {
   "cell_type": "code",
   "execution_count": 64,
   "metadata": {},
   "outputs": [
    {
     "name": "stdout",
     "output_type": "stream",
     "text": [
      "env: CUDA_VISIBLE_DEVICES=1\n"
     ]
    }
   ],
   "source": [
    "%matplotlib inline\n",
    "%reload_ext autoreload\n",
    "%autoreload 2\n",
    "\n",
    "%env CUDA_VISIBLE_DEVICES=1"
   ]
  },
  {
   "cell_type": "code",
   "execution_count": 65,
   "metadata": {
    "_uuid": "35b9298747ec076ac8a9afb81192039880e46f2c"
   },
   "outputs": [],
   "source": [
    "import pandas as pd\n",
    "import numpy as np\n",
    "import os \n",
    "\n",
    "from datetime import datetime\n",
    "import matplotlib.pyplot as plt\n",
    "import seaborn as sns\n",
    "\n",
    "from kdd_utils import addFieldDataFtrs, addSoilFtrs, cvPerYear, load_model_ignoring, save_model_ignoring\n",
    "\n",
    "sns.set(style=\"whitegrid\")"
   ]
  },
  {
   "cell_type": "code",
   "execution_count": 66,
   "metadata": {},
   "outputs": [],
   "source": [
    "from fastai.structured import *\n",
    "from fastai.column_data import *"
   ]
  },
  {
   "cell_type": "markdown",
   "metadata": {
    "_uuid": "5e5a56ed28ca3f0433752b640126d39410d590e7"
   },
   "source": [
    "## Train and test datasets\n",
    "\n",
    "Basic data containing palm tree information"
   ]
  },
  {
   "cell_type": "code",
   "execution_count": 67,
   "metadata": {
    "_uuid": "d26413ead269ebe206f0ac43cda68634d9611199",
    "scrolled": true
   },
   "outputs": [
    {
     "name": "stdout",
     "output_type": "stream",
     "text": [
      "Shapes\n",
      "---\n",
      "Train: (5243, 7)\n",
      " Test: (4110, 6)\n",
      "  All: (9353, 7)\n"
     ]
    }
   ],
   "source": [
    "path = '../input/'\n",
    "\n",
    "# Train data.\n",
    "df_train = pd.read_csv(os.path.join(path, 'train.csv'))\n",
    "\n",
    "# Ignoring date before 2006 for training.\n",
    "# df_train = df_train[df_train.harvest_year >= 2006]\n",
    "\n",
    "# Using only examples with type=5 for training.\n",
    "# df_train = df_train[df_train.type == 5]\n",
    "\n",
    "# Test data.\n",
    "df_test  = pd.read_csv(os.path.join(path, 'test.csv'))\n",
    "\n",
    "# Merge train and test data for ease of pre-processing.\n",
    "df_all = pd.concat([df_train, df_test], sort=False).reindex()\n",
    "\n",
    "# Configure number of jobs.\n",
    "N_JOBS=7\n",
    "\n",
    "print('Shapes\\n---\\nTrain: {}\\n Test: {}\\n  All: {}'.format(df_train.shape, df_test.shape, df_all.shape))"
   ]
  },
  {
   "cell_type": "markdown",
   "metadata": {
    "_uuid": "8163b4159ec67907aa1518f341edf613f4bc7266"
   },
   "source": [
    "## Field and Soil Features\n",
    "\n",
    "These files hold atmospheric data from January 2002 to December 2017, and can be used to estimate the weather conditions during the development of the plant. Notice that weather does influence the production. Using only a single month prior to harvest is probably too little data. Participants should decide how far back in the past they want to look when training models.\n",
    "\n"
   ]
  },
  {
   "cell_type": "code",
   "execution_count": 68,
   "metadata": {
    "_uuid": "c9596d68c59820e59de0b7861c9234712185fdab",
    "scrolled": true
   },
   "outputs": [
    {
     "name": "stdout",
     "output_type": "stream",
     "text": [
      "['index', 'Id', 'field', 'age', 'type', 'harvest_year', 'harvest_month', 'production', 'temperature', 'dewpoint', 'windspeed', 'Soilwater_L1', 'Soilwater_L2', 'Soilwater_L3', 'Soilwater_L4', 'Precipitation', 'temperature_1', 'temperature_2', 'temperature_3', 'temperature_4', 'temperature_5', 'temperature_6', 'temperature_7', 'temperature_8', 'temperature_9', 'temperature_10', 'temperature_11', 'dewpoint_1', 'dewpoint_2', 'dewpoint_3', 'dewpoint_4', 'dewpoint_5', 'dewpoint_6', 'dewpoint_7', 'dewpoint_8', 'dewpoint_9', 'dewpoint_10', 'dewpoint_11', 'windspeed_1', 'windspeed_2', 'windspeed_3', 'windspeed_4', 'windspeed_5', 'windspeed_6', 'windspeed_7', 'windspeed_8', 'windspeed_9', 'windspeed_10', 'windspeed_11', 'Precipitation_1', 'Precipitation_2', 'Precipitation_3', 'Precipitation_4', 'Precipitation_5', 'Precipitation_6', 'Precipitation_7', 'Precipitation_8', 'Precipitation_9', 'Precipitation_10', 'Precipitation_11', 'Soilwater_L1_1', 'Soilwater_L1_2', 'Soilwater_L1_3', 'Soilwater_L1_4', 'Soilwater_L1_5', 'Soilwater_L1_6', 'Soilwater_L1_7', 'Soilwater_L1_8', 'Soilwater_L1_9', 'Soilwater_L1_10', 'Soilwater_L1_11', 'Soilwater_L2_1', 'Soilwater_L2_2', 'Soilwater_L2_3', 'Soilwater_L2_4', 'Soilwater_L2_5', 'Soilwater_L2_6', 'Soilwater_L2_7', 'Soilwater_L2_8', 'Soilwater_L2_9', 'Soilwater_L2_10', 'Soilwater_L2_11', 'Soilwater_L3_1', 'Soilwater_L3_2', 'Soilwater_L3_3', 'Soilwater_L3_4', 'Soilwater_L3_5', 'Soilwater_L3_6', 'Soilwater_L3_7', 'Soilwater_L3_8', 'Soilwater_L3_9', 'Soilwater_L3_10', 'Soilwater_L3_11', 'Soilwater_L4_1', 'Soilwater_L4_2', 'Soilwater_L4_3', 'Soilwater_L4_4', 'Soilwater_L4_5', 'Soilwater_L4_6', 'Soilwater_L4_7', 'Soilwater_L4_8', 'Soilwater_L4_9', 'Soilwater_L4_10', 'Soilwater_L4_11']\n"
     ]
    }
   ],
   "source": [
    "df_all_ftrs = addFieldDataFtrs(df_all, shiftPeriod=12, shiftFtrs=['temperature', 'dewpoint', 'windspeed', \n",
    "                                                                 'Precipitation', 'Soilwater_L1', \n",
    "                                                                 'Soilwater_L2', 'Soilwater_L3', \n",
    "                                                                 'Soilwater_L4'])\n",
    "#df_all_ftrs = addSoilFtrs(df_all_ftrs)\n",
    "print(list(df_all_ftrs.columns))"
   ]
  },
  {
   "cell_type": "code",
   "execution_count": 69,
   "metadata": {
    "scrolled": true
   },
   "outputs": [
    {
     "data": {
      "text/html": [
       "<div>\n",
       "<style scoped>\n",
       "    .dataframe tbody tr th:only-of-type {\n",
       "        vertical-align: middle;\n",
       "    }\n",
       "\n",
       "    .dataframe tbody tr th {\n",
       "        vertical-align: top;\n",
       "    }\n",
       "\n",
       "    .dataframe thead th {\n",
       "        text-align: right;\n",
       "    }\n",
       "</style>\n",
       "<table border=\"1\" class=\"dataframe\">\n",
       "  <thead>\n",
       "    <tr style=\"text-align: right;\">\n",
       "      <th></th>\n",
       "      <th>index</th>\n",
       "      <th>Id</th>\n",
       "      <th>field</th>\n",
       "      <th>age</th>\n",
       "      <th>type</th>\n",
       "      <th>harvest_year</th>\n",
       "      <th>harvest_month</th>\n",
       "      <th>production</th>\n",
       "      <th>temperature</th>\n",
       "      <th>dewpoint</th>\n",
       "      <th>...</th>\n",
       "      <th>Soilwater_L4_2</th>\n",
       "      <th>Soilwater_L4_3</th>\n",
       "      <th>Soilwater_L4_4</th>\n",
       "      <th>Soilwater_L4_5</th>\n",
       "      <th>Soilwater_L4_6</th>\n",
       "      <th>Soilwater_L4_7</th>\n",
       "      <th>Soilwater_L4_8</th>\n",
       "      <th>Soilwater_L4_9</th>\n",
       "      <th>Soilwater_L4_10</th>\n",
       "      <th>Soilwater_L4_11</th>\n",
       "    </tr>\n",
       "  </thead>\n",
       "  <tbody>\n",
       "    <tr>\n",
       "      <th>0</th>\n",
       "      <td>0</td>\n",
       "      <td>0</td>\n",
       "      <td>0</td>\n",
       "      <td>19</td>\n",
       "      <td>5</td>\n",
       "      <td>2004</td>\n",
       "      <td>1</td>\n",
       "      <td>0.064071</td>\n",
       "      <td>26.132</td>\n",
       "      <td>24.661</td>\n",
       "      <td>...</td>\n",
       "      <td>0.314165</td>\n",
       "      <td>0.314165</td>\n",
       "      <td>0.314165</td>\n",
       "      <td>0.314165</td>\n",
       "      <td>0.314165</td>\n",
       "      <td>0.314165</td>\n",
       "      <td>0.314165</td>\n",
       "      <td>0.314165</td>\n",
       "      <td>0.314165</td>\n",
       "      <td>0.314165</td>\n",
       "    </tr>\n",
       "    <tr>\n",
       "      <th>1</th>\n",
       "      <td>1</td>\n",
       "      <td>1532</td>\n",
       "      <td>0</td>\n",
       "      <td>13</td>\n",
       "      <td>2</td>\n",
       "      <td>2004</td>\n",
       "      <td>1</td>\n",
       "      <td>0.283228</td>\n",
       "      <td>26.132</td>\n",
       "      <td>24.661</td>\n",
       "      <td>...</td>\n",
       "      <td>0.314165</td>\n",
       "      <td>0.314165</td>\n",
       "      <td>0.314165</td>\n",
       "      <td>0.314165</td>\n",
       "      <td>0.314165</td>\n",
       "      <td>0.314165</td>\n",
       "      <td>0.314165</td>\n",
       "      <td>0.314165</td>\n",
       "      <td>0.314165</td>\n",
       "      <td>0.314165</td>\n",
       "    </tr>\n",
       "    <tr>\n",
       "      <th>2</th>\n",
       "      <td>2</td>\n",
       "      <td>4204</td>\n",
       "      <td>0</td>\n",
       "      <td>4</td>\n",
       "      <td>5</td>\n",
       "      <td>2004</td>\n",
       "      <td>1</td>\n",
       "      <td>0.106263</td>\n",
       "      <td>26.132</td>\n",
       "      <td>24.661</td>\n",
       "      <td>...</td>\n",
       "      <td>0.314165</td>\n",
       "      <td>0.314165</td>\n",
       "      <td>0.314165</td>\n",
       "      <td>0.314165</td>\n",
       "      <td>0.314165</td>\n",
       "      <td>0.314165</td>\n",
       "      <td>0.314165</td>\n",
       "      <td>0.314165</td>\n",
       "      <td>0.314165</td>\n",
       "      <td>0.314165</td>\n",
       "    </tr>\n",
       "    <tr>\n",
       "      <th>3</th>\n",
       "      <td>3</td>\n",
       "      <td>1</td>\n",
       "      <td>0</td>\n",
       "      <td>19</td>\n",
       "      <td>5</td>\n",
       "      <td>2004</td>\n",
       "      <td>2</td>\n",
       "      <td>0.047658</td>\n",
       "      <td>25.295</td>\n",
       "      <td>24.401</td>\n",
       "      <td>...</td>\n",
       "      <td>0.314165</td>\n",
       "      <td>0.314165</td>\n",
       "      <td>0.314165</td>\n",
       "      <td>0.314165</td>\n",
       "      <td>0.314165</td>\n",
       "      <td>0.314165</td>\n",
       "      <td>0.314165</td>\n",
       "      <td>0.314165</td>\n",
       "      <td>0.314165</td>\n",
       "      <td>0.314165</td>\n",
       "    </tr>\n",
       "    <tr>\n",
       "      <th>4</th>\n",
       "      <td>4</td>\n",
       "      <td>1533</td>\n",
       "      <td>0</td>\n",
       "      <td>13</td>\n",
       "      <td>2</td>\n",
       "      <td>2004</td>\n",
       "      <td>2</td>\n",
       "      <td>0.182068</td>\n",
       "      <td>25.295</td>\n",
       "      <td>24.401</td>\n",
       "      <td>...</td>\n",
       "      <td>0.314165</td>\n",
       "      <td>0.314165</td>\n",
       "      <td>0.314165</td>\n",
       "      <td>0.314165</td>\n",
       "      <td>0.314165</td>\n",
       "      <td>0.314165</td>\n",
       "      <td>0.314165</td>\n",
       "      <td>0.314165</td>\n",
       "      <td>0.314165</td>\n",
       "      <td>0.314165</td>\n",
       "    </tr>\n",
       "  </tbody>\n",
       "</table>\n",
       "<p>5 rows × 104 columns</p>\n",
       "</div>"
      ],
      "text/plain": [
       "   index    Id  field  age  type  harvest_year  harvest_month  production  \\\n",
       "0      0     0      0   19     5          2004              1    0.064071   \n",
       "1      1  1532      0   13     2          2004              1    0.283228   \n",
       "2      2  4204      0    4     5          2004              1    0.106263   \n",
       "3      3     1      0   19     5          2004              2    0.047658   \n",
       "4      4  1533      0   13     2          2004              2    0.182068   \n",
       "\n",
       "   temperature  dewpoint       ...         Soilwater_L4_2  Soilwater_L4_3  \\\n",
       "0       26.132    24.661       ...               0.314165        0.314165   \n",
       "1       26.132    24.661       ...               0.314165        0.314165   \n",
       "2       26.132    24.661       ...               0.314165        0.314165   \n",
       "3       25.295    24.401       ...               0.314165        0.314165   \n",
       "4       25.295    24.401       ...               0.314165        0.314165   \n",
       "\n",
       "   Soilwater_L4_4  Soilwater_L4_5  Soilwater_L4_6  Soilwater_L4_7  \\\n",
       "0        0.314165        0.314165        0.314165        0.314165   \n",
       "1        0.314165        0.314165        0.314165        0.314165   \n",
       "2        0.314165        0.314165        0.314165        0.314165   \n",
       "3        0.314165        0.314165        0.314165        0.314165   \n",
       "4        0.314165        0.314165        0.314165        0.314165   \n",
       "\n",
       "   Soilwater_L4_8  Soilwater_L4_9  Soilwater_L4_10  Soilwater_L4_11  \n",
       "0        0.314165        0.314165         0.314165         0.314165  \n",
       "1        0.314165        0.314165         0.314165         0.314165  \n",
       "2        0.314165        0.314165         0.314165         0.314165  \n",
       "3        0.314165        0.314165         0.314165         0.314165  \n",
       "4        0.314165        0.314165         0.314165         0.314165  \n",
       "\n",
       "[5 rows x 104 columns]"
      ]
     },
     "execution_count": 69,
     "metadata": {},
     "output_type": "execute_result"
    }
   ],
   "source": [
    "df_all_ftrs.head()"
   ]
  },
  {
   "cell_type": "code",
   "execution_count": 70,
   "metadata": {},
   "outputs": [
    {
     "name": "stdout",
     "output_type": "stream",
     "text": [
      "['harvest_year', 'temperature', 'dewpoint', 'windspeed', 'Soilwater_L1', 'Soilwater_L2', 'Soilwater_L3', 'Soilwater_L4', 'Precipitation', 'temperature_1', 'temperature_2', 'temperature_3', 'temperature_4', 'temperature_5', 'temperature_6', 'temperature_7', 'temperature_8', 'temperature_9', 'temperature_10', 'temperature_11', 'dewpoint_1', 'dewpoint_2', 'dewpoint_3', 'dewpoint_4', 'dewpoint_5', 'dewpoint_6', 'dewpoint_7', 'dewpoint_8', 'dewpoint_9', 'dewpoint_10', 'dewpoint_11', 'windspeed_1', 'windspeed_2', 'windspeed_3', 'windspeed_4', 'windspeed_5', 'windspeed_6', 'windspeed_7', 'windspeed_8', 'windspeed_9', 'windspeed_10', 'windspeed_11', 'Precipitation_1', 'Precipitation_2', 'Precipitation_3', 'Precipitation_4', 'Precipitation_5', 'Precipitation_6', 'Precipitation_7', 'Precipitation_8', 'Precipitation_9', 'Precipitation_10', 'Precipitation_11', 'Soilwater_L1_1', 'Soilwater_L1_2', 'Soilwater_L1_3', 'Soilwater_L1_4', 'Soilwater_L1_5', 'Soilwater_L1_6', 'Soilwater_L1_7', 'Soilwater_L1_8', 'Soilwater_L1_9', 'Soilwater_L1_10', 'Soilwater_L1_11', 'Soilwater_L2_1', 'Soilwater_L2_2', 'Soilwater_L2_3', 'Soilwater_L2_4', 'Soilwater_L2_5', 'Soilwater_L2_6', 'Soilwater_L2_7', 'Soilwater_L2_8', 'Soilwater_L2_9', 'Soilwater_L2_10', 'Soilwater_L2_11', 'Soilwater_L3_1', 'Soilwater_L3_2', 'Soilwater_L3_3', 'Soilwater_L3_4', 'Soilwater_L3_5', 'Soilwater_L3_6', 'Soilwater_L3_7', 'Soilwater_L3_8', 'Soilwater_L3_9', 'Soilwater_L3_10', 'Soilwater_L3_11', 'Soilwater_L4_1', 'Soilwater_L4_2', 'Soilwater_L4_3', 'Soilwater_L4_4', 'Soilwater_L4_5', 'Soilwater_L4_6', 'Soilwater_L4_7', 'Soilwater_L4_8', 'Soilwater_L4_9', 'Soilwater_L4_10', 'Soilwater_L4_11']\n"
     ]
    }
   ],
   "source": [
    "# Categorical features.\n",
    "cat_ftrs = ['field', 'age', 'type', 'harvest_month']\n",
    "# Continuous features.\n",
    "contin_ftrs = [f for f in df_all_ftrs.columns if f not in (['production', 'Id', 'index'] + cat_ftrs)]\n",
    "print(contin_ftrs)"
   ]
  },
  {
   "cell_type": "code",
   "execution_count": 71,
   "metadata": {},
   "outputs": [
    {
     "data": {
      "text/html": [
       "<div>\n",
       "<style scoped>\n",
       "    .dataframe tbody tr th:only-of-type {\n",
       "        vertical-align: middle;\n",
       "    }\n",
       "\n",
       "    .dataframe tbody tr th {\n",
       "        vertical-align: top;\n",
       "    }\n",
       "\n",
       "    .dataframe thead th {\n",
       "        text-align: right;\n",
       "    }\n",
       "</style>\n",
       "<table border=\"1\" class=\"dataframe\">\n",
       "  <thead>\n",
       "    <tr style=\"text-align: right;\">\n",
       "      <th></th>\n",
       "      <th>field</th>\n",
       "      <th>age</th>\n",
       "      <th>type</th>\n",
       "      <th>harvest_month</th>\n",
       "      <th>harvest_year</th>\n",
       "      <th>temperature</th>\n",
       "      <th>dewpoint</th>\n",
       "      <th>windspeed</th>\n",
       "      <th>Soilwater_L1</th>\n",
       "      <th>Soilwater_L2</th>\n",
       "      <th>...</th>\n",
       "      <th>Soilwater_L4_3</th>\n",
       "      <th>Soilwater_L4_4</th>\n",
       "      <th>Soilwater_L4_5</th>\n",
       "      <th>Soilwater_L4_6</th>\n",
       "      <th>Soilwater_L4_7</th>\n",
       "      <th>Soilwater_L4_8</th>\n",
       "      <th>Soilwater_L4_9</th>\n",
       "      <th>Soilwater_L4_10</th>\n",
       "      <th>Soilwater_L4_11</th>\n",
       "      <th>production</th>\n",
       "    </tr>\n",
       "  </thead>\n",
       "  <tbody>\n",
       "    <tr>\n",
       "      <th>0</th>\n",
       "      <td>0</td>\n",
       "      <td>19</td>\n",
       "      <td>5</td>\n",
       "      <td>1</td>\n",
       "      <td>2004</td>\n",
       "      <td>26.132</td>\n",
       "      <td>24.661</td>\n",
       "      <td>1.8766</td>\n",
       "      <td>0.35274</td>\n",
       "      <td>0.35192</td>\n",
       "      <td>...</td>\n",
       "      <td>0.314165</td>\n",
       "      <td>0.314165</td>\n",
       "      <td>0.314165</td>\n",
       "      <td>0.314165</td>\n",
       "      <td>0.314165</td>\n",
       "      <td>0.314165</td>\n",
       "      <td>0.314165</td>\n",
       "      <td>0.314165</td>\n",
       "      <td>0.314165</td>\n",
       "      <td>0.064071</td>\n",
       "    </tr>\n",
       "    <tr>\n",
       "      <th>1</th>\n",
       "      <td>0</td>\n",
       "      <td>13</td>\n",
       "      <td>2</td>\n",
       "      <td>1</td>\n",
       "      <td>2004</td>\n",
       "      <td>26.132</td>\n",
       "      <td>24.661</td>\n",
       "      <td>1.8766</td>\n",
       "      <td>0.35274</td>\n",
       "      <td>0.35192</td>\n",
       "      <td>...</td>\n",
       "      <td>0.314165</td>\n",
       "      <td>0.314165</td>\n",
       "      <td>0.314165</td>\n",
       "      <td>0.314165</td>\n",
       "      <td>0.314165</td>\n",
       "      <td>0.314165</td>\n",
       "      <td>0.314165</td>\n",
       "      <td>0.314165</td>\n",
       "      <td>0.314165</td>\n",
       "      <td>0.283228</td>\n",
       "    </tr>\n",
       "  </tbody>\n",
       "</table>\n",
       "<p>2 rows × 102 columns</p>\n",
       "</div>"
      ],
      "text/plain": [
       "   field  age  type  harvest_month  harvest_year  temperature  dewpoint  \\\n",
       "0      0   19     5              1          2004       26.132    24.661   \n",
       "1      0   13     2              1          2004       26.132    24.661   \n",
       "\n",
       "   windspeed  Soilwater_L1  Soilwater_L2     ...      Soilwater_L4_3  \\\n",
       "0     1.8766       0.35274       0.35192     ...            0.314165   \n",
       "1     1.8766       0.35274       0.35192     ...            0.314165   \n",
       "\n",
       "   Soilwater_L4_4  Soilwater_L4_5  Soilwater_L4_6  Soilwater_L4_7  \\\n",
       "0        0.314165        0.314165        0.314165        0.314165   \n",
       "1        0.314165        0.314165        0.314165        0.314165   \n",
       "\n",
       "   Soilwater_L4_8  Soilwater_L4_9  Soilwater_L4_10  Soilwater_L4_11  \\\n",
       "0        0.314165        0.314165         0.314165         0.314165   \n",
       "1        0.314165        0.314165         0.314165         0.314165   \n",
       "\n",
       "   production  \n",
       "0    0.064071  \n",
       "1    0.283228  \n",
       "\n",
       "[2 rows x 102 columns]"
      ]
     },
     "execution_count": 71,
     "metadata": {},
     "output_type": "execute_result"
    }
   ],
   "source": [
    "# Remove unused features.\n",
    "df_all_ftrs = df_all_ftrs[cat_ftrs + contin_ftrs + ['production']]\n",
    "df_all_ftrs.head(2)"
   ]
  },
  {
   "cell_type": "code",
   "execution_count": 72,
   "metadata": {},
   "outputs": [
    {
     "data": {
      "text/html": [
       "<div>\n",
       "<style scoped>\n",
       "    .dataframe tbody tr th:only-of-type {\n",
       "        vertical-align: middle;\n",
       "    }\n",
       "\n",
       "    .dataframe tbody tr th {\n",
       "        vertical-align: top;\n",
       "    }\n",
       "\n",
       "    .dataframe thead th {\n",
       "        text-align: right;\n",
       "    }\n",
       "</style>\n",
       "<table border=\"1\" class=\"dataframe\">\n",
       "  <thead>\n",
       "    <tr style=\"text-align: right;\">\n",
       "      <th></th>\n",
       "      <th>field</th>\n",
       "      <th>age</th>\n",
       "      <th>type</th>\n",
       "      <th>harvest_month</th>\n",
       "      <th>harvest_year</th>\n",
       "      <th>temperature</th>\n",
       "      <th>dewpoint</th>\n",
       "      <th>windspeed</th>\n",
       "      <th>Soilwater_L1</th>\n",
       "      <th>Soilwater_L2</th>\n",
       "      <th>...</th>\n",
       "      <th>Soilwater_L4_3</th>\n",
       "      <th>Soilwater_L4_4</th>\n",
       "      <th>Soilwater_L4_5</th>\n",
       "      <th>Soilwater_L4_6</th>\n",
       "      <th>Soilwater_L4_7</th>\n",
       "      <th>Soilwater_L4_8</th>\n",
       "      <th>Soilwater_L4_9</th>\n",
       "      <th>Soilwater_L4_10</th>\n",
       "      <th>Soilwater_L4_11</th>\n",
       "      <th>production</th>\n",
       "    </tr>\n",
       "  </thead>\n",
       "  <tbody>\n",
       "    <tr>\n",
       "      <th>0</th>\n",
       "      <td>0</td>\n",
       "      <td>19</td>\n",
       "      <td>5</td>\n",
       "      <td>1</td>\n",
       "      <td>2004.0</td>\n",
       "      <td>26.132</td>\n",
       "      <td>24.660999</td>\n",
       "      <td>1.8766</td>\n",
       "      <td>0.35274</td>\n",
       "      <td>0.35192</td>\n",
       "      <td>...</td>\n",
       "      <td>0.314165</td>\n",
       "      <td>0.314165</td>\n",
       "      <td>0.314165</td>\n",
       "      <td>0.314165</td>\n",
       "      <td>0.314165</td>\n",
       "      <td>0.314165</td>\n",
       "      <td>0.314165</td>\n",
       "      <td>0.314165</td>\n",
       "      <td>0.314165</td>\n",
       "      <td>0.064071</td>\n",
       "    </tr>\n",
       "    <tr>\n",
       "      <th>1</th>\n",
       "      <td>0</td>\n",
       "      <td>13</td>\n",
       "      <td>2</td>\n",
       "      <td>1</td>\n",
       "      <td>2004.0</td>\n",
       "      <td>26.132</td>\n",
       "      <td>24.660999</td>\n",
       "      <td>1.8766</td>\n",
       "      <td>0.35274</td>\n",
       "      <td>0.35192</td>\n",
       "      <td>...</td>\n",
       "      <td>0.314165</td>\n",
       "      <td>0.314165</td>\n",
       "      <td>0.314165</td>\n",
       "      <td>0.314165</td>\n",
       "      <td>0.314165</td>\n",
       "      <td>0.314165</td>\n",
       "      <td>0.314165</td>\n",
       "      <td>0.314165</td>\n",
       "      <td>0.314165</td>\n",
       "      <td>0.283228</td>\n",
       "    </tr>\n",
       "  </tbody>\n",
       "</table>\n",
       "<p>2 rows × 102 columns</p>\n",
       "</div>"
      ],
      "text/plain": [
       "  field age type harvest_month  harvest_year  temperature   dewpoint  \\\n",
       "0     0  19    5             1        2004.0       26.132  24.660999   \n",
       "1     0  13    2             1        2004.0       26.132  24.660999   \n",
       "\n",
       "   windspeed  Soilwater_L1  Soilwater_L2     ...      Soilwater_L4_3  \\\n",
       "0     1.8766       0.35274       0.35192     ...            0.314165   \n",
       "1     1.8766       0.35274       0.35192     ...            0.314165   \n",
       "\n",
       "   Soilwater_L4_4  Soilwater_L4_5  Soilwater_L4_6  Soilwater_L4_7  \\\n",
       "0        0.314165        0.314165        0.314165        0.314165   \n",
       "1        0.314165        0.314165        0.314165        0.314165   \n",
       "\n",
       "   Soilwater_L4_8  Soilwater_L4_9  Soilwater_L4_10  Soilwater_L4_11  \\\n",
       "0        0.314165        0.314165         0.314165         0.314165   \n",
       "1        0.314165        0.314165         0.314165         0.314165   \n",
       "\n",
       "   production  \n",
       "0    0.064071  \n",
       "1    0.283228  \n",
       "\n",
       "[2 rows x 102 columns]"
      ]
     },
     "execution_count": 72,
     "metadata": {},
     "output_type": "execute_result"
    }
   ],
   "source": [
    "# Inform pandas which features are categorical ...\n",
    "for v in cat_ftrs:\n",
    "    df_all_ftrs[v] = df_all_ftrs[v].astype('category').cat.as_ordered()\n",
    "# ... and which are continuous.\n",
    "for v in contin_ftrs:\n",
    "    df_all_ftrs[v] = df_all_ftrs[v].astype('float32')\n",
    "\n",
    "df_all_ftrs.head(2)"
   ]
  },
  {
   "cell_type": "code",
   "execution_count": 73,
   "metadata": {},
   "outputs": [],
   "source": [
    "# Split test and train data.\n",
    "df_test = df_all_ftrs[df_all_ftrs.production.isna()]\n",
    "df_all_ftrs = df_all_ftrs[~df_all_ftrs.production.isna()]"
   ]
  },
  {
   "cell_type": "code",
   "execution_count": 74,
   "metadata": {
    "scrolled": false
   },
   "outputs": [
    {
     "name": "stdout",
     "output_type": "stream",
     "text": [
      "1387\n",
      "4076\n"
     ]
    }
   ],
   "source": [
    "val_year = 2010\n",
    "\n",
    "# Ignore training examples with type != 5\n",
    "# df_all_ftrs = df_all_ftrs[(df_all_ftrs.type == 5) | (df_all_ftrs.harvest_year >= val_year)]\n",
    "\n",
    "# Ignore training examples before 2006\n",
    "df_all_ftrs = df_all_ftrs[df_all_ftrs.harvest_year >= 2006]\n",
    "\n",
    "val_idx = np.flatnonzero(df_all_ftrs.harvest_year >= val_year)\n",
    "print(len(val_idx))\n",
    "print(len(df_all_ftrs))"
   ]
  },
  {
   "cell_type": "code",
   "execution_count": 75,
   "metadata": {},
   "outputs": [
    {
     "data": {
      "text/html": [
       "<div>\n",
       "<style scoped>\n",
       "    .dataframe tbody tr th:only-of-type {\n",
       "        vertical-align: middle;\n",
       "    }\n",
       "\n",
       "    .dataframe tbody tr th {\n",
       "        vertical-align: top;\n",
       "    }\n",
       "\n",
       "    .dataframe thead th {\n",
       "        text-align: right;\n",
       "    }\n",
       "</style>\n",
       "<table border=\"1\" class=\"dataframe\">\n",
       "  <thead>\n",
       "    <tr style=\"text-align: right;\">\n",
       "      <th></th>\n",
       "      <th>field</th>\n",
       "      <th>age</th>\n",
       "      <th>type</th>\n",
       "      <th>harvest_month</th>\n",
       "      <th>harvest_year</th>\n",
       "      <th>temperature</th>\n",
       "      <th>dewpoint</th>\n",
       "      <th>windspeed</th>\n",
       "      <th>Soilwater_L1</th>\n",
       "      <th>Soilwater_L2</th>\n",
       "      <th>...</th>\n",
       "      <th>Soilwater_L4_2</th>\n",
       "      <th>Soilwater_L4_3</th>\n",
       "      <th>Soilwater_L4_4</th>\n",
       "      <th>Soilwater_L4_5</th>\n",
       "      <th>Soilwater_L4_6</th>\n",
       "      <th>Soilwater_L4_7</th>\n",
       "      <th>Soilwater_L4_8</th>\n",
       "      <th>Soilwater_L4_9</th>\n",
       "      <th>Soilwater_L4_10</th>\n",
       "      <th>Soilwater_L4_11</th>\n",
       "    </tr>\n",
       "  </thead>\n",
       "  <tbody>\n",
       "    <tr>\n",
       "      <th>101</th>\n",
       "      <td>1</td>\n",
       "      <td>19</td>\n",
       "      <td>7</td>\n",
       "      <td>1</td>\n",
       "      <td>-1.463481</td>\n",
       "      <td>-0.662748</td>\n",
       "      <td>0.997851</td>\n",
       "      <td>-0.239431</td>\n",
       "      <td>0.732232</td>\n",
       "      <td>0.724777</td>\n",
       "      <td>...</td>\n",
       "      <td>-1.33679</td>\n",
       "      <td>-1.144145</td>\n",
       "      <td>-0.738781</td>\n",
       "      <td>-0.207243</td>\n",
       "      <td>0.481002</td>\n",
       "      <td>0.918794</td>\n",
       "      <td>0.886013</td>\n",
       "      <td>0.81792</td>\n",
       "      <td>0.458536</td>\n",
       "      <td>-0.431602</td>\n",
       "    </tr>\n",
       "    <tr>\n",
       "      <th>102</th>\n",
       "      <td>1</td>\n",
       "      <td>13</td>\n",
       "      <td>4</td>\n",
       "      <td>1</td>\n",
       "      <td>-1.463481</td>\n",
       "      <td>-0.662748</td>\n",
       "      <td>0.997851</td>\n",
       "      <td>-0.239431</td>\n",
       "      <td>0.732232</td>\n",
       "      <td>0.724777</td>\n",
       "      <td>...</td>\n",
       "      <td>-1.33679</td>\n",
       "      <td>-1.144145</td>\n",
       "      <td>-0.738781</td>\n",
       "      <td>-0.207243</td>\n",
       "      <td>0.481002</td>\n",
       "      <td>0.918794</td>\n",
       "      <td>0.886013</td>\n",
       "      <td>0.81792</td>\n",
       "      <td>0.458536</td>\n",
       "      <td>-0.431602</td>\n",
       "    </tr>\n",
       "  </tbody>\n",
       "</table>\n",
       "<p>2 rows × 101 columns</p>\n",
       "</div>"
      ],
      "text/plain": [
       "     field  age  type  harvest_month  harvest_year  temperature  dewpoint  \\\n",
       "101      1   19     7              1     -1.463481    -0.662748  0.997851   \n",
       "102      1   13     4              1     -1.463481    -0.662748  0.997851   \n",
       "\n",
       "     windspeed  Soilwater_L1  Soilwater_L2       ...         Soilwater_L4_2  \\\n",
       "101  -0.239431      0.732232      0.724777       ...               -1.33679   \n",
       "102  -0.239431      0.732232      0.724777       ...               -1.33679   \n",
       "\n",
       "     Soilwater_L4_3  Soilwater_L4_4  Soilwater_L4_5  Soilwater_L4_6  \\\n",
       "101       -1.144145       -0.738781       -0.207243        0.481002   \n",
       "102       -1.144145       -0.738781       -0.207243        0.481002   \n",
       "\n",
       "     Soilwater_L4_7  Soilwater_L4_8  Soilwater_L4_9  Soilwater_L4_10  \\\n",
       "101        0.918794        0.886013         0.81792         0.458536   \n",
       "102        0.918794        0.886013         0.81792         0.458536   \n",
       "\n",
       "     Soilwater_L4_11  \n",
       "101        -0.431602  \n",
       "102        -0.431602  \n",
       "\n",
       "[2 rows x 101 columns]"
      ]
     },
     "execution_count": 75,
     "metadata": {},
     "output_type": "execute_result"
    }
   ],
   "source": [
    "df, y, nas, mapper = proc_df(df_all_ftrs, y_fld='production', do_scale=True)\n",
    "df.head(2)"
   ]
  },
  {
   "cell_type": "code",
   "execution_count": 76,
   "metadata": {},
   "outputs": [],
   "source": [
    "df_test, _, nas, mapper = proc_df(df_test, y_fld='production', do_scale=True, mapper=mapper, na_dict=nas)"
   ]
  },
  {
   "cell_type": "code",
   "execution_count": 77,
   "metadata": {
    "scrolled": false
   },
   "outputs": [
    {
     "name": "stdout",
     "output_type": "stream",
     "text": [
      "[('field', 29), ('age', 29), ('type', 10), ('harvest_month', 13)]\n",
      "[(29, 15), (29, 15), (10, 5), (13, 7)]\n"
     ]
    }
   ],
   "source": [
    "cat_sz = [(c, len(df_all_ftrs[c].cat.categories)+1) for c in cat_ftrs]\n",
    "print(cat_sz)\n",
    "emb_szs = [(c, min(50, (c+1)//2)) for _,c in cat_sz]\n",
    "print(emb_szs)"
   ]
  },
  {
   "cell_type": "code",
   "execution_count": 78,
   "metadata": {},
   "outputs": [],
   "source": [
    "md = ColumnarModelData.from_data_frame(path, # path for data saving\n",
    "                                       val_idx, # indexes of validation examples\n",
    "                                       df, # training data\n",
    "                                       y.astype(np.float32), # output variable\n",
    "                                       cat_flds=cat_ftrs, # categorical features\n",
    "                                       bs=16, # batch size\n",
    "                                       test_df=df_test) # test dataframe"
   ]
  },
  {
   "cell_type": "code",
   "execution_count": 79,
   "metadata": {},
   "outputs": [
    {
     "data": {
      "application/vnd.jupyter.widget-view+json": {
       "model_id": "469ffd7eac164a43a5b42f371380f2ab",
       "version_major": 2,
       "version_minor": 0
      },
      "text/plain": [
       "HBox(children=(IntProgress(value=0, description='Epoch', max=1), HTML(value='')))"
      ]
     },
     "metadata": {},
     "output_type": "display_data"
    },
    {
     "name": "stdout",
     "output_type": "stream",
     "text": [
      "                                                             \r"
     ]
    },
    {
     "data": {
      "image/png": "[encoded data removed]",
      "text/plain": [
       "<Figure size 432x288 with 1 Axes>"
      ]
     },
     "metadata": {},
     "output_type": "display_data"
    }
   ],
   "source": [
    "# dropout rate\n",
    "dr = 0.3\n",
    "\n",
    "learner_params = {\n",
    "    \"emb_szs\": emb_szs, # embedding sizes\n",
    "    \"n_cont\": len(df.columns) - len(cat_ftrs), # num continuous inputs\n",
    "    \"emb_drop\": dr, # embeddings dropout probability\n",
    "    \"out_sz\": 1, # output size\n",
    "    \"szs\": [300, 100], # sizes of fully-connected layers\n",
    "    \"drops\": [dr, dr], # dropout probabilities after each FC layer\n",
    "    \"use_bn\": False # batch normalization\n",
    "}\n",
    "\n",
    "m = md.get_learner(**learner_params)\n",
    "\n",
    "load_model_ignoring(m, 'test-trn040-tst044')\n",
    "\n",
    "m.freeze_to(-1)\n",
    "\n",
    "m.lr_find()\n",
    "m.sched.plot()"
   ]
  },
  {
   "cell_type": "code",
   "execution_count": 80,
   "metadata": {
    "scrolled": false
   },
   "outputs": [
    {
     "data": {
      "application/vnd.jupyter.widget-view+json": {
       "model_id": "0dd7df7ed89d4b9391fb7c146b42ff62",
       "version_major": 2,
       "version_minor": 0
      },
      "text/plain": [
       "HBox(children=(IntProgress(value=0, description='Epoch', max=40), HTML(value='')))"
      ]
     },
     "metadata": {},
     "output_type": "display_data"
    },
    {
     "name": "stdout",
     "output_type": "stream",
     "text": [
      "epoch      trn_loss   val_loss   mean_absolute_error          \n",
      "    0      0.469788   0.4973     0.586814  \n",
      "    1      0.333504   0.45212    0.562439                     \n",
      "    2      0.184469   0.208585   0.374152                     \n",
      "    3      0.149346   0.171517   0.335255                     \n",
      "    4      0.095765   0.089789   0.235507                     \n",
      "    5      0.076377   0.080314   0.220409                      \n",
      "    6      0.059089   0.052767   0.175894                      \n",
      "    7      0.050427   0.05041    0.17166                       \n",
      "    8      0.042544   0.04084    0.156507                      \n",
      "    9      0.037462   0.03769    0.149005                      \n",
      "    10     0.031793   0.030373   0.132895                      \n",
      "    11     0.03101    0.029519   0.130313                      \n",
      "    12     0.022834   0.02527    0.119724                      \n",
      "    13     0.022373   0.024845   0.119193                      \n",
      "    14     0.022313   0.022259   0.111996                      \n",
      "    15     0.018489   0.021853   0.110758                      \n",
      "    16     0.016363   0.020239   0.103845                      \n",
      "    17     0.016301   0.020191   0.104583                      \n",
      "    18     0.017605   0.01931    0.102529                      \n",
      "    19     0.014824   0.01867    0.098922                      \n",
      "    20     0.013095   0.018081   0.096329                      \n",
      "    21     0.012267   0.018014   0.095655                      \n",
      "    22     0.013718   0.01786    0.093956                      \n",
      "    23     0.011877   0.017766   0.094305                     \n",
      "    24     0.013649   0.017328   0.091934                      \n",
      "    25     0.013261   0.017244   0.091832                      \n",
      "    26     0.014026   0.01745    0.092051                      \n",
      "    27     0.012519   0.017289   0.091404                      \n",
      "    28     0.012859   0.017369   0.09163                       \n",
      "    29     0.013194   0.016894   0.090832                      \n",
      "    30     0.013031   0.016591   0.091125                      \n",
      "    31     0.012157   0.016829   0.09011                       \n",
      "    32     0.013068   0.016867   0.088855                      \n",
      "    33     0.01112    0.016288   0.088766                      \n",
      "    34     0.013014   0.016883   0.089733                      \n",
      "    35     0.012088   0.017089   0.090068                      \n",
      "    36     0.013241   0.016496   0.089939                      \n",
      "    37     0.013193   0.016641   0.089015                      \n",
      "    38     0.013769   0.016127   0.087787                      \n",
      "    39     0.011854   0.016312   0.08747                       \n"
     ]
    },
    {
     "data": {
      "text/plain": [
       "[array([0.01631]), 0.08747040497564805]"
      ]
     },
     "execution_count": 80,
     "metadata": {},
     "output_type": "execute_result"
    }
   ],
   "source": [
    "# dropout rate\n",
    "dr = 0.1\n",
    "\n",
    "learner_params = {\n",
    "    \"emb_szs\": emb_szs, # embedding sizes\n",
    "    \"n_cont\": len(df.columns) - len(cat_ftrs), # num continuous inputs\n",
    "    \"emb_drop\": dr, # embeddings dropout probability\n",
    "    \"out_sz\": 1, # output size\n",
    "    \"szs\": [300, 100], # sizes of fully-connected layers\n",
    "    \"drops\": [dr, dr], # dropout probabilities after each FC layer\n",
    "    \"use_bn\": True # batch normalization\n",
    "}\n",
    "\n",
    "m = md.get_learner(**learner_params)\n",
    "\n",
    "load_model_ignoring(m, 'test-trn040-tst044')\n",
    "m.freeze_to(-1)\n",
    "\n",
    "lr=1e-3\n",
    "m.fit(lr, 20, cycle_len=2, metrics=[metrics.mean_absolute_error])"
   ]
  },
  {
   "cell_type": "code",
   "execution_count": 81,
   "metadata": {},
   "outputs": [],
   "source": [
    "m.save('finetune-ign_lt2006-val087')"
   ]
  },
  {
   "cell_type": "code",
   "execution_count": 86,
   "metadata": {},
   "outputs": [
    {
     "data": {
      "application/vnd.jupyter.widget-view+json": {
       "model_id": "9a560743c05043b0a1c61fc5cb1880b0",
       "version_major": 2,
       "version_minor": 0
      },
      "text/plain": [
       "HBox(children=(IntProgress(value=0, description='Epoch', max=30), HTML(value='')))"
      ]
     },
     "metadata": {},
     "output_type": "display_data"
    },
    {
     "name": "stdout",
     "output_type": "stream",
     "text": [
      "epoch      trn_loss   val_loss   mean_absolute_error          \n",
      "    0      0.58794    0.118929   0.268675  \n",
      "    1      0.206079   0.05681    0.183891                     \n",
      "    2      0.173335   0.049826   0.172046                     \n",
      "    3      0.106457   0.027733   0.122963                     \n",
      "    4      0.05816    0.023378   0.109566                      \n",
      "    5      0.051422   0.023749   0.111137                      \n",
      "    6      0.035113   0.022003   0.105417                      \n",
      "    7      0.024903   0.018958   0.094313                      \n",
      "    8      0.021338   0.018626   0.093732                      \n",
      "    9      0.018113   0.019432   0.095363                      \n",
      "    10     0.015886   0.018474   0.094396                      \n",
      "    11     0.01519    0.017808   0.091864                      \n",
      "    12     0.01672    0.018465   0.095887                      \n",
      "    13     0.013263   0.017569   0.09192                       \n",
      "    14     0.015026   0.01735    0.091014                      \n",
      "    15     0.01578    0.018849   0.103745                      \n",
      "    16     0.013488   0.017934   0.091607                      \n",
      "    17     0.011601   0.017557   0.091009                      \n",
      "    18     0.01518    0.01706    0.095496                      \n",
      "    19     0.013072   0.01721    0.091682                      \n",
      "    20     0.012231   0.016916   0.090745                      \n",
      "    21     0.014884   0.016562   0.09116                       \n",
      "    22     0.013199   0.016664   0.089481                      \n",
      "    23     0.013934   0.016376   0.089271                      \n",
      "    24     0.015022   0.018782   0.096633                      \n",
      "    25     0.013374   0.01801    0.090681                      \n",
      "    26     0.011994   0.016295   0.088571                      \n",
      "    27     0.013786   0.018165   0.094038                      \n",
      "    28     0.012582   0.016996   0.089121                      \n",
      "    29     0.011354   0.016696   0.088984                      \n"
     ]
    },
    {
     "data": {
      "text/plain": [
       "[array([0.0167]), 0.08898407522731319]"
      ]
     },
     "execution_count": 86,
     "metadata": {},
     "output_type": "execute_result"
    }
   ],
   "source": [
    "# dropout rate\n",
    "dr = 0.3\n",
    "\n",
    "learner_params = {\n",
    "    \"emb_szs\": emb_szs, # embedding sizes\n",
    "    \"n_cont\": len(df.columns) - len(cat_ftrs), # num continuous inputs\n",
    "    \"emb_drop\": dr/10, # embeddings dropout probability\n",
    "    \"out_sz\": 1, # output size\n",
    "    \"szs\": [300, 100], # sizes of fully-connected layers\n",
    "    \"drops\": [dr/2, dr], # dropout probabilities after each FC layer\n",
    "    \"use_bn\": False # batch normalization\n",
    "}\n",
    "\n",
    "m = md.get_learner(**learner_params)\n",
    "\n",
    "m.load('finetune-ign_lt2006-val087')\n",
    "m.unfreeze()\n",
    "lrs=[lr/100, lr/10, lr]\n",
    "m.fit(lrs, 10, cycle_len=3, metrics=[metrics.mean_absolute_error])"
   ]
  },
  {
   "cell_type": "code",
   "execution_count": 54,
   "metadata": {},
   "outputs": [],
   "source": [
    "m.save('finetuned-all-082')"
   ]
  }
 ],
 "metadata": {
  "kernelspec": {
   "display_name": "Python 3",
   "language": "python",
   "name": "python3"
  },
  "language_info": {
   "codemirror_mode": {
    "name": "ipython",
    "version": 3
   },
   "file_extension": ".py",
   "mimetype": "text/x-python",
   "name": "python",
   "nbconvert_exporter": "python",
   "pygments_lexer": "ipython3",
   "version": "3.6.6"
  }
 },
 "nbformat": 4,
 "nbformat_minor": 1
}
